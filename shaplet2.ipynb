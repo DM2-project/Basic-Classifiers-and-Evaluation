{
 "cells": [
  {
   "cell_type": "code",
   "execution_count": 1,
   "metadata": {},
   "outputs": [],
   "source": [
    "%matplotlib inline\n",
    "\n",
    "import numpy as np\n",
    "import pandas as pd\n",
    "import matplotlib.pyplot as plt\n",
    "\n",
    "from collections import defaultdict"
   ]
  },
  {
   "cell_type": "markdown",
   "metadata": {},
   "source": [
    "### Data Preparation"
   ]
  },
  {
   "cell_type": "code",
   "execution_count": 2,
   "metadata": {},
   "outputs": [],
   "source": [
    "df1 = pd.read_csv('datatraining.txt', header=0, parse_dates=[0], index_col=0, squeeze=True)\n",
    "df2= pd.read_csv('datatest.txt', header=0, parse_dates=[0], index_col=0, squeeze=True)\n",
    "df3= pd.read_csv('datatest2.txt', header=0, parse_dates=[0], index_col=0, squeeze=True)\n",
    "\n",
    "df4= pd.merge(df2, df1, how='outer')\n",
    "df_m=pd.merge(df4, df3, how='outer')\n",
    "\n",
    "df = df_m.set_index(['date'])\n"
   ]
  },
  {
   "cell_type": "code",
   "execution_count": 3,
   "metadata": {},
   "outputs": [],
   "source": [
    "from data_preparation import prepare_dataset"
   ]
  },
  {
   "cell_type": "code",
   "execution_count": 4,
   "metadata": {},
   "outputs": [
    {
     "data": {
      "text/html": [
       "<div>\n",
       "<style scoped>\n",
       "    .dataframe tbody tr th:only-of-type {\n",
       "        vertical-align: middle;\n",
       "    }\n",
       "\n",
       "    .dataframe tbody tr th {\n",
       "        vertical-align: top;\n",
       "    }\n",
       "\n",
       "    .dataframe thead th {\n",
       "        text-align: right;\n",
       "    }\n",
       "</style>\n",
       "<table border=\"1\" class=\"dataframe\">\n",
       "  <thead>\n",
       "    <tr style=\"text-align: right;\">\n",
       "      <th></th>\n",
       "      <th>Temperature</th>\n",
       "      <th>Humidity</th>\n",
       "      <th>Light</th>\n",
       "      <th>CO2</th>\n",
       "      <th>HumidityRatio</th>\n",
       "      <th>Occupancy</th>\n",
       "    </tr>\n",
       "    <tr>\n",
       "      <th>date</th>\n",
       "      <th></th>\n",
       "      <th></th>\n",
       "      <th></th>\n",
       "      <th></th>\n",
       "      <th></th>\n",
       "      <th></th>\n",
       "    </tr>\n",
       "  </thead>\n",
       "  <tbody>\n",
       "    <tr>\n",
       "      <th>2015-02-02 14:19:00</th>\n",
       "      <td>23.7000</td>\n",
       "      <td>26.272</td>\n",
       "      <td>585.200000</td>\n",
       "      <td>749.200000</td>\n",
       "      <td>0.004764</td>\n",
       "      <td>1</td>\n",
       "    </tr>\n",
       "    <tr>\n",
       "      <th>2015-02-02 14:19:59</th>\n",
       "      <td>23.7180</td>\n",
       "      <td>26.290</td>\n",
       "      <td>578.400000</td>\n",
       "      <td>760.400000</td>\n",
       "      <td>0.004773</td>\n",
       "      <td>1</td>\n",
       "    </tr>\n",
       "    <tr>\n",
       "      <th>2015-02-02 14:21:00</th>\n",
       "      <td>23.7300</td>\n",
       "      <td>26.230</td>\n",
       "      <td>572.666667</td>\n",
       "      <td>769.666667</td>\n",
       "      <td>0.004765</td>\n",
       "      <td>1</td>\n",
       "    </tr>\n",
       "    <tr>\n",
       "      <th>2015-02-02 14:22:00</th>\n",
       "      <td>23.7225</td>\n",
       "      <td>26.125</td>\n",
       "      <td>493.750000</td>\n",
       "      <td>774.750000</td>\n",
       "      <td>0.004744</td>\n",
       "      <td>1</td>\n",
       "    </tr>\n",
       "    <tr>\n",
       "      <th>2015-02-02 14:23:00</th>\n",
       "      <td>23.7540</td>\n",
       "      <td>26.200</td>\n",
       "      <td>488.600000</td>\n",
       "      <td>779.000000</td>\n",
       "      <td>0.004767</td>\n",
       "      <td>1</td>\n",
       "    </tr>\n",
       "  </tbody>\n",
       "</table>\n",
       "</div>"
      ],
      "text/plain": [
       "                     Temperature  Humidity       Light         CO2  \\\n",
       "date                                                                 \n",
       "2015-02-02 14:19:00      23.7000    26.272  585.200000  749.200000   \n",
       "2015-02-02 14:19:59      23.7180    26.290  578.400000  760.400000   \n",
       "2015-02-02 14:21:00      23.7300    26.230  572.666667  769.666667   \n",
       "2015-02-02 14:22:00      23.7225    26.125  493.750000  774.750000   \n",
       "2015-02-02 14:23:00      23.7540    26.200  488.600000  779.000000   \n",
       "\n",
       "                     HumidityRatio  Occupancy  \n",
       "date                                           \n",
       "2015-02-02 14:19:00       0.004764          1  \n",
       "2015-02-02 14:19:59       0.004773          1  \n",
       "2015-02-02 14:21:00       0.004765          1  \n",
       "2015-02-02 14:22:00       0.004744          1  \n",
       "2015-02-02 14:23:00       0.004767          1  "
      ]
     },
     "execution_count": 4,
     "metadata": {},
     "output_type": "execute_result"
    }
   ],
   "source": [
    "class_name = 'Occupancy'\n",
    "res = prepare_dataset(df, class_name)\n",
    "df, feature_names, class_values, numeric_columns, rdf, real_feature_names, features_map = res\n",
    "df.head()"
   ]
  },
  {
   "cell_type": "code",
   "execution_count": 56,
   "metadata": {},
   "outputs": [
    {
     "data": {
      "text/plain": [
       "(30, 200)"
      ]
     },
     "execution_count": 56,
     "metadata": {},
     "output_type": "execute_result"
    }
   ],
   "source": [
    "X = np.zeros(shape=(30,200))\n",
    "\n",
    "for i in range(30):\n",
    "    X[i] = np.array(df['CO2'].sample(n=200))\n",
    "X.shape"
   ]
  },
  {
   "cell_type": "code",
   "execution_count": 57,
   "metadata": {},
   "outputs": [],
   "source": [
    "#best clustering methods\n",
    "from tslearn.clustering import TimeSeriesKMeans\n",
    "\n",
    "km_d1 = TimeSeriesKMeans(n_clusters=3, metric=\"euclidean\", max_iter=5, random_state=0)\n",
    "km_d1.fit(X)\n",
    "\n",
    "y = km_d1.labels_"
   ]
  },
  {
   "cell_type": "code",
   "execution_count": 58,
   "metadata": {},
   "outputs": [
    {
     "data": {
      "image/png": "[encoded data removed]",
      "text/plain": [
       "<Figure size 432x288 with 3 Axes>"
      ]
     },
     "metadata": {
      "needs_background": "light"
     },
     "output_type": "display_data"
    }
   ],
   "source": [
    "plt.figure()\n",
    "for i, classe in enumerate([0,1,2]):\n",
    "    plt.subplot(3, 1, i + 1)\n",
    "    for x in X[y == i]:\n",
    "        plt.plot(x, color='C0', linewidth=0.9)\n",
    "    plt.title('Class: {}'.format(classe), fontsize=16)\n",
    "\n",
    "plt.tight_layout()\n",
    "\n",
    "plt.show()"
   ]
  },
  {
   "cell_type": "markdown",
   "metadata": {},
   "source": [
    "### Data partitioning"
   ]
  },
  {
   "cell_type": "code",
   "execution_count": 59,
   "metadata": {},
   "outputs": [],
   "source": [
    "from sklearn.model_selection import train_test_split, cross_val_score ,cross_val_predict\n",
    "\n",
    "from sklearn.metrics import accuracy_score, f1_score, classification_report\n",
    "from sklearn.metrics import roc_curve, auc, roc_auc_score"
   ]
  },
  {
   "cell_type": "code",
   "execution_count": 60,
   "metadata": {},
   "outputs": [],
   "source": [
    "X_train, X_test, y_train, y_test = train_test_split(X, y, test_size=0.3, random_state=100, stratify=y)"
   ]
  },
  {
   "cell_type": "markdown",
   "metadata": {},
   "source": [
    "# Shapelets Discovery"
   ]
  },
  {
   "cell_type": "code",
   "execution_count": 61,
   "metadata": {},
   "outputs": [],
   "source": [
    "from keras.optimizers import Adagrad\n",
    "from tslearn.shapelets import ShapeletModel\n",
    "from tslearn.shapelets import grabocka_params_to_shapelet_size_dict\n",
    "\n",
    "from tslearn.preprocessing import TimeSeriesScalerMinMax"
   ]
  },
  {
   "cell_type": "code",
   "execution_count": 62,
   "metadata": {},
   "outputs": [
    {
     "name": "stdout",
     "output_type": "stream",
     "text": [
      "n_ts 21\n",
      "ts_sz 200\n",
      "n_classes 3\n",
      "shapelet_sizes {20: 3}\n"
     ]
    }
   ],
   "source": [
    "n_ts, ts_sz = X_train.shape\n",
    "n_classes = len(set(y))\n",
    "\n",
    "# Set the number of shapelets per size as done in the original paper\n",
    "shapelet_sizes = grabocka_params_to_shapelet_size_dict(n_ts=n_ts,\n",
    "                                                       ts_sz=ts_sz,\n",
    "                                                       n_classes=n_classes,\n",
    "                                                       l=0.1,\n",
    "                                                       r=1)\n",
    "\n",
    "print('n_ts', n_ts)\n",
    "print('ts_sz', ts_sz)\n",
    "print('n_classes', n_classes)\n",
    "print('shapelet_sizes', shapelet_sizes)"
   ]
  },
  {
   "cell_type": "code",
   "execution_count": 63,
   "metadata": {},
   "outputs": [],
   "source": [
    "shp_clf = ShapeletModel(n_shapelets_per_size=shapelet_sizes,\n",
    "                        optimizer=\"sgd\",\n",
    "                        weight_regularizer=.01,\n",
    "                        max_iter=200,\n",
    "                        verbose=1)"
   ]
  },
  {
   "cell_type": "code",
   "execution_count": 64,
   "metadata": {},
   "outputs": [
    {
     "name": "stdout",
     "output_type": "stream",
     "text": [
      "Epoch 1/200\n",
      "21/21 [==============================] - 0s 12ms/step - loss: 31330.2930 - categorical_accuracy: 0.3810 - categorical_crossentropy: 31330.2676\n",
      "Epoch 2/200\n",
      "21/21 [==============================] - 0s 212us/step - loss: 14317277.0000 - categorical_accuracy: 0.4762 - categorical_crossentropy: 14315352.0000\n",
      "Epoch 3/200\n",
      "21/21 [==============================] - 0s 190us/step - loss: 10298248.0000 - categorical_accuracy: 0.1429 - categorical_crossentropy: 10297800.0000\n",
      "Epoch 4/200\n",
      "21/21 [==============================] - 0s 143us/step - loss: 6017173.0000 - categorical_accuracy: 0.4762 - categorical_crossentropy: 6015965.5000\n",
      "Epoch 5/200\n",
      "21/21 [==============================] - 0s 286us/step - loss: 9079661.0000 - categorical_accuracy: 0.3810 - categorical_crossentropy: 9078670.0000\n",
      "Epoch 6/200\n",
      "21/21 [==============================] - 0s 191us/step - loss: 5852449.0000 - categorical_accuracy: 0.4762 - categorical_crossentropy: 5851898.0000\n",
      "Epoch 7/200\n",
      "21/21 [==============================] - 0s 143us/step - loss: 4413973.0000 - categorical_accuracy: 0.3810 - categorical_crossentropy: 4413751.0000\n",
      "Epoch 8/200\n",
      "21/21 [==============================] - 0s 286us/step - loss: 5993486.5000 - categorical_accuracy: 0.4762 - categorical_crossentropy: 5992954.5000\n",
      "Epoch 9/200\n",
      "21/21 [==============================] - 0s 191us/step - loss: 2895036.2500 - categorical_accuracy: 0.1429 - categorical_crossentropy: 2894934.7500\n",
      "Epoch 10/200\n",
      "21/21 [==============================] - 0s 143us/step - loss: 2909366.2500 - categorical_accuracy: 0.3810 - categorical_crossentropy: 2907947.7500\n",
      "Epoch 11/200\n",
      "21/21 [==============================] - 0s 238us/step - loss: 9864790.0000 - categorical_accuracy: 0.4762 - categorical_crossentropy: 9862874.0000\n",
      "Epoch 12/200\n",
      "21/21 [==============================] - 0s 190us/step - loss: 2799049.5000 - categorical_accuracy: 0.4762 - categorical_crossentropy: 2798414.0000\n",
      "Epoch 13/200\n",
      "21/21 [==============================] - 0s 190us/step - loss: 6620714.5000 - categorical_accuracy: 0.3810 - categorical_crossentropy: 6620010.5000\n",
      "Epoch 14/200\n",
      "21/21 [==============================] - 0s 191us/step - loss: 3387797.7500 - categorical_accuracy: 0.4762 - categorical_crossentropy: 3387438.5000\n",
      "Epoch 15/200\n",
      "21/21 [==============================] - 0s 191us/step - loss: 3492503.7500 - categorical_accuracy: 0.3810 - categorical_crossentropy: 3492225.5000\n",
      "Epoch 16/200\n",
      "21/21 [==============================] - 0s 190us/step - loss: 3946209.0000 - categorical_accuracy: 0.4762 - categorical_crossentropy: 3945707.0000\n",
      "Epoch 17/200\n",
      "21/21 [==============================] - 0s 143us/step - loss: 3470125.2500 - categorical_accuracy: 0.1429 - categorical_crossentropy: 3469838.5000\n",
      "Epoch 18/200\n",
      "21/21 [==============================] - 0s 190us/step - loss: 2118995.5000 - categorical_accuracy: 0.4762 - categorical_crossentropy: 2117884.5000\n",
      "Epoch 19/200\n",
      "21/21 [==============================] - 0s 143us/step - loss: 6389823.5000 - categorical_accuracy: 0.4762 - categorical_crossentropy: 6388508.0000\n",
      "Epoch 20/200\n",
      "21/21 [==============================] - 0s 143us/step - loss: 1179430.2500 - categorical_accuracy: 0.6667 - categorical_crossentropy: 1178848.7500\n",
      "Epoch 21/200\n",
      "21/21 [==============================] - 0s 286us/step - loss: 1969851.0000 - categorical_accuracy: 0.3810 - categorical_crossentropy: 1969437.5000\n",
      "Epoch 22/200\n",
      "21/21 [==============================] - 0s 190us/step - loss: 5251575.5000 - categorical_accuracy: 0.4762 - categorical_crossentropy: 5250698.0000\n",
      "Epoch 23/200\n",
      "21/21 [==============================] - 0s 191us/step - loss: 201395.5312 - categorical_accuracy: 0.6190 - categorical_crossentropy: 201048.5781\n",
      "Epoch 24/200\n",
      "21/21 [==============================] - 0s 286us/step - loss: 2304263.7500 - categorical_accuracy: 0.3333 - categorical_crossentropy: 2303800.5000\n",
      "Epoch 25/200\n",
      "21/21 [==============================] - 0s 143us/step - loss: 1318093.0000 - categorical_accuracy: 0.5714 - categorical_crossentropy: 1317461.8750\n",
      "Epoch 26/200\n",
      "21/21 [==============================] - 0s 143us/step - loss: 4405857.5000 - categorical_accuracy: 0.3810 - categorical_crossentropy: 4405129.0000\n",
      "Epoch 27/200\n",
      "21/21 [==============================] - 0s 238us/step - loss: 2748926.7500 - categorical_accuracy: 0.4762 - categorical_crossentropy: 2748244.0000\n",
      "Epoch 28/200\n",
      "21/21 [==============================] - 0s 143us/step - loss: 1733805.6250 - categorical_accuracy: 0.3810 - categorical_crossentropy: 1733165.7500\n",
      "Epoch 29/200\n",
      "21/21 [==============================] - 0s 190us/step - loss: 3364153.0000 - categorical_accuracy: 0.4762 - categorical_crossentropy: 3363039.5000\n",
      "Epoch 30/200\n",
      "21/21 [==============================] - 0s 191us/step - loss: 3349287.2500 - categorical_accuracy: 0.1429 - categorical_crossentropy: 3348398.0000\n",
      "Epoch 31/200\n",
      "21/21 [==============================] - 0s 286us/step - loss: 1681644.8750 - categorical_accuracy: 0.7619 - categorical_crossentropy: 1680032.2500\n",
      "Epoch 32/200\n",
      "21/21 [==============================] - 0s 190us/step - loss: 1792807.5000 - categorical_accuracy: 0.5238 - categorical_crossentropy: 1791445.8750\n",
      "Epoch 33/200\n",
      "21/21 [==============================] - 0s 190us/step - loss: 3467812.0000 - categorical_accuracy: 0.4762 - categorical_crossentropy: 3466364.2500\n",
      "Epoch 34/200\n",
      "21/21 [==============================] - 0s 143us/step - loss: 1327151.3750 - categorical_accuracy: 0.4286 - categorical_crossentropy: 1325899.0000\n",
      "Epoch 35/200\n",
      "21/21 [==============================] - 0s 334us/step - loss: 3723474.2500 - categorical_accuracy: 0.4762 - categorical_crossentropy: 3721770.7500\n",
      "Epoch 36/200\n",
      "21/21 [==============================] - 0s 144us/step - loss: 150900.8125 - categorical_accuracy: 0.6667 - categorical_crossentropy: 149443.6094\n",
      "Epoch 37/200\n",
      "21/21 [==============================] - 0s 191us/step - loss: 386163.7500 - categorical_accuracy: 0.7619 - categorical_crossentropy: 384687.4688\n",
      "Epoch 38/200\n",
      "21/21 [==============================] - 0s 143us/step - loss: 392686.1250 - categorical_accuracy: 0.5714 - categorical_crossentropy: 391207.4375\n",
      "Epoch 39/200\n",
      "21/21 [==============================] - 0s 238us/step - loss: 1052831.2500 - categorical_accuracy: 0.4762 - categorical_crossentropy: 1051238.8750\n",
      "Epoch 40/200\n",
      "21/21 [==============================] - 0s 191us/step - loss: 1476399.1250 - categorical_accuracy: 0.3810 - categorical_crossentropy: 1474656.3750\n",
      "Epoch 41/200\n",
      "21/21 [==============================] - 0s 190us/step - loss: 2610837.0000 - categorical_accuracy: 0.4762 - categorical_crossentropy: 2608581.2500\n",
      "Epoch 42/200\n",
      "21/21 [==============================] - 0s 190us/step - loss: 465725.6250 - categorical_accuracy: 0.5238 - categorical_crossentropy: 463677.9062\n",
      "Epoch 43/200\n",
      "21/21 [==============================] - 0s 190us/step - loss: 1079598.6250 - categorical_accuracy: 0.8095 - categorical_crossentropy: 1077180.1250\n",
      "Epoch 44/200\n",
      "21/21 [==============================] - 0s 286us/step - loss: 720945.4375 - categorical_accuracy: 0.8095 - categorical_crossentropy: 718704.5000\n",
      "Epoch 45/200\n",
      "21/21 [==============================] - 0s 191us/step - loss: 517973.0000 - categorical_accuracy: 0.8095 - categorical_crossentropy: 515816.4375\n",
      "Epoch 46/200\n",
      "21/21 [==============================] - 0s 191us/step - loss: 103186.1875 - categorical_accuracy: 0.7619 - categorical_crossentropy: 101070.6172\n",
      "Epoch 47/200\n",
      "21/21 [==============================] - 0s 190us/step - loss: 293163.0312 - categorical_accuracy: 0.5238 - categorical_crossentropy: 291009.5000\n",
      "Epoch 48/200\n",
      "21/21 [==============================] - 0s 381us/step - loss: 1047614.3125 - categorical_accuracy: 0.6190 - categorical_crossentropy: 1045264.7500\n",
      "Epoch 49/200\n",
      "21/21 [==============================] - 0s 333us/step - loss: 981442.7500 - categorical_accuracy: 0.4286 - categorical_crossentropy: 979002.1875\n",
      "Epoch 50/200\n",
      "21/21 [==============================] - 0s 190us/step - loss: 2382246.7500 - categorical_accuracy: 0.4762 - categorical_crossentropy: 2379274.7500\n",
      "Epoch 51/200\n",
      "21/21 [==============================] - 0s 286us/step - loss: 185074.6406 - categorical_accuracy: 0.7619 - categorical_crossentropy: 182194.4688\n",
      "Epoch 52/200\n",
      "21/21 [==============================] - 0s 191us/step - loss: 539272.8750 - categorical_accuracy: 0.8095 - categorical_crossentropy: 536301.1250\n"
     ]
    },
    {
     "name": "stdout",
     "output_type": "stream",
     "text": [
      "Epoch 53/200\n",
      "21/21 [==============================] - 0s 333us/step - loss: 263612.3750 - categorical_accuracy: 0.8095 - categorical_crossentropy: 260684.0469\n",
      "Epoch 54/200\n",
      "21/21 [==============================] - 0s 191us/step - loss: 163341.4219 - categorical_accuracy: 0.7619 - categorical_crossentropy: 160386.3750\n",
      "Epoch 55/200\n",
      "21/21 [==============================] - 0s 191us/step - loss: 427985.9375 - categorical_accuracy: 0.8571 - categorical_crossentropy: 424936.6562\n",
      "Epoch 56/200\n",
      "21/21 [==============================] - 0s 143us/step - loss: 69774.0234 - categorical_accuracy: 0.8571 - categorical_crossentropy: 66779.1094\n",
      "Epoch 57/200\n",
      "21/21 [==============================] - 0s 191us/step - loss: 495383.4375 - categorical_accuracy: 0.6190 - categorical_crossentropy: 492361.2500\n",
      "Epoch 58/200\n",
      "21/21 [==============================] - 0s 190us/step - loss: 836511.2500 - categorical_accuracy: 0.8095 - categorical_crossentropy: 833231.2500\n",
      "Epoch 59/200\n",
      "21/21 [==============================] - 0s 190us/step - loss: 513364.6562 - categorical_accuracy: 0.8571 - categorical_crossentropy: 510188.0938\n",
      "Epoch 60/200\n",
      "21/21 [==============================] - 0s 333us/step - loss: 122895.5625 - categorical_accuracy: 0.8571 - categorical_crossentropy: 119779.8672\n",
      "Epoch 61/200\n",
      "21/21 [==============================] - 0s 190us/step - loss: 254924.1719 - categorical_accuracy: 0.7143 - categorical_crossentropy: 251791.9219\n",
      "Epoch 62/200\n",
      "21/21 [==============================] - 0s 238us/step - loss: 634842.5000 - categorical_accuracy: 0.8571 - categorical_crossentropy: 631536.0625\n",
      "Epoch 63/200\n",
      "21/21 [==============================] - 0s 191us/step - loss: 291556.1875 - categorical_accuracy: 0.8571 - categorical_crossentropy: 288334.9688\n",
      "Epoch 64/200\n",
      "21/21 [==============================] - 0s 190us/step - loss: 30220.5820 - categorical_accuracy: 0.8571 - categorical_crossentropy: 27016.1309\n",
      "Epoch 65/200\n",
      "21/21 [==============================] - 0s 190us/step - loss: 106355.8594 - categorical_accuracy: 0.8571 - categorical_crossentropy: 103138.7656\n",
      "Epoch 66/200\n",
      "21/21 [==============================] - 0s 190us/step - loss: 316499.5312 - categorical_accuracy: 0.6190 - categorical_crossentropy: 313262.6250\n",
      "Epoch 67/200\n",
      "21/21 [==============================] - 0s 190us/step - loss: 1249536.3750 - categorical_accuracy: 0.7143 - categorical_crossentropy: 1245906.5000\n",
      "Epoch 68/200\n",
      "21/21 [==============================] - 0s 143us/step - loss: 667048.8125 - categorical_accuracy: 0.8095 - categorical_crossentropy: 663507.2500\n",
      "Epoch 69/200\n",
      "21/21 [==============================] - 0s 143us/step - loss: 203134.5625 - categorical_accuracy: 0.8571 - categorical_crossentropy: 199664.0469\n",
      "Epoch 70/200\n",
      "21/21 [==============================] - 0s 143us/step - loss: 14453.2148 - categorical_accuracy: 0.9524 - categorical_crossentropy: 10982.1611\n",
      "Epoch 71/200\n",
      "21/21 [==============================] - 0s 143us/step - loss: 41512.9766 - categorical_accuracy: 0.8571 - categorical_crossentropy: 38039.0898\n",
      "Epoch 72/200\n",
      "21/21 [==============================] - 0s 169us/step - loss: 520563.4062 - categorical_accuracy: 0.5714 - categorical_crossentropy: 517056.9062\n",
      "Epoch 73/200\n",
      "21/21 [==============================] - 0s 143us/step - loss: 878186.7500 - categorical_accuracy: 0.8571 - categorical_crossentropy: 874338.3125\n",
      "Epoch 74/200\n",
      "21/21 [==============================] - 0s 238us/step - loss: 602000.7500 - categorical_accuracy: 0.8571 - categorical_crossentropy: 598286.1250\n",
      "Epoch 75/200\n",
      "21/21 [==============================] - 0s 238us/step - loss: 246897.7344 - categorical_accuracy: 0.8571 - categorical_crossentropy: 243262.1406\n",
      "Epoch 76/200\n",
      "21/21 [==============================] - 0s 191us/step - loss: 34325.7734 - categorical_accuracy: 0.9524 - categorical_crossentropy: 30698.9336\n",
      "Epoch 77/200\n",
      "21/21 [==============================] - 0s 238us/step - loss: 94219.9609 - categorical_accuracy: 0.8571 - categorical_crossentropy: 90585.8125\n",
      "Epoch 78/200\n",
      "21/21 [==============================] - 0s 191us/step - loss: 184336.9375 - categorical_accuracy: 0.6190 - categorical_crossentropy: 180687.9219\n",
      "Epoch 79/200\n",
      "21/21 [==============================] - 0s 238us/step - loss: 868294.1250 - categorical_accuracy: 0.8571 - categorical_crossentropy: 864313.6250\n",
      "Epoch 80/200\n",
      "21/21 [==============================] - 0s 238us/step - loss: 545152.3125 - categorical_accuracy: 0.8571 - categorical_crossentropy: 541304.4375\n",
      "Epoch 81/200\n",
      "21/21 [==============================] - 0s 238us/step - loss: 225072.1562 - categorical_accuracy: 0.8571 - categorical_crossentropy: 221293.0000\n",
      "Epoch 82/200\n",
      "21/21 [==============================] - 0s 191us/step - loss: 8203.7236 - categorical_accuracy: 0.9524 - categorical_crossentropy: 4429.6694\n",
      "Epoch 83/200\n",
      "21/21 [==============================] - 0s 143us/step - loss: 27355.1816 - categorical_accuracy: 0.9524 - categorical_crossentropy: 23577.5332\n",
      "Epoch 84/200\n",
      "21/21 [==============================] - 0s 191us/step - loss: 114125.1094 - categorical_accuracy: 0.8095 - categorical_crossentropy: 110344.2891\n",
      "Epoch 85/200\n",
      "21/21 [==============================] - 0s 191us/step - loss: 548159.5000 - categorical_accuracy: 0.8571 - categorical_crossentropy: 544262.5000\n",
      "Epoch 86/200\n",
      "21/21 [==============================] - 0s 286us/step - loss: 99422.5312 - categorical_accuracy: 0.8571 - categorical_crossentropy: 95594.9062\n",
      "Epoch 87/200\n",
      "21/21 [==============================] - 0s 190us/step - loss: 174387.0469 - categorical_accuracy: 0.7619 - categorical_crossentropy: 170539.4062\n",
      "Epoch 88/200\n",
      "21/21 [==============================] - 0s 238us/step - loss: 554520.3125 - categorical_accuracy: 0.8571 - categorical_crossentropy: 550507.0000\n",
      "Epoch 89/200\n",
      "21/21 [==============================] - 0s 191us/step - loss: 200802.3125 - categorical_accuracy: 0.8571 - categorical_crossentropy: 196859.4062\n",
      "Epoch 90/200\n",
      "21/21 [==============================] - 0s 190us/step - loss: 172137.7812 - categorical_accuracy: 0.7143 - categorical_crossentropy: 168194.5781\n",
      "Epoch 91/200\n",
      "21/21 [==============================] - 0s 286us/step - loss: 722865.0000 - categorical_accuracy: 0.8571 - categorical_crossentropy: 718717.3125\n",
      "Epoch 92/200\n",
      "21/21 [==============================] - 0s 191us/step - loss: 280339.1875 - categorical_accuracy: 0.8571 - categorical_crossentropy: 276295.6250\n",
      "Epoch 93/200\n",
      "21/21 [==============================] - 0s 238us/step - loss: 93075.5156 - categorical_accuracy: 0.8571 - categorical_crossentropy: 89048.3828\n",
      "Epoch 94/200\n",
      "21/21 [==============================] - 0s 191us/step - loss: 378328.2812 - categorical_accuracy: 0.4286 - categorical_crossentropy: 374280.1562\n",
      "Epoch 95/200\n",
      "21/21 [==============================] - 0s 238us/step - loss: 1283981.0000 - categorical_accuracy: 0.8571 - categorical_crossentropy: 1279202.0000\n",
      "Epoch 96/200\n",
      "21/21 [==============================] - 0s 143us/step - loss: 1000505.7500 - categorical_accuracy: 0.8571 - categorical_crossentropy: 995943.0625\n",
      "Epoch 97/200\n",
      "21/21 [==============================] - 0s 286us/step - loss: 636514.1875 - categorical_accuracy: 0.8571 - categorical_crossentropy: 632112.1875\n",
      "Epoch 98/200\n",
      "21/21 [==============================] - 0s 238us/step - loss: 401730.8750 - categorical_accuracy: 0.8571 - categorical_crossentropy: 397417.5000\n",
      "Epoch 99/200\n",
      "21/21 [==============================] - 0s 238us/step - loss: 33882.2266 - categorical_accuracy: 0.9048 - categorical_crossentropy: 29610.9336\n",
      "Epoch 100/200\n",
      "21/21 [==============================] - 0s 238us/step - loss: 103125.9375 - categorical_accuracy: 0.8571 - categorical_crossentropy: 98838.9375\n",
      "Epoch 101/200\n",
      "21/21 [==============================] - 0s 238us/step - loss: 338152.3438 - categorical_accuracy: 0.8571 - categorical_crossentropy: 333822.8438\n",
      "Epoch 102/200\n",
      "21/21 [==============================] - 0s 190us/step - loss: 4300.1333 - categorical_accuracy: 1.0000 - categorical_crossentropy: 0.0000e+00\n",
      "Epoch 103/200\n",
      "21/21 [==============================] - 0s 191us/step - loss: 4298.4136 - categorical_accuracy: 1.0000 - categorical_crossentropy: 0.0000e+00\n",
      "Epoch 104/200\n",
      "21/21 [==============================] - 0s 286us/step - loss: 4296.6943 - categorical_accuracy: 1.0000 - categorical_crossentropy: 0.0000e+00\n"
     ]
    },
    {
     "name": "stdout",
     "output_type": "stream",
     "text": [
      "Epoch 105/200\n",
      "21/21 [==============================] - 0s 191us/step - loss: 4294.9756 - categorical_accuracy: 1.0000 - categorical_crossentropy: 0.0000e+00\n",
      "Epoch 106/200\n",
      "21/21 [==============================] - 0s 190us/step - loss: 4293.2583 - categorical_accuracy: 1.0000 - categorical_crossentropy: 0.0000e+00\n",
      "Epoch 107/200\n",
      "21/21 [==============================] - 0s 190us/step - loss: 4291.5410 - categorical_accuracy: 1.0000 - categorical_crossentropy: 0.0000e+00\n",
      "Epoch 108/200\n",
      "21/21 [==============================] - 0s 191us/step - loss: 4289.8247 - categorical_accuracy: 1.0000 - categorical_crossentropy: 0.0000e+00\n",
      "Epoch 109/200\n",
      "21/21 [==============================] - 0s 238us/step - loss: 4288.1094 - categorical_accuracy: 1.0000 - categorical_crossentropy: 0.0000e+00\n",
      "Epoch 110/200\n",
      "21/21 [==============================] - 0s 191us/step - loss: 4286.3936 - categorical_accuracy: 1.0000 - categorical_crossentropy: 0.0000e+00\n",
      "Epoch 111/200\n",
      "21/21 [==============================] - 0s 143us/step - loss: 4284.6797 - categorical_accuracy: 1.0000 - categorical_crossentropy: 0.0000e+00\n",
      "Epoch 112/200\n",
      "21/21 [==============================] - 0s 191us/step - loss: 4282.9653 - categorical_accuracy: 1.0000 - categorical_crossentropy: 0.0000e+00\n",
      "Epoch 113/200\n",
      "21/21 [==============================] - 0s 190us/step - loss: 4281.2524 - categorical_accuracy: 1.0000 - categorical_crossentropy: 0.0000e+00\n",
      "Epoch 114/200\n",
      "21/21 [==============================] - 0s 191us/step - loss: 4279.5405 - categorical_accuracy: 1.0000 - categorical_crossentropy: 0.0000e+00\n",
      "Epoch 115/200\n",
      "21/21 [==============================] - 0s 191us/step - loss: 4277.8286 - categorical_accuracy: 1.0000 - categorical_crossentropy: 0.0000e+00\n",
      "Epoch 116/200\n",
      "21/21 [==============================] - 0s 238us/step - loss: 4276.1177 - categorical_accuracy: 1.0000 - categorical_crossentropy: 0.0000e+00\n",
      "Epoch 117/200\n",
      "21/21 [==============================] - 0s 191us/step - loss: 4274.4072 - categorical_accuracy: 1.0000 - categorical_crossentropy: 0.0000e+00\n",
      "Epoch 118/200\n",
      "21/21 [==============================] - 0s 238us/step - loss: 4272.6982 - categorical_accuracy: 1.0000 - categorical_crossentropy: 0.0000e+00\n",
      "Epoch 119/200\n",
      "21/21 [==============================] - 0s 190us/step - loss: 4270.9888 - categorical_accuracy: 1.0000 - categorical_crossentropy: 0.0000e+00\n",
      "Epoch 120/200\n",
      "21/21 [==============================] - 0s 238us/step - loss: 4269.2808 - categorical_accuracy: 1.0000 - categorical_crossentropy: 0.0000e+00\n",
      "Epoch 121/200\n",
      "21/21 [==============================] - 0s 238us/step - loss: 4267.5732 - categorical_accuracy: 1.0000 - categorical_crossentropy: 0.0000e+00\n",
      "Epoch 122/200\n",
      "21/21 [==============================] - 0s 143us/step - loss: 4265.8662 - categorical_accuracy: 1.0000 - categorical_crossentropy: 0.0000e+00\n",
      "Epoch 123/200\n",
      "21/21 [==============================] - 0s 143us/step - loss: 4264.1602 - categorical_accuracy: 1.0000 - categorical_crossentropy: 0.0000e+00\n",
      "Epoch 124/200\n",
      "21/21 [==============================] - 0s 143us/step - loss: 4262.4546 - categorical_accuracy: 1.0000 - categorical_crossentropy: 0.0000e+00\n",
      "Epoch 125/200\n",
      "21/21 [==============================] - 0s 238us/step - loss: 4260.7495 - categorical_accuracy: 1.0000 - categorical_crossentropy: 0.0000e+00\n",
      "Epoch 126/200\n",
      "21/21 [==============================] - 0s 190us/step - loss: 4259.0454 - categorical_accuracy: 1.0000 - categorical_crossentropy: 0.0000e+00\n",
      "Epoch 127/200\n",
      "21/21 [==============================] - 0s 191us/step - loss: 4257.3423 - categorical_accuracy: 1.0000 - categorical_crossentropy: 0.0000e+00\n",
      "Epoch 128/200\n",
      "21/21 [==============================] - 0s 192us/step - loss: 4255.6392 - categorical_accuracy: 1.0000 - categorical_crossentropy: 0.0000e+00\n",
      "Epoch 129/200\n",
      "21/21 [==============================] - 0s 191us/step - loss: 4253.9375 - categorical_accuracy: 1.0000 - categorical_crossentropy: 0.0000e+00\n",
      "Epoch 130/200\n",
      "21/21 [==============================] - 0s 191us/step - loss: 4252.2363 - categorical_accuracy: 1.0000 - categorical_crossentropy: 0.0000e+00\n",
      "Epoch 131/200\n",
      "21/21 [==============================] - 0s 191us/step - loss: 4250.5352 - categorical_accuracy: 1.0000 - categorical_crossentropy: 0.0000e+00\n",
      "Epoch 132/200\n",
      "21/21 [==============================] - 0s 191us/step - loss: 4248.8354 - categorical_accuracy: 1.0000 - categorical_crossentropy: 0.0000e+00\n",
      "Epoch 133/200\n",
      "21/21 [==============================] - 0s 191us/step - loss: 4247.1362 - categorical_accuracy: 1.0000 - categorical_crossentropy: 0.0000e+00\n",
      "Epoch 134/200\n",
      "21/21 [==============================] - 0s 238us/step - loss: 4245.4370 - categorical_accuracy: 1.0000 - categorical_crossentropy: 0.0000e+00\n",
      "Epoch 135/200\n",
      "21/21 [==============================] - 0s 190us/step - loss: 4243.7388 - categorical_accuracy: 1.0000 - categorical_crossentropy: 0.0000e+00\n",
      "Epoch 136/200\n",
      "21/21 [==============================] - 0s 191us/step - loss: 4242.0420 - categorical_accuracy: 1.0000 - categorical_crossentropy: 0.0000e+00\n",
      "Epoch 137/200\n",
      "21/21 [==============================] - 0s 190us/step - loss: 4240.3452 - categorical_accuracy: 1.0000 - categorical_crossentropy: 0.0000e+00\n",
      "Epoch 138/200\n",
      "21/21 [==============================] - 0s 191us/step - loss: 4238.6489 - categorical_accuracy: 1.0000 - categorical_crossentropy: 0.0000e+00\n",
      "Epoch 139/200\n",
      "21/21 [==============================] - 0s 191us/step - loss: 4236.9536 - categorical_accuracy: 1.0000 - categorical_crossentropy: 0.0000e+00\n",
      "Epoch 140/200\n",
      "21/21 [==============================] - 0s 193us/step - loss: 4235.2593 - categorical_accuracy: 1.0000 - categorical_crossentropy: 0.0000e+00\n",
      "Epoch 141/200\n",
      "21/21 [==============================] - 0s 191us/step - loss: 4233.5649 - categorical_accuracy: 1.0000 - categorical_crossentropy: 0.0000e+00\n",
      "Epoch 142/200\n",
      "21/21 [==============================] - 0s 286us/step - loss: 4231.8726 - categorical_accuracy: 1.0000 - categorical_crossentropy: 0.0000e+00\n",
      "Epoch 143/200\n",
      "21/21 [==============================] - 0s 143us/step - loss: 4230.1797 - categorical_accuracy: 1.0000 - categorical_crossentropy: 0.0000e+00\n",
      "Epoch 144/200\n",
      "21/21 [==============================] - 0s 238us/step - loss: 4228.4878 - categorical_accuracy: 1.0000 - categorical_crossentropy: 0.0000e+00\n",
      "Epoch 145/200\n",
      "21/21 [==============================] - 0s 190us/step - loss: 4226.7964 - categorical_accuracy: 1.0000 - categorical_crossentropy: 0.0000e+00\n",
      "Epoch 146/200\n",
      "21/21 [==============================] - 0s 238us/step - loss: 4225.1060 - categorical_accuracy: 1.0000 - categorical_crossentropy: 0.0000e+00\n",
      "Epoch 147/200\n",
      "21/21 [==============================] - 0s 190us/step - loss: 4223.4160 - categorical_accuracy: 1.0000 - categorical_crossentropy: 0.0000e+00\n",
      "Epoch 148/200\n",
      "21/21 [==============================] - 0s 190us/step - loss: 4221.7266 - categorical_accuracy: 1.0000 - categorical_crossentropy: 0.0000e+00\n",
      "Epoch 149/200\n",
      "21/21 [==============================] - 0s 286us/step - loss: 4220.0386 - categorical_accuracy: 1.0000 - categorical_crossentropy: 0.0000e+00\n",
      "Epoch 150/200\n",
      "21/21 [==============================] - 0s 143us/step - loss: 4218.3506 - categorical_accuracy: 1.0000 - categorical_crossentropy: 0.0000e+00\n",
      "Epoch 151/200\n",
      "21/21 [==============================] - 0s 238us/step - loss: 4216.6631 - categorical_accuracy: 1.0000 - categorical_crossentropy: 0.0000e+00\n",
      "Epoch 152/200\n",
      "21/21 [==============================] - 0s 191us/step - loss: 4214.9766 - categorical_accuracy: 1.0000 - categorical_crossentropy: 0.0000e+00\n",
      "Epoch 153/200\n",
      "21/21 [==============================] - 0s 238us/step - loss: 4213.2910 - categorical_accuracy: 1.0000 - categorical_crossentropy: 0.0000e+00\n",
      "Epoch 154/200\n",
      "21/21 [==============================] - 0s 190us/step - loss: 4211.6055 - categorical_accuracy: 1.0000 - categorical_crossentropy: 0.0000e+00\n",
      "Epoch 155/200\n",
      "21/21 [==============================] - 0s 238us/step - loss: 4209.9214 - categorical_accuracy: 1.0000 - categorical_crossentropy: 0.0000e+00\n",
      "Epoch 156/200\n",
      "21/21 [==============================] - 0s 143us/step - loss: 4208.2373 - categorical_accuracy: 1.0000 - categorical_crossentropy: 0.0000e+00\n",
      "Epoch 157/200\n",
      "21/21 [==============================] - 0s 190us/step - loss: 4206.5542 - categorical_accuracy: 1.0000 - categorical_crossentropy: 0.0000e+00\n"
     ]
    },
    {
     "name": "stdout",
     "output_type": "stream",
     "text": [
      "Epoch 158/200\n",
      "21/21 [==============================] - 0s 143us/step - loss: 4204.8716 - categorical_accuracy: 1.0000 - categorical_crossentropy: 0.0000e+00\n",
      "Epoch 159/200\n",
      "21/21 [==============================] - 0s 239us/step - loss: 4203.1899 - categorical_accuracy: 1.0000 - categorical_crossentropy: 0.0000e+00\n",
      "Epoch 160/200\n",
      "21/21 [==============================] - 0s 191us/step - loss: 4201.5088 - categorical_accuracy: 1.0000 - categorical_crossentropy: 0.0000e+00\n",
      "Epoch 161/200\n",
      "21/21 [==============================] - 0s 191us/step - loss: 4199.8286 - categorical_accuracy: 1.0000 - categorical_crossentropy: 0.0000e+00\n",
      "Epoch 162/200\n",
      "21/21 [==============================] - 0s 238us/step - loss: 4198.1489 - categorical_accuracy: 1.0000 - categorical_crossentropy: 0.0000e+00\n",
      "Epoch 163/200\n",
      "21/21 [==============================] - 0s 286us/step - loss: 4196.4697 - categorical_accuracy: 1.0000 - categorical_crossentropy: 0.0000e+00\n",
      "Epoch 164/200\n",
      "21/21 [==============================] - 0s 190us/step - loss: 4194.7910 - categorical_accuracy: 1.0000 - categorical_crossentropy: 0.0000e+00\n",
      "Epoch 165/200\n",
      "21/21 [==============================] - 0s 143us/step - loss: 4193.1138 - categorical_accuracy: 1.0000 - categorical_crossentropy: 0.0000e+00\n",
      "Epoch 166/200\n",
      "21/21 [==============================] - 0s 190us/step - loss: 4191.4370 - categorical_accuracy: 1.0000 - categorical_crossentropy: 0.0000e+00\n",
      "Epoch 167/200\n",
      "21/21 [==============================] - 0s 143us/step - loss: 4189.7607 - categorical_accuracy: 1.0000 - categorical_crossentropy: 0.0000e+00\n",
      "Epoch 168/200\n",
      "21/21 [==============================] - 0s 191us/step - loss: 4188.0845 - categorical_accuracy: 1.0000 - categorical_crossentropy: 0.0000e+00\n",
      "Epoch 169/200\n",
      "21/21 [==============================] - 0s 143us/step - loss: 4186.4092 - categorical_accuracy: 1.0000 - categorical_crossentropy: 0.0000e+00\n",
      "Epoch 170/200\n",
      "21/21 [==============================] - 0s 191us/step - loss: 4184.7344 - categorical_accuracy: 1.0000 - categorical_crossentropy: 0.0000e+00\n",
      "Epoch 171/200\n",
      "21/21 [==============================] - 0s 191us/step - loss: 4183.0605 - categorical_accuracy: 1.0000 - categorical_crossentropy: 0.0000e+00\n",
      "Epoch 172/200\n",
      "21/21 [==============================] - 0s 191us/step - loss: 4181.3882 - categorical_accuracy: 1.0000 - categorical_crossentropy: 0.0000e+00\n",
      "Epoch 173/200\n",
      "21/21 [==============================] - 0s 190us/step - loss: 4179.7153 - categorical_accuracy: 1.0000 - categorical_crossentropy: 0.0000e+00\n",
      "Epoch 174/200\n",
      "21/21 [==============================] - 0s 238us/step - loss: 4178.0435 - categorical_accuracy: 1.0000 - categorical_crossentropy: 0.0000e+00\n",
      "Epoch 175/200\n",
      "21/21 [==============================] - 0s 190us/step - loss: 4176.3726 - categorical_accuracy: 1.0000 - categorical_crossentropy: 0.0000e+00\n",
      "Epoch 176/200\n",
      "21/21 [==============================] - 0s 238us/step - loss: 4174.7026 - categorical_accuracy: 1.0000 - categorical_crossentropy: 0.0000e+00\n",
      "Epoch 177/200\n",
      "21/21 [==============================] - 0s 191us/step - loss: 4173.0322 - categorical_accuracy: 1.0000 - categorical_crossentropy: 0.0000e+00\n",
      "Epoch 178/200\n",
      "21/21 [==============================] - 0s 286us/step - loss: 4171.3638 - categorical_accuracy: 1.0000 - categorical_crossentropy: 0.0000e+00\n",
      "Epoch 179/200\n",
      "21/21 [==============================] - 0s 238us/step - loss: 4169.6948 - categorical_accuracy: 1.0000 - categorical_crossentropy: 0.0000e+00\n",
      "Epoch 180/200\n",
      "21/21 [==============================] - 0s 190us/step - loss: 4168.0273 - categorical_accuracy: 1.0000 - categorical_crossentropy: 0.0000e+00\n",
      "Epoch 181/200\n",
      "21/21 [==============================] - 0s 143us/step - loss: 4166.3604 - categorical_accuracy: 1.0000 - categorical_crossentropy: 0.0000e+00\n",
      "Epoch 182/200\n",
      "21/21 [==============================] - 0s 143us/step - loss: 4164.6938 - categorical_accuracy: 1.0000 - categorical_crossentropy: 0.0000e+00\n",
      "Epoch 183/200\n",
      "21/21 [==============================] - 0s 190us/step - loss: 4163.0283 - categorical_accuracy: 1.0000 - categorical_crossentropy: 0.0000e+00\n",
      "Epoch 184/200\n",
      "21/21 [==============================] - 0s 190us/step - loss: 4161.3633 - categorical_accuracy: 1.0000 - categorical_crossentropy: 0.0000e+00\n",
      "Epoch 185/200\n",
      "21/21 [==============================] - 0s 190us/step - loss: 4159.6987 - categorical_accuracy: 1.0000 - categorical_crossentropy: 0.0000e+00\n",
      "Epoch 186/200\n",
      "21/21 [==============================] - 0s 238us/step - loss: 4158.0352 - categorical_accuracy: 1.0000 - categorical_crossentropy: 0.0000e+00\n",
      "Epoch 187/200\n",
      "21/21 [==============================] - 0s 190us/step - loss: 4156.3726 - categorical_accuracy: 1.0000 - categorical_crossentropy: 0.0000e+00\n",
      "Epoch 188/200\n",
      "21/21 [==============================] - 0s 191us/step - loss: 4154.7095 - categorical_accuracy: 1.0000 - categorical_crossentropy: 0.0000e+00\n",
      "Epoch 189/200\n",
      "21/21 [==============================] - 0s 191us/step - loss: 4153.0479 - categorical_accuracy: 1.0000 - categorical_crossentropy: 0.0000e+00\n",
      "Epoch 190/200\n",
      "21/21 [==============================] - 0s 143us/step - loss: 4151.3872 - categorical_accuracy: 1.0000 - categorical_crossentropy: 0.0000e+00\n",
      "Epoch 191/200\n",
      "21/21 [==============================] - 0s 191us/step - loss: 4149.7266 - categorical_accuracy: 1.0000 - categorical_crossentropy: 0.0000e+00\n",
      "Epoch 192/200\n",
      "21/21 [==============================] - 0s 191us/step - loss: 4148.0669 - categorical_accuracy: 1.0000 - categorical_crossentropy: 0.0000e+00\n",
      "Epoch 193/200\n",
      "21/21 [==============================] - 0s 286us/step - loss: 4146.4082 - categorical_accuracy: 1.0000 - categorical_crossentropy: 0.0000e+00\n",
      "Epoch 194/200\n",
      "21/21 [==============================] - 0s 191us/step - loss: 4144.7495 - categorical_accuracy: 1.0000 - categorical_crossentropy: 0.0000e+00\n",
      "Epoch 195/200\n",
      "21/21 [==============================] - 0s 190us/step - loss: 4143.0918 - categorical_accuracy: 1.0000 - categorical_crossentropy: 0.0000e+00\n",
      "Epoch 196/200\n",
      "21/21 [==============================] - 0s 193us/step - loss: 4141.4351 - categorical_accuracy: 1.0000 - categorical_crossentropy: 0.0000e+00\n",
      "Epoch 197/200\n",
      "21/21 [==============================] - 0s 190us/step - loss: 4139.7783 - categorical_accuracy: 1.0000 - categorical_crossentropy: 0.0000e+00\n",
      "Epoch 198/200\n",
      "21/21 [==============================] - 0s 191us/step - loss: 4138.1226 - categorical_accuracy: 1.0000 - categorical_crossentropy: 0.0000e+00\n",
      "Epoch 199/200\n",
      "21/21 [==============================] - 0s 144us/step - loss: 4136.4673 - categorical_accuracy: 1.0000 - categorical_crossentropy: 0.0000e+00\n",
      "Epoch 200/200\n",
      "21/21 [==============================] - 0s 286us/step - loss: 4134.8130 - categorical_accuracy: 1.0000 - categorical_crossentropy: 0.0000e+00\n"
     ]
    },
    {
     "data": {
      "text/plain": [
       "ShapeletModel(batch_size=256, max_iter=200, n_shapelets_per_size={20: 3},\n",
       "              optimizer='sgd', random_state=None, shapelet_length=0.15,\n",
       "              total_lengths=3, verbose=1, verbose_level=None,\n",
       "              weight_regularizer=0.01)"
      ]
     },
     "execution_count": 64,
     "metadata": {},
     "output_type": "execute_result"
    }
   ],
   "source": [
    "shp_clf.fit(X_train, y_train)"
   ]
  },
  {
   "cell_type": "code",
   "execution_count": 66,
   "metadata": {},
   "outputs": [
    {
     "name": "stdout",
     "output_type": "stream",
     "text": [
      "9/9 [==============================] - 0s 402us/step\n",
      "Accuracy 0.4444444444444444\n",
      "F1-score [0.33333333 0.         0.66666667]\n",
      "              precision    recall  f1-score   support\n",
      "\n",
      "           0       0.33      0.33      0.33         3\n",
      "           1       0.00      0.00      0.00         2\n",
      "           2       0.60      0.75      0.67         4\n",
      "\n",
      "    accuracy                           0.44         9\n",
      "   macro avg       0.31      0.36      0.33         9\n",
      "weighted avg       0.38      0.44      0.41         9\n",
      "\n"
     ]
    }
   ],
   "source": [
    "y_pred = shp_clf.predict(X_test) #predice una classe per un dato set di time series\n",
    "\n",
    "print('Accuracy %s' % accuracy_score(y_test, y_pred))\n",
    "print('F1-score %s' % f1_score(y_test, y_pred, average=None))\n",
    "print(classification_report(y_test, y_pred))"
   ]
  },
  {
   "cell_type": "code",
   "execution_count": 67,
   "metadata": {},
   "outputs": [
    {
     "name": "stdout",
     "output_type": "stream",
     "text": [
      "\r",
      "21/21 [==============================] - 0s 6ms/step\n"
     ]
    },
    {
     "name": "stderr",
     "output_type": "stream",
     "text": [
      "C:\\Users\\Gianmarco\\anaconda3\\envs\\tfk\\lib\\site-packages\\tslearn\\utils.py:63: UserWarning: 2-Dimensional data passed. Assuming these are 21 1-dimensional timeseries\n",
      "  '{} 1-dimensional timeseries'.format(X.shape[0]))\n"
     ]
    }
   ],
   "source": [
    "predicted_locations = shp_clf.locate(X_train) #Compute shapelet match location for a set of time series"
   ]
  },
  {
   "cell_type": "code",
   "execution_count": 68,
   "metadata": {},
   "outputs": [
    {
     "data": {
      "image/png": "[encoded data removed]",
      "text/plain": [
       "<Figure size 432x288 with 1 Axes>"
      ]
     },
     "metadata": {
      "needs_background": "light"
     },
     "output_type": "display_data"
    }
   ],
   "source": [
    "ts_id = 0\n",
    "plt.figure()\n",
    "n_shapelets = sum(shapelet_sizes.values())\n",
    "plt.title(\"Location of shapelet matches \"\n",
    "          .format(n_shapelets))\n",
    "\n",
    "plt.plot(X_train[ts_id].ravel())\n",
    "for idx_shp, shp in enumerate(shp_clf.shapelets_):\n",
    "    t0 = predicted_locations[ts_id, idx_shp]\n",
    "    plt.plot(np.arange(t0, t0 + len(shp)), shp, linewidth=2)"
   ]
  },
  {
   "cell_type": "markdown",
   "metadata": {},
   "source": [
    "# Others Shapelet Discovery Methods"
   ]
  },
  {
   "cell_type": "markdown",
   "metadata": {},
   "source": [
    "1- This implementation views the model as a layered graph, where each layer implements a forward, backword and parameters update methods (see below diagram). This abstraction simplifies thinking about the algorithm and implementing it.\n",
    "\n",
    "https://github.com/mohaseeb/shaplets-python"
   ]
  },
  {
   "cell_type": "code",
   "execution_count": 41,
   "metadata": {},
   "outputs": [],
   "source": [
    "from shapelets_lts.classification import LtsShapeletClassifier"
   ]
  },
  {
   "cell_type": "code",
   "execution_count": 42,
   "metadata": {},
   "outputs": [],
   "source": [
    "shp_clf = LtsShapeletClassifier(\n",
    "    K=3,\n",
    "    R=1,\n",
    "    L_min=10,\n",
    "    epocs=100,\n",
    "    lamda=0.01,\n",
    "    eta=0.01,\n",
    "    shapelet_initialization='segments_centroids',\n",
    "    plot_loss=False\n",
    ")"
   ]
  },
  {
   "cell_type": "markdown",
   "metadata": {},
   "source": [
    "param K: number of shapelets\n",
    "        \n",
    "        \n",
    "param R: scales of shapelet lengths\n",
    "        \n",
    "        \n",
    "param L_min: minimum shapelet length"
   ]
  },
  {
   "cell_type": "code",
   "execution_count": 43,
   "metadata": {},
   "outputs": [
    {
     "name": "stdout",
     "output_type": "stream",
     "text": [
      "Network initialization ...\n",
      "Using training data to initialize shaplets\n",
      "Training ...\n",
      "Using training data for validation\n"
     ]
    },
    {
     "name": "stderr",
     "output_type": "stream",
     "text": [
      "C:\\Users\\Gianmarco\\anaconda3\\envs\\tfk\\lib\\site-packages\\shapelets_lts\\network\\soft_min_layer.py:67: RuntimeWarning: invalid value encountered in double_scalars\n",
      "  M = M_numerator / self.psi\n"
     ]
    },
    {
     "name": "stdout",
     "output_type": "stream",
     "text": [
      "epoch=1/100 (iteration=21) loss=nan validation accuracy=0.2857142857142857\n",
      "epoch=2/100 (iteration=42) loss=nan validation accuracy=0.2857142857142857\n",
      "epoch=3/100 (iteration=63) loss=nan validation accuracy=0.2857142857142857\n",
      "epoch=4/100 (iteration=84) loss=nan validation accuracy=0.2857142857142857\n",
      "epoch=5/100 (iteration=105) loss=nan validation accuracy=0.2857142857142857\n",
      "epoch=6/100 (iteration=126) loss=nan validation accuracy=0.2857142857142857\n",
      "epoch=7/100 (iteration=147) loss=nan validation accuracy=0.2857142857142857\n",
      "epoch=8/100 (iteration=168) loss=nan validation accuracy=0.2857142857142857\n",
      "epoch=9/100 (iteration=189) loss=nan validation accuracy=0.2857142857142857\n",
      "epoch=10/100 (iteration=210) loss=nan validation accuracy=0.2857142857142857\n",
      "epoch=11/100 (iteration=231) loss=nan validation accuracy=0.2857142857142857\n",
      "epoch=12/100 (iteration=252) loss=nan validation accuracy=0.2857142857142857\n",
      "epoch=13/100 (iteration=273) loss=nan validation accuracy=0.2857142857142857\n",
      "epoch=14/100 (iteration=294) loss=nan validation accuracy=0.2857142857142857\n",
      "epoch=15/100 (iteration=315) loss=nan validation accuracy=0.2857142857142857\n",
      "epoch=16/100 (iteration=336) loss=nan validation accuracy=0.2857142857142857\n",
      "epoch=17/100 (iteration=357) loss=nan validation accuracy=0.2857142857142857\n",
      "epoch=18/100 (iteration=378) loss=nan validation accuracy=0.2857142857142857\n",
      "epoch=19/100 (iteration=399) loss=nan validation accuracy=0.2857142857142857\n",
      "epoch=20/100 (iteration=420) loss=nan validation accuracy=0.2857142857142857\n",
      "epoch=21/100 (iteration=441) loss=nan validation accuracy=0.2857142857142857\n",
      "epoch=22/100 (iteration=462) loss=nan validation accuracy=0.2857142857142857\n",
      "epoch=23/100 (iteration=483) loss=nan validation accuracy=0.2857142857142857\n",
      "epoch=24/100 (iteration=504) loss=nan validation accuracy=0.2857142857142857\n",
      "epoch=25/100 (iteration=525) loss=nan validation accuracy=0.2857142857142857\n",
      "epoch=26/100 (iteration=546) loss=nan validation accuracy=0.2857142857142857\n",
      "epoch=27/100 (iteration=567) loss=nan validation accuracy=0.2857142857142857\n",
      "epoch=28/100 (iteration=588) loss=nan validation accuracy=0.2857142857142857\n",
      "epoch=29/100 (iteration=609) loss=nan validation accuracy=0.2857142857142857\n",
      "epoch=30/100 (iteration=630) loss=nan validation accuracy=0.2857142857142857\n",
      "epoch=31/100 (iteration=651) loss=nan validation accuracy=0.2857142857142857\n",
      "epoch=32/100 (iteration=672) loss=nan validation accuracy=0.2857142857142857\n",
      "epoch=33/100 (iteration=693) loss=nan validation accuracy=0.2857142857142857\n",
      "epoch=34/100 (iteration=714) loss=nan validation accuracy=0.2857142857142857\n",
      "epoch=35/100 (iteration=735) loss=nan validation accuracy=0.2857142857142857\n",
      "epoch=36/100 (iteration=756) loss=nan validation accuracy=0.2857142857142857\n",
      "epoch=37/100 (iteration=777) loss=nan validation accuracy=0.2857142857142857\n",
      "epoch=38/100 (iteration=798) loss=nan validation accuracy=0.2857142857142857\n",
      "epoch=39/100 (iteration=819) loss=nan validation accuracy=0.2857142857142857\n",
      "epoch=40/100 (iteration=840) loss=nan validation accuracy=0.2857142857142857\n",
      "epoch=41/100 (iteration=861) loss=nan validation accuracy=0.2857142857142857\n",
      "epoch=42/100 (iteration=882) loss=nan validation accuracy=0.2857142857142857\n",
      "epoch=43/100 (iteration=903) loss=nan validation accuracy=0.2857142857142857\n",
      "epoch=44/100 (iteration=924) loss=nan validation accuracy=0.2857142857142857\n",
      "epoch=45/100 (iteration=945) loss=nan validation accuracy=0.2857142857142857\n",
      "epoch=46/100 (iteration=966) loss=nan validation accuracy=0.2857142857142857\n",
      "epoch=47/100 (iteration=987) loss=nan validation accuracy=0.2857142857142857\n",
      "epoch=48/100 (iteration=1008) loss=nan validation accuracy=0.2857142857142857\n",
      "epoch=49/100 (iteration=1029) loss=nan validation accuracy=0.2857142857142857\n",
      "epoch=50/100 (iteration=1050) loss=nan validation accuracy=0.2857142857142857\n",
      "epoch=51/100 (iteration=1071) loss=nan validation accuracy=0.2857142857142857\n",
      "epoch=52/100 (iteration=1092) loss=nan validation accuracy=0.2857142857142857\n",
      "epoch=53/100 (iteration=1113) loss=nan validation accuracy=0.2857142857142857\n",
      "epoch=54/100 (iteration=1134) loss=nan validation accuracy=0.2857142857142857\n",
      "epoch=55/100 (iteration=1155) loss=nan validation accuracy=0.2857142857142857\n",
      "epoch=56/100 (iteration=1176) loss=nan validation accuracy=0.2857142857142857\n",
      "epoch=57/100 (iteration=1197) loss=nan validation accuracy=0.2857142857142857\n",
      "epoch=58/100 (iteration=1218) loss=nan validation accuracy=0.2857142857142857\n",
      "epoch=59/100 (iteration=1239) loss=nan validation accuracy=0.2857142857142857\n",
      "epoch=60/100 (iteration=1260) loss=nan validation accuracy=0.2857142857142857\n",
      "epoch=61/100 (iteration=1281) loss=nan validation accuracy=0.2857142857142857\n",
      "epoch=62/100 (iteration=1302) loss=nan validation accuracy=0.2857142857142857\n",
      "epoch=63/100 (iteration=1323) loss=nan validation accuracy=0.2857142857142857\n",
      "epoch=64/100 (iteration=1344) loss=nan validation accuracy=0.2857142857142857\n",
      "epoch=65/100 (iteration=1365) loss=nan validation accuracy=0.2857142857142857\n",
      "epoch=66/100 (iteration=1386) loss=nan validation accuracy=0.2857142857142857\n",
      "epoch=67/100 (iteration=1407) loss=nan validation accuracy=0.2857142857142857\n",
      "epoch=68/100 (iteration=1428) loss=nan validation accuracy=0.2857142857142857\n",
      "epoch=69/100 (iteration=1449) loss=nan validation accuracy=0.2857142857142857\n",
      "epoch=70/100 (iteration=1470) loss=nan validation accuracy=0.2857142857142857\n",
      "epoch=71/100 (iteration=1491) loss=nan validation accuracy=0.2857142857142857\n",
      "epoch=72/100 (iteration=1512) loss=nan validation accuracy=0.2857142857142857\n",
      "epoch=73/100 (iteration=1533) loss=nan validation accuracy=0.2857142857142857\n",
      "epoch=74/100 (iteration=1554) loss=nan validation accuracy=0.2857142857142857\n",
      "epoch=75/100 (iteration=1575) loss=nan validation accuracy=0.2857142857142857\n",
      "epoch=76/100 (iteration=1596) loss=nan validation accuracy=0.2857142857142857\n",
      "epoch=77/100 (iteration=1617) loss=nan validation accuracy=0.2857142857142857\n",
      "epoch=78/100 (iteration=1638) loss=nan validation accuracy=0.2857142857142857\n",
      "epoch=79/100 (iteration=1659) loss=nan validation accuracy=0.2857142857142857\n",
      "epoch=80/100 (iteration=1680) loss=nan validation accuracy=0.2857142857142857\n",
      "epoch=81/100 (iteration=1701) loss=nan validation accuracy=0.2857142857142857\n",
      "epoch=82/100 (iteration=1722) loss=nan validation accuracy=0.2857142857142857\n",
      "epoch=83/100 (iteration=1743) loss=nan validation accuracy=0.2857142857142857\n",
      "epoch=84/100 (iteration=1764) loss=nan validation accuracy=0.2857142857142857\n",
      "epoch=85/100 (iteration=1785) loss=nan validation accuracy=0.2857142857142857\n",
      "epoch=86/100 (iteration=1806) loss=nan validation accuracy=0.2857142857142857\n",
      "epoch=87/100 (iteration=1827) loss=nan validation accuracy=0.2857142857142857\n",
      "epoch=88/100 (iteration=1848) loss=nan validation accuracy=0.2857142857142857\n",
      "epoch=89/100 (iteration=1869) loss=nan validation accuracy=0.2857142857142857\n",
      "epoch=90/100 (iteration=1890) loss=nan validation accuracy=0.2857142857142857\n",
      "epoch=91/100 (iteration=1911) loss=nan validation accuracy=0.2857142857142857\n",
      "epoch=92/100 (iteration=1932) loss=nan validation accuracy=0.2857142857142857\n",
      "epoch=93/100 (iteration=1953) loss=nan validation accuracy=0.2857142857142857\n",
      "epoch=94/100 (iteration=1974) loss=nan validation accuracy=0.2857142857142857\n",
      "epoch=95/100 (iteration=1995) loss=nan validation accuracy=0.2857142857142857\n",
      "epoch=96/100 (iteration=2016) loss=nan validation accuracy=0.2857142857142857\n",
      "epoch=97/100 (iteration=2037) loss=nan validation accuracy=0.2857142857142857\n",
      "epoch=98/100 (iteration=2058) loss=nan validation accuracy=0.2857142857142857\n",
      "epoch=99/100 (iteration=2079) loss=nan validation accuracy=0.2857142857142857\n",
      "epoch=100/100 (iteration=2100) loss=nan validation accuracy=0.2857142857142857\n"
     ]
    },
    {
     "data": {
      "text/plain": [
       "LtsShapeletClassifier(K=3, L_min=10, R=1, alpha=-100, epocs=100, eta=0.01,\n",
       "                      lamda=0.01, plot_loss=False,\n",
       "                      shapelet_initialization='segments_centroids')"
      ]
     },
     "execution_count": 43,
     "metadata": {},
     "output_type": "execute_result"
    }
   ],
   "source": [
    "shp_clf.fit(X_train, y_train)"
   ]
  },
  {
   "cell_type": "code",
   "execution_count": 44,
   "metadata": {},
   "outputs": [],
   "source": [
    "from sklearn.metrics import accuracy_score"
   ]
  },
  {
   "cell_type": "code",
   "execution_count": 45,
   "metadata": {},
   "outputs": [
    {
     "name": "stdout",
     "output_type": "stream",
     "text": [
      "Correct classification rate: 0.3\n"
     ]
    }
   ],
   "source": [
    "y_pred = shp_clf.predict(X)\n",
    "\n",
    "print(\"Correct classification rate:\", accuracy_score(y, y_pred))"
   ]
  },
  {
   "cell_type": "code",
   "execution_count": 22,
   "metadata": {},
   "outputs": [],
   "source": [
    "# Non riesco ad ottenere una perdita e quindi non miglioro mai l'accuracy"
   ]
  },
  {
   "cell_type": "markdown",
   "metadata": {},
   "source": [
    "2- The Shapelet Transform algorithm extracts the most discriminative shapelets from a data set of time series. A shapelet is defined as a subset of consecutive points from a time series. Two criteria are made available: mutual information and F-scores."
   ]
  },
  {
   "cell_type": "code",
   "execution_count": 46,
   "metadata": {},
   "outputs": [],
   "source": [
    "from pyts.transformation import ShapeletTransform"
   ]
  },
  {
   "cell_type": "code",
   "execution_count": 47,
   "metadata": {},
   "outputs": [
    {
     "data": {
      "text/plain": [
       "ShapeletTransform(criterion='mutual_info', n_jobs=None, n_shapelets=3,\n",
       "                  random_state=None, remove_similar=True, sort=False, verbose=0,\n",
       "                  window_sizes=[8], window_steps=None)"
      ]
     },
     "execution_count": 47,
     "metadata": {},
     "output_type": "execute_result"
    }
   ],
   "source": [
    "st = ShapeletTransform(n_shapelets=3, window_sizes=[8])\n",
    "st.fit(X_train, y_train)"
   ]
  },
  {
   "cell_type": "code",
   "execution_count": 48,
   "metadata": {},
   "outputs": [
    {
     "data": {
      "text/plain": [
       "3"
      ]
     },
     "execution_count": 48,
     "metadata": {},
     "output_type": "execute_result"
    }
   ],
   "source": [
    "len(st.shapelets_)"
   ]
  },
  {
   "cell_type": "code",
   "execution_count": 49,
   "metadata": {},
   "outputs": [
    {
     "data": {
      "text/plain": [
       "array([[ 448.25      ,  460.5       ,  444.        ,  570.5       ,\n",
       "        1377.        , 1102.25      ,  920.33333333,  632.25      ],\n",
       "       [ 457.33333333,  457.5       , 1129.        ,  477.        ,\n",
       "         501.5       ,  457.        ,  511.        ,  450.5       ],\n",
       "       [ 608.5       ,  795.        ,  462.        ,  597.        ,\n",
       "         785.66666667,  630.        ,  703.        ,  582.        ]])"
      ]
     },
     "execution_count": 49,
     "metadata": {},
     "output_type": "execute_result"
    }
   ],
   "source": [
    "st.shapelets_ #The array with the selected shapelets."
   ]
  },
  {
   "cell_type": "code",
   "execution_count": 50,
   "metadata": {},
   "outputs": [
    {
     "data": {
      "image/png": "[encoded data removed]",
      "text/plain": [
       "<Figure size 432x288 with 1 Axes>"
      ]
     },
     "metadata": {
      "needs_background": "light"
     },
     "output_type": "display_data"
    }
   ],
   "source": [
    "for s in st.shapelets_:\n",
    "    plt.plot(s)\n",
    "\n",
    "plt.show()"
   ]
  },
  {
   "cell_type": "code",
   "execution_count": 51,
   "metadata": {},
   "outputs": [
    {
     "data": {
      "text/plain": [
       "array([[ 13,  79,  87],\n",
       "       [ 14, 112, 120],\n",
       "       [  4,  13,  21]], dtype=int64)"
      ]
     },
     "execution_count": 51,
     "metadata": {},
     "output_type": "execute_result"
    }
   ],
   "source": [
    "st.indices_ #The first column consists of the indices of the samples. The second column consists of the starting indices (included) of the shapelets. The third column consists of the ending indices (excluded) of the shapelets"
   ]
  },
  {
   "cell_type": "code",
   "execution_count": 69,
   "metadata": {},
   "outputs": [
    {
     "data": {
      "text/plain": [
       "array([0.4495738 , 0.50788771, 0.56740207])"
      ]
     },
     "execution_count": 69,
     "metadata": {},
     "output_type": "execute_result"
    }
   ],
   "source": [
    "st.scores_ # The scores associated to the shapelets. The higher, the more discriminant. If criterion='mutual_info', mutual information scores are reported."
   ]
  },
  {
   "cell_type": "code",
   "execution_count": null,
   "metadata": {},
   "outputs": [],
   "source": []
  }
 ],
 "metadata": {
  "kernelspec": {
   "display_name": "Python 3",
   "language": "python",
   "name": "python3"
  },
  "language_info": {
   "codemirror_mode": {
    "name": "ipython",
    "version": 3
   },
   "file_extension": ".py",
   "mimetype": "text/x-python",
   "name": "python",
   "nbconvert_exporter": "python",
   "pygments_lexer": "ipython3",
   "version": "3.7.4"
  }
 },
 "nbformat": 4,
 "nbformat_minor": 2
}
