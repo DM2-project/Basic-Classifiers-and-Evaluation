{
 "cells": [
  {
   "cell_type": "code",
   "execution_count": 1,
   "metadata": {},
   "outputs": [],
   "source": [
    "%matplotlib inline\n",
    "import numpy as np\n",
    "import pandas as pd\n",
    "import seaborn as sns\n",
    "import matplotlib.pyplot as plt\n",
    "\n",
    "from collections import Counter\n",
    "from collections import defaultdict\n"
   ]
  },
  {
   "cell_type": "code",
   "execution_count": 2,
   "metadata": {},
   "outputs": [
    {
     "name": "stdout",
     "output_type": "stream",
     "text": [
      "(8143, 7)\n"
     ]
    },
    {
     "data": {
      "text/html": [
       "<div>\n",
       "<style scoped>\n",
       "    .dataframe tbody tr th:only-of-type {\n",
       "        vertical-align: middle;\n",
       "    }\n",
       "\n",
       "    .dataframe tbody tr th {\n",
       "        vertical-align: top;\n",
       "    }\n",
       "\n",
       "    .dataframe thead th {\n",
       "        text-align: right;\n",
       "    }\n",
       "</style>\n",
       "<table border=\"1\" class=\"dataframe\">\n",
       "  <thead>\n",
       "    <tr style=\"text-align: right;\">\n",
       "      <th></th>\n",
       "      <th>date</th>\n",
       "      <th>Temperature</th>\n",
       "      <th>Humidity</th>\n",
       "      <th>Light</th>\n",
       "      <th>CO2</th>\n",
       "      <th>HumidityRatio</th>\n",
       "      <th>Occupancy</th>\n",
       "    </tr>\n",
       "  </thead>\n",
       "  <tbody>\n",
       "    <tr>\n",
       "      <th>1</th>\n",
       "      <td>2015-02-04 17:51:00</td>\n",
       "      <td>23.18</td>\n",
       "      <td>27.2720</td>\n",
       "      <td>426.0</td>\n",
       "      <td>721.25</td>\n",
       "      <td>0.004793</td>\n",
       "      <td>1</td>\n",
       "    </tr>\n",
       "    <tr>\n",
       "      <th>2</th>\n",
       "      <td>2015-02-04 17:51:59</td>\n",
       "      <td>23.15</td>\n",
       "      <td>27.2675</td>\n",
       "      <td>429.5</td>\n",
       "      <td>714.00</td>\n",
       "      <td>0.004783</td>\n",
       "      <td>1</td>\n",
       "    </tr>\n",
       "    <tr>\n",
       "      <th>3</th>\n",
       "      <td>2015-02-04 17:53:00</td>\n",
       "      <td>23.15</td>\n",
       "      <td>27.2450</td>\n",
       "      <td>426.0</td>\n",
       "      <td>713.50</td>\n",
       "      <td>0.004779</td>\n",
       "      <td>1</td>\n",
       "    </tr>\n",
       "    <tr>\n",
       "      <th>4</th>\n",
       "      <td>2015-02-04 17:54:00</td>\n",
       "      <td>23.15</td>\n",
       "      <td>27.2000</td>\n",
       "      <td>426.0</td>\n",
       "      <td>708.25</td>\n",
       "      <td>0.004772</td>\n",
       "      <td>1</td>\n",
       "    </tr>\n",
       "    <tr>\n",
       "      <th>5</th>\n",
       "      <td>2015-02-04 17:55:00</td>\n",
       "      <td>23.10</td>\n",
       "      <td>27.2000</td>\n",
       "      <td>426.0</td>\n",
       "      <td>704.50</td>\n",
       "      <td>0.004757</td>\n",
       "      <td>1</td>\n",
       "    </tr>\n",
       "  </tbody>\n",
       "</table>\n",
       "</div>"
      ],
      "text/plain": [
       "                  date  Temperature  Humidity  Light     CO2  HumidityRatio  \\\n",
       "1  2015-02-04 17:51:00        23.18   27.2720  426.0  721.25       0.004793   \n",
       "2  2015-02-04 17:51:59        23.15   27.2675  429.5  714.00       0.004783   \n",
       "3  2015-02-04 17:53:00        23.15   27.2450  426.0  713.50       0.004779   \n",
       "4  2015-02-04 17:54:00        23.15   27.2000  426.0  708.25       0.004772   \n",
       "5  2015-02-04 17:55:00        23.10   27.2000  426.0  704.50       0.004757   \n",
       "\n",
       "   Occupancy  \n",
       "1          1  \n",
       "2          1  \n",
       "3          1  \n",
       "4          1  \n",
       "5          1  "
      ]
     },
     "execution_count": 2,
     "metadata": {},
     "output_type": "execute_result"
    }
   ],
   "source": [
    "class_name = 'Occupancy'\n",
    "df = pd.read_csv('datatraining.txt', skipinitialspace=True, na_values='?', \n",
    "                 keep_default_na=True)\n",
    "print(df.shape)\n",
    "df.head()"
   ]
  },
  {
   "cell_type": "code",
   "execution_count": 3,
   "metadata": {},
   "outputs": [],
   "source": [
    "del df['date']"
   ]
  },
  {
   "cell_type": "code",
   "execution_count": 4,
   "metadata": {},
   "outputs": [
    {
     "data": {
      "image/png": "[encoded data removed]",
      "text/plain": [
       "<Figure size 432x288 with 1 Axes>"
      ]
     },
     "metadata": {
      "needs_background": "light"
     },
     "output_type": "display_data"
    }
   ],
   "source": [
    "plt.hist(df.values)\n",
    "plt.show()"
   ]
  },
  {
   "cell_type": "code",
   "execution_count": 5,
   "metadata": {},
   "outputs": [],
   "source": [
    "def prepare_dataset(df, class_name):\n",
    "    df = remove_missing_values(df)\n",
    "    numeric_columns = get_numeric_columns(df)\n",
    "    rdf = df.copy(deep=True)\n",
    "    df, feature_names, class_values = one_hot_encoding(df, class_name)\n",
    "    real_feature_names = get_real_feature_names(rdf, numeric_columns, class_name)\n",
    "    rdf = rdf[real_feature_names + (class_values if isinstance(class_name, list) else [class_name])]\n",
    "    features_map = get_features_map(feature_names, real_feature_names)\n",
    "\n",
    "    return df, feature_names, class_values, numeric_columns, rdf, real_feature_names, features_map\n",
    "\n",
    "def remove_missing_values(df):\n",
    "    for column_name, nbr_missing in df.isna().sum().to_dict().items():\n",
    "        if nbr_missing > 0:\n",
    "            if column_name in df._get_numeric_data().columns:\n",
    "                mean = df[column_name].mean()\n",
    "                df[column_name].fillna(mean, inplace=True)\n",
    "            else:\n",
    "                mode = df[column_name].mode().values[0]\n",
    "                df[column_name].fillna(mode, inplace=True)\n",
    "    return df\n",
    "\n",
    "def get_numeric_columns(df):\n",
    "    numeric_columns = list(df._get_numeric_data().columns)\n",
    "    return numeric_columns\n",
    "\n",
    "def get_real_feature_names(rdf, numeric_columns, class_name):\n",
    "    real_feature_names = [c for c in rdf.columns if c in numeric_columns and c != class_name]\n",
    "    real_feature_names += [c for c in rdf.columns if c not in numeric_columns and c != class_name]\n",
    "    return real_feature_names\n",
    "\n",
    "def one_hot_encoding(df, class_name):\n",
    "    dfX = pd.get_dummies(df[[c for c in df.columns if c != class_name]], prefix_sep='=')\n",
    "    class_name_map = {v: k for k, v in enumerate(sorted(df[class_name].unique()))}\n",
    "    dfY = df[class_name].map(class_name_map)\n",
    "    df = pd.concat([dfX, dfY], axis=1)\n",
    "    feature_names = list(dfX.columns)\n",
    "    class_values = sorted(class_name_map)\n",
    "    return df, feature_names, class_values\n",
    "\n",
    "def get_features_map(feature_names, real_feature_names):\n",
    "    features_map = defaultdict(dict)\n",
    "    i = 0\n",
    "    j = 0\n",
    "\n",
    "    while i < len(feature_names) and j < len(real_feature_names):\n",
    "        if feature_names[i] == real_feature_names[j]:\n",
    "            features_map[j][feature_names[i]] = j\n",
    "            i += 1\n",
    "            j += 1\n",
    "        elif feature_names[i].startswith(real_feature_names[j]):\n",
    "            features_map[j][feature_names[i]] = j\n",
    "            i += 1\n",
    "        else:\n",
    "            j += 1\n",
    "    return features_map"
   ]
  },
  {
   "cell_type": "code",
   "execution_count": 6,
   "metadata": {},
   "outputs": [],
   "source": [
    "from sklearn.model_selection import train_test_split, cross_val_score \n",
    "\n",
    "from sklearn.metrics import accuracy_score, f1_score, classification_report\n",
    "from sklearn.metrics import roc_curve, auc, roc_auc_score\n",
    "attributes = [col for col in df.columns if col != class_name]\n",
    "X = df[attributes].values\n",
    "y = df[class_name]\n",
    "\n",
    "X_train, X_test, y_train, y_test = train_test_split(X, y, test_size=0.3, random_state=100, stratify=y)"
   ]
  },
  {
   "cell_type": "code",
   "execution_count": 23,
   "metadata": {},
   "outputs": [
    {
     "data": {
      "text/plain": [
       "<matplotlib.axes._subplots.AxesSubplot at 0x20d5ec93fc8>"
      ]
     },
     "execution_count": 23,
     "metadata": {},
     "output_type": "execute_result"
    },
    {
     "data": {
      "image/png": "[encoded data removed]",
      "text/plain": [
       "<Figure size 432x288 with 1 Axes>"
      ]
     },
     "metadata": {
      "needs_background": "light"
     },
     "output_type": "display_data"
    }
   ],
   "source": [
    "import seaborn as sns\n",
    "sns.boxplot(df['Temperature'])"
   ]
  },
  {
   "cell_type": "code",
   "execution_count": 24,
   "metadata": {},
   "outputs": [
    {
     "data": {
      "text/plain": [
       "<matplotlib.axes._subplots.AxesSubplot at 0x20d5ec4b848>"
      ]
     },
     "execution_count": 24,
     "metadata": {},
     "output_type": "execute_result"
    },
    {
     "data": {
      "image/png": "[encoded data removed]",
      "text/plain": [
       "<Figure size 432x288 with 1 Axes>"
      ]
     },
     "metadata": {
      "needs_background": "light"
     },
     "output_type": "display_data"
    }
   ],
   "source": [
    "import seaborn as sns\n",
    "sns.boxplot(df['CO2'])"
   ]
  },
  {
   "cell_type": "code",
   "execution_count": 25,
   "metadata": {},
   "outputs": [
    {
     "data": {
      "text/plain": [
       "<matplotlib.axes._subplots.AxesSubplot at 0x20d5e9e9b48>"
      ]
     },
     "execution_count": 25,
     "metadata": {},
     "output_type": "execute_result"
    },
    {
     "data": {
      "image/png": "[encoded data removed]",
      "text/plain": [
       "<Figure size 432x288 with 1 Axes>"
      ]
     },
     "metadata": {
      "needs_background": "light"
     },
     "output_type": "display_data"
    }
   ],
   "source": [
    "import seaborn as sns\n",
    "sns.boxplot(df['Humidity'])"
   ]
  },
  {
   "cell_type": "code",
   "execution_count": 26,
   "metadata": {},
   "outputs": [
    {
     "data": {
      "text/plain": [
       "<matplotlib.axes._subplots.AxesSubplot at 0x20d5ec8a708>"
      ]
     },
     "execution_count": 26,
     "metadata": {},
     "output_type": "execute_result"
    },
    {
     "data": {
      "image/png": "[encoded data removed]",
      "text/plain": [
       "<Figure size 432x288 with 1 Axes>"
      ]
     },
     "metadata": {
      "needs_background": "light"
     },
     "output_type": "display_data"
    }
   ],
   "source": [
    "import seaborn as sns\n",
    "sns.boxplot(df['Light'])"
   ]
  },
  {
   "cell_type": "code",
   "execution_count": 27,
   "metadata": {},
   "outputs": [
    {
     "data": {
      "image/png": "[encoded data removed]",
      "text/plain": [
       "<Figure size 432x288 with 1 Axes>"
      ]
     },
     "metadata": {
      "needs_background": "light"
     },
     "output_type": "display_data"
    }
   ],
   "source": [
    "sns.boxplot(data=[X[:,0], X[:,3], X[:,1], X[:,2], X[:,4]])\n",
    "plt.xticks([0,1,2,3], [attributes[0], attributes[3],attributes[1], attributes[2]])\n",
    "plt.show()"
   ]
  },
  {
   "cell_type": "code",
   "execution_count": 28,
   "metadata": {},
   "outputs": [
    {
     "data": {
      "image/png": "[encoded data removed]",
      "text/plain": [
       "<Figure size 288x288 with 1 Axes>"
      ]
     },
     "metadata": {
      "needs_background": "light"
     },
     "output_type": "display_data"
    }
   ],
   "source": [
    "fig, ax = plt.subplots(figsize=(4,4))\n",
    "ax.scatter(df['CO2'], df['Light'])\n",
    "ax.set_xlabel('CO2')\n",
    "ax.set_ylabel('Light')\n",
    "plt.show()"
   ]
  },
  {
   "cell_type": "code",
   "execution_count": 29,
   "metadata": {},
   "outputs": [
    {
     "name": "stdout",
     "output_type": "stream",
     "text": [
      "[[2.51847007 0.27852622 1.57376283 0.36494808 1.09175697 1.92604745]\n",
      " [2.48896731 0.27771261 1.59173515 0.34188106 1.08055497 1.92604745]\n",
      " [2.48896731 0.27364453 1.57376283 0.34029023 1.07588816 1.92604745]\n",
      " ...\n",
      " [0.47294534 1.87375407 1.60970748 0.61073113 2.03352707 1.92604745]\n",
      " [0.47294534 1.90358662 1.60970748 0.68019732 2.063811   1.92604745]\n",
      " [0.47294534 1.89273842 1.68159679 0.68231843 2.05279837 1.92604745]]\n"
     ]
    }
   ],
   "source": [
    "from scipy import stats\n",
    "import numpy as np\n",
    "z = np.abs(stats.zscore(df))\n",
    "print(z)"
   ]
  },
  {
   "cell_type": "code",
   "execution_count": 30,
   "metadata": {},
   "outputs": [
    {
     "name": "stdout",
     "output_type": "stream",
     "text": [
      "7.326618984277759\n"
     ]
    }
   ],
   "source": [
    "print(z.max())"
   ]
  },
  {
   "cell_type": "code",
   "execution_count": 31,
   "metadata": {},
   "outputs": [
    {
     "data": {
      "image/png": "[encoded data removed]",
      "text/plain": [
       "<Figure size 432x288 with 1 Axes>"
      ]
     },
     "metadata": {
      "needs_background": "light"
     },
     "output_type": "display_data"
    }
   ],
   "source": [
    "plt.hist(z)\n",
    "plt.axvline(1.5)\n",
    "plt.text(0, 7.44, 'outliers')\n",
    "plt.show()"
   ]
  },
  {
   "cell_type": "code",
   "execution_count": 32,
   "metadata": {},
   "outputs": [
    {
     "name": "stdout",
     "output_type": "stream",
     "text": [
      "(array([   0,    0,    0, ..., 8142, 8142, 8142], dtype=int64), array([0, 2, 5, ..., 2, 4, 5], dtype=int64))\n"
     ]
    }
   ],
   "source": [
    "threshold = 1.5\n",
    "print(np.where(z > 1.5))"
   ]
  },
  {
   "cell_type": "code",
   "execution_count": 33,
   "metadata": {},
   "outputs": [
    {
     "name": "stdout",
     "output_type": "stream",
     "text": [
      "Temperature         3.300000\n",
      "Humidity           18.417500\n",
      "Light             545.645000\n",
      "CO2              1511.750000\n",
      "HumidityRatio       0.003295\n",
      "Occupancy           1.000000\n",
      "dtype: float64\n",
      "Temperature        23.000000\n",
      "Humidity           38.617500\n",
      "Light             545.645000\n",
      "CO2              1950.750000\n",
      "HumidityRatio       0.006373\n",
      "Occupancy           1.000000\n",
      "Name: 0.99, dtype: float64\n"
     ]
    }
   ],
   "source": [
    "Q1 = df.quantile(0.25)\n",
    "Q3 = df.quantile(0.99)\n",
    "IQR = Q3 - Q1\n",
    "print(IQR)\n",
    "print(Q3) #in teoria è il top 1% outliers"
   ]
  },
  {
   "cell_type": "markdown",
   "metadata": {},
   "source": [
    "#### Grubbs'Test"
   ]
  },
  {
   "cell_type": "code",
   "execution_count": 34,
   "metadata": {},
   "outputs": [],
   "source": [
    "val=df['CO2']"
   ]
  },
  {
   "cell_type": "code",
   "execution_count": 35,
   "metadata": {},
   "outputs": [],
   "source": [
    "val=val.values"
   ]
  },
  {
   "cell_type": "code",
   "execution_count": 36,
   "metadata": {},
   "outputs": [],
   "source": [
    "avg_val=np.mean(val)"
   ]
  },
  {
   "cell_type": "code",
   "execution_count": 37,
   "metadata": {},
   "outputs": [
    {
     "name": "stdout",
     "output_type": "stream",
     "text": [
      "[114.70375681 107.45375681 106.95375681 ... 191.95375681 213.78709014\n",
      " 214.45375681]\n"
     ]
    }
   ],
   "source": [
    "abs_val=val-avg_val\n",
    "print(abs_val)"
   ]
  },
  {
   "cell_type": "code",
   "execution_count": 38,
   "metadata": {},
   "outputs": [
    {
     "data": {
      "text/plain": [
       "1421.9537568054361"
      ]
     },
     "execution_count": 38,
     "metadata": {},
     "output_type": "execute_result"
    }
   ],
   "source": [
    "maximum_dev=max(abs_val)\n",
    "maximum_dev"
   ]
  },
  {
   "cell_type": "code",
   "execution_count": 39,
   "metadata": {},
   "outputs": [
    {
     "data": {
      "text/plain": [
       "314.30157622237306"
      ]
     },
     "execution_count": 39,
     "metadata": {},
     "output_type": "execute_result"
    }
   ],
   "source": [
    "s=np.std(val)\n",
    "s"
   ]
  },
  {
   "cell_type": "code",
   "execution_count": 40,
   "metadata": {},
   "outputs": [
    {
     "data": {
      "text/plain": [
       "4.5241699831609585"
      ]
     },
     "execution_count": 40,
     "metadata": {},
     "output_type": "execute_result"
    }
   ],
   "source": [
    "Grubs=maximum_dev/s\n",
    "Grubs"
   ]
  },
  {
   "cell_type": "code",
   "execution_count": 41,
   "metadata": {},
   "outputs": [],
   "source": [
    "def calculate_critica_val(size, alpha):\n",
    "    t_dist = stats.t.ppf(1 - alpha / (2 * size), size - 2)\n",
    "    numerator = (size - 1) * np.sqrt(np.square(t_dist))\n",
    "    denominator = np.sqrt(size) * np.sqrt(size - 2 + np.square(t_dist))\n",
    "    critical_value = numerator / denominator\n",
    "    print(\"Grubbs Critical Value: {}\".format(critical_value))\n",
    "    return critical_value"
   ]
  },
  {
   "cell_type": "code",
   "execution_count": 42,
   "metadata": {},
   "outputs": [
    {
     "name": "stdout",
     "output_type": "stream",
     "text": [
      "Grubbs Critical Value: 4.518803261173771\n"
     ]
    },
    {
     "data": {
      "text/plain": [
       "4.518803261173771"
      ]
     },
     "execution_count": 42,
     "metadata": {},
     "output_type": "execute_result"
    }
   ],
   "source": [
    "calculate_critica_val(len(val),0.05) #critical value< Grub == ci sono out"
   ]
  },
  {
   "cell_type": "markdown",
   "metadata": {},
   "source": [
    "#### DBSCAN"
   ]
  },
  {
   "cell_type": "code",
   "execution_count": 43,
   "metadata": {},
   "outputs": [],
   "source": [
    "from sklearn.cluster import DBSCAN"
   ]
  },
  {
   "cell_type": "code",
   "execution_count": 49,
   "metadata": {},
   "outputs": [
    {
     "data": {
      "text/plain": [
       "DBSCAN(algorithm='auto', eps=90, leaf_size=30, metric='euclidean',\n",
       "       metric_params=None, min_samples=20, n_jobs=None, p=None)"
      ]
     },
     "execution_count": 49,
     "metadata": {},
     "output_type": "execute_result"
    }
   ],
   "source": [
    "dbscan = DBSCAN(eps=90, min_samples=20)\n",
    "dbscan.fit(X)"
   ]
  },
  {
   "cell_type": "code",
   "execution_count": 50,
   "metadata": {},
   "outputs": [
    {
     "data": {
      "text/plain": [
       "(array([-1,  0], dtype=int64), array([  29, 8114], dtype=int64))"
      ]
     },
     "execution_count": 50,
     "metadata": {},
     "output_type": "execute_result"
    }
   ],
   "source": [
    "np.unique(dbscan.labels_, return_counts=True)"
   ]
  },
  {
   "cell_type": "code",
   "execution_count": 51,
   "metadata": {},
   "outputs": [
    {
     "name": "stdout",
     "output_type": "stream",
     "text": [
      "Silhouette 0.6232095435384918\n"
     ]
    }
   ],
   "source": [
    "from sklearn.metrics import silhouette_score\n",
    "print('Silhouette %s' % silhouette_score(X, dbscan.labels_))"
   ]
  },
  {
   "cell_type": "code",
   "execution_count": 52,
   "metadata": {},
   "outputs": [
    {
     "data": {
      "image/png": "[encoded data removed]",
      "text/plain": [
       "<Figure size 432x288 with 1 Axes>"
      ]
     },
     "metadata": {
      "needs_background": "light"
     },
     "output_type": "display_data"
    }
   ],
   "source": [
    "plt.scatter(df['CO2'], df['Light'], c=dbscan.labels_, s=20)\n",
    "plt.tick_params(axis='both', which='major', labelsize=22)\n",
    "plt.show()"
   ]
  },
  {
   "cell_type": "code",
   "execution_count": 54,
   "metadata": {},
   "outputs": [
    {
     "data": {
      "text/html": [
       "<div>\n",
       "<style scoped>\n",
       "    .dataframe tbody tr th:only-of-type {\n",
       "        vertical-align: middle;\n",
       "    }\n",
       "\n",
       "    .dataframe tbody tr th {\n",
       "        vertical-align: top;\n",
       "    }\n",
       "\n",
       "    .dataframe thead th {\n",
       "        text-align: right;\n",
       "    }\n",
       "</style>\n",
       "<table border=\"1\" class=\"dataframe\">\n",
       "  <thead>\n",
       "    <tr style=\"text-align: right;\">\n",
       "      <th></th>\n",
       "      <th>Temperature</th>\n",
       "      <th>Humidity</th>\n",
       "      <th>Light</th>\n",
       "      <th>CO2</th>\n",
       "      <th>HumidityRatio</th>\n",
       "      <th>Occupancy</th>\n",
       "    </tr>\n",
       "  </thead>\n",
       "  <tbody>\n",
       "    <tr>\n",
       "      <th>1156</th>\n",
       "      <td>22.840000</td>\n",
       "      <td>25.917500</td>\n",
       "      <td>496.500000</td>\n",
       "      <td>983.000000</td>\n",
       "      <td>0.004460</td>\n",
       "      <td>1</td>\n",
       "    </tr>\n",
       "    <tr>\n",
       "      <th>1181</th>\n",
       "      <td>22.290000</td>\n",
       "      <td>26.100000</td>\n",
       "      <td>112.750000</td>\n",
       "      <td>898.500000</td>\n",
       "      <td>0.004343</td>\n",
       "      <td>0</td>\n",
       "    </tr>\n",
       "    <tr>\n",
       "      <th>1453</th>\n",
       "      <td>22.075000</td>\n",
       "      <td>23.972500</td>\n",
       "      <td>426.000000</td>\n",
       "      <td>839.000000</td>\n",
       "      <td>0.003934</td>\n",
       "      <td>1</td>\n",
       "    </tr>\n",
       "    <tr>\n",
       "      <th>2606</th>\n",
       "      <td>21.290000</td>\n",
       "      <td>19.666667</td>\n",
       "      <td>131.333333</td>\n",
       "      <td>665.333333</td>\n",
       "      <td>0.003072</td>\n",
       "      <td>0</td>\n",
       "    </tr>\n",
       "    <tr>\n",
       "      <th>3830</th>\n",
       "      <td>20.700000</td>\n",
       "      <td>18.917500</td>\n",
       "      <td>215.000000</td>\n",
       "      <td>454.500000</td>\n",
       "      <td>0.002849</td>\n",
       "      <td>0</td>\n",
       "    </tr>\n",
       "    <tr>\n",
       "      <th>3831</th>\n",
       "      <td>20.700000</td>\n",
       "      <td>18.890000</td>\n",
       "      <td>611.500000</td>\n",
       "      <td>452.250000</td>\n",
       "      <td>0.002845</td>\n",
       "      <td>0</td>\n",
       "    </tr>\n",
       "    <tr>\n",
       "      <th>3832</th>\n",
       "      <td>20.700000</td>\n",
       "      <td>18.890000</td>\n",
       "      <td>1546.333333</td>\n",
       "      <td>455.333333</td>\n",
       "      <td>0.002845</td>\n",
       "      <td>0</td>\n",
       "    </tr>\n",
       "    <tr>\n",
       "      <th>3833</th>\n",
       "      <td>20.745000</td>\n",
       "      <td>18.890000</td>\n",
       "      <td>1451.750000</td>\n",
       "      <td>453.000000</td>\n",
       "      <td>0.002853</td>\n",
       "      <td>0</td>\n",
       "    </tr>\n",
       "    <tr>\n",
       "      <th>6943</th>\n",
       "      <td>21.200000</td>\n",
       "      <td>32.790000</td>\n",
       "      <td>13.000000</td>\n",
       "      <td>1115.500000</td>\n",
       "      <td>0.005111</td>\n",
       "      <td>0</td>\n",
       "    </tr>\n",
       "    <tr>\n",
       "      <th>7213</th>\n",
       "      <td>22.066667</td>\n",
       "      <td>37.760000</td>\n",
       "      <td>423.666667</td>\n",
       "      <td>1796.666667</td>\n",
       "      <td>0.006217</td>\n",
       "      <td>1</td>\n",
       "    </tr>\n",
       "    <tr>\n",
       "      <th>7214</th>\n",
       "      <td>22.100000</td>\n",
       "      <td>37.790000</td>\n",
       "      <td>209.500000</td>\n",
       "      <td>1788.500000</td>\n",
       "      <td>0.006234</td>\n",
       "      <td>1</td>\n",
       "    </tr>\n",
       "    <tr>\n",
       "      <th>7215</th>\n",
       "      <td>22.100000</td>\n",
       "      <td>37.690000</td>\n",
       "      <td>0.000000</td>\n",
       "      <td>1784.500000</td>\n",
       "      <td>0.006218</td>\n",
       "      <td>0</td>\n",
       "    </tr>\n",
       "    <tr>\n",
       "      <th>7216</th>\n",
       "      <td>22.033333</td>\n",
       "      <td>37.596667</td>\n",
       "      <td>0.000000</td>\n",
       "      <td>1774.000000</td>\n",
       "      <td>0.006177</td>\n",
       "      <td>0</td>\n",
       "    </tr>\n",
       "    <tr>\n",
       "      <th>7217</th>\n",
       "      <td>22.000000</td>\n",
       "      <td>37.590000</td>\n",
       "      <td>0.000000</td>\n",
       "      <td>1755.500000</td>\n",
       "      <td>0.006163</td>\n",
       "      <td>0</td>\n",
       "    </tr>\n",
       "    <tr>\n",
       "      <th>7218</th>\n",
       "      <td>22.050000</td>\n",
       "      <td>37.645000</td>\n",
       "      <td>0.000000</td>\n",
       "      <td>1742.000000</td>\n",
       "      <td>0.006191</td>\n",
       "      <td>0</td>\n",
       "    </tr>\n",
       "    <tr>\n",
       "      <th>7219</th>\n",
       "      <td>22.000000</td>\n",
       "      <td>37.590000</td>\n",
       "      <td>0.000000</td>\n",
       "      <td>1742.000000</td>\n",
       "      <td>0.006163</td>\n",
       "      <td>0</td>\n",
       "    </tr>\n",
       "    <tr>\n",
       "      <th>7220</th>\n",
       "      <td>22.000000</td>\n",
       "      <td>37.560000</td>\n",
       "      <td>0.000000</td>\n",
       "      <td>1737.000000</td>\n",
       "      <td>0.006158</td>\n",
       "      <td>0</td>\n",
       "    </tr>\n",
       "    <tr>\n",
       "      <th>7221</th>\n",
       "      <td>21.890000</td>\n",
       "      <td>37.500000</td>\n",
       "      <td>0.000000</td>\n",
       "      <td>1729.500000</td>\n",
       "      <td>0.006107</td>\n",
       "      <td>0</td>\n",
       "    </tr>\n",
       "    <tr>\n",
       "      <th>7222</th>\n",
       "      <td>21.890000</td>\n",
       "      <td>37.500000</td>\n",
       "      <td>0.000000</td>\n",
       "      <td>1722.000000</td>\n",
       "      <td>0.006107</td>\n",
       "      <td>0</td>\n",
       "    </tr>\n",
       "    <tr>\n",
       "      <th>7223</th>\n",
       "      <td>21.890000</td>\n",
       "      <td>37.450000</td>\n",
       "      <td>0.000000</td>\n",
       "      <td>1706.750000</td>\n",
       "      <td>0.006098</td>\n",
       "      <td>0</td>\n",
       "    </tr>\n",
       "    <tr>\n",
       "      <th>7224</th>\n",
       "      <td>21.890000</td>\n",
       "      <td>37.400000</td>\n",
       "      <td>0.000000</td>\n",
       "      <td>1697.000000</td>\n",
       "      <td>0.006090</td>\n",
       "      <td>0</td>\n",
       "    </tr>\n",
       "    <tr>\n",
       "      <th>7225</th>\n",
       "      <td>21.890000</td>\n",
       "      <td>37.400000</td>\n",
       "      <td>0.000000</td>\n",
       "      <td>1694.000000</td>\n",
       "      <td>0.006090</td>\n",
       "      <td>0</td>\n",
       "    </tr>\n",
       "    <tr>\n",
       "      <th>7226</th>\n",
       "      <td>21.840000</td>\n",
       "      <td>37.345000</td>\n",
       "      <td>0.000000</td>\n",
       "      <td>1682.000000</td>\n",
       "      <td>0.006062</td>\n",
       "      <td>0</td>\n",
       "    </tr>\n",
       "    <tr>\n",
       "      <th>7227</th>\n",
       "      <td>21.790000</td>\n",
       "      <td>37.290000</td>\n",
       "      <td>0.000000</td>\n",
       "      <td>1678.000000</td>\n",
       "      <td>0.006035</td>\n",
       "      <td>0</td>\n",
       "    </tr>\n",
       "    <tr>\n",
       "      <th>7228</th>\n",
       "      <td>21.790000</td>\n",
       "      <td>37.290000</td>\n",
       "      <td>0.000000</td>\n",
       "      <td>1661.500000</td>\n",
       "      <td>0.006035</td>\n",
       "      <td>0</td>\n",
       "    </tr>\n",
       "    <tr>\n",
       "      <th>7229</th>\n",
       "      <td>21.790000</td>\n",
       "      <td>37.200000</td>\n",
       "      <td>0.000000</td>\n",
       "      <td>1660.500000</td>\n",
       "      <td>0.006020</td>\n",
       "      <td>0</td>\n",
       "    </tr>\n",
       "    <tr>\n",
       "      <th>7230</th>\n",
       "      <td>21.790000</td>\n",
       "      <td>37.200000</td>\n",
       "      <td>0.000000</td>\n",
       "      <td>1640.500000</td>\n",
       "      <td>0.006020</td>\n",
       "      <td>0</td>\n",
       "    </tr>\n",
       "    <tr>\n",
       "      <th>7231</th>\n",
       "      <td>21.730000</td>\n",
       "      <td>37.126667</td>\n",
       "      <td>0.000000</td>\n",
       "      <td>1629.000000</td>\n",
       "      <td>0.005986</td>\n",
       "      <td>0</td>\n",
       "    </tr>\n",
       "    <tr>\n",
       "      <th>7232</th>\n",
       "      <td>21.745000</td>\n",
       "      <td>37.145000</td>\n",
       "      <td>0.000000</td>\n",
       "      <td>1627.000000</td>\n",
       "      <td>0.005994</td>\n",
       "      <td>0</td>\n",
       "    </tr>\n",
       "  </tbody>\n",
       "</table>\n",
       "</div>"
      ],
      "text/plain": [
       "      Temperature   Humidity        Light          CO2  HumidityRatio  \\\n",
       "1156    22.840000  25.917500   496.500000   983.000000       0.004460   \n",
       "1181    22.290000  26.100000   112.750000   898.500000       0.004343   \n",
       "1453    22.075000  23.972500   426.000000   839.000000       0.003934   \n",
       "2606    21.290000  19.666667   131.333333   665.333333       0.003072   \n",
       "3830    20.700000  18.917500   215.000000   454.500000       0.002849   \n",
       "3831    20.700000  18.890000   611.500000   452.250000       0.002845   \n",
       "3832    20.700000  18.890000  1546.333333   455.333333       0.002845   \n",
       "3833    20.745000  18.890000  1451.750000   453.000000       0.002853   \n",
       "6943    21.200000  32.790000    13.000000  1115.500000       0.005111   \n",
       "7213    22.066667  37.760000   423.666667  1796.666667       0.006217   \n",
       "7214    22.100000  37.790000   209.500000  1788.500000       0.006234   \n",
       "7215    22.100000  37.690000     0.000000  1784.500000       0.006218   \n",
       "7216    22.033333  37.596667     0.000000  1774.000000       0.006177   \n",
       "7217    22.000000  37.590000     0.000000  1755.500000       0.006163   \n",
       "7218    22.050000  37.645000     0.000000  1742.000000       0.006191   \n",
       "7219    22.000000  37.590000     0.000000  1742.000000       0.006163   \n",
       "7220    22.000000  37.560000     0.000000  1737.000000       0.006158   \n",
       "7221    21.890000  37.500000     0.000000  1729.500000       0.006107   \n",
       "7222    21.890000  37.500000     0.000000  1722.000000       0.006107   \n",
       "7223    21.890000  37.450000     0.000000  1706.750000       0.006098   \n",
       "7224    21.890000  37.400000     0.000000  1697.000000       0.006090   \n",
       "7225    21.890000  37.400000     0.000000  1694.000000       0.006090   \n",
       "7226    21.840000  37.345000     0.000000  1682.000000       0.006062   \n",
       "7227    21.790000  37.290000     0.000000  1678.000000       0.006035   \n",
       "7228    21.790000  37.290000     0.000000  1661.500000       0.006035   \n",
       "7229    21.790000  37.200000     0.000000  1660.500000       0.006020   \n",
       "7230    21.790000  37.200000     0.000000  1640.500000       0.006020   \n",
       "7231    21.730000  37.126667     0.000000  1629.000000       0.005986   \n",
       "7232    21.745000  37.145000     0.000000  1627.000000       0.005994   \n",
       "\n",
       "      Occupancy  \n",
       "1156          1  \n",
       "1181          0  \n",
       "1453          1  \n",
       "2606          0  \n",
       "3830          0  \n",
       "3831          0  \n",
       "3832          0  \n",
       "3833          0  \n",
       "6943          0  \n",
       "7213          1  \n",
       "7214          1  \n",
       "7215          0  \n",
       "7216          0  \n",
       "7217          0  \n",
       "7218          0  \n",
       "7219          0  \n",
       "7220          0  \n",
       "7221          0  \n",
       "7222          0  \n",
       "7223          0  \n",
       "7224          0  \n",
       "7225          0  \n",
       "7226          0  \n",
       "7227          0  \n",
       "7228          0  \n",
       "7229          0  \n",
       "7230          0  \n",
       "7231          0  \n",
       "7232          0  "
      ]
     },
     "execution_count": 54,
     "metadata": {},
     "output_type": "execute_result"
    }
   ],
   "source": [
    "df.loc[np.where(dbscan.labels_==-1)]"
   ]
  },
  {
   "cell_type": "markdown",
   "metadata": {},
   "source": [
    "### LOF"
   ]
  },
  {
   "cell_type": "code",
   "execution_count": 55,
   "metadata": {},
   "outputs": [],
   "source": [
    "from sklearn.neighbors import LocalOutlierFactor"
   ]
  },
  {
   "cell_type": "markdown",
   "metadata": {},
   "source": [
    "It is local in that the anomaly score depends on how isolated the object is with respect to the surrounding neighborhood. "
   ]
  },
  {
   "cell_type": "code",
   "execution_count": 56,
   "metadata": {},
   "outputs": [],
   "source": [
    "clf = LocalOutlierFactor(n_neighbors=200, algorithm='auto', leaf_size=30, metric='minkowski', p=2, metric_params=None, contamination='auto', novelty=False, n_jobs=None)\n",
    "outliers = clf.fit_predict(X)"
   ]
  },
  {
   "cell_type": "code",
   "execution_count": 57,
   "metadata": {},
   "outputs": [
    {
     "data": {
      "text/plain": [
       "-0.9487946619352029"
      ]
     },
     "execution_count": 57,
     "metadata": {},
     "output_type": "execute_result"
    }
   ],
   "source": [
    "(clf.negative_outlier_factor_).max()"
   ]
  },
  {
   "cell_type": "code",
   "execution_count": 58,
   "metadata": {},
   "outputs": [
    {
     "data": {
      "text/plain": [
       "-13.846408990970382"
      ]
     },
     "execution_count": 58,
     "metadata": {},
     "output_type": "execute_result"
    }
   ],
   "source": [
    "(clf.negative_outlier_factor_).min()"
   ]
  },
  {
   "cell_type": "code",
   "execution_count": 59,
   "metadata": {},
   "outputs": [
    {
     "data": {
      "text/plain": [
       "(array([-1,  1]), array([ 501, 7642], dtype=int64))"
      ]
     },
     "execution_count": 59,
     "metadata": {},
     "output_type": "execute_result"
    }
   ],
   "source": [
    "np.unique(outliers, return_counts=True)"
   ]
  },
  {
   "cell_type": "code",
   "execution_count": 60,
   "metadata": {},
   "outputs": [
    {
     "data": {
      "text/plain": [
       "(array([ 269,  270,  271,  276,  281,  287,  289,  291,  292,  293, 1101,\n",
       "        1102, 1103, 1104, 1105, 1106, 1107, 1108, 1109, 1110, 1111, 1112,\n",
       "        1113, 1114, 1115, 1116, 1117, 1118, 1124, 1125, 1126, 1135, 1136,\n",
       "        1137, 1139, 1140, 1141, 1142, 1143, 1144, 1145, 1146, 1147, 1148,\n",
       "        1149, 1150, 1151, 1152, 1153, 1154, 1156, 1181, 1184, 1185, 1258,\n",
       "        1264, 1265, 1266, 1453, 1595, 1599, 1602, 1603, 1604, 1605, 1606,\n",
       "        1607, 1608, 1609, 1610, 1611, 1612, 1617, 1618, 1619, 1620, 1621,\n",
       "        1622, 1623, 1624, 1625, 1626, 1627, 1628, 1629, 1630, 1631, 1632,\n",
       "        1633, 1634, 1635, 1636, 1637, 1638, 1639, 1640, 1641, 1642, 1643,\n",
       "        1644, 1645, 1646, 1647, 1648, 1650, 1651, 1652, 1653, 1654, 1655,\n",
       "        1656, 1657, 1658, 1660, 1665, 1686, 1688, 1937, 1976, 1983, 1984,\n",
       "        1987, 2000, 2004, 2005, 2010, 2011, 2020, 2039, 2040, 2044, 2045,\n",
       "        2061, 2065, 2073, 2091, 2099, 2100, 2103, 2107, 2108, 2118, 2119,\n",
       "        2122, 2123, 2124, 2127, 2140, 2143, 2144, 2188, 2192, 2195, 2203,\n",
       "        2215, 2228, 2235, 2236, 2243, 2261, 2262, 2540, 2605, 2606, 2646,\n",
       "        2667, 2668, 2669, 2670, 2671, 2672, 2673, 2674, 2675, 2676, 2677,\n",
       "        2678, 2679, 2680, 2681, 2682, 2683, 2684, 2685, 2686, 3006, 3007,\n",
       "        3008, 3009, 3010, 3011, 3013, 3014, 3015, 3016, 3017, 3018, 3019,\n",
       "        3023, 3024, 3025, 3029, 3033, 3034, 3037, 3038, 3039, 3738, 3739,\n",
       "        3740, 3741, 3742, 3743, 3744, 3745, 3746, 3747, 3748, 3749, 3750,\n",
       "        3751, 3752, 3753, 3756, 3757, 3758, 3759, 3760, 3761, 3762, 3763,\n",
       "        3764, 3765, 3766, 3767, 3768, 3769, 3770, 3771, 3772, 3773, 3774,\n",
       "        3775, 3776, 3777, 3778, 3779, 3780, 3784, 3785, 3786, 3787, 3788,\n",
       "        3830, 3831, 3832, 3833, 4233, 4234, 4235, 4236, 4237, 4238, 4239,\n",
       "        4240, 4241, 4242, 4243, 4244, 4245, 4246, 4247, 4248, 4249, 4250,\n",
       "        4251, 4252, 4253, 4254, 4255, 4256, 4257, 4258, 4259, 4260, 4262,\n",
       "        4263, 4264, 4265, 4267, 4316, 4317, 4320, 4325, 4326, 4329, 4330,\n",
       "        4331, 4332, 4338, 4341, 4342, 4343, 4347, 4350, 4351, 4352, 4353,\n",
       "        4359, 4360, 4361, 4370, 4377, 4380, 4388, 5113, 5183, 5195, 5196,\n",
       "        5197, 5198, 5203, 5204, 5206, 5207, 5208, 5209, 5210, 5211, 5212,\n",
       "        5213, 5225, 5226, 5227, 5239, 5240, 5241, 5242, 5243, 5244, 5245,\n",
       "        5246, 5251, 5252, 5304, 5323, 5324, 5325, 5326, 5327, 5328, 5329,\n",
       "        5358, 5359, 5360, 5364, 5384, 5385, 5387, 5708, 5709, 5711, 5731,\n",
       "        5751, 5753, 5754, 5755, 5756, 5765, 5767, 5770, 5774, 5776, 5778,\n",
       "        5779, 5780, 5786, 5787, 5805, 5806, 5807, 5829, 6341, 6346, 6347,\n",
       "        6629, 6630, 6753, 6755, 6756, 6757, 6758, 6759, 6760, 6761, 6762,\n",
       "        6763, 6764, 6765, 6766, 6767, 6943, 6944, 6982, 6983, 6984, 7235,\n",
       "        7236, 7237, 7238, 7239, 7240, 7241, 7242, 7243, 7244, 7245, 7246,\n",
       "        7247, 7248, 7249, 7250, 7589, 7596, 7602, 7603, 7604, 7605, 7606,\n",
       "        7607, 7608, 7609, 7610, 7611, 7612, 7613, 7614, 7615, 7616, 7617,\n",
       "        7618, 7619, 7620, 7621, 7622, 7623, 7624, 7625, 7626, 7627, 7628,\n",
       "        7629, 7630, 7631, 7632, 7633, 7634, 7635, 7636, 7637, 7638, 7639,\n",
       "        7640, 7641, 7642, 7643, 7644, 7645, 7646, 7647, 7648, 7649, 7650,\n",
       "        7651, 7652, 7653, 7654, 7655, 7657, 7658, 7659, 7660, 7661, 7662,\n",
       "        7663, 7664, 7665, 7666, 7667, 7668, 7669, 7670, 7674, 7675, 7676,\n",
       "        7677, 7680, 7691, 7693, 7710, 7714], dtype=int64),)"
      ]
     },
     "execution_count": 60,
     "metadata": {},
     "output_type": "execute_result"
    }
   ],
   "source": [
    "np.where(outliers==-1)"
   ]
  },
  {
   "cell_type": "code",
   "execution_count": 61,
   "metadata": {},
   "outputs": [
    {
     "data": {
      "text/plain": [
       "-1.4991186382142905"
      ]
     },
     "execution_count": 61,
     "metadata": {},
     "output_type": "execute_result"
    }
   ],
   "source": [
    "np.min(clf.negative_outlier_factor_[np.where(outliers==1)]) #gli outliers sono i valori per cui questo score è minore di 1.5"
   ]
  },
  {
   "cell_type": "code",
   "execution_count": 62,
   "metadata": {
    "scrolled": true
   },
   "outputs": [
    {
     "data": {
      "image/png": "[encoded data removed]",
      "text/plain": [
       "<Figure size 432x288 with 1 Axes>"
      ]
     },
     "metadata": {
      "needs_background": "light"
     },
     "output_type": "display_data"
    }
   ],
   "source": [
    "plt.hist(clf.negative_outlier_factor_, bins=30)\n",
    "plt.axvline(-1.5)\n",
    "plt.text(-2, 60, 'outliers')\n",
    "plt.show()"
   ]
  },
  {
   "cell_type": "markdown",
   "metadata": {},
   "source": [
    "### Isolation Forest"
   ]
  },
  {
   "cell_type": "code",
   "execution_count": 63,
   "metadata": {},
   "outputs": [],
   "source": [
    "from sklearn.ensemble import IsolationForest"
   ]
  },
  {
   "cell_type": "code",
   "execution_count": 64,
   "metadata": {},
   "outputs": [
    {
     "data": {
      "text/plain": [
       "IsolationForest(behaviour='deprecated', bootstrap=False, contamination='auto',\n",
       "                max_features=1.0, max_samples='auto', n_estimators=10,\n",
       "                n_jobs=None, random_state=0, verbose=0, warm_start=False)"
      ]
     },
     "execution_count": 64,
     "metadata": {},
     "output_type": "execute_result"
    }
   ],
   "source": [
    "clf = IsolationForest(n_estimators=10, random_state=0)\n",
    "clf.fit(X_train)"
   ]
  },
  {
   "cell_type": "code",
   "execution_count": 65,
   "metadata": {},
   "outputs": [],
   "source": [
    "outliers = clf.predict(X_test)"
   ]
  },
  {
   "cell_type": "code",
   "execution_count": 66,
   "metadata": {},
   "outputs": [
    {
     "data": {
      "text/plain": [
       "(array([-1,  1]), array([ 702, 1741], dtype=int64))"
      ]
     },
     "execution_count": 66,
     "metadata": {},
     "output_type": "execute_result"
    }
   ],
   "source": [
    "np.unique(outliers, return_counts=True)"
   ]
  },
  {
   "cell_type": "code",
   "execution_count": 67,
   "metadata": {},
   "outputs": [
    {
     "data": {
      "image/png": "[encoded data removed]",
      "text/plain": [
       "<Figure size 432x288 with 1 Axes>"
      ]
     },
     "metadata": {
      "needs_background": "light"
     },
     "output_type": "display_data"
    }
   ],
   "source": [
    "plt.hist(df['CO2'], bins=30)\n",
    "plt.axvline(-1.5)\n",
    "plt.text(-2, 60, 'outliers')\n",
    "plt.show()"
   ]
  },
  {
   "cell_type": "markdown",
   "metadata": {},
   "source": [
    "### High dimensional approach"
   ]
  },
  {
   "cell_type": "code",
   "execution_count": 10,
   "metadata": {},
   "outputs": [
    {
     "name": "stderr",
     "output_type": "stream",
     "text": [
      "Using TensorFlow backend.\n",
      "C:\\Users\\monia\\anaconda3\\lib\\site-packages\\tensorflow\\python\\framework\\dtypes.py:526: FutureWarning: Passing (type, 1) or '1type' as a synonym of type is deprecated; in a future version of numpy, it will be understood as (type, (1,)) / '(1,)type'.\n",
      "  _np_qint8 = np.dtype([(\"qint8\", np.int8, 1)])\n",
      "C:\\Users\\monia\\anaconda3\\lib\\site-packages\\tensorflow\\python\\framework\\dtypes.py:527: FutureWarning: Passing (type, 1) or '1type' as a synonym of type is deprecated; in a future version of numpy, it will be understood as (type, (1,)) / '(1,)type'.\n",
      "  _np_quint8 = np.dtype([(\"quint8\", np.uint8, 1)])\n",
      "C:\\Users\\monia\\anaconda3\\lib\\site-packages\\tensorflow\\python\\framework\\dtypes.py:528: FutureWarning: Passing (type, 1) or '1type' as a synonym of type is deprecated; in a future version of numpy, it will be understood as (type, (1,)) / '(1,)type'.\n",
      "  _np_qint16 = np.dtype([(\"qint16\", np.int16, 1)])\n",
      "C:\\Users\\monia\\anaconda3\\lib\\site-packages\\tensorflow\\python\\framework\\dtypes.py:529: FutureWarning: Passing (type, 1) or '1type' as a synonym of type is deprecated; in a future version of numpy, it will be understood as (type, (1,)) / '(1,)type'.\n",
      "  _np_quint16 = np.dtype([(\"quint16\", np.uint16, 1)])\n",
      "C:\\Users\\monia\\anaconda3\\lib\\site-packages\\tensorflow\\python\\framework\\dtypes.py:530: FutureWarning: Passing (type, 1) or '1type' as a synonym of type is deprecated; in a future version of numpy, it will be understood as (type, (1,)) / '(1,)type'.\n",
      "  _np_qint32 = np.dtype([(\"qint32\", np.int32, 1)])\n",
      "C:\\Users\\monia\\anaconda3\\lib\\site-packages\\tensorflow\\python\\framework\\dtypes.py:535: FutureWarning: Passing (type, 1) or '1type' as a synonym of type is deprecated; in a future version of numpy, it will be understood as (type, (1,)) / '(1,)type'.\n",
      "  np_resource = np.dtype([(\"resource\", np.ubyte, 1)])\n"
     ]
    }
   ],
   "source": [
    "from pyod.models.abod import ABOD\n",
    "from pyod.models.knn import KNN\n",
    "from pyod.models.lof import LOF\n",
    "from pyod.models.loci import LOCI\n",
    "from pyod.models.auto_encoder import AutoEncoder"
   ]
  },
  {
   "cell_type": "code",
   "execution_count": 36,
   "metadata": {},
   "outputs": [
    {
     "name": "stderr",
     "output_type": "stream",
     "text": [
      "C:\\Users\\monia\\anaconda3\\lib\\site-packages\\numpy\\core\\fromnumeric.py:3584: RuntimeWarning: Degrees of freedom <= 0 for slice\n",
      "  **kwargs)\n",
      "C:\\Users\\monia\\anaconda3\\lib\\site-packages\\numpy\\core\\_methods.py:186: RuntimeWarning: invalid value encountered in true_divide\n",
      "  arrmean, rcount, out=arrmean, casting='unsafe', subok=False)\n",
      "C:\\Users\\monia\\anaconda3\\lib\\site-packages\\numpy\\core\\_methods.py:209: RuntimeWarning: invalid value encountered in double_scalars\n",
      "  ret = ret.dtype.type(ret / rcount)\n",
      "C:\\Users\\monia\\anaconda3\\lib\\site-packages\\pyod\\models\\base.py:365: RuntimeWarning: invalid value encountered in greater\n",
      "  self.labels_ = (self.decision_scores_ > self.threshold_).astype(\n"
     ]
    },
    {
     "data": {
      "text/plain": [
       "ABOD(contamination=0.1, method='fast', n_neighbors=5)"
      ]
     },
     "execution_count": 36,
     "metadata": {},
     "output_type": "execute_result"
    }
   ],
   "source": [
    "clf = ABOD(contamination=0.1)\n",
    "clf.fit(X_train)"
   ]
  },
  {
   "cell_type": "code",
   "execution_count": 37,
   "metadata": {},
   "outputs": [
    {
     "data": {
      "text/plain": [
       "array([-1.07193354e+01, -8.62673326e+04, -2.50914078e+03, ...,\n",
       "       -5.12300016e-03, -5.12810928e+00, -0.00000000e+00])"
      ]
     },
     "execution_count": 37,
     "metadata": {},
     "output_type": "execute_result"
    }
   ],
   "source": [
    "clf.decision_scores_"
   ]
  },
  {
   "cell_type": "code",
   "execution_count": 38,
   "metadata": {},
   "outputs": [
    {
     "data": {
      "text/plain": [
       "-0.0"
      ]
     },
     "execution_count": 38,
     "metadata": {},
     "output_type": "execute_result"
    }
   ],
   "source": [
    "max(clf.decision_scores_) #più che grande decision score, piu il valore è anormale"
   ]
  },
  {
   "cell_type": "code",
   "execution_count": 49,
   "metadata": {},
   "outputs": [
    {
     "name": "stdout",
     "output_type": "stream",
     "text": [
      "236\n"
     ]
    },
    {
     "name": "stderr",
     "output_type": "stream",
     "text": [
      "C:\\Users\\monia\\anaconda3\\lib\\site-packages\\ipykernel_launcher.py:1: RuntimeWarning: invalid value encountered in less\n",
      "  \"\"\"Entry point for launching an IPython kernel.\n"
     ]
    }
   ],
   "source": [
    "print(((clf.decision_scores_)<-12000).sum())"
   ]
  },
  {
   "cell_type": "code",
   "execution_count": 72,
   "metadata": {},
   "outputs": [
    {
     "name": "stderr",
     "output_type": "stream",
     "text": [
      "C:\\Users\\monia\\anaconda3\\lib\\site-packages\\numpy\\core\\fromnumeric.py:3584: RuntimeWarning: Degrees of freedom <= 0 for slice\n",
      "  **kwargs)\n",
      "C:\\Users\\monia\\anaconda3\\lib\\site-packages\\numpy\\core\\_methods.py:186: RuntimeWarning: invalid value encountered in true_divide\n",
      "  arrmean, rcount, out=arrmean, casting='unsafe', subok=False)\n",
      "C:\\Users\\monia\\anaconda3\\lib\\site-packages\\numpy\\core\\_methods.py:209: RuntimeWarning: invalid value encountered in double_scalars\n",
      "  ret = ret.dtype.type(ret / rcount)\n",
      "C:\\Users\\monia\\anaconda3\\lib\\site-packages\\pyod\\models\\base.py:168: RuntimeWarning: invalid value encountered in greater\n",
      "  return (pred_score > self.threshold_).astype('int').ravel()\n"
     ]
    },
    {
     "data": {
      "text/plain": [
       "(array([0]), array([2443], dtype=int64))"
      ]
     },
     "execution_count": 72,
     "metadata": {},
     "output_type": "execute_result"
    }
   ],
   "source": [
    "outliers = clf.predict(X_test)\n",
    "np.unique(outliers, return_counts=True)"
   ]
  },
  {
   "cell_type": "code",
   "execution_count": 73,
   "metadata": {},
   "outputs": [
    {
     "name": "stderr",
     "output_type": "stream",
     "text": [
      "C:\\Users\\monia\\anaconda3\\lib\\site-packages\\numpy\\lib\\histograms.py:839: RuntimeWarning: invalid value encountered in greater_equal\n",
      "  keep = (tmp_a >= first_edge)\n",
      "C:\\Users\\monia\\anaconda3\\lib\\site-packages\\numpy\\lib\\histograms.py:840: RuntimeWarning: invalid value encountered in less_equal\n",
      "  keep &= (tmp_a <= last_edge)\n"
     ]
    },
    {
     "data": {
      "image/png": "[encoded data removed]",
      "text/plain": [
       "<Figure size 432x288 with 1 Axes>"
      ]
     },
     "metadata": {
      "needs_background": "light"
     },
     "output_type": "display_data"
    }
   ],
   "source": [
    "plt.hist(clf.decision_scores_, bins=20)\n",
    "plt.axvline(np.min(clf.decision_scores_))\n",
    "plt.show()"
   ]
  },
  {
   "cell_type": "markdown",
   "metadata": {},
   "source": [
    "## KNN"
   ]
  },
  {
   "cell_type": "code",
   "execution_count": 67,
   "metadata": {},
   "outputs": [
    {
     "data": {
      "text/plain": [
       "KNN(algorithm='auto', contamination=0.01, leaf_size=30, method='largest',\n",
       "  metric='minkowski', metric_params=None, n_jobs=1, n_neighbors=5, p=2,\n",
       "  radius=1.0)"
      ]
     },
     "execution_count": 67,
     "metadata": {},
     "output_type": "execute_result"
    }
   ],
   "source": [
    "clf = KNN(contamination=0.01)\n",
    "clf.fit(X_train)"
   ]
  },
  {
   "cell_type": "code",
   "execution_count": 68,
   "metadata": {},
   "outputs": [
    {
     "data": {
      "text/plain": [
       "array([0.78477881, 0.09      , 0.50249378, ..., 6.03451116, 0.79755879,\n",
       "       0.03333333])"
      ]
     },
     "execution_count": 68,
     "metadata": {},
     "output_type": "execute_result"
    }
   ],
   "source": [
    "clf.decision_scores_"
   ]
  },
  {
   "cell_type": "code",
   "execution_count": 69,
   "metadata": {},
   "outputs": [],
   "source": [
    "anomaly_score = clf.decision_function(X_test) #negative values are outliers"
   ]
  },
  {
   "cell_type": "code",
   "execution_count": 72,
   "metadata": {},
   "outputs": [
    {
     "data": {
      "text/plain": [
       "0.0"
      ]
     },
     "execution_count": 72,
     "metadata": {},
     "output_type": "execute_result"
    }
   ],
   "source": [
    "min(anomaly_score)"
   ]
  },
  {
   "cell_type": "code",
   "execution_count": 70,
   "metadata": {},
   "outputs": [
    {
     "data": {
      "text/plain": [
       "(array([0, 1]), array([2413,   30], dtype=int64))"
      ]
     },
     "execution_count": 70,
     "metadata": {},
     "output_type": "execute_result"
    }
   ],
   "source": [
    "outliers = clf.predict(X_test)\n",
    "np.unique(outliers, return_counts=True)"
   ]
  },
  {
   "cell_type": "code",
   "execution_count": 71,
   "metadata": {},
   "outputs": [
    {
     "name": "stdout",
     "output_type": "stream",
     "text": [
      "No of Errors in test set: 523\n",
      "Accuracy in test set: 0.7859189521080638\n"
     ]
    }
   ],
   "source": [
    "# no of errors in test set\n",
    "n_errors = (outliers != y_test).sum()\n",
    "print('No of Errors in test set: {}'.format(n_errors))\n",
    "#accuracy in test set\n",
    "print('Accuracy in test set: {}'.format((accuracy_score(y_test, outliers))))"
   ]
  },
  {
   "cell_type": "markdown",
   "metadata": {},
   "source": [
    "## LOF"
   ]
  },
  {
   "cell_type": "markdown",
   "metadata": {},
   "source": [
    "### Autoencoder"
   ]
  },
  {
   "cell_type": "code",
   "execution_count": 7,
   "metadata": {},
   "outputs": [
    {
     "name": "stderr",
     "output_type": "stream",
     "text": [
      "Using TensorFlow backend.\n",
      "C:\\Users\\monia\\anaconda3\\lib\\site-packages\\tensorflow\\python\\framework\\dtypes.py:526: FutureWarning: Passing (type, 1) or '1type' as a synonym of type is deprecated; in a future version of numpy, it will be understood as (type, (1,)) / '(1,)type'.\n",
      "  _np_qint8 = np.dtype([(\"qint8\", np.int8, 1)])\n",
      "C:\\Users\\monia\\anaconda3\\lib\\site-packages\\tensorflow\\python\\framework\\dtypes.py:527: FutureWarning: Passing (type, 1) or '1type' as a synonym of type is deprecated; in a future version of numpy, it will be understood as (type, (1,)) / '(1,)type'.\n",
      "  _np_quint8 = np.dtype([(\"quint8\", np.uint8, 1)])\n",
      "C:\\Users\\monia\\anaconda3\\lib\\site-packages\\tensorflow\\python\\framework\\dtypes.py:528: FutureWarning: Passing (type, 1) or '1type' as a synonym of type is deprecated; in a future version of numpy, it will be understood as (type, (1,)) / '(1,)type'.\n",
      "  _np_qint16 = np.dtype([(\"qint16\", np.int16, 1)])\n",
      "C:\\Users\\monia\\anaconda3\\lib\\site-packages\\tensorflow\\python\\framework\\dtypes.py:529: FutureWarning: Passing (type, 1) or '1type' as a synonym of type is deprecated; in a future version of numpy, it will be understood as (type, (1,)) / '(1,)type'.\n",
      "  _np_quint16 = np.dtype([(\"quint16\", np.uint16, 1)])\n",
      "C:\\Users\\monia\\anaconda3\\lib\\site-packages\\tensorflow\\python\\framework\\dtypes.py:530: FutureWarning: Passing (type, 1) or '1type' as a synonym of type is deprecated; in a future version of numpy, it will be understood as (type, (1,)) / '(1,)type'.\n",
      "  _np_qint32 = np.dtype([(\"qint32\", np.int32, 1)])\n",
      "C:\\Users\\monia\\anaconda3\\lib\\site-packages\\tensorflow\\python\\framework\\dtypes.py:535: FutureWarning: Passing (type, 1) or '1type' as a synonym of type is deprecated; in a future version of numpy, it will be understood as (type, (1,)) / '(1,)type'.\n",
      "  np_resource = np.dtype([(\"resource\", np.ubyte, 1)])\n"
     ]
    }
   ],
   "source": [
    "from pyod.models.auto_encoder import AutoEncoder"
   ]
  },
  {
   "cell_type": "code",
   "execution_count": 8,
   "metadata": {},
   "outputs": [],
   "source": [
    "contamination = 0.1 \n",
    "epochs = 50"
   ]
  },
  {
   "cell_type": "code",
   "execution_count": 9,
   "metadata": {},
   "outputs": [
    {
     "data": {
      "text/plain": [
       "(5700, 5)"
      ]
     },
     "execution_count": 9,
     "metadata": {},
     "output_type": "execute_result"
    }
   ],
   "source": [
    "X_train.shape"
   ]
  },
  {
   "cell_type": "code",
   "execution_count": 10,
   "metadata": {},
   "outputs": [],
   "source": [
    "from sklearn.preprocessing import StandardScaler\n",
    "X_train = StandardScaler().fit_transform(X_train)\n",
    "X_train = pd.DataFrame(X_train)\n",
    "X_test = StandardScaler().fit_transform(X_test)\n",
    "X_test = pd.DataFrame(X_test)"
   ]
  },
  {
   "cell_type": "code",
   "execution_count": 11,
   "metadata": {},
   "outputs": [
    {
     "name": "stdout",
     "output_type": "stream",
     "text": [
      "WARNING:tensorflow:From C:\\Users\\monia\\anaconda3\\lib\\site-packages\\tensorflow\\python\\ops\\resource_variable_ops.py:435: colocate_with (from tensorflow.python.framework.ops) is deprecated and will be removed in a future version.\n",
      "Instructions for updating:\n",
      "Colocations handled automatically by placer.\n",
      "Model: \"sequential_1\"\n",
      "_________________________________________________________________\n",
      "Layer (type)                 Output Shape              Param #   \n",
      "=================================================================\n",
      "dense_1 (Dense)              (None, 5)                 30        \n",
      "_________________________________________________________________\n",
      "dropout_1 (Dropout)          (None, 5)                 0         \n",
      "_________________________________________________________________\n",
      "dense_2 (Dense)              (None, 5)                 30        \n",
      "_________________________________________________________________\n",
      "dropout_2 (Dropout)          (None, 5)                 0         \n",
      "_________________________________________________________________\n",
      "dense_3 (Dense)              (None, 5)                 30        \n",
      "_________________________________________________________________\n",
      "dropout_3 (Dropout)          (None, 5)                 0         \n",
      "_________________________________________________________________\n",
      "dense_4 (Dense)              (None, 1)                 6         \n",
      "_________________________________________________________________\n",
      "dropout_4 (Dropout)          (None, 1)                 0         \n",
      "_________________________________________________________________\n",
      "dense_5 (Dense)              (None, 1)                 2         \n",
      "_________________________________________________________________\n",
      "dropout_5 (Dropout)          (None, 1)                 0         \n",
      "_________________________________________________________________\n",
      "dense_6 (Dense)              (None, 5)                 10        \n",
      "_________________________________________________________________\n",
      "dropout_6 (Dropout)          (None, 5)                 0         \n",
      "_________________________________________________________________\n",
      "dense_7 (Dense)              (None, 5)                 30        \n",
      "=================================================================\n",
      "Total params: 138\n",
      "Trainable params: 138\n",
      "Non-trainable params: 0\n",
      "_________________________________________________________________\n",
      "None\n",
      "WARNING:tensorflow:From C:\\Users\\monia\\anaconda3\\lib\\site-packages\\tensorflow\\python\\ops\\math_ops.py:3066: to_int32 (from tensorflow.python.ops.math_ops) is deprecated and will be removed in a future version.\n",
      "Instructions for updating:\n",
      "Use tf.cast instead.\n",
      "Train on 5130 samples, validate on 570 samples\n",
      "Epoch 1/50\n",
      "5130/5130 [==============================] - 4s 684us/step - loss: 14.2239 - val_loss: 9.8404\n",
      "Epoch 2/50\n",
      "5130/5130 [==============================] - 1s 164us/step - loss: 7.3780 - val_loss: 5.9713\n",
      "Epoch 3/50\n",
      "5130/5130 [==============================] - 1s 173us/step - loss: 4.8494 - val_loss: 4.2100\n",
      "Epoch 4/50\n",
      "5130/5130 [==============================] - 1s 196us/step - loss: 3.6252 - val_loss: 3.2968\n",
      "Epoch 5/50\n",
      "5130/5130 [==============================] - 1s 265us/step - loss: 2.9732 - val_loss: 2.7579\n",
      "Epoch 6/50\n",
      "5130/5130 [==============================] - 1s 222us/step - loss: 2.5798 - val_loss: 2.4159\n",
      "Epoch 7/50\n",
      "5130/5130 [==============================] - 1s 226us/step - loss: 2.2961 - val_loss: 2.1802\n",
      "Epoch 8/50\n",
      "1056/5130 [=====>........................] - ETA: 2s - loss: 2.1716"
     ]
    },
    {
     "name": "stderr",
     "output_type": "stream",
     "text": [
      "C:\\Users\\monia\\anaconda3\\lib\\site-packages\\keras\\callbacks\\callbacks.py:95: RuntimeWarning: Method (on_train_batch_end) is slow compared to the batch update (0.106029). Check your callbacks.\n",
      "  % (hook_name, delta_t_median), RuntimeWarning)\n"
     ]
    },
    {
     "name": "stdout",
     "output_type": "stream",
     "text": [
      "5130/5130 [==============================] - 1s 267us/step - loss: 2.0954 - val_loss: 2.0104\n",
      "Epoch 9/50\n",
      "5130/5130 [==============================] - 1s 165us/step - loss: 1.9515 - val_loss: 1.8791\n",
      "Epoch 10/50\n",
      "5130/5130 [==============================] - 1s 165us/step - loss: 1.8264 - val_loss: 1.7730\n",
      "Epoch 11/50\n",
      "5130/5130 [==============================] - 1s 140us/step - loss: 1.7189 - val_loss: 1.6853\n",
      "Epoch 12/50\n",
      "5130/5130 [==============================] - 1s 122us/step - loss: 1.6387 - val_loss: 1.6112\n",
      "Epoch 13/50\n",
      "5130/5130 [==============================] - 1s 165us/step - loss: 1.5644 - val_loss: 1.5472\n",
      "Epoch 14/50\n",
      "5130/5130 [==============================] - 1s 154us/step - loss: 1.5033 - val_loss: 1.4915\n",
      "Epoch 15/50\n",
      "5130/5130 [==============================] - 1s 163us/step - loss: 1.4507 - val_loss: 1.4432\n",
      "Epoch 16/50\n",
      "5130/5130 [==============================] - 1s 156us/step - loss: 1.4020 - val_loss: 1.4001\n",
      "Epoch 17/50\n",
      "5130/5130 [==============================] - 1s 173us/step - loss: 1.3611 - val_loss: 1.3620\n",
      "Epoch 18/50\n",
      "5130/5130 [==============================] - 1s 145us/step - loss: 1.3261 - val_loss: 1.3288\n",
      "Epoch 19/50\n",
      "5130/5130 [==============================] - 1s 167us/step - loss: 1.2938 - val_loss: 1.2989\n",
      "Epoch 20/50\n",
      "5130/5130 [==============================] - 1s 191us/step - loss: 1.2638 - val_loss: 1.2725\n",
      "Epoch 21/50\n",
      "5130/5130 [==============================] - 1s 157us/step - loss: 1.2361 - val_loss: 1.2488\n",
      "Epoch 22/50\n",
      "5130/5130 [==============================] - 1s 121us/step - loss: 1.2138 - val_loss: 1.2277\n",
      "Epoch 23/50\n",
      "5130/5130 [==============================] - 1s 118us/step - loss: 1.1937 - val_loss: 1.2086\n",
      "Epoch 24/50\n",
      "5130/5130 [==============================] - 1s 110us/step - loss: 1.1744 - val_loss: 1.1914\n",
      "Epoch 25/50\n",
      "5130/5130 [==============================] - 1s 100us/step - loss: 1.1577 - val_loss: 1.1762\n",
      "Epoch 26/50\n",
      "5130/5130 [==============================] - 1s 105us/step - loss: 1.1435 - val_loss: 1.1622\n",
      "Epoch 27/50\n",
      "5130/5130 [==============================] - 1s 99us/step - loss: 1.1298 - val_loss: 1.1496\n",
      "Epoch 28/50\n",
      "5130/5130 [==============================] - 1s 110us/step - loss: 1.1178 - val_loss: 1.1383\n",
      "Epoch 29/50\n",
      "5130/5130 [==============================] - 1s 175us/step - loss: 1.1064 - val_loss: 1.1280\n",
      "Epoch 30/50\n",
      "5130/5130 [==============================] - 1s 236us/step - loss: 1.0964 - val_loss: 1.1189\n",
      "Epoch 31/50\n",
      "5130/5130 [==============================] - 1s 181us/step - loss: 1.0878 - val_loss: 1.1103\n",
      "Epoch 32/50\n",
      "5130/5130 [==============================] - 1s 141us/step - loss: 1.0798 - val_loss: 1.1027\n",
      "Epoch 33/50\n",
      "5130/5130 [==============================] - 1s 187us/step - loss: 1.0722 - val_loss: 1.0957\n",
      "Epoch 34/50\n",
      "5130/5130 [==============================] - 2s 454us/step - loss: 1.0657 - val_loss: 1.0895\n",
      "Epoch 35/50\n",
      "5130/5130 [==============================] - 1s 163us/step - loss: 1.0595 - val_loss: 1.0838\n",
      "Epoch 36/50\n",
      "5130/5130 [==============================] - 1s 137us/step - loss: 1.0540 - val_loss: 1.0786\n",
      "Epoch 37/50\n",
      "5130/5130 [==============================] - 1s 144us/step - loss: 1.0490 - val_loss: 1.0740\n",
      "Epoch 38/50\n",
      "5130/5130 [==============================] - 1s 138us/step - loss: 1.0445 - val_loss: 1.0697\n",
      "Epoch 39/50\n",
      "5130/5130 [==============================] - 1s 143us/step - loss: 1.0404 - val_loss: 1.0659\n",
      "Epoch 40/50\n",
      "5130/5130 [==============================] - 1s 136us/step - loss: 1.0366 - val_loss: 1.0624\n",
      "Epoch 41/50\n",
      "5130/5130 [==============================] - 1s 129us/step - loss: 1.0333 - val_loss: 1.0593\n",
      "Epoch 42/50\n",
      "5130/5130 [==============================] - 1s 286us/step - loss: 1.0302 - val_loss: 1.0564\n",
      "Epoch 43/50\n",
      "5130/5130 [==============================] - 1s 171us/step - loss: 1.0274 - val_loss: 1.0538\n",
      "Epoch 44/50\n",
      "5130/5130 [==============================] - 1s 117us/step - loss: 1.0248 - val_loss: 1.0515\n",
      "Epoch 45/50\n",
      "5130/5130 [==============================] - 1s 118us/step - loss: 1.0225 - val_loss: 1.0493\n",
      "Epoch 46/50\n",
      "5130/5130 [==============================] - 1s 120us/step - loss: 1.0204 - val_loss: 1.0474\n",
      "Epoch 47/50\n",
      "5130/5130 [==============================] - 1s 113us/step - loss: 1.0184 - val_loss: 1.0456\n",
      "Epoch 48/50\n",
      "5130/5130 [==============================] - 1s 120us/step - loss: 1.0167 - val_loss: 1.0440\n",
      "Epoch 49/50\n",
      "5130/5130 [==============================] - 1s 122us/step - loss: 1.0151 - val_loss: 1.0425\n",
      "Epoch 50/50\n",
      "5130/5130 [==============================] - 1s 141us/step - loss: 1.0136 - val_loss: 1.0411\n"
     ]
    },
    {
     "data": {
      "text/plain": [
       "AutoEncoder(batch_size=32, contamination=0.1, dropout_rate=0.2, epochs=50,\n",
       "      hidden_activation='relu', hidden_neurons=[5, 1, 1, 5],\n",
       "      l2_regularizer=0.1,\n",
       "      loss=<function mean_squared_error at 0x0000021C41558708>,\n",
       "      optimizer='adam', output_activation='sigmoid', preprocessing=True,\n",
       "      random_state=None, validation_size=0.1, verbose=1)"
      ]
     },
     "execution_count": 11,
     "metadata": {},
     "output_type": "execute_result"
    }
   ],
   "source": [
    "clf = AutoEncoder(hidden_neurons =[5,1,1,5], contamination =contamination, epochs =epochs )\n",
    "clf.fit(X_train)"
   ]
  },
  {
   "cell_type": "code",
   "execution_count": 12,
   "metadata": {},
   "outputs": [
    {
     "data": {
      "image/png": "[encoded data removed]",
      "text/plain": [
       "<Figure size 432x288 with 1 Axes>"
      ]
     },
     "metadata": {
      "needs_background": "light"
     },
     "output_type": "display_data"
    }
   ],
   "source": [
    "# Get the outlier scores for the train data\n",
    "y_train_scores = clf.decision_scores_  \n",
    "\n",
    "# Predict the anomaly scores\n",
    "y_test_scores = clf.decision_function(X_test)  # outlier scores\n",
    "y_test_scores = pd.Series(y_test_scores)\n",
    "\n",
    "# Plot it!\n",
    "import matplotlib.pyplot as plt\n",
    "plt.hist(y_test_scores, bins='auto')  \n",
    "plt.title(\"Histogram for Model Clf1 Anomaly Scores\")\n",
    "plt.show()"
   ]
  },
  {
   "cell_type": "markdown",
   "metadata": {},
   "source": [
    "The following output shows the mean variable values in each cluster. The values of Cluster ‘1’ (the abnormal cluster) is quite different from those of Cluster ‘0’ (the normal cluster). The “score” values show the average distance of those observations to others. A high “score” means that observation is far away from the norm."
   ]
  },
  {
   "cell_type": "code",
   "execution_count": 13,
   "metadata": {},
   "outputs": [
    {
     "data": {
      "text/html": [
       "<div>\n",
       "<style scoped>\n",
       "    .dataframe tbody tr th:only-of-type {\n",
       "        vertical-align: middle;\n",
       "    }\n",
       "\n",
       "    .dataframe tbody tr th {\n",
       "        vertical-align: top;\n",
       "    }\n",
       "\n",
       "    .dataframe thead th {\n",
       "        text-align: right;\n",
       "    }\n",
       "</style>\n",
       "<table border=\"1\" class=\"dataframe\">\n",
       "  <thead>\n",
       "    <tr style=\"text-align: right;\">\n",
       "      <th></th>\n",
       "      <th>0</th>\n",
       "      <th>1</th>\n",
       "      <th>2</th>\n",
       "      <th>3</th>\n",
       "      <th>4</th>\n",
       "      <th>score</th>\n",
       "    </tr>\n",
       "    <tr>\n",
       "      <th>cluster</th>\n",
       "      <th></th>\n",
       "      <th></th>\n",
       "      <th></th>\n",
       "      <th></th>\n",
       "      <th></th>\n",
       "      <th></th>\n",
       "    </tr>\n",
       "  </thead>\n",
       "  <tbody>\n",
       "    <tr>\n",
       "      <th>0</th>\n",
       "      <td>-0.044494</td>\n",
       "      <td>-0.073875</td>\n",
       "      <td>-0.042331</td>\n",
       "      <td>-0.128720</td>\n",
       "      <td>-0.092487</td>\n",
       "      <td>1.939276</td>\n",
       "    </tr>\n",
       "    <tr>\n",
       "      <th>1</th>\n",
       "      <td>1.297470</td>\n",
       "      <td>2.154218</td>\n",
       "      <td>1.234382</td>\n",
       "      <td>3.753549</td>\n",
       "      <td>2.696976</td>\n",
       "      <td>5.415274</td>\n",
       "    </tr>\n",
       "  </tbody>\n",
       "</table>\n",
       "</div>"
      ],
      "text/plain": [
       "                0         1         2         3         4     score\n",
       "cluster                                                            \n",
       "0       -0.044494 -0.073875 -0.042331 -0.128720 -0.092487  1.939276\n",
       "1        1.297470  2.154218  1.234382  3.753549  2.696976  5.415274"
      ]
     },
     "execution_count": 13,
     "metadata": {},
     "output_type": "execute_result"
    }
   ],
   "source": [
    "df_test = X_test.copy()\n",
    "df_test['score'] = y_test_scores\n",
    "df_test['cluster'] = np.where(df_test['score']<4, 0, 1)\n",
    "df_test['cluster'].value_counts()\n",
    "\n",
    "df_test.groupby('cluster').mean()"
   ]
  },
  {
   "cell_type": "code",
   "execution_count": 14,
   "metadata": {},
   "outputs": [
    {
     "data": {
      "text/plain": [
       "(array([1]), array([8143], dtype=int64))"
      ]
     },
     "execution_count": 14,
     "metadata": {},
     "output_type": "execute_result"
    }
   ],
   "source": [
    "outliers = clf.predict(X)\n",
    "np.unique(outliers, return_counts=True)"
   ]
  },
  {
   "cell_type": "code",
   "execution_count": null,
   "metadata": {},
   "outputs": [],
   "source": []
  }
 ],
 "metadata": {
  "kernelspec": {
   "display_name": "Python 3",
   "language": "python",
   "name": "python3"
  },
  "language_info": {
   "codemirror_mode": {
    "name": "ipython",
    "version": 3
   },
   "file_extension": ".py",
   "mimetype": "text/x-python",
   "name": "python",
   "nbconvert_exporter": "python",
   "pygments_lexer": "ipython3",
   "version": "3.7.6"
  }
 },
 "nbformat": 4,
 "nbformat_minor": 4
}
