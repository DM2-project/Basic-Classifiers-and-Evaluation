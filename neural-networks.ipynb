{
 "cells": [
  {
   "cell_type": "code",
   "execution_count": 1,
   "metadata": {},
   "outputs": [],
   "source": [
    "%matplotlib inline\n",
    "\n",
    "import numpy as np\n",
    "import pandas as pd\n",
    "import matplotlib.pyplot as plt\n",
    "\n",
    "from collections import defaultdict"
   ]
  },
  {
   "cell_type": "markdown",
   "metadata": {},
   "source": [
    "### Data preparation, Data partitioning and normalization"
   ]
  },
  {
   "cell_type": "code",
   "execution_count": 2,
   "metadata": {},
   "outputs": [],
   "source": [
    "class_name = 'Occupancy'\n",
    "df1 = pd.read_csv('datatraining.txt', skipinitialspace=True, na_values='?', \n",
    "                 keep_default_na=True)\n",
    "df2 =pd.read_csv('datatest.txt', skipinitialspace=True, na_values='?', \n",
    "                 keep_default_na=True)\n",
    "df3=pd.read_csv('datatest2.txt', skipinitialspace=True, na_values='?', \n",
    "                 keep_default_na=True)\n",
    "df4=pd.merge(df1, df2, how='outer')\n",
    "df=pd.merge(df4, df3, how='outer')"
   ]
  },
  {
   "cell_type": "code",
   "execution_count": 3,
   "metadata": {},
   "outputs": [],
   "source": [
    "df['Day']=pd.to_datetime(df['date']).dt.day\n",
    "df['Hour']=pd.to_datetime(df['date']).dt.hour\n",
    "df['Month']=pd.to_datetime(df['date']).dt.month\n",
    "df['Year']=pd.to_datetime(df['date']).dt.year\n",
    "df['Data']=pd.to_datetime(df['date']).dt.normalize()\n",
    "del df['date']"
   ]
  },
  {
   "cell_type": "code",
   "execution_count": 4,
   "metadata": {},
   "outputs": [],
   "source": [
    "df['Day']=df['Data'].dt.dayofweek\n",
    "df.drop(['Year','Month','Data'], axis='columns', inplace=True)\n",
    "del df['HumidityRatio']"
   ]
  },
  {
   "cell_type": "code",
   "execution_count": 5,
   "metadata": {},
   "outputs": [],
   "source": [
    "from data_preparation import prepare_dataset"
   ]
  },
  {
   "cell_type": "code",
   "execution_count": 6,
   "metadata": {},
   "outputs": [
    {
     "data": {
      "text/html": [
       "<div>\n",
       "<style scoped>\n",
       "    .dataframe tbody tr th:only-of-type {\n",
       "        vertical-align: middle;\n",
       "    }\n",
       "\n",
       "    .dataframe tbody tr th {\n",
       "        vertical-align: top;\n",
       "    }\n",
       "\n",
       "    .dataframe thead th {\n",
       "        text-align: right;\n",
       "    }\n",
       "</style>\n",
       "<table border=\"1\" class=\"dataframe\">\n",
       "  <thead>\n",
       "    <tr style=\"text-align: right;\">\n",
       "      <th></th>\n",
       "      <th>Temperature</th>\n",
       "      <th>Humidity</th>\n",
       "      <th>Light</th>\n",
       "      <th>CO2</th>\n",
       "      <th>Day</th>\n",
       "      <th>Hour</th>\n",
       "      <th>Occupancy</th>\n",
       "    </tr>\n",
       "  </thead>\n",
       "  <tbody>\n",
       "    <tr>\n",
       "      <th>0</th>\n",
       "      <td>23.18</td>\n",
       "      <td>27.2720</td>\n",
       "      <td>426.0</td>\n",
       "      <td>721.25</td>\n",
       "      <td>2</td>\n",
       "      <td>17</td>\n",
       "      <td>1</td>\n",
       "    </tr>\n",
       "    <tr>\n",
       "      <th>1</th>\n",
       "      <td>23.15</td>\n",
       "      <td>27.2675</td>\n",
       "      <td>429.5</td>\n",
       "      <td>714.00</td>\n",
       "      <td>2</td>\n",
       "      <td>17</td>\n",
       "      <td>1</td>\n",
       "    </tr>\n",
       "    <tr>\n",
       "      <th>2</th>\n",
       "      <td>23.15</td>\n",
       "      <td>27.2450</td>\n",
       "      <td>426.0</td>\n",
       "      <td>713.50</td>\n",
       "      <td>2</td>\n",
       "      <td>17</td>\n",
       "      <td>1</td>\n",
       "    </tr>\n",
       "    <tr>\n",
       "      <th>3</th>\n",
       "      <td>23.15</td>\n",
       "      <td>27.2000</td>\n",
       "      <td>426.0</td>\n",
       "      <td>708.25</td>\n",
       "      <td>2</td>\n",
       "      <td>17</td>\n",
       "      <td>1</td>\n",
       "    </tr>\n",
       "    <tr>\n",
       "      <th>4</th>\n",
       "      <td>23.10</td>\n",
       "      <td>27.2000</td>\n",
       "      <td>426.0</td>\n",
       "      <td>704.50</td>\n",
       "      <td>2</td>\n",
       "      <td>17</td>\n",
       "      <td>1</td>\n",
       "    </tr>\n",
       "  </tbody>\n",
       "</table>\n",
       "</div>"
      ],
      "text/plain": [
       "   Temperature  Humidity  Light     CO2  Day  Hour  Occupancy\n",
       "0        23.18   27.2720  426.0  721.25    2    17          1\n",
       "1        23.15   27.2675  429.5  714.00    2    17          1\n",
       "2        23.15   27.2450  426.0  713.50    2    17          1\n",
       "3        23.15   27.2000  426.0  708.25    2    17          1\n",
       "4        23.10   27.2000  426.0  704.50    2    17          1"
      ]
     },
     "execution_count": 6,
     "metadata": {},
     "output_type": "execute_result"
    }
   ],
   "source": [
    "res = prepare_dataset(df, class_name)\n",
    "df, feature_names, class_values, numeric_columns, rdf, real_feature_names, features_map = res\n",
    "df.head()"
   ]
  },
  {
   "cell_type": "code",
   "execution_count": 7,
   "metadata": {},
   "outputs": [],
   "source": [
    "from sklearn.model_selection import train_test_split, cross_val_score, GridSearchCV\n",
    "\n",
    "from sklearn.metrics import accuracy_score, f1_score, classification_report\n",
    "from sklearn.metrics import roc_curve, auc, roc_auc_score"
   ]
  },
  {
   "cell_type": "code",
   "execution_count": 8,
   "metadata": {},
   "outputs": [],
   "source": [
    "attributes = [col for col in df.columns if col != class_name]\n",
    "X = df[attributes].values\n",
    "y = df[class_name]\n",
    "\n",
    "X_train, X_test, y_train, y_test = train_test_split(X, y, test_size=0.3, random_state=100, stratify=y)"
   ]
  },
  {
   "cell_type": "code",
   "execution_count": 9,
   "metadata": {},
   "outputs": [],
   "source": [
    "from sklearn.preprocessing import StandardScaler"
   ]
  },
  {
   "cell_type": "code",
   "execution_count": 10,
   "metadata": {},
   "outputs": [],
   "source": [
    "scaler = StandardScaler()\n",
    "scaler.fit(X_train)\n",
    "X_train = scaler.transform(X_train)\n",
    "X_test = scaler.transform(X_test)"
   ]
  },
  {
   "cell_type": "markdown",
   "metadata": {},
   "source": [
    "## Single layer network"
   ]
  },
  {
   "cell_type": "code",
   "execution_count": 11,
   "metadata": {},
   "outputs": [],
   "source": [
    "from sklearn.linear_model import Perceptron"
   ]
  },
  {
   "cell_type": "code",
   "execution_count": 12,
   "metadata": {},
   "outputs": [],
   "source": [
    "sln=Perceptron()"
   ]
  },
  {
   "cell_type": "code",
   "execution_count": 13,
   "metadata": {},
   "outputs": [
    {
     "data": {
      "text/plain": [
       "Perceptron(alpha=0.0001, class_weight=None, early_stopping=False, eta0=1.0,\n",
       "           fit_intercept=True, max_iter=1000, n_iter_no_change=5, n_jobs=None,\n",
       "           penalty=None, random_state=0, shuffle=True, tol=0.001,\n",
       "           validation_fraction=0.1, verbose=0, warm_start=False)"
      ]
     },
     "execution_count": 13,
     "metadata": {},
     "output_type": "execute_result"
    }
   ],
   "source": [
    "sln.fit(X_train, y_train)"
   ]
  },
  {
   "cell_type": "code",
   "execution_count": 14,
   "metadata": {},
   "outputs": [],
   "source": [
    "y_pred_sln = sln.predict(X_test)"
   ]
  },
  {
   "cell_type": "code",
   "execution_count": 15,
   "metadata": {},
   "outputs": [
    {
     "name": "stdout",
     "output_type": "stream",
     "text": [
      "Accuracy 0.9854085603112841\n",
      "F1-score [0.99049028 0.96866295]\n",
      "              precision    recall  f1-score   support\n",
      "\n",
      "           0       0.99      0.99      0.99      4743\n",
      "           1       0.96      0.98      0.97      1425\n",
      "\n",
      "    accuracy                           0.99      6168\n",
      "   macro avg       0.98      0.98      0.98      6168\n",
      "weighted avg       0.99      0.99      0.99      6168\n",
      "\n"
     ]
    }
   ],
   "source": [
    "print('Accuracy %s' % accuracy_score(y_test, y_pred_sln))\n",
    "print('F1-score %s' % f1_score(y_test, y_pred_sln, average=None))\n",
    "print(classification_report(y_test, y_pred_sln))"
   ]
  },
  {
   "cell_type": "markdown",
   "metadata": {},
   "source": [
    "non posso fare roc curve ne lift chart perchè questo classificatore non ha clf.proba (Perceptrons do not output a class probability; rather,\n",
    "they just make predictions based on a hard threshold. This is one of the good reasons to prefer Logistic\n",
    "Regression over Perceptrons.)\n"
   ]
  },
  {
   "cell_type": "markdown",
   "metadata": {},
   "source": [
    "## Multiple layer network"
   ]
  },
  {
   "cell_type": "code",
   "execution_count": 16,
   "metadata": {},
   "outputs": [],
   "source": [
    "from sklearn.neural_network import MLPClassifier"
   ]
  },
  {
   "cell_type": "code",
   "execution_count": 17,
   "metadata": {},
   "outputs": [
    {
     "name": "stdout",
     "output_type": "stream",
     "text": [
      "Accuracy 0.9920557717250325\n",
      "F1-score [0.99481317 0.98303911]\n",
      "              precision    recall  f1-score   support\n",
      "\n",
      "           0       1.00      0.99      0.99      4743\n",
      "           1       0.97      1.00      0.98      1425\n",
      "\n",
      "    accuracy                           0.99      6168\n",
      "   macro avg       0.98      0.99      0.99      6168\n",
      "weighted avg       0.99      0.99      0.99      6168\n",
      "\n"
     ]
    }
   ],
   "source": [
    "mln = MLPClassifier(random_state=0)\n",
    "\n",
    "mln.fit(X_train, y_train)\n",
    "\n",
    "y_pred_mln = mln.predict(X_test)\n",
    "\n",
    "print('Accuracy %s' % accuracy_score(y_test, y_pred_mln))\n",
    "print('F1-score %s' % f1_score(y_test, y_pred_mln, average=None))\n",
    "print(classification_report(y_test, y_pred_mln))"
   ]
  },
  {
   "cell_type": "code",
   "execution_count": 18,
   "metadata": {},
   "outputs": [
    {
     "data": {
      "image/png": "[encoded data removed]",
      "text/plain": [
       "<Figure size 432x288 with 1 Axes>"
      ]
     },
     "metadata": {
      "needs_background": "light"
     },
     "output_type": "display_data"
    }
   ],
   "source": [
    "plt.plot(mln.loss_curve_)\n",
    "plt.show()"
   ]
  },
  {
   "cell_type": "markdown",
   "metadata": {},
   "source": [
    "non sembrano esserci problemi ne di overfitting ne di underfitting:\n",
    "    - overfitting: The plot of training loss continues to decrease with experience or The plot of validation loss decreases to a point and begins increasing again.\n",
    "    - underfitting:The training loss remains flat regardless of training or The training loss continues to decrease until the end of training."
   ]
  },
  {
   "cell_type": "markdown",
   "metadata": {},
   "source": [
    "This example visualizes some training loss curves for different stochastic learning strategies, including SGD and Adam. "
   ]
  },
  {
   "cell_type": "code",
   "execution_count": 19,
   "metadata": {},
   "outputs": [],
   "source": [
    "params = [{'solver': 'sgd', 'learning_rate': 'constant', 'momentum': 0,\n",
    "           'learning_rate_init': 0.2},\n",
    "          {'solver': 'sgd', 'learning_rate': 'constant', 'momentum': .9,\n",
    "           'nesterovs_momentum': False, 'learning_rate_init': 0.2},\n",
    "          {'solver': 'sgd', 'learning_rate': 'constant', 'momentum': .9,\n",
    "           'nesterovs_momentum': True, 'learning_rate_init': 0.2},\n",
    "          {'solver': 'sgd', 'learning_rate': 'invscaling', 'momentum': 0,\n",
    "           'learning_rate_init': 0.2},\n",
    "          {'solver': 'sgd', 'learning_rate': 'invscaling', 'momentum': .9,\n",
    "           'nesterovs_momentum': True, 'learning_rate_init': 0.2},\n",
    "          {'solver': 'sgd', 'learning_rate': 'invscaling', 'momentum': .9,\n",
    "           'nesterovs_momentum': False, 'learning_rate_init': 0.2},\n",
    "          {'solver': 'adam', 'learning_rate_init': 0.01}]\n",
    "\n",
    "labels = [\"constant learning-rate\", \"constant with momentum\",\n",
    "          \"constant with Nesterov's momentum\",\n",
    "          \"inv-scaling learning-rate\", \"inv-scaling with momentum\",\n",
    "          \"inv-scaling with Nesterov's momentum\", \"adam\"]"
   ]
  },
  {
   "cell_type": "code",
   "execution_count": 20,
   "metadata": {},
   "outputs": [],
   "source": [
    "import warnings\n",
    "from sklearn.exceptions import ConvergenceWarning"
   ]
  },
  {
   "cell_type": "code",
   "execution_count": 21,
   "metadata": {},
   "outputs": [
    {
     "name": "stdout",
     "output_type": "stream",
     "text": [
      "constant learning-rate\n",
      "training set score and loss: 0.769, 5.606281\n"
     ]
    },
    {
     "data": {
      "image/png": "[encoded data removed]",
      "text/plain": [
       "<Figure size 432x288 with 1 Axes>"
      ]
     },
     "metadata": {
      "needs_background": "light"
     },
     "output_type": "display_data"
    },
    {
     "name": "stdout",
     "output_type": "stream",
     "text": [
      "constant with momentum\n",
      "training set score and loss: 0.769, 488.868846\n"
     ]
    },
    {
     "data": {
      "image/png": "[encoded data removed]",
      "text/plain": [
       "<Figure size 432x288 with 1 Axes>"
      ]
     },
     "metadata": {
      "needs_background": "light"
     },
     "output_type": "display_data"
    },
    {
     "name": "stdout",
     "output_type": "stream",
     "text": [
      "constant with Nesterov's momentum\n",
      "training set score and loss: 0.769, 1603.213153\n"
     ]
    },
    {
     "data": {
      "image/png": "[encoded data removed]",
      "text/plain": [
       "<Figure size 432x288 with 1 Axes>"
      ]
     },
     "metadata": {
      "needs_background": "light"
     },
     "output_type": "display_data"
    },
    {
     "name": "stdout",
     "output_type": "stream",
     "text": [
      "inv-scaling learning-rate\n",
      "training set score and loss: 0.769, 5.627009\n"
     ]
    },
    {
     "data": {
      "image/png": "[encoded data removed]",
      "text/plain": [
       "<Figure size 432x288 with 1 Axes>"
      ]
     },
     "metadata": {
      "needs_background": "light"
     },
     "output_type": "display_data"
    },
    {
     "name": "stdout",
     "output_type": "stream",
     "text": [
      "inv-scaling with momentum\n",
      "training set score and loss: 0.769, 1670.178766\n"
     ]
    },
    {
     "data": {
      "image/png": "[encoded data removed]",
      "text/plain": [
       "<Figure size 432x288 with 1 Axes>"
      ]
     },
     "metadata": {
      "needs_background": "light"
     },
     "output_type": "display_data"
    },
    {
     "name": "stdout",
     "output_type": "stream",
     "text": [
      "inv-scaling with Nesterov's momentum\n",
      "training set score and loss: 0.769, 509.280629\n"
     ]
    },
    {
     "data": {
      "image/png": "[encoded data removed]",
      "text/plain": [
       "<Figure size 432x288 with 1 Axes>"
      ]
     },
     "metadata": {
      "needs_background": "light"
     },
     "output_type": "display_data"
    },
    {
     "name": "stdout",
     "output_type": "stream",
     "text": [
      "adam\n",
      "training set score and loss: 0.990, 0.051007\n"
     ]
    },
    {
     "data": {
      "image/png": "[encoded data removed]",
      "text/plain": [
       "<Figure size 432x288 with 1 Axes>"
      ]
     },
     "metadata": {
      "needs_background": "light"
     },
     "output_type": "display_data"
    }
   ],
   "source": [
    "for label, param in zip(labels, params):\n",
    "    print(label)\n",
    "    mlp = MLPClassifier(random_state=0, max_iter=200, **param)\n",
    "\n",
    "    # some parameter combinations will not converge as can be seen on the\n",
    "    # plots so they are ignored here\n",
    "    with warnings.catch_warnings():\n",
    "        warnings.filterwarnings(\"ignore\", category=ConvergenceWarning, module=\"sklearn\")\n",
    "        mlp.fit(X, y)\n",
    "\n",
    "    print(\"training set score and loss: %.3f, %f\" % (mlp.score(X, y), mlp.loss_))\n",
    "    plt.plot(mlp.loss_curve_, label=label)\n",
    "    plt.legend(loc=\"upper center\")\n",
    "    plt.show()"
   ]
  },
  {
   "cell_type": "markdown",
   "metadata": {},
   "source": [
    " le strategie portano ad overfitting: le prime sei perche la loss curve continuano a decrescere con l'esperienza"
   ]
  },
  {
   "cell_type": "markdown",
   "metadata": {},
   "source": [
    "## keras DNN"
   ]
  },
  {
   "cell_type": "code",
   "execution_count": 19,
   "metadata": {},
   "outputs": [
    {
     "name": "stderr",
     "output_type": "stream",
     "text": [
      "Using TensorFlow backend.\n"
     ]
    }
   ],
   "source": [
    "from keras.models import Sequential\n",
    "from keras.layers import Dense"
   ]
  },
  {
   "cell_type": "code",
   "execution_count": 54,
   "metadata": {},
   "outputs": [],
   "source": [
    "def build_model():\n",
    "    \n",
    "    n_feature = X_train.shape[1]\n",
    "    model = Sequential()\n",
    "    model.add(Dense(6, input_dim=n_feature, activation='relu'))\n",
    "    model.add(Dense(16, activation='relu'))\n",
    "    model.add(Dense(16, activation='relu'))\n",
    "    model.add(Dense(16, activation='relu'))\n",
    "    model.add(Dense(1, activation='sigmoid'))\n",
    "\n",
    "    model.compile(loss='binary_crossentropy', optimizer='adam', metrics=['accuracy'])\n",
    "    return model"
   ]
  },
  {
   "cell_type": "markdown",
   "metadata": {},
   "source": [
    "-The batch size is a hyperparameter of gradient descent that controls the number of training samples to work through before the model’s internal parameters are updated.(The batch size is a number of samples processed before the model is updated)\n",
    "\n",
    "\n",
    "-The number of epochs is a hyperparameter of gradient descent that controls the number of complete passes through the training dataset.(The number of epochs is the number of complete passes through the training dataset)\n",
    "\n",
    "https://machinelearningmastery.com/difference-between-a-batch-and-an-epoch/"
   ]
  },
  {
   "cell_type": "code",
   "execution_count": 55,
   "metadata": {},
   "outputs": [
    {
     "name": "stdout",
     "output_type": "stream",
     "text": [
      "Epoch 1/100\n",
      "11513/11513 [==============================] - 3s 266us/step - loss: 0.1927 - accuracy: 0.9222\n",
      "Epoch 2/100\n",
      "11513/11513 [==============================] - 2s 169us/step - loss: 0.0503 - accuracy: 0.9885\n",
      "Epoch 3/100\n",
      "11513/11513 [==============================] - 2s 169us/step - loss: 0.0449 - accuracy: 0.9894\n",
      "Epoch 4/100\n",
      "11513/11513 [==============================] - 2s 167us/step - loss: 0.0429 - accuracy: 0.9895\n",
      "Epoch 5/100\n",
      "11513/11513 [==============================] - 2s 164us/step - loss: 0.0418 - accuracy: 0.9895\n",
      "Epoch 6/100\n",
      "11513/11513 [==============================] - 2s 166us/step - loss: 0.0411 - accuracy: 0.9896\n",
      "Epoch 7/100\n",
      "11513/11513 [==============================] - 2s 183us/step - loss: 0.0407 - accuracy: 0.9896\n",
      "Epoch 8/100\n",
      "11513/11513 [==============================] - 2s 184us/step - loss: 0.0403 - accuracy: 0.9895\n",
      "Epoch 9/100\n",
      "11513/11513 [==============================] - 2s 191us/step - loss: 0.0396 - accuracy: 0.9895\n",
      "Epoch 10/100\n",
      "11513/11513 [==============================] - 2s 178us/step - loss: 0.0396 - accuracy: 0.9895\n",
      "Epoch 11/100\n",
      "11513/11513 [==============================] - 2s 181us/step - loss: 0.0388 - accuracy: 0.9897\n",
      "Epoch 12/100\n",
      "11513/11513 [==============================] - 2s 172us/step - loss: 0.0391 - accuracy: 0.9896\n",
      "Epoch 13/100\n",
      "11513/11513 [==============================] - 2s 161us/step - loss: 0.0385 - accuracy: 0.9894\n",
      "Epoch 14/100\n",
      "11513/11513 [==============================] - ETA: 0s - loss: 0.0376 - accuracy: 0.98 - 2s 166us/step - loss: 0.0381 - accuracy: 0.9896\n",
      "Epoch 15/100\n",
      "11513/11513 [==============================] - 2s 158us/step - loss: 0.0381 - accuracy: 0.9895\n",
      "Epoch 16/100\n",
      "11513/11513 [==============================] - 2s 155us/step - loss: 0.0378 - accuracy: 0.9896\n",
      "Epoch 17/100\n",
      "11513/11513 [==============================] - 2s 151us/step - loss: 0.0375 - accuracy: 0.9894\n",
      "Epoch 18/100\n",
      "11513/11513 [==============================] - 2s 147us/step - loss: 0.0370 - accuracy: 0.9894\n",
      "Epoch 19/100\n",
      "11513/11513 [==============================] - 2s 172us/step - loss: 0.0369 - accuracy: 0.9894\n",
      "Epoch 20/100\n",
      "11513/11513 [==============================] - 2s 198us/step - loss: 0.0367 - accuracy: 0.9897\n",
      "Epoch 21/100\n",
      "11513/11513 [==============================] - 2s 163us/step - loss: 0.0368 - accuracy: 0.9896\n",
      "Epoch 22/100\n",
      "11513/11513 [==============================] - 2s 159us/step - loss: 0.0362 - accuracy: 0.9895\n",
      "Epoch 23/100\n",
      "11513/11513 [==============================] - 2s 159us/step - loss: 0.0360 - accuracy: 0.9894\n",
      "Epoch 24/100\n",
      "11513/11513 [==============================] - 2s 162us/step - loss: 0.0355 - accuracy: 0.9898\n",
      "Epoch 25/100\n",
      "11513/11513 [==============================] - 2s 174us/step - loss: 0.0356 - accuracy: 0.9898\n",
      "Epoch 26/100\n",
      "11513/11513 [==============================] - 2s 162us/step - loss: 0.0349 - accuracy: 0.9896\n",
      "Epoch 27/100\n",
      "11513/11513 [==============================] - 2s 167us/step - loss: 0.0353 - accuracy: 0.9897\n",
      "Epoch 28/100\n",
      "11513/11513 [==============================] - 2s 165us/step - loss: 0.0348 - accuracy: 0.9899\n",
      "Epoch 29/100\n",
      "11513/11513 [==============================] - 2s 160us/step - loss: 0.0344 - accuracy: 0.9898\n",
      "Epoch 30/100\n",
      "11513/11513 [==============================] - 2s 158us/step - loss: 0.0346 - accuracy: 0.9897\n",
      "Epoch 31/100\n",
      "11513/11513 [==============================] - 2s 168us/step - loss: 0.0346 - accuracy: 0.9899\n",
      "Epoch 32/100\n",
      "11513/11513 [==============================] - 2s 171us/step - loss: 0.0338 - accuracy: 0.9898\n",
      "Epoch 33/100\n",
      "11513/11513 [==============================] - 2s 180us/step - loss: 0.0338 - accuracy: 0.9898\n",
      "Epoch 34/100\n",
      "11513/11513 [==============================] - 2s 172us/step - loss: 0.0341 - accuracy: 0.9901\n",
      "Epoch 35/100\n",
      "11513/11513 [==============================] - 2s 171us/step - loss: 0.0337 - accuracy: 0.9898\n",
      "Epoch 36/100\n",
      "11513/11513 [==============================] - ETA: 0s - loss: 0.0335 - accuracy: 0.99 - 2s 170us/step - loss: 0.0332 - accuracy: 0.9902\n",
      "Epoch 37/100\n",
      "11513/11513 [==============================] - 2s 171us/step - loss: 0.0334 - accuracy: 0.9897\n",
      "Epoch 38/100\n",
      "11513/11513 [==============================] - 2s 172us/step - loss: 0.0332 - accuracy: 0.9897\n",
      "Epoch 39/100\n",
      "11513/11513 [==============================] - 2s 171us/step - loss: 0.0326 - accuracy: 0.9903\n",
      "Epoch 40/100\n",
      "11513/11513 [==============================] - 2s 173us/step - loss: 0.0326 - accuracy: 0.9902\n",
      "Epoch 41/100\n",
      "11513/11513 [==============================] - 2s 182us/step - loss: 0.0326 - accuracy: 0.9899\n",
      "Epoch 42/100\n",
      "11513/11513 [==============================] - 2s 164us/step - loss: 0.0325 - accuracy: 0.9898\n",
      "Epoch 43/100\n",
      "11513/11513 [==============================] - 2s 165us/step - loss: 0.0323 - accuracy: 0.9902\n",
      "Epoch 44/100\n",
      "11513/11513 [==============================] - 2s 156us/step - loss: 0.0323 - accuracy: 0.9901\n",
      "Epoch 45/100\n",
      "11513/11513 [==============================] - 2s 166us/step - loss: 0.0324 - accuracy: 0.9904\n",
      "Epoch 46/100\n",
      "11513/11513 [==============================] - 2s 160us/step - loss: 0.0319 - accuracy: 0.9901\n",
      "Epoch 47/100\n",
      "11513/11513 [==============================] - 2s 161us/step - loss: 0.0315 - accuracy: 0.9900\n",
      "Epoch 48/100\n",
      "11513/11513 [==============================] - 2s 155us/step - loss: 0.0316 - accuracy: 0.9900\n",
      "Epoch 49/100\n",
      "11513/11513 [==============================] - 2s 154us/step - loss: 0.0319 - accuracy: 0.9898\n",
      "Epoch 50/100\n",
      "11513/11513 [==============================] - 2s 163us/step - loss: 0.0312 - accuracy: 0.9898\n",
      "Epoch 51/100\n",
      "11513/11513 [==============================] - 2s 156us/step - loss: 0.0318 - accuracy: 0.9900\n",
      "Epoch 52/100\n",
      "11513/11513 [==============================] - 2s 154us/step - loss: 0.0317 - accuracy: 0.9898\n",
      "Epoch 53/100\n",
      "11513/11513 [==============================] - 2s 163us/step - loss: 0.0313 - accuracy: 0.9900\n",
      "Epoch 54/100\n",
      "11513/11513 [==============================] - 2s 179us/step - loss: 0.0314 - accuracy: 0.9900\n",
      "Epoch 55/100\n",
      "11513/11513 [==============================] - 2s 176us/step - loss: 0.0310 - accuracy: 0.9899\n",
      "Epoch 56/100\n",
      "11513/11513 [==============================] - 2s 169us/step - loss: 0.0307 - accuracy: 0.9903\n",
      "Epoch 57/100\n",
      "11513/11513 [==============================] - 2s 168us/step - loss: 0.0315 - accuracy: 0.9898\n",
      "Epoch 58/100\n",
      "11513/11513 [==============================] - 2s 167us/step - loss: 0.0303 - accuracy: 0.9902\n",
      "Epoch 59/100\n",
      "11513/11513 [==============================] - 2s 159us/step - loss: 0.0308 - accuracy: 0.9900\n",
      "Epoch 60/100\n",
      "11513/11513 [==============================] - 2s 164us/step - loss: 0.0301 - accuracy: 0.9900\n",
      "Epoch 61/100\n",
      "11513/11513 [==============================] - 2s 157us/step - loss: 0.0303 - accuracy: 0.9901\n",
      "Epoch 62/100\n",
      "11513/11513 [==============================] - 2s 168us/step - loss: 0.0299 - accuracy: 0.9904\n",
      "Epoch 63/100\n",
      "11513/11513 [==============================] - 2s 161us/step - loss: 0.0294 - accuracy: 0.9901\n",
      "Epoch 64/100\n",
      "11513/11513 [==============================] - 2s 152us/step - loss: 0.0294 - accuracy: 0.9905\n",
      "Epoch 65/100\n",
      "11513/11513 [==============================] - 2s 152us/step - loss: 0.0292 - accuracy: 0.9904\n",
      "Epoch 66/100\n",
      "11513/11513 [==============================] - 2s 152us/step - loss: 0.0290 - accuracy: 0.9904\n",
      "Epoch 67/100\n",
      "11513/11513 [==============================] - 2s 167us/step - loss: 0.0291 - accuracy: 0.9904\n",
      "Epoch 68/100\n",
      "11513/11513 [==============================] - 2s 151us/step - loss: 0.0293 - accuracy: 0.9902\n",
      "Epoch 69/100\n",
      "11513/11513 [==============================] - 2s 163us/step - loss: 0.0290 - accuracy: 0.9902\n",
      "Epoch 70/100\n",
      "11513/11513 [==============================] - 2s 163us/step - loss: 0.0286 - accuracy: 0.9908\n",
      "Epoch 71/100\n",
      "11513/11513 [==============================] - 2s 157us/step - loss: 0.0278 - accuracy: 0.9907\n",
      "Epoch 72/100\n",
      "11513/11513 [==============================] - 2s 154us/step - loss: 0.0279 - accuracy: 0.9906\n",
      "Epoch 73/100\n",
      "11513/11513 [==============================] - 2s 152us/step - loss: 0.0287 - accuracy: 0.9902\n",
      "Epoch 74/100\n",
      "11513/11513 [==============================] - 2s 154us/step - loss: 0.0281 - accuracy: 0.9914\n",
      "Epoch 75/100\n",
      "11513/11513 [==============================] - 2s 153us/step - loss: 0.0276 - accuracy: 0.9913\n",
      "Epoch 76/100\n"
     ]
    },
    {
     "name": "stdout",
     "output_type": "stream",
     "text": [
      "11513/11513 [==============================] - 2s 160us/step - loss: 0.0283 - accuracy: 0.9910\n",
      "Epoch 77/100\n",
      "11513/11513 [==============================] - 2s 149us/step - loss: 0.0274 - accuracy: 0.9916\n",
      "Epoch 78/100\n",
      "11513/11513 [==============================] - 2s 150us/step - loss: 0.0276 - accuracy: 0.9910\n",
      "Epoch 79/100\n",
      "11513/11513 [==============================] - 2s 164us/step - loss: 0.0276 - accuracy: 0.9911\n",
      "Epoch 80/100\n",
      "11513/11513 [==============================] - 2s 165us/step - loss: 0.0269 - accuracy: 0.9915\n",
      "Epoch 81/100\n",
      "11513/11513 [==============================] - 2s 164us/step - loss: 0.0274 - accuracy: 0.9917\n",
      "Epoch 82/100\n",
      "11513/11513 [==============================] - 2s 165us/step - loss: 0.0275 - accuracy: 0.9914\n",
      "Epoch 83/100\n",
      "11513/11513 [==============================] - 2s 165us/step - loss: 0.0270 - accuracy: 0.9914\n",
      "Epoch 84/100\n",
      "11513/11513 [==============================] - 2s 173us/step - loss: 0.0275 - accuracy: 0.9910\n",
      "Epoch 85/100\n",
      "11513/11513 [==============================] - 2s 168us/step - loss: 0.0264 - accuracy: 0.9917\n",
      "Epoch 86/100\n",
      "11513/11513 [==============================] - 2s 163us/step - loss: 0.0270 - accuracy: 0.9919\n",
      "Epoch 87/100\n",
      "11513/11513 [==============================] - 2s 155us/step - loss: 0.0267 - accuracy: 0.9921\n",
      "Epoch 88/100\n",
      "11513/11513 [==============================] - 2s 161us/step - loss: 0.0268 - accuracy: 0.9917\n",
      "Epoch 89/100\n",
      "11513/11513 [==============================] - 2s 147us/step - loss: 0.0269 - accuracy: 0.9918\n",
      "Epoch 90/100\n",
      "11513/11513 [==============================] - 2s 150us/step - loss: 0.0267 - accuracy: 0.9910\n",
      "Epoch 91/100\n",
      "11513/11513 [==============================] - 2s 162us/step - loss: 0.0266 - accuracy: 0.9917\n",
      "Epoch 92/100\n",
      "11513/11513 [==============================] - 2s 162us/step - loss: 0.0259 - accuracy: 0.9915\n",
      "Epoch 93/100\n",
      "11513/11513 [==============================] - 2s 169us/step - loss: 0.0268 - accuracy: 0.9911\n",
      "Epoch 94/100\n",
      "11513/11513 [==============================] - 2s 152us/step - loss: 0.0260 - accuracy: 0.9918\n",
      "Epoch 95/100\n",
      "11513/11513 [==============================] - 2s 159us/step - loss: 0.0262 - accuracy: 0.9918\n",
      "Epoch 96/100\n",
      "11513/11513 [==============================] - 2s 150us/step - loss: 0.0259 - accuracy: 0.9917\n",
      "Epoch 97/100\n",
      "11513/11513 [==============================] - 2s 154us/step - loss: 0.0261 - accuracy: 0.9916\n",
      "Epoch 98/100\n",
      "11513/11513 [==============================] - 2s 163us/step - loss: 0.0261 - accuracy: 0.9915\n",
      "Epoch 99/100\n",
      "11513/11513 [==============================] - 2s 168us/step - loss: 0.0264 - accuracy: 0.9913\n",
      "Epoch 100/100\n",
      "11513/11513 [==============================] - 2s 173us/step - loss: 0.0260 - accuracy: 0.9914\n"
     ]
    }
   ],
   "source": [
    "model1 = build_model()\n",
    "\n",
    "history1 = model1.fit(X_train, y_train, epochs=100, batch_size=30).history"
   ]
  },
  {
   "cell_type": "code",
   "execution_count": 56,
   "metadata": {},
   "outputs": [
    {
     "name": "stdout",
     "output_type": "stream",
     "text": [
      "Epoch 1/100\n",
      "11513/11513 [==============================] - 2s 143us/step - loss: 0.4294 - accuracy: 0.8307\n",
      "Epoch 2/100\n",
      "11513/11513 [==============================] - 1s 53us/step - loss: 0.1042 - accuracy: 0.9675\n",
      "Epoch 3/100\n",
      "11513/11513 [==============================] - 1s 54us/step - loss: 0.0522 - accuracy: 0.9875\n",
      "Epoch 4/100\n",
      "11513/11513 [==============================] - 1s 54us/step - loss: 0.0459 - accuracy: 0.9888\n",
      "Epoch 5/100\n",
      "11513/11513 [==============================] - 1s 57us/step - loss: 0.0435 - accuracy: 0.9891\n",
      "Epoch 6/100\n",
      "11513/11513 [==============================] - 1s 52us/step - loss: 0.0425 - accuracy: 0.9892\n",
      "Epoch 7/100\n",
      "11513/11513 [==============================] - 1s 52us/step - loss: 0.0419 - accuracy: 0.9893\n",
      "Epoch 8/100\n",
      "11513/11513 [==============================] - 1s 53us/step - loss: 0.0413 - accuracy: 0.9894\n",
      "Epoch 9/100\n",
      "11513/11513 [==============================] - 1s 61us/step - loss: 0.0414 - accuracy: 0.9891\n",
      "Epoch 10/100\n",
      "11513/11513 [==============================] - 1s 53us/step - loss: 0.0410 - accuracy: 0.9895\n",
      "Epoch 11/100\n",
      "11513/11513 [==============================] - 1s 53us/step - loss: 0.0407 - accuracy: 0.9894\n",
      "Epoch 12/100\n",
      "11513/11513 [==============================] - 1s 54us/step - loss: 0.0403 - accuracy: 0.9896\n",
      "Epoch 13/100\n",
      "11513/11513 [==============================] - 1s 53us/step - loss: 0.0403 - accuracy: 0.9895\n",
      "Epoch 14/100\n",
      "11513/11513 [==============================] - 1s 53us/step - loss: 0.0400 - accuracy: 0.9893\n",
      "Epoch 15/100\n",
      "11513/11513 [==============================] - 1s 53us/step - loss: 0.0398 - accuracy: 0.9898\n",
      "Epoch 16/100\n",
      "11513/11513 [==============================] - 1s 53us/step - loss: 0.0393 - accuracy: 0.9894\n",
      "Epoch 17/100\n",
      "11513/11513 [==============================] - 1s 53us/step - loss: 0.0393 - accuracy: 0.9894\n",
      "Epoch 18/100\n",
      "11513/11513 [==============================] - 1s 52us/step - loss: 0.0391 - accuracy: 0.9892\n",
      "Epoch 19/100\n",
      "11513/11513 [==============================] - 1s 51us/step - loss: 0.0391 - accuracy: 0.9898\n",
      "Epoch 20/100\n",
      "11513/11513 [==============================] - 1s 56us/step - loss: 0.0386 - accuracy: 0.9899\n",
      "Epoch 21/100\n",
      "11513/11513 [==============================] - 1s 55us/step - loss: 0.0387 - accuracy: 0.9898\n",
      "Epoch 22/100\n",
      "11513/11513 [==============================] - 1s 54us/step - loss: 0.0385 - accuracy: 0.9896\n",
      "Epoch 23/100\n",
      "11513/11513 [==============================] - 1s 51us/step - loss: 0.0384 - accuracy: 0.9899\n",
      "Epoch 24/100\n",
      "11513/11513 [==============================] - 1s 52us/step - loss: 0.0379 - accuracy: 0.9895\n",
      "Epoch 25/100\n",
      "11513/11513 [==============================] - 1s 54us/step - loss: 0.0381 - accuracy: 0.9900\n",
      "Epoch 26/100\n",
      "11513/11513 [==============================] - 1s 56us/step - loss: 0.0378 - accuracy: 0.9898\n",
      "Epoch 27/100\n",
      "11513/11513 [==============================] - 1s 58us/step - loss: 0.0375 - accuracy: 0.9901\n",
      "Epoch 28/100\n",
      "11513/11513 [==============================] - 1s 55us/step - loss: 0.0377 - accuracy: 0.9899\n",
      "Epoch 29/100\n",
      "11513/11513 [==============================] - 1s 51us/step - loss: 0.0371 - accuracy: 0.9901\n",
      "Epoch 30/100\n",
      "11513/11513 [==============================] - 1s 55us/step - loss: 0.0370 - accuracy: 0.9898\n",
      "Epoch 31/100\n",
      "11513/11513 [==============================] - 1s 58us/step - loss: 0.0370 - accuracy: 0.9898\n",
      "Epoch 32/100\n",
      "11513/11513 [==============================] - 1s 61us/step - loss: 0.0367 - accuracy: 0.9898\n",
      "Epoch 33/100\n",
      "11513/11513 [==============================] - 1s 55us/step - loss: 0.0366 - accuracy: 0.9898\n",
      "Epoch 34/100\n",
      "11513/11513 [==============================] - 1s 55us/step - loss: 0.0365 - accuracy: 0.9897\n",
      "Epoch 35/100\n",
      "11513/11513 [==============================] - 1s 56us/step - loss: 0.0358 - accuracy: 0.9900\n",
      "Epoch 36/100\n",
      "11513/11513 [==============================] - 1s 51us/step - loss: 0.0359 - accuracy: 0.9899\n",
      "Epoch 37/100\n",
      "11513/11513 [==============================] - 1s 52us/step - loss: 0.0364 - accuracy: 0.9896\n",
      "Epoch 38/100\n",
      "11513/11513 [==============================] - 1s 56us/step - loss: 0.0354 - accuracy: 0.9903\n",
      "Epoch 39/100\n",
      "11513/11513 [==============================] - 1s 53us/step - loss: 0.0357 - accuracy: 0.9899\n",
      "Epoch 40/100\n",
      "11513/11513 [==============================] - 1s 54us/step - loss: 0.0348 - accuracy: 0.9898\n",
      "Epoch 41/100\n",
      "11513/11513 [==============================] - 1s 53us/step - loss: 0.0352 - accuracy: 0.9898\n",
      "Epoch 42/100\n",
      "11513/11513 [==============================] - 1s 52us/step - loss: 0.0350 - accuracy: 0.9902\n",
      "Epoch 43/100\n",
      "11513/11513 [==============================] - 1s 51us/step - loss: 0.0342 - accuracy: 0.9902\n",
      "Epoch 44/100\n",
      "11513/11513 [==============================] - 1s 52us/step - loss: 0.0343 - accuracy: 0.9901\n",
      "Epoch 45/100\n",
      "11513/11513 [==============================] - 1s 55us/step - loss: 0.0342 - accuracy: 0.9898\n",
      "Epoch 46/100\n",
      "11513/11513 [==============================] - 1s 59us/step - loss: 0.0337 - accuracy: 0.9899\n",
      "Epoch 47/100\n",
      "11513/11513 [==============================] - 1s 58us/step - loss: 0.0336 - accuracy: 0.9901\n",
      "Epoch 48/100\n",
      "11513/11513 [==============================] - 1s 54us/step - loss: 0.0332 - accuracy: 0.9902\n",
      "Epoch 49/100\n",
      "11513/11513 [==============================] - 1s 54us/step - loss: 0.0336 - accuracy: 0.9899\n",
      "Epoch 50/100\n",
      "11513/11513 [==============================] - 1s 53us/step - loss: 0.0331 - accuracy: 0.9902\n",
      "Epoch 51/100\n",
      "11513/11513 [==============================] - 1s 52us/step - loss: 0.0328 - accuracy: 0.9904\n",
      "Epoch 52/100\n",
      "11513/11513 [==============================] - 1s 52us/step - loss: 0.0324 - accuracy: 0.9901\n",
      "Epoch 53/100\n",
      "11513/11513 [==============================] - 1s 52us/step - loss: 0.0328 - accuracy: 0.9904\n",
      "Epoch 54/100\n",
      "11513/11513 [==============================] - 1s 51us/step - loss: 0.0327 - accuracy: 0.9905\n",
      "Epoch 55/100\n",
      "11513/11513 [==============================] - 1s 51us/step - loss: 0.0324 - accuracy: 0.9902\n",
      "Epoch 56/100\n",
      "11513/11513 [==============================] - 1s 51us/step - loss: 0.0329 - accuracy: 0.9897 0s - loss: 0.0337 \n",
      "Epoch 57/100\n",
      "11513/11513 [==============================] - 1s 53us/step - loss: 0.0320 - accuracy: 0.9898\n",
      "Epoch 58/100\n",
      "11513/11513 [==============================] - 1s 52us/step - loss: 0.0316 - accuracy: 0.9904\n",
      "Epoch 59/100\n",
      "11513/11513 [==============================] - 1s 51us/step - loss: 0.0317 - accuracy: 0.9898\n",
      "Epoch 60/100\n",
      "11513/11513 [==============================] - 1s 55us/step - loss: 0.0313 - accuracy: 0.9906 0s - loss: 0.0278 \n",
      "Epoch 61/100\n",
      "11513/11513 [==============================] - 1s 53us/step - loss: 0.0309 - accuracy: 0.9906\n",
      "Epoch 62/100\n",
      "11513/11513 [==============================] - 1s 53us/step - loss: 0.0307 - accuracy: 0.9906\n",
      "Epoch 63/100\n",
      "11513/11513 [==============================] - 1s 54us/step - loss: 0.0305 - accuracy: 0.9907\n",
      "Epoch 64/100\n",
      "11513/11513 [==============================] - 1s 53us/step - loss: 0.0301 - accuracy: 0.9904\n",
      "Epoch 65/100\n",
      "11513/11513 [==============================] - 1s 53us/step - loss: 0.0301 - accuracy: 0.9912\n",
      "Epoch 66/100\n",
      "11513/11513 [==============================] - 1s 52us/step - loss: 0.0301 - accuracy: 0.9901\n",
      "Epoch 67/100\n",
      "11513/11513 [==============================] - ETA: 0s - loss: 0.0299 - accuracy: 0.99 - 1s 53us/step - loss: 0.0301 - accuracy: 0.9911\n",
      "Epoch 68/100\n",
      "11513/11513 [==============================] - 1s 53us/step - loss: 0.0298 - accuracy: 0.9911\n",
      "Epoch 69/100\n",
      "11513/11513 [==============================] - 1s 52us/step - loss: 0.0295 - accuracy: 0.9905\n",
      "Epoch 70/100\n",
      "11513/11513 [==============================] - 1s 53us/step - loss: 0.0294 - accuracy: 0.9910\n",
      "Epoch 71/100\n",
      "11513/11513 [==============================] - 1s 58us/step - loss: 0.0297 - accuracy: 0.9913\n",
      "Epoch 72/100\n",
      "11513/11513 [==============================] - 1s 60us/step - loss: 0.0285 - accuracy: 0.9909\n",
      "Epoch 73/100\n",
      "11513/11513 [==============================] - 1s 56us/step - loss: 0.0294 - accuracy: 0.9909\n",
      "Epoch 74/100\n",
      "11513/11513 [==============================] - 1s 54us/step - loss: 0.0284 - accuracy: 0.9911 0s - loss: 0.029\n",
      "Epoch 75/100\n",
      "11513/11513 [==============================] - 1s 53us/step - loss: 0.0285 - accuracy: 0.9909\n",
      "Epoch 76/100\n"
     ]
    },
    {
     "name": "stdout",
     "output_type": "stream",
     "text": [
      "11513/11513 [==============================] - 1s 54us/step - loss: 0.0280 - accuracy: 0.9915\n",
      "Epoch 77/100\n",
      "11513/11513 [==============================] - 1s 54us/step - loss: 0.0277 - accuracy: 0.9912\n",
      "Epoch 78/100\n",
      "11513/11513 [==============================] - 1s 53us/step - loss: 0.0278 - accuracy: 0.9911\n",
      "Epoch 79/100\n",
      "11513/11513 [==============================] - 1s 53us/step - loss: 0.0276 - accuracy: 0.9912\n",
      "Epoch 80/100\n",
      "11513/11513 [==============================] - 1s 53us/step - loss: 0.0284 - accuracy: 0.9908\n",
      "Epoch 81/100\n",
      "11513/11513 [==============================] - 1s 53us/step - loss: 0.0276 - accuracy: 0.9911\n",
      "Epoch 82/100\n",
      "11513/11513 [==============================] - 1s 53us/step - loss: 0.0271 - accuracy: 0.9916\n",
      "Epoch 83/100\n",
      "11513/11513 [==============================] - 1s 53us/step - loss: 0.0272 - accuracy: 0.9916\n",
      "Epoch 84/100\n",
      "11513/11513 [==============================] - 1s 52us/step - loss: 0.0266 - accuracy: 0.9911\n",
      "Epoch 85/100\n",
      "11513/11513 [==============================] - 1s 53us/step - loss: 0.0278 - accuracy: 0.9914\n",
      "Epoch 86/100\n",
      "11513/11513 [==============================] - 1s 52us/step - loss: 0.0268 - accuracy: 0.9913\n",
      "Epoch 87/100\n",
      "11513/11513 [==============================] - 1s 54us/step - loss: 0.0273 - accuracy: 0.9914\n",
      "Epoch 88/100\n",
      "11513/11513 [==============================] - 1s 53us/step - loss: 0.0269 - accuracy: 0.9914\n",
      "Epoch 89/100\n",
      "11513/11513 [==============================] - 1s 53us/step - loss: 0.0266 - accuracy: 0.9919\n",
      "Epoch 90/100\n",
      "11513/11513 [==============================] - 1s 53us/step - loss: 0.0266 - accuracy: 0.9915\n",
      "Epoch 91/100\n",
      "11513/11513 [==============================] - 1s 53us/step - loss: 0.0265 - accuracy: 0.9917\n",
      "Epoch 92/100\n",
      "11513/11513 [==============================] - 1s 52us/step - loss: 0.0269 - accuracy: 0.9912\n",
      "Epoch 93/100\n",
      "11513/11513 [==============================] - 1s 53us/step - loss: 0.0272 - accuracy: 0.9914\n",
      "Epoch 94/100\n",
      "11513/11513 [==============================] - 1s 52us/step - loss: 0.0265 - accuracy: 0.9916\n",
      "Epoch 95/100\n",
      "11513/11513 [==============================] - 1s 53us/step - loss: 0.0265 - accuracy: 0.9914\n",
      "Epoch 96/100\n",
      "11513/11513 [==============================] - 1s 53us/step - loss: 0.0262 - accuracy: 0.9916\n",
      "Epoch 97/100\n",
      "11513/11513 [==============================] - ETA: 0s - loss: 0.0270 - accuracy: 0.99 - 1s 57us/step - loss: 0.0268 - accuracy: 0.9918\n",
      "Epoch 98/100\n",
      "11513/11513 [==============================] - 1s 60us/step - loss: 0.0263 - accuracy: 0.9914\n",
      "Epoch 99/100\n",
      "11513/11513 [==============================] - 1s 53us/step - loss: 0.0265 - accuracy: 0.9913\n",
      "Epoch 100/100\n",
      "11513/11513 [==============================] - 1s 53us/step - loss: 0.0261 - accuracy: 0.9917\n"
     ]
    }
   ],
   "source": [
    "model2 = build_model()\n",
    "\n",
    "history2 = model2.fit(X_train, y_train, epochs=100, batch_size=100).history"
   ]
  },
  {
   "cell_type": "code",
   "execution_count": 57,
   "metadata": {},
   "outputs": [
    {
     "data": {
      "image/png": "[encoded data removed]",
      "text/plain": [
       "<Figure size 432x288 with 1 Axes>"
      ]
     },
     "metadata": {
      "needs_background": "light"
     },
     "output_type": "display_data"
    }
   ],
   "source": [
    "plt.plot(history1['loss'], label='Loss 30')\n",
    "plt.plot(history2['loss'], label='Loss 100')\n",
    "plt.xlabel('Epochs')\n",
    "plt.ylabel('Cross-Entropy')\n",
    "plt.legend()\n",
    "plt.show()"
   ]
  },
  {
   "cell_type": "code",
   "execution_count": 58,
   "metadata": {},
   "outputs": [
    {
     "name": "stdout",
     "output_type": "stream",
     "text": [
      "6168/6168 [==============================] - 1s 215us/step\n",
      "6168/6168 [==============================] - 1s 206us/step\n",
      "Loss 0.030480, Accuracy 0.991407\n",
      "Loss 0.030223, Accuracy 0.992866\n"
     ]
    }
   ],
   "source": [
    "test_loss_1, test_acc_1 = model1.evaluate(X_test, y_test)\n",
    "test_loss_2, test_acc_2 = model2.evaluate(X_test, y_test)\n",
    "\n",
    "print('Loss %f, Accuracy %f' % (test_loss_1, test_acc_1))\n",
    "print('Loss %f, Accuracy %f' % (test_loss_2, test_acc_2))"
   ]
  },
  {
   "cell_type": "code",
   "execution_count": 59,
   "metadata": {},
   "outputs": [
    {
     "name": "stdout",
     "output_type": "stream",
     "text": [
      "Accuracy 0.7689688715953308\n",
      "F1-score [0.86939786 0.        ]\n",
      "              precision    recall  f1-score   support\n",
      "\n",
      "           0       0.77      1.00      0.87      4743\n",
      "           1       0.00      0.00      0.00      1425\n",
      "\n",
      "    accuracy                           0.77      6168\n",
      "   macro avg       0.38      0.50      0.43      6168\n",
      "weighted avg       0.59      0.77      0.67      6168\n",
      "\n"
     ]
    },
    {
     "name": "stderr",
     "output_type": "stream",
     "text": [
      "C:\\Users\\Gianmarco\\anaconda3\\envs\\tfk\\lib\\site-packages\\sklearn\\metrics\\_classification.py:1272: UndefinedMetricWarning: Precision and F-score are ill-defined and being set to 0.0 in labels with no predicted samples. Use `zero_division` parameter to control this behavior.\n",
      "  _warn_prf(average, modifier, msg_start, len(result))\n"
     ]
    }
   ],
   "source": [
    "y_pred = model2.predict(X_test).astype(int)\n",
    "\n",
    "print('Accuracy %s' % accuracy_score(y_test, y_pred))\n",
    "print('F1-score %s' % f1_score(y_test, y_pred, average=None))\n",
    "print(classification_report(y_test, y_pred))"
   ]
  },
  {
   "cell_type": "code",
   "execution_count": 60,
   "metadata": {},
   "outputs": [],
   "source": [
    "X_train, X_val, y_train, y_val = train_test_split(X_train, y_train, test_size=0.2)"
   ]
  },
  {
   "cell_type": "code",
   "execution_count": 61,
   "metadata": {},
   "outputs": [
    {
     "name": "stdout",
     "output_type": "stream",
     "text": [
      "Train on 9210 samples, validate on 2303 samples\n",
      "Epoch 1/200\n",
      "9210/9210 [==============================] - 2s 249us/step - loss: 0.4148 - accuracy: 0.8289 - val_loss: 0.2023 - val_accuracy: 0.9570\n",
      "Epoch 2/200\n",
      "9210/9210 [==============================] - 1s 66us/step - loss: 0.1232 - accuracy: 0.9679 - val_loss: 0.0835 - val_accuracy: 0.9731\n",
      "Epoch 3/200\n",
      "9210/9210 [==============================] - 1s 65us/step - loss: 0.0676 - accuracy: 0.9784 - val_loss: 0.0609 - val_accuracy: 0.9792\n",
      "Epoch 4/200\n",
      "9210/9210 [==============================] - 1s 65us/step - loss: 0.0538 - accuracy: 0.9848 - val_loss: 0.0522 - val_accuracy: 0.9852\n",
      "Epoch 5/200\n",
      "9210/9210 [==============================] - 1s 65us/step - loss: 0.0484 - accuracy: 0.9877 - val_loss: 0.0485 - val_accuracy: 0.9878\n",
      "Epoch 6/200\n",
      "9210/9210 [==============================] - 1s 71us/step - loss: 0.0468 - accuracy: 0.9884 - val_loss: 0.0472 - val_accuracy: 0.9878\n",
      "Epoch 7/200\n",
      "9210/9210 [==============================] - 1s 76us/step - loss: 0.0444 - accuracy: 0.9889 - val_loss: 0.0465 - val_accuracy: 0.9878\n",
      "Epoch 8/200\n",
      "9210/9210 [==============================] - 1s 72us/step - loss: 0.0435 - accuracy: 0.9889 - val_loss: 0.0463 - val_accuracy: 0.9883\n",
      "Epoch 9/200\n",
      "9210/9210 [==============================] - 1s 69us/step - loss: 0.0430 - accuracy: 0.9888 - val_loss: 0.0466 - val_accuracy: 0.9891\n",
      "Epoch 10/200\n",
      "9210/9210 [==============================] - 1s 67us/step - loss: 0.0428 - accuracy: 0.9890 - val_loss: 0.0464 - val_accuracy: 0.9887\n",
      "Epoch 11/200\n",
      "9210/9210 [==============================] - 1s 65us/step - loss: 0.0425 - accuracy: 0.9889 - val_loss: 0.0468 - val_accuracy: 0.9878\n",
      "Epoch 12/200\n",
      "9210/9210 [==============================] - 1s 67us/step - loss: 0.0429 - accuracy: 0.9891 - val_loss: 0.0471 - val_accuracy: 0.9878\n",
      "Epoch 13/200\n",
      "9210/9210 [==============================] - 1s 65us/step - loss: 0.0423 - accuracy: 0.9888 - val_loss: 0.0470 - val_accuracy: 0.9891\n",
      "Epoch 14/200\n",
      "9210/9210 [==============================] - 1s 66us/step - loss: 0.0417 - accuracy: 0.9888 - val_loss: 0.0474 - val_accuracy: 0.9891\n",
      "Epoch 15/200\n",
      "9210/9210 [==============================] - 1s 66us/step - loss: 0.0419 - accuracy: 0.9888 - val_loss: 0.0480 - val_accuracy: 0.9870\n",
      "Epoch 16/200\n",
      "9210/9210 [==============================] - 1s 66us/step - loss: 0.0414 - accuracy: 0.9891 - val_loss: 0.0480 - val_accuracy: 0.9870\n",
      "Epoch 17/200\n",
      "9210/9210 [==============================] - 1s 66us/step - loss: 0.0411 - accuracy: 0.9887 - val_loss: 0.0479 - val_accuracy: 0.9891\n",
      "Epoch 18/200\n",
      "9210/9210 [==============================] - 1s 66us/step - loss: 0.0413 - accuracy: 0.9888 - val_loss: 0.0480 - val_accuracy: 0.9878\n",
      "Epoch 19/200\n",
      "9210/9210 [==============================] - 1s 65us/step - loss: 0.0409 - accuracy: 0.9889 - val_loss: 0.0487 - val_accuracy: 0.9870\n",
      "Epoch 20/200\n",
      "9210/9210 [==============================] - 1s 66us/step - loss: 0.0407 - accuracy: 0.9889 - val_loss: 0.0482 - val_accuracy: 0.9878\n",
      "Epoch 21/200\n",
      "9210/9210 [==============================] - 1s 66us/step - loss: 0.0410 - accuracy: 0.9890 - val_loss: 0.0482 - val_accuracy: 0.9878\n",
      "Epoch 22/200\n",
      "9210/9210 [==============================] - 1s 66us/step - loss: 0.0408 - accuracy: 0.9889 - val_loss: 0.0479 - val_accuracy: 0.9891\n",
      "Epoch 23/200\n",
      "9210/9210 [==============================] - 1s 72us/step - loss: 0.0409 - accuracy: 0.9889 - val_loss: 0.0485 - val_accuracy: 0.9883\n",
      "Epoch 24/200\n",
      "9210/9210 [==============================] - 1s 70us/step - loss: 0.0409 - accuracy: 0.9891 - val_loss: 0.0489 - val_accuracy: 0.9878\n",
      "Epoch 25/200\n",
      "9210/9210 [==============================] - 1s 72us/step - loss: 0.0407 - accuracy: 0.9889 - val_loss: 0.0485 - val_accuracy: 0.9891\n",
      "Epoch 26/200\n",
      "9210/9210 [==============================] - 1s 69us/step - loss: 0.0404 - accuracy: 0.9891 - val_loss: 0.0488 - val_accuracy: 0.9883\n",
      "Epoch 27/200\n",
      "9210/9210 [==============================] - 1s 70us/step - loss: 0.0404 - accuracy: 0.9889 - val_loss: 0.0487 - val_accuracy: 0.9896\n",
      "Epoch 28/200\n",
      "9210/9210 [==============================] - 1s 66us/step - loss: 0.0416 - accuracy: 0.9885 - val_loss: 0.0498 - val_accuracy: 0.9865\n",
      "Epoch 29/200\n",
      "9210/9210 [==============================] - 1s 66us/step - loss: 0.0402 - accuracy: 0.9891 - val_loss: 0.0491 - val_accuracy: 0.9878\n",
      "Epoch 30/200\n",
      "9210/9210 [==============================] - 1s 66us/step - loss: 0.0400 - accuracy: 0.9890 - val_loss: 0.0491 - val_accuracy: 0.9887\n",
      "Epoch 31/200\n",
      "9210/9210 [==============================] - 1s 68us/step - loss: 0.0401 - accuracy: 0.9891 - val_loss: 0.0487 - val_accuracy: 0.9891\n",
      "Epoch 32/200\n",
      "9210/9210 [==============================] - 1s 68us/step - loss: 0.0401 - accuracy: 0.9894 - val_loss: 0.0509 - val_accuracy: 0.9865\n",
      "Epoch 33/200\n",
      "9210/9210 [==============================] - 1s 71us/step - loss: 0.0401 - accuracy: 0.9890 - val_loss: 0.0497 - val_accuracy: 0.9878\n",
      "Epoch 34/200\n",
      "9210/9210 [==============================] - 1s 63us/step - loss: 0.0404 - accuracy: 0.9890 - val_loss: 0.0498 - val_accuracy: 0.9878\n",
      "Epoch 35/200\n",
      "9210/9210 [==============================] - 1s 63us/step - loss: 0.0395 - accuracy: 0.9890 - val_loss: 0.0492 - val_accuracy: 0.9887\n",
      "Epoch 36/200\n",
      "9210/9210 [==============================] - 1s 68us/step - loss: 0.0400 - accuracy: 0.9889 - val_loss: 0.0489 - val_accuracy: 0.9891\n",
      "Epoch 37/200\n",
      "9210/9210 [==============================] - 1s 66us/step - loss: 0.0395 - accuracy: 0.9893 - val_loss: 0.0492 - val_accuracy: 0.9891\n",
      "Epoch 38/200\n",
      "9210/9210 [==============================] - 1s 67us/step - loss: 0.0393 - accuracy: 0.9890 - val_loss: 0.0496 - val_accuracy: 0.9883\n",
      "Epoch 39/200\n",
      "9210/9210 [==============================] - 1s 63us/step - loss: 0.0396 - accuracy: 0.9891 - val_loss: 0.0492 - val_accuracy: 0.9891\n",
      "Epoch 40/200\n",
      "9210/9210 [==============================] - 1s 58us/step - loss: 0.0391 - accuracy: 0.9890 - val_loss: 0.0491 - val_accuracy: 0.9891\n",
      "Epoch 41/200\n",
      "9210/9210 [==============================] - 1s 60us/step - loss: 0.0392 - accuracy: 0.9893 - val_loss: 0.0490 - val_accuracy: 0.9891\n",
      "Epoch 42/200\n",
      "9210/9210 [==============================] - 1s 61us/step - loss: 0.0390 - accuracy: 0.9894 - val_loss: 0.0491 - val_accuracy: 0.9891\n",
      "Epoch 43/200\n",
      "9210/9210 [==============================] - 1s 66us/step - loss: 0.0387 - accuracy: 0.9894 - val_loss: 0.0493 - val_accuracy: 0.9891\n",
      "Epoch 44/200\n",
      "9210/9210 [==============================] - 1s 67us/step - loss: 0.0394 - accuracy: 0.9894 - val_loss: 0.0502 - val_accuracy: 0.9883\n",
      "Epoch 45/200\n",
      "9210/9210 [==============================] - 1s 64us/step - loss: 0.0388 - accuracy: 0.9893 - val_loss: 0.0499 - val_accuracy: 0.9891\n",
      "Epoch 46/200\n",
      "9210/9210 [==============================] - 1s 63us/step - loss: 0.0387 - accuracy: 0.9895 - val_loss: 0.0501 - val_accuracy: 0.9887\n",
      "Epoch 47/200\n",
      "9210/9210 [==============================] - 1s 63us/step - loss: 0.0383 - accuracy: 0.9895 - val_loss: 0.0506 - val_accuracy: 0.9887\n",
      "Epoch 48/200\n",
      "9210/9210 [==============================] - 1s 64us/step - loss: 0.0382 - accuracy: 0.9896 - val_loss: 0.0508 - val_accuracy: 0.9883\n",
      "Epoch 49/200\n",
      "9210/9210 [==============================] - 1s 63us/step - loss: 0.0381 - accuracy: 0.9894 - val_loss: 0.0500 - val_accuracy: 0.9891\n",
      "Epoch 50/200\n",
      "9210/9210 [==============================] - 1s 64us/step - loss: 0.0381 - accuracy: 0.9895 - val_loss: 0.0509 - val_accuracy: 0.9887\n",
      "Epoch 51/200\n",
      "9210/9210 [==============================] - 1s 64us/step - loss: 0.0379 - accuracy: 0.9893 - val_loss: 0.0505 - val_accuracy: 0.9891\n",
      "Epoch 52/200\n",
      "9210/9210 [==============================] - 1s 64us/step - loss: 0.0380 - accuracy: 0.9894 - val_loss: 0.0514 - val_accuracy: 0.9891\n",
      "Epoch 53/200\n",
      "9210/9210 [==============================] - 1s 63us/step - loss: 0.0381 - accuracy: 0.9896 - val_loss: 0.0518 - val_accuracy: 0.9883\n",
      "Epoch 54/200\n",
      "9210/9210 [==============================] - 1s 66us/step - loss: 0.0382 - accuracy: 0.9894 - val_loss: 0.0505 - val_accuracy: 0.9891\n",
      "Epoch 55/200\n",
      "9210/9210 [==============================] - 1s 64us/step - loss: 0.0377 - accuracy: 0.9896 - val_loss: 0.0506 - val_accuracy: 0.9891\n",
      "Epoch 56/200\n"
     ]
    },
    {
     "name": "stdout",
     "output_type": "stream",
     "text": [
      "9210/9210 [==============================] - 1s 64us/step - loss: 0.0371 - accuracy: 0.9895 - val_loss: 0.0503 - val_accuracy: 0.9900\n",
      "Epoch 57/200\n",
      "9210/9210 [==============================] - 1s 60us/step - loss: 0.0374 - accuracy: 0.9894 - val_loss: 0.0500 - val_accuracy: 0.9900\n",
      "Epoch 58/200\n",
      "9210/9210 [==============================] - 1s 70us/step - loss: 0.0368 - accuracy: 0.9893 - val_loss: 0.0499 - val_accuracy: 0.9900\n",
      "Epoch 59/200\n",
      "9210/9210 [==============================] - 1s 68us/step - loss: 0.0370 - accuracy: 0.9897 - val_loss: 0.0496 - val_accuracy: 0.9900\n",
      "Epoch 60/200\n",
      "9210/9210 [==============================] - 1s 66us/step - loss: 0.0365 - accuracy: 0.9896 - val_loss: 0.0505 - val_accuracy: 0.9900\n",
      "Epoch 61/200\n",
      "9210/9210 [==============================] - ETA: 0s - loss: 0.0370 - accuracy: 0.98 - 1s 64us/step - loss: 0.0364 - accuracy: 0.9896 - val_loss: 0.0500 - val_accuracy: 0.9900\n",
      "Epoch 62/200\n",
      "9210/9210 [==============================] - 1s 63us/step - loss: 0.0359 - accuracy: 0.9896 - val_loss: 0.0504 - val_accuracy: 0.9900\n",
      "Epoch 63/200\n",
      "9210/9210 [==============================] - 1s 68us/step - loss: 0.0357 - accuracy: 0.9896 - val_loss: 0.0502 - val_accuracy: 0.9900\n",
      "Epoch 64/200\n",
      "9210/9210 [==============================] - 1s 62us/step - loss: 0.0360 - accuracy: 0.9895 - val_loss: 0.0513 - val_accuracy: 0.9900\n",
      "Epoch 65/200\n",
      "9210/9210 [==============================] - 1s 67us/step - loss: 0.0359 - accuracy: 0.9896 - val_loss: 0.0511 - val_accuracy: 0.9900\n",
      "Epoch 66/200\n",
      "9210/9210 [==============================] - 1s 65us/step - loss: 0.0353 - accuracy: 0.9897 - val_loss: 0.0514 - val_accuracy: 0.9900\n",
      "Epoch 67/200\n",
      "9210/9210 [==============================] - 1s 68us/step - loss: 0.0351 - accuracy: 0.9896 - val_loss: 0.0522 - val_accuracy: 0.9891\n",
      "Epoch 68/200\n",
      "9210/9210 [==============================] - 1s 60us/step - loss: 0.0359 - accuracy: 0.9895 - val_loss: 0.0515 - val_accuracy: 0.9900\n",
      "Epoch 69/200\n",
      "9210/9210 [==============================] - 1s 59us/step - loss: 0.0349 - accuracy: 0.9895 - val_loss: 0.0508 - val_accuracy: 0.9900\n",
      "Epoch 70/200\n",
      "9210/9210 [==============================] - 1s 59us/step - loss: 0.0348 - accuracy: 0.9896 - val_loss: 0.0511 - val_accuracy: 0.9900\n",
      "Epoch 71/200\n",
      "9210/9210 [==============================] - 1s 58us/step - loss: 0.0343 - accuracy: 0.9896 - val_loss: 0.0512 - val_accuracy: 0.9900\n",
      "Epoch 72/200\n",
      "9210/9210 [==============================] - 1s 58us/step - loss: 0.0342 - accuracy: 0.9897 - val_loss: 0.0520 - val_accuracy: 0.9900\n",
      "Epoch 73/200\n",
      "9210/9210 [==============================] - 1s 62us/step - loss: 0.0338 - accuracy: 0.9896 - val_loss: 0.0524 - val_accuracy: 0.9891\n",
      "Epoch 74/200\n",
      "9210/9210 [==============================] - 1s 60us/step - loss: 0.0339 - accuracy: 0.9896 - val_loss: 0.0524 - val_accuracy: 0.9900\n",
      "Epoch 75/200\n",
      "9210/9210 [==============================] - 1s 58us/step - loss: 0.0334 - accuracy: 0.9898 - val_loss: 0.0519 - val_accuracy: 0.9900\n",
      "Epoch 76/200\n",
      "9210/9210 [==============================] - 1s 58us/step - loss: 0.0333 - accuracy: 0.9897 - val_loss: 0.0535 - val_accuracy: 0.9896\n",
      "Epoch 77/200\n",
      "9210/9210 [==============================] - 1s 60us/step - loss: 0.0339 - accuracy: 0.9894 - val_loss: 0.0543 - val_accuracy: 0.9891\n",
      "Epoch 78/200\n",
      "9210/9210 [==============================] - 1s 63us/step - loss: 0.0336 - accuracy: 0.9897 - val_loss: 0.0540 - val_accuracy: 0.9900\n",
      "Epoch 79/200\n",
      "9210/9210 [==============================] - 1s 61us/step - loss: 0.0333 - accuracy: 0.9895 - val_loss: 0.0518 - val_accuracy: 0.9900\n",
      "Epoch 80/200\n",
      "9210/9210 [==============================] - 1s 60us/step - loss: 0.0328 - accuracy: 0.9897 - val_loss: 0.0530 - val_accuracy: 0.9900\n",
      "Epoch 81/200\n",
      "9210/9210 [==============================] - 1s 60us/step - loss: 0.0332 - accuracy: 0.9893 - val_loss: 0.0551 - val_accuracy: 0.9891\n",
      "Epoch 82/200\n",
      "9210/9210 [==============================] - 1s 57us/step - loss: 0.0329 - accuracy: 0.9898 - val_loss: 0.0532 - val_accuracy: 0.9900\n",
      "Epoch 83/200\n",
      "9210/9210 [==============================] - 1s 58us/step - loss: 0.0325 - accuracy: 0.9899 - val_loss: 0.0529 - val_accuracy: 0.9900\n",
      "Epoch 84/200\n",
      "9210/9210 [==============================] - 1s 63us/step - loss: 0.0329 - accuracy: 0.9896 - val_loss: 0.0552 - val_accuracy: 0.9900\n",
      "Epoch 85/200\n",
      "9210/9210 [==============================] - 1s 64us/step - loss: 0.0320 - accuracy: 0.9895 - val_loss: 0.0600 - val_accuracy: 0.9874\n",
      "Epoch 86/200\n",
      "9210/9210 [==============================] - 1s 68us/step - loss: 0.0369 - accuracy: 0.9879 - val_loss: 0.0550 - val_accuracy: 0.9900\n",
      "Epoch 87/200\n",
      "9210/9210 [==============================] - 1s 71us/step - loss: 0.0322 - accuracy: 0.9897 - val_loss: 0.0543 - val_accuracy: 0.9900\n",
      "Epoch 88/200\n",
      "9210/9210 [==============================] - 1s 64us/step - loss: 0.0324 - accuracy: 0.9899 - val_loss: 0.0548 - val_accuracy: 0.9900\n",
      "Epoch 89/200\n",
      "9210/9210 [==============================] - 1s 64us/step - loss: 0.0325 - accuracy: 0.9895 - val_loss: 0.0566 - val_accuracy: 0.9891\n",
      "Epoch 90/200\n",
      "9210/9210 [==============================] - 1s 64us/step - loss: 0.0327 - accuracy: 0.9899 - val_loss: 0.0554 - val_accuracy: 0.9900\n",
      "Epoch 91/200\n",
      "9210/9210 [==============================] - 1s 64us/step - loss: 0.0319 - accuracy: 0.9900 - val_loss: 0.0561 - val_accuracy: 0.9900\n",
      "Epoch 92/200\n",
      "9210/9210 [==============================] - 1s 64us/step - loss: 0.0323 - accuracy: 0.9904 - val_loss: 0.0559 - val_accuracy: 0.9891\n",
      "Epoch 93/200\n",
      "9210/9210 [==============================] - 1s 64us/step - loss: 0.0329 - accuracy: 0.9903 - val_loss: 0.0556 - val_accuracy: 0.9900\n",
      "Epoch 94/200\n",
      "9210/9210 [==============================] - 1s 64us/step - loss: 0.0321 - accuracy: 0.9900 - val_loss: 0.0573 - val_accuracy: 0.9896\n",
      "Epoch 95/200\n",
      "9210/9210 [==============================] - 1s 64us/step - loss: 0.0320 - accuracy: 0.9899 - val_loss: 0.0574 - val_accuracy: 0.9900\n",
      "Epoch 96/200\n",
      "9210/9210 [==============================] - 1s 64us/step - loss: 0.0315 - accuracy: 0.9906 - val_loss: 0.0580 - val_accuracy: 0.9900\n",
      "Epoch 97/200\n",
      "9210/9210 [==============================] - 1s 65us/step - loss: 0.0312 - accuracy: 0.9904 - val_loss: 0.0583 - val_accuracy: 0.9900\n",
      "Epoch 98/200\n",
      "9210/9210 [==============================] - 1s 64us/step - loss: 0.0322 - accuracy: 0.9896 - val_loss: 0.0573 - val_accuracy: 0.9900\n",
      "Epoch 99/200\n",
      "9210/9210 [==============================] - 1s 65us/step - loss: 0.0313 - accuracy: 0.9902 - val_loss: 0.0585 - val_accuracy: 0.9900\n",
      "Epoch 100/200\n",
      "9210/9210 [==============================] - 1s 63us/step - loss: 0.0315 - accuracy: 0.9901 - val_loss: 0.0622 - val_accuracy: 0.9887\n",
      "Epoch 101/200\n",
      "9210/9210 [==============================] - 1s 64us/step - loss: 0.0306 - accuracy: 0.9911 - val_loss: 0.0608 - val_accuracy: 0.9896\n",
      "Epoch 102/200\n",
      "9210/9210 [==============================] - 1s 63us/step - loss: 0.0311 - accuracy: 0.9902 - val_loss: 0.0604 - val_accuracy: 0.9896\n",
      "Epoch 103/200\n",
      "9210/9210 [==============================] - 1s 64us/step - loss: 0.0313 - accuracy: 0.9909 - val_loss: 0.0605 - val_accuracy: 0.9900\n",
      "Epoch 104/200\n",
      "9210/9210 [==============================] - 1s 64us/step - loss: 0.0309 - accuracy: 0.9899 - val_loss: 0.0612 - val_accuracy: 0.9900\n",
      "Epoch 105/200\n",
      "9210/9210 [==============================] - 1s 64us/step - loss: 0.0305 - accuracy: 0.9908 - val_loss: 0.0620 - val_accuracy: 0.9900\n",
      "Epoch 106/200\n",
      "9210/9210 [==============================] - 1s 64us/step - loss: 0.0305 - accuracy: 0.9911 - val_loss: 0.0622 - val_accuracy: 0.9904\n",
      "Epoch 107/200\n",
      "9210/9210 [==============================] - 1s 62us/step - loss: 0.0318 - accuracy: 0.9908 - val_loss: 0.0619 - val_accuracy: 0.9887\n",
      "Epoch 108/200\n",
      "9210/9210 [==============================] - 1s 63us/step - loss: 0.0309 - accuracy: 0.9907 - val_loss: 0.0653 - val_accuracy: 0.9896\n",
      "Epoch 109/200\n",
      "9210/9210 [==============================] - 1s 62us/step - loss: 0.0305 - accuracy: 0.9907 - val_loss: 0.0628 - val_accuracy: 0.9900\n",
      "Epoch 110/200\n",
      "9210/9210 [==============================] - 1s 58us/step - loss: 0.0299 - accuracy: 0.9913 - val_loss: 0.0634 - val_accuracy: 0.9904\n",
      "Epoch 111/200\n"
     ]
    },
    {
     "name": "stdout",
     "output_type": "stream",
     "text": [
      "9210/9210 [==============================] - 1s 59us/step - loss: 0.0296 - accuracy: 0.9912 - val_loss: 0.0637 - val_accuracy: 0.9896\n",
      "Epoch 112/200\n",
      "9210/9210 [==============================] - 1s 59us/step - loss: 0.0299 - accuracy: 0.9913 - val_loss: 0.0636 - val_accuracy: 0.9904\n",
      "Epoch 113/200\n",
      "9210/9210 [==============================] - 1s 67us/step - loss: 0.0293 - accuracy: 0.9915 - val_loss: 0.0652 - val_accuracy: 0.9909\n",
      "Epoch 114/200\n",
      "9210/9210 [==============================] - 1s 70us/step - loss: 0.0293 - accuracy: 0.9919 - val_loss: 0.0659 - val_accuracy: 0.9896\n",
      "Epoch 115/200\n",
      "9210/9210 [==============================] - 1s 65us/step - loss: 0.0291 - accuracy: 0.9916 - val_loss: 0.0664 - val_accuracy: 0.9900\n",
      "Epoch 116/200\n",
      "9210/9210 [==============================] - 1s 64us/step - loss: 0.0302 - accuracy: 0.9911 - val_loss: 0.0660 - val_accuracy: 0.9900\n",
      "Epoch 117/200\n",
      "9210/9210 [==============================] - 1s 65us/step - loss: 0.0282 - accuracy: 0.9920 - val_loss: 0.0709 - val_accuracy: 0.9887\n",
      "Epoch 118/200\n",
      "9210/9210 [==============================] - 1s 64us/step - loss: 0.0293 - accuracy: 0.9915 - val_loss: 0.0675 - val_accuracy: 0.9904\n",
      "Epoch 119/200\n",
      "9210/9210 [==============================] - 1s 66us/step - loss: 0.0290 - accuracy: 0.9912 - val_loss: 0.0668 - val_accuracy: 0.9896\n",
      "Epoch 120/200\n",
      "9210/9210 [==============================] - 1s 64us/step - loss: 0.0285 - accuracy: 0.9915 - val_loss: 0.0684 - val_accuracy: 0.9904\n",
      "Epoch 121/200\n",
      "9210/9210 [==============================] - 1s 64us/step - loss: 0.0289 - accuracy: 0.9917 - val_loss: 0.0682 - val_accuracy: 0.9900\n",
      "Epoch 122/200\n",
      "9210/9210 [==============================] - 1s 64us/step - loss: 0.0282 - accuracy: 0.9922 - val_loss: 0.0683 - val_accuracy: 0.9900\n",
      "Epoch 123/200\n",
      "9210/9210 [==============================] - 1s 64us/step - loss: 0.0288 - accuracy: 0.9916 - val_loss: 0.0710 - val_accuracy: 0.9887\n",
      "Epoch 124/200\n",
      "9210/9210 [==============================] - 1s 64us/step - loss: 0.0286 - accuracy: 0.9916 - val_loss: 0.0695 - val_accuracy: 0.9896\n",
      "Epoch 125/200\n",
      "9210/9210 [==============================] - 1s 62us/step - loss: 0.0283 - accuracy: 0.9915 - val_loss: 0.0696 - val_accuracy: 0.9900\n",
      "Epoch 126/200\n",
      "9210/9210 [==============================] - 1s 58us/step - loss: 0.0290 - accuracy: 0.9917 - val_loss: 0.0710 - val_accuracy: 0.9891\n",
      "Epoch 127/200\n",
      "9210/9210 [==============================] - 1s 58us/step - loss: 0.0283 - accuracy: 0.9923 - val_loss: 0.0698 - val_accuracy: 0.9900\n",
      "Epoch 128/200\n",
      "9210/9210 [==============================] - 1s 58us/step - loss: 0.0283 - accuracy: 0.9916 - val_loss: 0.0723 - val_accuracy: 0.9891\n",
      "Epoch 129/200\n",
      "9210/9210 [==============================] - 1s 61us/step - loss: 0.0288 - accuracy: 0.9917 - val_loss: 0.0714 - val_accuracy: 0.9900\n",
      "Epoch 130/200\n",
      "9210/9210 [==============================] - 1s 63us/step - loss: 0.0282 - accuracy: 0.9916 - val_loss: 0.0704 - val_accuracy: 0.9900\n",
      "Epoch 131/200\n",
      "9210/9210 [==============================] - 1s 59us/step - loss: 0.0294 - accuracy: 0.9906 - val_loss: 0.0713 - val_accuracy: 0.9896\n",
      "Epoch 132/200\n",
      "9210/9210 [==============================] - 1s 60us/step - loss: 0.0297 - accuracy: 0.9911 - val_loss: 0.0725 - val_accuracy: 0.9896\n",
      "Epoch 133/200\n",
      "9210/9210 [==============================] - 1s 59us/step - loss: 0.0277 - accuracy: 0.9923 - val_loss: 0.0730 - val_accuracy: 0.9887\n",
      "Epoch 134/200\n",
      "9210/9210 [==============================] - 1s 59us/step - loss: 0.0284 - accuracy: 0.9919 - val_loss: 0.0722 - val_accuracy: 0.9896\n",
      "Epoch 135/200\n",
      "9210/9210 [==============================] - 1s 58us/step - loss: 0.0282 - accuracy: 0.9920 - val_loss: 0.0714 - val_accuracy: 0.9900\n",
      "Epoch 136/200\n",
      "9210/9210 [==============================] - 1s 58us/step - loss: 0.0277 - accuracy: 0.9920 - val_loss: 0.0726 - val_accuracy: 0.9900\n",
      "Epoch 137/200\n",
      "9210/9210 [==============================] - 1s 63us/step - loss: 0.0278 - accuracy: 0.9919 - val_loss: 0.0731 - val_accuracy: 0.9896\n",
      "Epoch 138/200\n",
      "9210/9210 [==============================] - 1s 59us/step - loss: 0.0272 - accuracy: 0.9917 - val_loss: 0.0735 - val_accuracy: 0.9900\n",
      "Epoch 139/200\n",
      "9210/9210 [==============================] - 1s 58us/step - loss: 0.0274 - accuracy: 0.9922 - val_loss: 0.0746 - val_accuracy: 0.9900\n",
      "Epoch 140/200\n",
      "9210/9210 [==============================] - 1s 62us/step - loss: 0.0277 - accuracy: 0.9920 - val_loss: 0.0747 - val_accuracy: 0.9900\n",
      "Epoch 141/200\n",
      "9210/9210 [==============================] - 1s 69us/step - loss: 0.0277 - accuracy: 0.9922 - val_loss: 0.0759 - val_accuracy: 0.9896\n",
      "Epoch 142/200\n",
      "9210/9210 [==============================] - 1s 65us/step - loss: 0.0280 - accuracy: 0.9917 - val_loss: 0.0771 - val_accuracy: 0.9896\n",
      "Epoch 143/200\n",
      "9210/9210 [==============================] - 1s 66us/step - loss: 0.0278 - accuracy: 0.9921 - val_loss: 0.0761 - val_accuracy: 0.9904\n",
      "Epoch 144/200\n",
      "9210/9210 [==============================] - 1s 65us/step - loss: 0.0268 - accuracy: 0.9916 - val_loss: 0.0774 - val_accuracy: 0.9887\n",
      "Epoch 145/200\n",
      "9210/9210 [==============================] - 1s 63us/step - loss: 0.0272 - accuracy: 0.9922 - val_loss: 0.0760 - val_accuracy: 0.9909\n",
      "Epoch 146/200\n",
      "9210/9210 [==============================] - 1s 61us/step - loss: 0.0269 - accuracy: 0.9920 - val_loss: 0.0774 - val_accuracy: 0.9904\n",
      "Epoch 147/200\n",
      "9210/9210 [==============================] - 1s 66us/step - loss: 0.0283 - accuracy: 0.9915 - val_loss: 0.0770 - val_accuracy: 0.9900\n",
      "Epoch 148/200\n",
      "9210/9210 [==============================] - 1s 62us/step - loss: 0.0268 - accuracy: 0.9923 - val_loss: 0.0776 - val_accuracy: 0.9900\n",
      "Epoch 149/200\n",
      "9210/9210 [==============================] - 1s 67us/step - loss: 0.0270 - accuracy: 0.9920 - val_loss: 0.0790 - val_accuracy: 0.9900\n",
      "Epoch 150/200\n",
      "9210/9210 [==============================] - 1s 61us/step - loss: 0.0270 - accuracy: 0.9919 - val_loss: 0.0799 - val_accuracy: 0.9904\n",
      "Epoch 151/200\n",
      "9210/9210 [==============================] - 1s 59us/step - loss: 0.0266 - accuracy: 0.9916 - val_loss: 0.0817 - val_accuracy: 0.9900\n",
      "Epoch 152/200\n",
      "9210/9210 [==============================] - 1s 57us/step - loss: 0.0272 - accuracy: 0.9919 - val_loss: 0.0798 - val_accuracy: 0.9900\n",
      "Epoch 153/200\n",
      "9210/9210 [==============================] - 1s 58us/step - loss: 0.0268 - accuracy: 0.9919 - val_loss: 0.0810 - val_accuracy: 0.9900\n",
      "Epoch 154/200\n",
      "9210/9210 [==============================] - 1s 64us/step - loss: 0.0274 - accuracy: 0.9919 - val_loss: 0.0797 - val_accuracy: 0.9896\n",
      "Epoch 155/200\n",
      "9210/9210 [==============================] - 1s 59us/step - loss: 0.0264 - accuracy: 0.9923 - val_loss: 0.0813 - val_accuracy: 0.9904\n",
      "Epoch 156/200\n",
      "9210/9210 [==============================] - 1s 60us/step - loss: 0.0269 - accuracy: 0.9919 - val_loss: 0.0806 - val_accuracy: 0.9904\n",
      "Epoch 157/200\n",
      "9210/9210 [==============================] - 1s 58us/step - loss: 0.0262 - accuracy: 0.9921 - val_loss: 0.0803 - val_accuracy: 0.9900\n",
      "Epoch 158/200\n",
      "9210/9210 [==============================] - 1s 59us/step - loss: 0.0264 - accuracy: 0.9919 - val_loss: 0.0828 - val_accuracy: 0.9896\n",
      "Epoch 159/200\n",
      "9210/9210 [==============================] - 1s 59us/step - loss: 0.0268 - accuracy: 0.9916 - val_loss: 0.0820 - val_accuracy: 0.9900\n",
      "Epoch 160/200\n",
      "9210/9210 [==============================] - 1s 58us/step - loss: 0.0260 - accuracy: 0.9925 - val_loss: 0.0812 - val_accuracy: 0.9904\n",
      "Epoch 161/200\n",
      "9210/9210 [==============================] - 1s 58us/step - loss: 0.0267 - accuracy: 0.9919 - val_loss: 0.0800 - val_accuracy: 0.9904\n",
      "Epoch 162/200\n",
      "9210/9210 [==============================] - 1s 59us/step - loss: 0.0262 - accuracy: 0.9920 - val_loss: 0.0821 - val_accuracy: 0.9904\n",
      "Epoch 163/200\n",
      "9210/9210 [==============================] - 1s 60us/step - loss: 0.0255 - accuracy: 0.9926 - val_loss: 0.0819 - val_accuracy: 0.9896\n",
      "Epoch 164/200\n",
      "9210/9210 [==============================] - 1s 60us/step - loss: 0.0260 - accuracy: 0.9924 - val_loss: 0.0817 - val_accuracy: 0.9900\n",
      "Epoch 165/200\n",
      "9210/9210 [==============================] - 1s 58us/step - loss: 0.0261 - accuracy: 0.9921 - val_loss: 0.0830 - val_accuracy: 0.9900\n",
      "Epoch 166/200\n"
     ]
    },
    {
     "name": "stdout",
     "output_type": "stream",
     "text": [
      "9210/9210 [==============================] - 1s 58us/step - loss: 0.0260 - accuracy: 0.9920 - val_loss: 0.0853 - val_accuracy: 0.9891\n",
      "Epoch 167/200\n",
      "9210/9210 [==============================] - 1s 58us/step - loss: 0.0261 - accuracy: 0.9924 - val_loss: 0.0835 - val_accuracy: 0.9904\n",
      "Epoch 168/200\n",
      "9210/9210 [==============================] - 1s 65us/step - loss: 0.0258 - accuracy: 0.9917 - val_loss: 0.0852 - val_accuracy: 0.9909\n",
      "Epoch 169/200\n",
      "9210/9210 [==============================] - 1s 69us/step - loss: 0.0258 - accuracy: 0.9921 - val_loss: 0.0875 - val_accuracy: 0.9909\n",
      "Epoch 170/200\n",
      "9210/9210 [==============================] - 1s 69us/step - loss: 0.0264 - accuracy: 0.9923 - val_loss: 0.0880 - val_accuracy: 0.9891\n",
      "Epoch 171/200\n",
      "9210/9210 [==============================] - 1s 65us/step - loss: 0.0257 - accuracy: 0.9922 - val_loss: 0.0862 - val_accuracy: 0.9904\n",
      "Epoch 172/200\n",
      "9210/9210 [==============================] - 1s 64us/step - loss: 0.0261 - accuracy: 0.9921 - val_loss: 0.0854 - val_accuracy: 0.9904\n",
      "Epoch 173/200\n",
      "9210/9210 [==============================] - 1s 65us/step - loss: 0.0253 - accuracy: 0.9928 - val_loss: 0.0858 - val_accuracy: 0.9896\n",
      "Epoch 174/200\n",
      "9210/9210 [==============================] - 1s 64us/step - loss: 0.0259 - accuracy: 0.9922 - val_loss: 0.0852 - val_accuracy: 0.9904\n",
      "Epoch 175/200\n",
      "9210/9210 [==============================] - 1s 64us/step - loss: 0.0258 - accuracy: 0.9924 - val_loss: 0.0879 - val_accuracy: 0.9900\n",
      "Epoch 176/200\n",
      "9210/9210 [==============================] - 1s 64us/step - loss: 0.0253 - accuracy: 0.9926 - val_loss: 0.0861 - val_accuracy: 0.9904\n",
      "Epoch 177/200\n",
      "9210/9210 [==============================] - 1s 64us/step - loss: 0.0259 - accuracy: 0.9919 - val_loss: 0.0870 - val_accuracy: 0.9900\n",
      "Epoch 178/200\n",
      "9210/9210 [==============================] - 1s 64us/step - loss: 0.0260 - accuracy: 0.9927 - val_loss: 0.0853 - val_accuracy: 0.9904\n",
      "Epoch 179/200\n",
      "9210/9210 [==============================] - 1s 65us/step - loss: 0.0253 - accuracy: 0.9924 - val_loss: 0.0858 - val_accuracy: 0.9904\n",
      "Epoch 180/200\n",
      "9210/9210 [==============================] - 1s 67us/step - loss: 0.0256 - accuracy: 0.9919 - val_loss: 0.0841 - val_accuracy: 0.9904\n",
      "Epoch 181/200\n",
      "9210/9210 [==============================] - 1s 64us/step - loss: 0.0258 - accuracy: 0.9920 - val_loss: 0.0869 - val_accuracy: 0.9904\n",
      "Epoch 182/200\n",
      "9210/9210 [==============================] - 1s 65us/step - loss: 0.0259 - accuracy: 0.9921 - val_loss: 0.0864 - val_accuracy: 0.9904\n",
      "Epoch 183/200\n",
      "9210/9210 [==============================] - 1s 64us/step - loss: 0.0261 - accuracy: 0.9919 - val_loss: 0.0868 - val_accuracy: 0.9900\n",
      "Epoch 184/200\n",
      "9210/9210 [==============================] - 1s 64us/step - loss: 0.0262 - accuracy: 0.9924 - val_loss: 0.0869 - val_accuracy: 0.9900\n",
      "Epoch 185/200\n",
      "9210/9210 [==============================] - 1s 64us/step - loss: 0.0251 - accuracy: 0.9923 - val_loss: 0.0863 - val_accuracy: 0.9904\n",
      "Epoch 186/200\n",
      "9210/9210 [==============================] - 1s 64us/step - loss: 0.0249 - accuracy: 0.9929 - val_loss: 0.0900 - val_accuracy: 0.9904\n",
      "Epoch 187/200\n",
      "9210/9210 [==============================] - 1s 64us/step - loss: 0.0253 - accuracy: 0.9922 - val_loss: 0.0869 - val_accuracy: 0.9904\n",
      "Epoch 188/200\n",
      "9210/9210 [==============================] - 1s 65us/step - loss: 0.0250 - accuracy: 0.9924 - val_loss: 0.0890 - val_accuracy: 0.9904\n",
      "Epoch 189/200\n",
      "9210/9210 [==============================] - 1s 64us/step - loss: 0.0257 - accuracy: 0.9920 - val_loss: 0.0906 - val_accuracy: 0.9896\n",
      "Epoch 190/200\n",
      "9210/9210 [==============================] - 1s 64us/step - loss: 0.0259 - accuracy: 0.9923 - val_loss: 0.0880 - val_accuracy: 0.9904\n",
      "Epoch 191/200\n",
      "9210/9210 [==============================] - 1s 65us/step - loss: 0.0259 - accuracy: 0.9920 - val_loss: 0.0874 - val_accuracy: 0.9904\n",
      "Epoch 192/200\n",
      "9210/9210 [==============================] - 1s 64us/step - loss: 0.0250 - accuracy: 0.9925 - val_loss: 0.0883 - val_accuracy: 0.9904\n",
      "Epoch 193/200\n",
      "9210/9210 [==============================] - 1s 64us/step - loss: 0.0250 - accuracy: 0.9920 - val_loss: 0.0903 - val_accuracy: 0.9904\n",
      "Epoch 194/200\n",
      "9210/9210 [==============================] - 1s 64us/step - loss: 0.0250 - accuracy: 0.9925 - val_loss: 0.0936 - val_accuracy: 0.9887\n",
      "Epoch 195/200\n",
      "9210/9210 [==============================] - 1s 68us/step - loss: 0.0244 - accuracy: 0.9926 - val_loss: 0.0893 - val_accuracy: 0.9904\n",
      "Epoch 196/200\n",
      "9210/9210 [==============================] - 1s 70us/step - loss: 0.0248 - accuracy: 0.9926 - val_loss: 0.0886 - val_accuracy: 0.9904\n",
      "Epoch 197/200\n",
      "9210/9210 [==============================] - 1s 67us/step - loss: 0.0242 - accuracy: 0.9921 - val_loss: 0.0905 - val_accuracy: 0.9900\n",
      "Epoch 198/200\n",
      "9210/9210 [==============================] - 1s 65us/step - loss: 0.0245 - accuracy: 0.9928 - val_loss: 0.0922 - val_accuracy: 0.9900\n",
      "Epoch 199/200\n",
      "9210/9210 [==============================] - 1s 64us/step - loss: 0.0250 - accuracy: 0.9917 - val_loss: 0.0899 - val_accuracy: 0.9900\n",
      "Epoch 200/200\n",
      "9210/9210 [==============================] - 1s 64us/step - loss: 0.0246 - accuracy: 0.9922 - val_loss: 0.0900 - val_accuracy: 0.9904\n"
     ]
    }
   ],
   "source": [
    "model3 = build_model()\n",
    "\n",
    "history3 = model3.fit(X_train, y_train, validation_data=(X_val, y_val), epochs=200, batch_size=100).history"
   ]
  },
  {
   "cell_type": "code",
   "execution_count": 62,
   "metadata": {},
   "outputs": [
    {
     "name": "stdout",
     "output_type": "stream",
     "text": [
      "6168/6168 [==============================] - 1s 95us/step\n",
      "Loss 0.030480, Accuracy 0.991407\n",
      "Loss 0.030223, Accuracy 0.992866\n",
      "Loss 0.051956, Accuracy 0.992218\n"
     ]
    }
   ],
   "source": [
    "test_loss_3, test_acc_3 = model3.evaluate(X_test, y_test)\n",
    "\n",
    "print('Loss %f, Accuracy %f' % (test_loss_1, test_acc_1))\n",
    "print('Loss %f, Accuracy %f' % (test_loss_2, test_acc_2))\n",
    "print('Loss %f, Accuracy %f' % (test_loss_3, test_acc_3))"
   ]
  },
  {
   "cell_type": "code",
   "execution_count": 63,
   "metadata": {},
   "outputs": [
    {
     "data": {
      "text/plain": [
       "<matplotlib.legend.Legend at 0x2c83642a888>"
      ]
     },
     "execution_count": 63,
     "metadata": {},
     "output_type": "execute_result"
    },
    {
     "data": {
      "image/png": "[encoded data removed]",
      "text/plain": [
       "<Figure size 2160x720 with 2 Axes>"
      ]
     },
     "metadata": {
      "needs_background": "light"
     },
     "output_type": "display_data"
    }
   ],
   "source": [
    "fig = plt.figure(figsize=(30, 10)) \n",
    "fig_dims = (1, 2)\n",
    "\n",
    "#plot loss during training\n",
    "plt.subplot2grid(fig_dims, (0, 0))\n",
    "plt.title('Loss')\n",
    "plt.plot(history3['loss'], label='Train')\n",
    "plt.plot(history3['val_loss'], label='Val')\n",
    "plt.xlabel('Epochs')\n",
    "plt.ylabel('Cross-Entropy')\n",
    "plt.legend()\n",
    "#plt.show()\n",
    "\n",
    "# plot accuracy during training\n",
    "plt.subplot2grid(fig_dims, (0,1))\n",
    "plt.title('Accuracy')\n",
    "plt.plot(history3['accuracy'], label='train')\n",
    "plt.plot(history3['val_accuracy'], label='Val')\n",
    "plt.legend()\n",
    "#plt.show()"
   ]
  },
  {
   "cell_type": "markdown",
   "metadata": {},
   "source": [
    "https://machinelearningmastery.com/how-to-choose-loss-functions-when-training-deep-learning-neural-networks/"
   ]
  },
  {
   "cell_type": "code",
   "execution_count": 43,
   "metadata": {},
   "outputs": [],
   "source": []
  },
  {
   "cell_type": "markdown",
   "metadata": {},
   "source": [
    "## Early stopping"
   ]
  },
  {
   "cell_type": "code",
   "execution_count": 64,
   "metadata": {},
   "outputs": [],
   "source": [
    "from keras.callbacks import EarlyStopping, ModelCheckpoint"
   ]
  },
  {
   "cell_type": "code",
   "execution_count": 65,
   "metadata": {},
   "outputs": [
    {
     "name": "stdout",
     "output_type": "stream",
     "text": [
      "Train on 9210 samples, validate on 2303 samples\n",
      "Epoch 1/200\n",
      "9210/9210 [==============================] - 2s 265us/step - loss: 0.5138 - accuracy: 0.7671 - val_loss: 0.3134 - val_accuracy: 0.8567\n",
      "Epoch 2/200\n",
      "9210/9210 [==============================] - 1s 68us/step - loss: 0.1685 - accuracy: 0.9450 - val_loss: 0.0697 - val_accuracy: 0.9822\n",
      "Epoch 3/200\n",
      "9210/9210 [==============================] - 1s 66us/step - loss: 0.0608 - accuracy: 0.9862 - val_loss: 0.0454 - val_accuracy: 0.9896\n",
      "Epoch 4/200\n",
      "9210/9210 [==============================] - 1s 70us/step - loss: 0.0513 - accuracy: 0.9890 - val_loss: 0.0426 - val_accuracy: 0.9896\n",
      "Epoch 5/200\n",
      "9210/9210 [==============================] - 1s 72us/step - loss: 0.0487 - accuracy: 0.9889 - val_loss: 0.0412 - val_accuracy: 0.9900\n",
      "Epoch 6/200\n",
      "9210/9210 [==============================] - ETA: 0s - loss: 0.0465 - accuracy: 0.98 - 1s 72us/step - loss: 0.0470 - accuracy: 0.9893 - val_loss: 0.0408 - val_accuracy: 0.9904\n",
      "Epoch 7/200\n",
      "9210/9210 [==============================] - 1s 76us/step - loss: 0.0462 - accuracy: 0.9894 - val_loss: 0.0404 - val_accuracy: 0.9904\n",
      "Epoch 8/200\n",
      "9210/9210 [==============================] - 1s 71us/step - loss: 0.0452 - accuracy: 0.9895 - val_loss: 0.0403 - val_accuracy: 0.9904\n",
      "Epoch 9/200\n",
      "9210/9210 [==============================] - 1s 64us/step - loss: 0.0448 - accuracy: 0.9895 - val_loss: 0.0407 - val_accuracy: 0.9896\n",
      "Epoch 10/200\n",
      "9210/9210 [==============================] - 1s 61us/step - loss: 0.0443 - accuracy: 0.9895 - val_loss: 0.0405 - val_accuracy: 0.9896\n",
      "Epoch 11/200\n",
      "9210/9210 [==============================] - 1s 62us/step - loss: 0.0437 - accuracy: 0.9895 - val_loss: 0.0400 - val_accuracy: 0.9904\n",
      "Epoch 12/200\n",
      "9210/9210 [==============================] - 1s 71us/step - loss: 0.0433 - accuracy: 0.9895 - val_loss: 0.0408 - val_accuracy: 0.9904\n",
      "Epoch 13/200\n",
      "9210/9210 [==============================] - 1s 67us/step - loss: 0.0432 - accuracy: 0.9897 - val_loss: 0.0403 - val_accuracy: 0.9896\n",
      "Epoch 14/200\n",
      "9210/9210 [==============================] - 1s 66us/step - loss: 0.0429 - accuracy: 0.9895 - val_loss: 0.0395 - val_accuracy: 0.9904\n",
      "Epoch 15/200\n",
      "9210/9210 [==============================] - 1s 67us/step - loss: 0.0428 - accuracy: 0.9896 - val_loss: 0.0401 - val_accuracy: 0.9909\n",
      "Epoch 16/200\n",
      "9210/9210 [==============================] - 1s 67us/step - loss: 0.0422 - accuracy: 0.9896 - val_loss: 0.0401 - val_accuracy: 0.9904\n",
      "Epoch 17/200\n",
      "9210/9210 [==============================] - 1s 67us/step - loss: 0.0420 - accuracy: 0.9893 - val_loss: 0.0397 - val_accuracy: 0.9904\n",
      "Epoch 18/200\n",
      "9210/9210 [==============================] - 1s 67us/step - loss: 0.0417 - accuracy: 0.9896 - val_loss: 0.0398 - val_accuracy: 0.9904\n",
      "Epoch 19/200\n",
      "9210/9210 [==============================] - 1s 66us/step - loss: 0.0415 - accuracy: 0.9893 - val_loss: 0.0405 - val_accuracy: 0.9904\n",
      "Epoch 20/200\n",
      "9210/9210 [==============================] - 1s 67us/step - loss: 0.0410 - accuracy: 0.9894 - val_loss: 0.0388 - val_accuracy: 0.9904\n",
      "Epoch 21/200\n",
      "9210/9210 [==============================] - 1s 68us/step - loss: 0.0406 - accuracy: 0.9895 - val_loss: 0.0387 - val_accuracy: 0.9904\n",
      "Epoch 22/200\n",
      "9210/9210 [==============================] - 1s 66us/step - loss: 0.0398 - accuracy: 0.9893 - val_loss: 0.0391 - val_accuracy: 0.9904\n",
      "Epoch 23/200\n",
      "9210/9210 [==============================] - 1s 64us/step - loss: 0.0396 - accuracy: 0.9894 - val_loss: 0.0385 - val_accuracy: 0.9904\n",
      "Epoch 24/200\n",
      "9210/9210 [==============================] - 1s 64us/step - loss: 0.0385 - accuracy: 0.9896 - val_loss: 0.0385 - val_accuracy: 0.9900\n",
      "Epoch 25/200\n",
      "9210/9210 [==============================] - 1s 67us/step - loss: 0.0383 - accuracy: 0.9894 - val_loss: 0.0379 - val_accuracy: 0.9904\n",
      "Epoch 26/200\n",
      "9210/9210 [==============================] - 1s 67us/step - loss: 0.0382 - accuracy: 0.9891 - val_loss: 0.0380 - val_accuracy: 0.9904\n",
      "Epoch 27/200\n",
      "9210/9210 [==============================] - 1s 63us/step - loss: 0.0379 - accuracy: 0.9895 - val_loss: 0.0377 - val_accuracy: 0.9904\n",
      "Epoch 28/200\n",
      "9210/9210 [==============================] - 1s 64us/step - loss: 0.0374 - accuracy: 0.9895 - val_loss: 0.0388 - val_accuracy: 0.9904\n",
      "Epoch 29/200\n",
      "9210/9210 [==============================] - 1s 67us/step - loss: 0.0371 - accuracy: 0.9894 - val_loss: 0.0386 - val_accuracy: 0.9904\n",
      "Epoch 30/200\n",
      "9210/9210 [==============================] - 1s 62us/step - loss: 0.0372 - accuracy: 0.9893 - val_loss: 0.0382 - val_accuracy: 0.9904\n",
      "Epoch 31/200\n",
      "9210/9210 [==============================] - 1s 72us/step - loss: 0.0364 - accuracy: 0.9896 - val_loss: 0.0388 - val_accuracy: 0.9904\n",
      "Epoch 32/200\n",
      "9210/9210 [==============================] - 1s 71us/step - loss: 0.0365 - accuracy: 0.9894 - val_loss: 0.0381 - val_accuracy: 0.9904\n",
      "Epoch 33/200\n",
      "9210/9210 [==============================] - 1s 66us/step - loss: 0.0363 - accuracy: 0.9894 - val_loss: 0.0383 - val_accuracy: 0.9904\n",
      "Epoch 34/200\n",
      "9210/9210 [==============================] - 1s 66us/step - loss: 0.0363 - accuracy: 0.9893 - val_loss: 0.0384 - val_accuracy: 0.9904\n",
      "Epoch 35/200\n",
      "9210/9210 [==============================] - 1s 63us/step - loss: 0.0357 - accuracy: 0.9893 - val_loss: 0.0386 - val_accuracy: 0.9904\n",
      "Epoch 36/200\n",
      "9210/9210 [==============================] - 1s 66us/step - loss: 0.0360 - accuracy: 0.9895 - val_loss: 0.0380 - val_accuracy: 0.9904\n",
      "Epoch 37/200\n",
      "9210/9210 [==============================] - 1s 68us/step - loss: 0.0358 - accuracy: 0.9895 - val_loss: 0.0381 - val_accuracy: 0.9909\n"
     ]
    }
   ],
   "source": [
    "es = EarlyStopping(monitor='val_loss', patience=10)\n",
    "mc = ModelCheckpoint('best_model_NOREG.h5', monitor='val_loss', save_best_only=True)\n",
    "\n",
    "model4 = build_model()\n",
    "history4 = model4.fit(X_train, y_train, validation_data=(X_val, y_val), epochs=200, \n",
    "                      batch_size=100, callbacks=[es,mc]).history"
   ]
  },
  {
   "cell_type": "code",
   "execution_count": 74,
   "metadata": {},
   "outputs": [
    {
     "name": "stdout",
     "output_type": "stream",
     "text": [
      "6168/6168 [==============================] - 1s 141us/step\n",
      "Loss 0.034830, Accuracy 0.990597\n"
     ]
    }
   ],
   "source": [
    "test_loss_4, test_acc_4 = model4.evaluate(X_test, y_test)\n",
    "\n",
    "\n",
    "print('Loss %f, Accuracy %f' % (test_loss_4, test_acc_4))"
   ]
  },
  {
   "cell_type": "markdown",
   "metadata": {},
   "source": [
    "## L2 regularization"
   ]
  },
  {
   "cell_type": "code",
   "execution_count": 68,
   "metadata": {},
   "outputs": [],
   "source": [
    "from keras.regularizers import l2\n",
    "\n",
    "def build_L2_model():\n",
    "    # define the model\n",
    "    model = Sequential()\n",
    "\n",
    "    n_feature = X_train.shape[1]\n",
    "    h_dim=100\n",
    "    model.add(Dense(h_dim, activation='relu', input_shape=(n_feature,), kernel_regularizer=l2(0.01)))\n",
    "    model.add(Dense(h_dim, activation='relu', kernel_regularizer=l2(0.01)))\n",
    "    model.add(Dense(h_dim, activation='relu', kernel_regularizer=l2(0.01)))\n",
    "    model.add(Dense(h_dim, activation='relu', kernel_regularizer=l2(0.01)))\n",
    "    #linear activation\n",
    "    model.add(Dense(1))\n",
    "\n",
    "    #compile the model\n",
    "    model.compile(loss='binary_crossentropy', optimizer='adam', metrics=['accuracy'])\n",
    "    \n",
    "    return model"
   ]
  },
  {
   "cell_type": "code",
   "execution_count": 69,
   "metadata": {},
   "outputs": [
    {
     "name": "stdout",
     "output_type": "stream",
     "text": [
      "Train on 9210 samples, validate on 2303 samples\n",
      "Epoch 1/200\n",
      "9210/9210 [==============================] - 3s 294us/step - loss: 5.1091 - accuracy: 0.7683 - val_loss: 3.9246 - val_accuracy: 0.7794\n",
      "Epoch 2/200\n",
      "9210/9210 [==============================] - 1s 86us/step - loss: 3.7961 - accuracy: 0.7684 - val_loss: 3.4624 - val_accuracy: 0.7794\n",
      "Epoch 3/200\n",
      "9210/9210 [==============================] - 1s 81us/step - loss: 3.5954 - accuracy: 0.7684 - val_loss: 3.4074 - val_accuracy: 0.7794\n",
      "Epoch 4/200\n",
      "9210/9210 [==============================] - 1s 85us/step - loss: 3.5742 - accuracy: 0.7684 - val_loss: 3.4028 - val_accuracy: 0.7794\n",
      "Epoch 5/200\n",
      "9210/9210 [==============================] - 1s 88us/step - loss: 3.5725 - accuracy: 0.7684 - val_loss: 3.4025 - val_accuracy: 0.7794\n",
      "Epoch 6/200\n",
      "9210/9210 [==============================] - 1s 79us/step - loss: 3.5724 - accuracy: 0.7684 - val_loss: 3.4025 - val_accuracy: 0.7794\n",
      "Epoch 7/200\n",
      "9210/9210 [==============================] - 1s 79us/step - loss: 3.5724 - accuracy: 0.7684 - val_loss: 3.4025 - val_accuracy: 0.7794\n",
      "Epoch 8/200\n",
      "9210/9210 [==============================] - 1s 84us/step - loss: 3.5724 - accuracy: 0.7684 - val_loss: 3.4025 - val_accuracy: 0.7794\n",
      "Epoch 9/200\n",
      "9210/9210 [==============================] - 1s 77us/step - loss: 3.5724 - accuracy: 0.7684 - val_loss: 3.4025 - val_accuracy: 0.7794\n",
      "Epoch 10/200\n",
      "9210/9210 [==============================] - 1s 77us/step - loss: 3.5724 - accuracy: 0.7684 - val_loss: 3.4025 - val_accuracy: 0.7794\n",
      "Epoch 11/200\n",
      "9210/9210 [==============================] - 1s 82us/step - loss: 3.5724 - accuracy: 0.7684 - val_loss: 3.4025 - val_accuracy: 0.7794\n",
      "Epoch 12/200\n",
      "9210/9210 [==============================] - 1s 77us/step - loss: 3.5724 - accuracy: 0.7684 - val_loss: 3.4025 - val_accuracy: 0.7794\n",
      "Epoch 13/200\n",
      "9210/9210 [==============================] - 1s 81us/step - loss: 3.5724 - accuracy: 0.7684 - val_loss: 3.4025 - val_accuracy: 0.7794\n",
      "Epoch 14/200\n",
      "9210/9210 [==============================] - 1s 84us/step - loss: 3.5724 - accuracy: 0.7684 - val_loss: 3.4025 - val_accuracy: 0.7794\n",
      "Epoch 15/200\n",
      "9210/9210 [==============================] - 1s 79us/step - loss: 3.5724 - accuracy: 0.7684 - val_loss: 3.4025 - val_accuracy: 0.7794\n",
      "Epoch 16/200\n",
      "9210/9210 [==============================] - 1s 84us/step - loss: 3.5724 - accuracy: 0.7684 - val_loss: 3.4025 - val_accuracy: 0.7794\n",
      "Epoch 17/200\n",
      "9210/9210 [==============================] - 1s 85us/step - loss: 3.5724 - accuracy: 0.7684 - val_loss: 3.4025 - val_accuracy: 0.7794\n",
      "Epoch 18/200\n",
      "9210/9210 [==============================] - 1s 80us/step - loss: 3.5724 - accuracy: 0.7684 - val_loss: 3.4025 - val_accuracy: 0.7794\n",
      "Epoch 19/200\n",
      "9210/9210 [==============================] - 1s 82us/step - loss: 3.5724 - accuracy: 0.7684 - val_loss: 3.4025 - val_accuracy: 0.7794\n",
      "Epoch 20/200\n",
      "9210/9210 [==============================] - 1s 82us/step - loss: 3.5724 - accuracy: 0.7684 - val_loss: 3.4025 - val_accuracy: 0.7794\n",
      "Epoch 21/200\n",
      "9210/9210 [==============================] - 1s 74us/step - loss: 3.5724 - accuracy: 0.7684 - val_loss: 3.4025 - val_accuracy: 0.7794\n",
      "Epoch 22/200\n",
      "9210/9210 [==============================] - 1s 73us/step - loss: 3.5724 - accuracy: 0.7684 - val_loss: 3.4025 - val_accuracy: 0.7794\n",
      "Epoch 23/200\n",
      "9210/9210 [==============================] - 1s 78us/step - loss: 3.5724 - accuracy: 0.7684 - val_loss: 3.4025 - val_accuracy: 0.7794\n",
      "Epoch 24/200\n",
      "9210/9210 [==============================] - 1s 80us/step - loss: 3.5724 - accuracy: 0.7684 - val_loss: 3.4025 - val_accuracy: 0.7794\n",
      "Epoch 25/200\n",
      "9210/9210 [==============================] - 1s 90us/step - loss: 3.5724 - accuracy: 0.7684 - val_loss: 3.4025 - val_accuracy: 0.7794\n"
     ]
    }
   ],
   "source": [
    "mc = ModelCheckpoint('best_model_L2.h5', monitor='val_loss', save_best_only=True)\n",
    "\n",
    "L2_model = build_L2_model()\n",
    "h_L2 = L2_model.fit(X_train, y_train, validation_data=(X_val, y_val), epochs=200, \n",
    "                    batch_size=100, callbacks=[es,mc]).history"
   ]
  },
  {
   "cell_type": "code",
   "execution_count": 70,
   "metadata": {},
   "outputs": [],
   "source": [
    "from keras.layers import Dropout\n",
    "\n",
    "def build_DROPOUT_model():\n",
    "    # define the model\n",
    "    model = Sequential()\n",
    "\n",
    "    n_feature = X_train.shape[1]\n",
    "    h_dim=100\n",
    "    model.add(Dense(h_dim, activation='relu', input_shape=(n_feature,)))\n",
    "    model.add(Dropout(0.2))\n",
    "    model.add(Dense(h_dim, activation='relu'))\n",
    "    model.add(Dropout(0.2))\n",
    "    model.add(Dense(h_dim, activation='relu'))\n",
    "    model.add(Dropout(0.2))\n",
    "    model.add(Dense(h_dim, activation='relu'))\n",
    "    #linear activation\n",
    "    model.add(Dense(1))\n",
    "\n",
    "    #compile the model\n",
    "    model.compile(loss='binary_crossentropy', optimizer='adam', metrics=['accuracy'])\n",
    "    \n",
    "    return model"
   ]
  },
  {
   "cell_type": "code",
   "execution_count": 71,
   "metadata": {},
   "outputs": [
    {
     "name": "stdout",
     "output_type": "stream",
     "text": [
      "Train on 9210 samples, validate on 2303 samples\n",
      "Epoch 1/200\n",
      "9210/9210 [==============================] - 3s 365us/step - loss: 0.2024 - accuracy: 0.6085 - val_loss: 0.1423 - val_accuracy: 0.1146\n",
      "Epoch 2/200\n",
      "9210/9210 [==============================] - 1s 118us/step - loss: 0.1546 - accuracy: 0.2166 - val_loss: 0.1357 - val_accuracy: 0.0877\n",
      "Epoch 3/200\n",
      "9210/9210 [==============================] - 1s 111us/step - loss: 0.1492 - accuracy: 0.1227 - val_loss: 0.1479 - val_accuracy: 0.0321\n",
      "Epoch 4/200\n",
      "9210/9210 [==============================] - 1s 100us/step - loss: 0.1526 - accuracy: 0.0813 - val_loss: 0.1529 - val_accuracy: 0.0161\n",
      "Epoch 5/200\n",
      "9210/9210 [==============================] - 1s 100us/step - loss: 0.1548 - accuracy: 0.0605 - val_loss: 0.1487 - val_accuracy: 0.0200\n",
      "Epoch 6/200\n",
      "9210/9210 [==============================] - 1s 98us/step - loss: 0.1503 - accuracy: 0.0623 - val_loss: 0.1527 - val_accuracy: 0.0122\n",
      "Epoch 7/200\n",
      "9210/9210 [==============================] - 1s 102us/step - loss: 0.1548 - accuracy: 0.0379 - val_loss: 0.1526 - val_accuracy: 0.0043\n",
      "Epoch 8/200\n",
      "9210/9210 [==============================] - 1s 106us/step - loss: 0.1550 - accuracy: 0.0298 - val_loss: 0.1527 - val_accuracy: 0.0043\n",
      "Epoch 9/200\n",
      "9210/9210 [==============================] - 1s 106us/step - loss: 0.1557 - accuracy: 0.0287 - val_loss: 0.1524 - val_accuracy: 0.0022\n",
      "Epoch 10/200\n",
      "9210/9210 [==============================] - 1s 106us/step - loss: 0.1740 - accuracy: 0.0426 - val_loss: 0.1526 - val_accuracy: 0.0035\n",
      "Epoch 11/200\n",
      "9210/9210 [==============================] - 1s 106us/step - loss: 0.1581 - accuracy: 0.0177 - val_loss: 0.1526 - val_accuracy: 0.0026\n",
      "Epoch 12/200\n",
      "9210/9210 [==============================] - 1s 106us/step - loss: 0.1648 - accuracy: 0.0181 - val_loss: 0.1531 - val_accuracy: 0.0052\n"
     ]
    }
   ],
   "source": [
    "mc = ModelCheckpoint('best_model_DROPOUT.h5', monitor='val_loss', save_best_only=True)\n",
    "\n",
    "DROPOUT_model = build_DROPOUT_model()\n",
    "h_DROPOUT = DROPOUT_model.fit(X_train, y_train, validation_data=(X_val, y_val), \n",
    "                              epochs=200, batch_size=100, callbacks=[es,mc]).history"
   ]
  },
  {
   "cell_type": "code",
   "execution_count": 72,
   "metadata": {},
   "outputs": [
    {
     "name": "stdout",
     "output_type": "stream",
     "text": [
      "6168/6168 [==============================] - 2s 261us/step\n",
      "6168/6168 [==============================] - 2s 280us/step\n",
      "6168/6168 [==============================] - 2s 282us/step\n"
     ]
    }
   ],
   "source": [
    "# laod best models and test them\n",
    "from keras.models import load_model\n",
    "\n",
    "best_NOREG_model = load_model('best_model_NOREG.h5')\n",
    "best_L2_model = load_model('best_model_L2.h5')\n",
    "best_DROPOUT_model = load_model('best_model_DROPOUT.h5')\n",
    "\n",
    "loss_NOREG, acc_NOREG = best_NOREG_model.evaluate(X_test, y_test)\n",
    "loss_L2, acc_L2 = best_L2_model.evaluate(X_test, y_test)\n",
    "loss_DROPOUT, acc_DROPOUT = best_DROPOUT_model.evaluate(X_test, y_test)"
   ]
  },
  {
   "cell_type": "code",
   "execution_count": 73,
   "metadata": {},
   "outputs": [
    {
     "name": "stdout",
     "output_type": "stream",
     "text": [
      "Loss 0.034522, Accuracy 0.991569\n",
      "Loss 3.563643, Accuracy 0.768969\n",
      "Loss 0.119955, Accuracy 0.091926\n"
     ]
    }
   ],
   "source": [
    "print('Loss %f, Accuracy %f' % (loss_NOREG, acc_NOREG))\n",
    "print('Loss %f, Accuracy %f' % (loss_L2, acc_L2))\n",
    "print('Loss %f, Accuracy %f' % (loss_DROPOUT, acc_DROPOUT))"
   ]
  },
  {
   "cell_type": "code",
   "execution_count": null,
   "metadata": {},
   "outputs": [],
   "source": []
  },
  {
   "cell_type": "markdown",
   "metadata": {},
   "source": [
    "## Hyper-Parameter Tuning"
   ]
  },
  {
   "cell_type": "code",
   "execution_count": 40,
   "metadata": {},
   "outputs": [],
   "source": [
    "from keras.wrappers.scikit_learn import KerasRegressor #which implements the Scikit-Learn regressor interface\n",
    "from sklearn.model_selection import RandomizedSearchCV"
   ]
  },
  {
   "cell_type": "code",
   "execution_count": 43,
   "metadata": {},
   "outputs": [],
   "source": [
    "def build_model(n_layers=2, h_dim=64, activation='relu', optimizer='adam'):\n",
    "    # define the model\n",
    "    model = Sequential()\n",
    "\n",
    "    n_feature = X_train.shape[1]\n",
    "    \n",
    "    model.add(Dense(h_dim, activation=activation, input_shape=(n_feature,)))\n",
    "    for i in range(n_layers-1):\n",
    "        model.add(Dense(h_dim, activation=activation))\n",
    "    #linear activation\n",
    "    model.add(Dense(1))\n",
    "\n",
    "    #compile the model\n",
    "    model.compile(loss='binary_crossentropy', optimizer=optimizer, metrics=['accuracy'])\n",
    "    \n",
    "    return model"
   ]
  },
  {
   "cell_type": "code",
   "execution_count": 44,
   "metadata": {},
   "outputs": [],
   "source": [
    "n_layers = [1, 2, 3,4]\n",
    "h_dim = [16,32, 64, 128]\n",
    "activation = ['relu', 'tanh']\n",
    "optimizer = ['adagrad', 'adam']\n",
    "params = dict(optimizer=optimizer, n_layers=n_layers, h_dim=h_dim, activation=activation)"
   ]
  },
  {
   "cell_type": "code",
   "execution_count": 45,
   "metadata": {},
   "outputs": [
    {
     "name": "stdout",
     "output_type": "stream",
     "text": [
      "3838/3838 [==============================] - 1s 148us/step\n",
      "3838/3838 [==============================] - 1s 168us/step\n",
      "3837/3837 [==============================] - 1s 247us/step\n",
      "3838/3838 [==============================] - 1s 186us/step\n",
      "3838/3838 [==============================] - 1s 182us/step\n",
      "3837/3837 [==============================] - 1s 209us/step\n",
      "3838/3838 [==============================] - 1s 205us/step\n",
      "3838/3838 [==============================] - 1s 208us/step\n",
      "3837/3837 [==============================] - 1s 222us/step\n",
      "3838/3838 [==============================] - 1s 217us/step\n",
      "3838/3838 [==============================] - 1s 231us/step\n",
      "3837/3837 [==============================] - 1s 220us/step\n",
      "3838/3838 [==============================] - 1s 244us/step\n",
      "3838/3838 [==============================] - 1s 264us/step\n",
      "3837/3837 [==============================] - 1s 219us/step\n"
     ]
    }
   ],
   "source": [
    "model = KerasRegressor(build_fn=build_model)\n",
    "\n",
    "rnd = RandomizedSearchCV(estimator=model, param_distributions=params, n_iter=5, cv=3)\n",
    "rnd_result = rnd.fit(X_train, y_train, epochs=200, batch_size=100, verbose=0)"
   ]
  },
  {
   "cell_type": "code",
   "execution_count": 47,
   "metadata": {},
   "outputs": [
    {
     "name": "stdout",
     "output_type": "stream",
     "text": [
      "Best: 0.066807 using {'optimizer': 'adagrad', 'n_layers': 1, 'h_dim': 32, 'activation': 'relu'}\n",
      "0.097007 (0.030535) with: {'optimizer': 'adam', 'n_layers': 4, 'h_dim': 16, 'activation': 'relu'}\n",
      "0.163097 (0.021344) with: {'optimizer': 'adam', 'n_layers': 3, 'h_dim': 128, 'activation': 'tanh'}\n",
      "0.088607 (0.035214) with: {'optimizer': 'adam', 'n_layers': 1, 'h_dim': 64, 'activation': 'relu'}\n",
      "0.119686 (0.016926) with: {'optimizer': 'adagrad', 'n_layers': 3, 'h_dim': 32, 'activation': 'relu'}\n",
      "0.066807 (0.015376) with: {'optimizer': 'adagrad', 'n_layers': 1, 'h_dim': 32, 'activation': 'relu'}\n"
     ]
    }
   ],
   "source": [
    "print(\"Best: %f using %s\" % (-rnd_result.best_score_, rnd_result.best_params_))\n",
    "means = rnd_result.cv_results_['mean_test_score']\n",
    "stds = rnd_result.cv_results_['std_test_score']\n",
    "params = rnd_result.cv_results_['params']\n",
    "for mean, stdev, param in zip(means, stds, params):\n",
    "    print(\"%f (%f) with: %r\" % (-mean, stdev, param))"
   ]
  },
  {
   "cell_type": "code",
   "execution_count": 48,
   "metadata": {},
   "outputs": [
    {
     "name": "stdout",
     "output_type": "stream",
     "text": [
      "6168/6168 [==============================] - 1s 179us/step\n",
      "Loss 0.062686, Accuracy 0.393158\n"
     ]
    }
   ],
   "source": [
    "clf = rnd_result.best_estimator_.model\n",
    "\n",
    "loss, acc = clf.evaluate(X_test, y_test)\n",
    "print('Loss %f, Accuracy %f' % (loss, acc))"
   ]
  },
  {
   "cell_type": "markdown",
   "metadata": {},
   "source": [
    "https://towardsdatascience.com/hyperparameter-optimization-with-keras-b82e6364ca53"
   ]
  },
  {
   "cell_type": "code",
   "execution_count": 49,
   "metadata": {},
   "outputs": [],
   "source": [
    "def build_best_model():\n",
    "    \n",
    "    n_feature = X_train.shape[1]\n",
    "    model = Sequential()\n",
    "    model.add(Dense(1, input_dim=n_feature, activation='relu'))\n",
    "    model.add(Dense(32, activation='relu'))\n",
    "    model.add(Dense(1, activation='sigmoid'))\n",
    "\n",
    "    model.compile(loss='binary_crossentropy', optimizer='adagrad', metrics=['accuracy'])\n",
    "    return model"
   ]
  },
  {
   "cell_type": "code",
   "execution_count": 50,
   "metadata": {},
   "outputs": [
    {
     "name": "stdout",
     "output_type": "stream",
     "text": [
      "Train on 11513 samples, validate on 2879 samples\n",
      "Epoch 1/200\n",
      "11513/11513 [==============================] - 2s 181us/step - loss: 0.5452 - accuracy: 0.7693 - val_loss: 0.5035 - val_accuracy: 0.7624\n",
      "Epoch 2/200\n",
      "11513/11513 [==============================] - 1s 57us/step - loss: 0.4635 - accuracy: 0.7706 - val_loss: 0.4533 - val_accuracy: 0.7624\n",
      "Epoch 3/200\n",
      "11513/11513 [==============================] - 1s 56us/step - loss: 0.4234 - accuracy: 0.7706 - val_loss: 0.4225 - val_accuracy: 0.7624\n",
      "Epoch 4/200\n",
      "11513/11513 [==============================] - 1s 59us/step - loss: 0.3986 - accuracy: 0.7706 - val_loss: 0.4023 - val_accuracy: 0.7624\n",
      "Epoch 5/200\n",
      "11513/11513 [==============================] - 1s 50us/step - loss: 0.3809 - accuracy: 0.7706 - val_loss: 0.3869 - val_accuracy: 0.7624\n",
      "Epoch 6/200\n",
      "11513/11513 [==============================] - 1s 52us/step - loss: 0.3677 - accuracy: 0.7706 - val_loss: 0.3753 - val_accuracy: 0.7624\n",
      "Epoch 7/200\n",
      "11513/11513 [==============================] - 1s 51us/step - loss: 0.3574 - accuracy: 0.7706 - val_loss: 0.3656 - val_accuracy: 0.7624\n",
      "Epoch 8/200\n",
      "11513/11513 [==============================] - 1s 58us/step - loss: 0.3484 - accuracy: 0.7706 - val_loss: 0.3576 - val_accuracy: 0.7624\n",
      "Epoch 9/200\n",
      "11513/11513 [==============================] - 1s 57us/step - loss: 0.3410 - accuracy: 0.7706 - val_loss: 0.3510 - val_accuracy: 0.7624\n",
      "Epoch 10/200\n",
      "11513/11513 [==============================] - 1s 47us/step - loss: 0.3350 - accuracy: 0.7706 - val_loss: 0.3458 - val_accuracy: 0.7624\n",
      "Epoch 11/200\n",
      "11513/11513 [==============================] - 1s 50us/step - loss: 0.3301 - accuracy: 0.7706 - val_loss: 0.3411 - val_accuracy: 0.7624\n",
      "Epoch 12/200\n",
      "11513/11513 [==============================] - 1s 49us/step - loss: 0.3256 - accuracy: 0.7706 - val_loss: 0.3368 - val_accuracy: 0.7624\n",
      "Epoch 13/200\n",
      "11513/11513 [==============================] - ETA: 0s - loss: 0.3220 - accuracy: 0.77 - 1s 52us/step - loss: 0.3215 - accuracy: 0.7706 - val_loss: 0.3329 - val_accuracy: 0.7624\n",
      "Epoch 14/200\n",
      "11513/11513 [==============================] - 1s 50us/step - loss: 0.3177 - accuracy: 0.7706 - val_loss: 0.3293 - val_accuracy: 0.7624\n",
      "Epoch 15/200\n",
      "11513/11513 [==============================] - 1s 46us/step - loss: 0.3137 - accuracy: 0.7706 - val_loss: 0.3252 - val_accuracy: 0.7624\n",
      "Epoch 16/200\n",
      "11513/11513 [==============================] - 1s 47us/step - loss: 0.3087 - accuracy: 0.7855 - val_loss: 0.3194 - val_accuracy: 0.8176\n",
      "Epoch 17/200\n",
      "11513/11513 [==============================] - 1s 48us/step - loss: 0.2997 - accuracy: 0.8391 - val_loss: 0.3068 - val_accuracy: 0.8461\n",
      "Epoch 18/200\n",
      "11513/11513 [==============================] - 1s 53us/step - loss: 0.2852 - accuracy: 0.8590 - val_loss: 0.2915 - val_accuracy: 0.8635\n",
      "Epoch 19/200\n",
      "11513/11513 [==============================] - 1s 50us/step - loss: 0.2737 - accuracy: 0.8645 - val_loss: 0.2814 - val_accuracy: 0.8670\n",
      "Epoch 20/200\n",
      "11513/11513 [==============================] - 1s 51us/step - loss: 0.2658 - accuracy: 0.8693 - val_loss: 0.2740 - val_accuracy: 0.8732\n",
      "Epoch 21/200\n",
      "11513/11513 [==============================] - 1s 55us/step - loss: 0.2595 - accuracy: 0.8729 - val_loss: 0.2680 - val_accuracy: 0.8753\n",
      "Epoch 22/200\n",
      "11513/11513 [==============================] - 1s 50us/step - loss: 0.2543 - accuracy: 0.8770 - val_loss: 0.2630 - val_accuracy: 0.8777\n",
      "Epoch 23/200\n",
      "11513/11513 [==============================] - 1s 50us/step - loss: 0.2495 - accuracy: 0.8814 - val_loss: 0.2586 - val_accuracy: 0.8802\n",
      "Epoch 24/200\n",
      "11513/11513 [==============================] - 1s 50us/step - loss: 0.2448 - accuracy: 0.8857 - val_loss: 0.2538 - val_accuracy: 0.8854\n",
      "Epoch 25/200\n",
      "11513/11513 [==============================] - 1s 48us/step - loss: 0.2387 - accuracy: 0.8962 - val_loss: 0.2469 - val_accuracy: 0.8951\n",
      "Epoch 26/200\n",
      "11513/11513 [==============================] - 1s 50us/step - loss: 0.2303 - accuracy: 0.9087 - val_loss: 0.2393 - val_accuracy: 0.9014\n",
      "Epoch 27/200\n",
      "11513/11513 [==============================] - 1s 50us/step - loss: 0.2226 - accuracy: 0.9139 - val_loss: 0.2327 - val_accuracy: 0.9090\n",
      "Epoch 28/200\n",
      "11513/11513 [==============================] - 1s 57us/step - loss: 0.2164 - accuracy: 0.9178 - val_loss: 0.2269 - val_accuracy: 0.9118\n",
      "Epoch 29/200\n",
      "11513/11513 [==============================] - 1s 52us/step - loss: 0.2107 - accuracy: 0.9210 - val_loss: 0.2209 - val_accuracy: 0.9166\n",
      "Epoch 30/200\n",
      "11513/11513 [==============================] - 1s 50us/step - loss: 0.2042 - accuracy: 0.9286 - val_loss: 0.2143 - val_accuracy: 0.9232\n",
      "Epoch 31/200\n",
      "11513/11513 [==============================] - 1s 47us/step - loss: 0.1977 - accuracy: 0.9342 - val_loss: 0.2080 - val_accuracy: 0.9295\n",
      "Epoch 32/200\n",
      "11513/11513 [==============================] - 1s 51us/step - loss: 0.1921 - accuracy: 0.9370 - val_loss: 0.2024 - val_accuracy: 0.9333\n",
      "Epoch 33/200\n",
      "11513/11513 [==============================] - 1s 51us/step - loss: 0.1870 - accuracy: 0.9409 - val_loss: 0.1975 - val_accuracy: 0.9357\n",
      "Epoch 34/200\n",
      "11513/11513 [==============================] - 1s 50us/step - loss: 0.1828 - accuracy: 0.9428 - val_loss: 0.1931 - val_accuracy: 0.9385\n",
      "Epoch 35/200\n",
      "11513/11513 [==============================] - 1s 47us/step - loss: 0.1792 - accuracy: 0.9442 - val_loss: 0.1892 - val_accuracy: 0.9420\n",
      "Epoch 36/200\n",
      "11513/11513 [==============================] - 1s 49us/step - loss: 0.1761 - accuracy: 0.9456 - val_loss: 0.1856 - val_accuracy: 0.9434\n",
      "Epoch 37/200\n",
      "11513/11513 [==============================] - 1s 54us/step - loss: 0.1731 - accuracy: 0.9468 - val_loss: 0.1820 - val_accuracy: 0.9455\n",
      "Epoch 38/200\n",
      "11513/11513 [==============================] - 1s 54us/step - loss: 0.1704 - accuracy: 0.9481 - val_loss: 0.1788 - val_accuracy: 0.9486\n",
      "Epoch 39/200\n",
      "11513/11513 [==============================] - 1s 57us/step - loss: 0.1679 - accuracy: 0.9489 - val_loss: 0.1759 - val_accuracy: 0.9489\n",
      "Epoch 40/200\n",
      "11513/11513 [==============================] - 1s 53us/step - loss: 0.1656 - accuracy: 0.9508 - val_loss: 0.1734 - val_accuracy: 0.9503\n",
      "Epoch 41/200\n",
      "11513/11513 [==============================] - 1s 56us/step - loss: 0.1636 - accuracy: 0.9516 - val_loss: 0.1709 - val_accuracy: 0.9507\n",
      "Epoch 42/200\n",
      "11513/11513 [==============================] - 1s 49us/step - loss: 0.1616 - accuracy: 0.9522 - val_loss: 0.1685 - val_accuracy: 0.9514\n",
      "Epoch 43/200\n",
      "11513/11513 [==============================] - 1s 46us/step - loss: 0.1596 - accuracy: 0.9529 - val_loss: 0.1663 - val_accuracy: 0.9521\n",
      "Epoch 44/200\n",
      "11513/11513 [==============================] - 1s 51us/step - loss: 0.1578 - accuracy: 0.9537 - val_loss: 0.1643 - val_accuracy: 0.9531\n",
      "Epoch 45/200\n",
      "11513/11513 [==============================] - 1s 57us/step - loss: 0.1561 - accuracy: 0.9545 - val_loss: 0.1623 - val_accuracy: 0.9535\n",
      "Epoch 46/200\n",
      "11513/11513 [==============================] - 1s 47us/step - loss: 0.1543 - accuracy: 0.9547 - val_loss: 0.1603 - val_accuracy: 0.9538\n",
      "Epoch 47/200\n",
      "11513/11513 [==============================] - 1s 52us/step - loss: 0.1527 - accuracy: 0.9552 - val_loss: 0.1584 - val_accuracy: 0.9542\n",
      "Epoch 48/200\n",
      "11513/11513 [==============================] - 1s 55us/step - loss: 0.1509 - accuracy: 0.9562 - val_loss: 0.1564 - val_accuracy: 0.9555\n",
      "Epoch 49/200\n",
      "11513/11513 [==============================] - 1s 60us/step - loss: 0.1491 - accuracy: 0.9567 - val_loss: 0.1545 - val_accuracy: 0.9559\n",
      "Epoch 50/200\n",
      "11513/11513 [==============================] - 1s 64us/step - loss: 0.1473 - accuracy: 0.9578 - val_loss: 0.1527 - val_accuracy: 0.9569\n",
      "Epoch 51/200\n",
      "11513/11513 [==============================] - 1s 62us/step - loss: 0.1456 - accuracy: 0.9591 - val_loss: 0.1509 - val_accuracy: 0.9576\n",
      "Epoch 52/200\n",
      "11513/11513 [==============================] - 1s 61us/step - loss: 0.1438 - accuracy: 0.9604 - val_loss: 0.1492 - val_accuracy: 0.9576\n",
      "Epoch 53/200\n",
      "11513/11513 [==============================] - 1s 65us/step - loss: 0.1422 - accuracy: 0.9608 - val_loss: 0.1476 - val_accuracy: 0.9583\n",
      "Epoch 54/200\n",
      "11513/11513 [==============================] - 1s 57us/step - loss: 0.1406 - accuracy: 0.9618 - val_loss: 0.1461 - val_accuracy: 0.9597\n",
      "Epoch 55/200\n"
     ]
    },
    {
     "name": "stdout",
     "output_type": "stream",
     "text": [
      "11513/11513 [==============================] - 1s 58us/step - loss: 0.1391 - accuracy: 0.9623 - val_loss: 0.1445 - val_accuracy: 0.9601\n",
      "Epoch 56/200\n",
      "11513/11513 [==============================] - 1s 63us/step - loss: 0.1377 - accuracy: 0.9627 - val_loss: 0.1431 - val_accuracy: 0.9601\n",
      "Epoch 57/200\n",
      "11513/11513 [==============================] - 1s 65us/step - loss: 0.1364 - accuracy: 0.9632 - val_loss: 0.1418 - val_accuracy: 0.9608\n",
      "Epoch 58/200\n",
      "11513/11513 [==============================] - 1s 69us/step - loss: 0.1352 - accuracy: 0.9639 - val_loss: 0.1404 - val_accuracy: 0.9611\n",
      "Epoch 59/200\n",
      "11513/11513 [==============================] - 1s 64us/step - loss: 0.1338 - accuracy: 0.9642 - val_loss: 0.1391 - val_accuracy: 0.9614\n",
      "Epoch 60/200\n",
      "11513/11513 [==============================] - 1s 54us/step - loss: 0.1325 - accuracy: 0.9643 - val_loss: 0.1379 - val_accuracy: 0.9618\n",
      "Epoch 61/200\n",
      "11513/11513 [==============================] - 1s 50us/step - loss: 0.1313 - accuracy: 0.9648 - val_loss: 0.1367 - val_accuracy: 0.9618\n",
      "Epoch 62/200\n",
      "11513/11513 [==============================] - 1s 49us/step - loss: 0.1302 - accuracy: 0.9654 - val_loss: 0.1356 - val_accuracy: 0.9618\n",
      "Epoch 63/200\n",
      "11513/11513 [==============================] - 1s 47us/step - loss: 0.1291 - accuracy: 0.9659 - val_loss: 0.1345 - val_accuracy: 0.9621\n",
      "Epoch 64/200\n",
      "11513/11513 [==============================] - 1s 58us/step - loss: 0.1282 - accuracy: 0.9661 - val_loss: 0.1334 - val_accuracy: 0.9625\n",
      "Epoch 65/200\n",
      "11513/11513 [==============================] - 1s 52us/step - loss: 0.1272 - accuracy: 0.9664 - val_loss: 0.1324 - val_accuracy: 0.9628\n",
      "Epoch 66/200\n",
      "11513/11513 [==============================] - 1s 51us/step - loss: 0.1263 - accuracy: 0.9666 - val_loss: 0.1314 - val_accuracy: 0.9632\n",
      "Epoch 67/200\n",
      "11513/11513 [==============================] - 1s 45us/step - loss: 0.1254 - accuracy: 0.9669 - val_loss: 0.1305 - val_accuracy: 0.9639\n",
      "Epoch 68/200\n",
      "11513/11513 [==============================] - 1s 45us/step - loss: 0.1245 - accuracy: 0.9672 - val_loss: 0.1295 - val_accuracy: 0.9642\n",
      "Epoch 69/200\n",
      "11513/11513 [==============================] - 1s 50us/step - loss: 0.1237 - accuracy: 0.9675 - val_loss: 0.1286 - val_accuracy: 0.9642\n",
      "Epoch 70/200\n",
      "11513/11513 [==============================] - 1s 55us/step - loss: 0.1228 - accuracy: 0.9677 - val_loss: 0.1277 - val_accuracy: 0.9646\n",
      "Epoch 71/200\n",
      "11513/11513 [==============================] - 1s 51us/step - loss: 0.1220 - accuracy: 0.9679 - val_loss: 0.1268 - val_accuracy: 0.9653\n",
      "Epoch 72/200\n",
      "11513/11513 [==============================] - 1s 52us/step - loss: 0.1212 - accuracy: 0.9681 - val_loss: 0.1259 - val_accuracy: 0.9660\n",
      "Epoch 73/200\n",
      "11513/11513 [==============================] - 1s 52us/step - loss: 0.1203 - accuracy: 0.9682 - val_loss: 0.1249 - val_accuracy: 0.9663\n",
      "Epoch 74/200\n",
      "11513/11513 [==============================] - 1s 52us/step - loss: 0.1195 - accuracy: 0.9688 - val_loss: 0.1240 - val_accuracy: 0.9663\n",
      "Epoch 75/200\n",
      "11513/11513 [==============================] - 1s 49us/step - loss: 0.1186 - accuracy: 0.9694 - val_loss: 0.1230 - val_accuracy: 0.9667\n",
      "Epoch 76/200\n",
      "11513/11513 [==============================] - 1s 51us/step - loss: 0.1176 - accuracy: 0.9699 - val_loss: 0.1219 - val_accuracy: 0.9670\n",
      "Epoch 77/200\n",
      "11513/11513 [==============================] - 1s 53us/step - loss: 0.1167 - accuracy: 0.9700 - val_loss: 0.1208 - val_accuracy: 0.9680\n",
      "Epoch 78/200\n",
      "11513/11513 [==============================] - 1s 58us/step - loss: 0.1156 - accuracy: 0.9706 - val_loss: 0.1196 - val_accuracy: 0.9684\n",
      "Epoch 79/200\n",
      "11513/11513 [==============================] - 1s 51us/step - loss: 0.1143 - accuracy: 0.9716 - val_loss: 0.1184 - val_accuracy: 0.9698\n",
      "Epoch 80/200\n",
      "11513/11513 [==============================] - 1s 53us/step - loss: 0.1128 - accuracy: 0.9723 - val_loss: 0.1171 - val_accuracy: 0.9712\n",
      "Epoch 81/200\n",
      "11513/11513 [==============================] - 1s 57us/step - loss: 0.1110 - accuracy: 0.9735 - val_loss: 0.1159 - val_accuracy: 0.9719\n",
      "Epoch 82/200\n",
      "11513/11513 [==============================] - 1s 57us/step - loss: 0.1095 - accuracy: 0.9750 - val_loss: 0.1148 - val_accuracy: 0.9719\n",
      "Epoch 83/200\n",
      "11513/11513 [==============================] - 1s 52us/step - loss: 0.1083 - accuracy: 0.9757 - val_loss: 0.1138 - val_accuracy: 0.9729\n",
      "Epoch 84/200\n",
      "11513/11513 [==============================] - 1s 49us/step - loss: 0.1070 - accuracy: 0.9772 - val_loss: 0.1128 - val_accuracy: 0.9729\n",
      "Epoch 85/200\n",
      "11513/11513 [==============================] - 1s 53us/step - loss: 0.1059 - accuracy: 0.9779 - val_loss: 0.1117 - val_accuracy: 0.9729\n",
      "Epoch 86/200\n",
      "11513/11513 [==============================] - 1s 50us/step - loss: 0.1047 - accuracy: 0.9779 - val_loss: 0.1105 - val_accuracy: 0.9739\n",
      "Epoch 87/200\n",
      "11513/11513 [==============================] - 1s 49us/step - loss: 0.1035 - accuracy: 0.9783 - val_loss: 0.1093 - val_accuracy: 0.9743\n",
      "Epoch 88/200\n",
      "11513/11513 [==============================] - 1s 49us/step - loss: 0.1024 - accuracy: 0.9785 - val_loss: 0.1081 - val_accuracy: 0.9746\n",
      "Epoch 89/200\n",
      "11513/11513 [==============================] - 1s 51us/step - loss: 0.1014 - accuracy: 0.9788 - val_loss: 0.1069 - val_accuracy: 0.9753\n",
      "Epoch 90/200\n",
      "11513/11513 [==============================] - 1s 51us/step - loss: 0.1005 - accuracy: 0.9794 - val_loss: 0.1058 - val_accuracy: 0.9757\n",
      "Epoch 91/200\n",
      "11513/11513 [==============================] - 1s 51us/step - loss: 0.0996 - accuracy: 0.9798 - val_loss: 0.1047 - val_accuracy: 0.9767\n",
      "Epoch 92/200\n",
      "11513/11513 [==============================] - 1s 49us/step - loss: 0.0986 - accuracy: 0.9800 - val_loss: 0.1036 - val_accuracy: 0.9774\n",
      "Epoch 93/200\n",
      "11513/11513 [==============================] - 1s 49us/step - loss: 0.0976 - accuracy: 0.9801 - val_loss: 0.1026 - val_accuracy: 0.9774\n",
      "Epoch 94/200\n",
      "11513/11513 [==============================] - 1s 45us/step - loss: 0.0967 - accuracy: 0.9805 - val_loss: 0.1016 - val_accuracy: 0.9781\n",
      "Epoch 95/200\n",
      "11513/11513 [==============================] - 1s 47us/step - loss: 0.0958 - accuracy: 0.9805 - val_loss: 0.1007 - val_accuracy: 0.9785\n",
      "Epoch 96/200\n",
      "11513/11513 [==============================] - 1s 48us/step - loss: 0.0949 - accuracy: 0.9806 - val_loss: 0.0997 - val_accuracy: 0.9788\n",
      "Epoch 97/200\n",
      "11513/11513 [==============================] - 1s 54us/step - loss: 0.0939 - accuracy: 0.9810 - val_loss: 0.0986 - val_accuracy: 0.9788\n",
      "Epoch 98/200\n",
      "11513/11513 [==============================] - 1s 50us/step - loss: 0.0929 - accuracy: 0.9818 - val_loss: 0.0974 - val_accuracy: 0.9795\n",
      "Epoch 99/200\n",
      "11513/11513 [==============================] - 1s 56us/step - loss: 0.0919 - accuracy: 0.9819 - val_loss: 0.0961 - val_accuracy: 0.9795\n",
      "Epoch 100/200\n",
      "11513/11513 [==============================] - 1s 51us/step - loss: 0.0908 - accuracy: 0.9824 - val_loss: 0.0947 - val_accuracy: 0.9799\n",
      "Epoch 101/200\n",
      "11513/11513 [==============================] - 1s 49us/step - loss: 0.0898 - accuracy: 0.9829 - val_loss: 0.0934 - val_accuracy: 0.9805\n",
      "Epoch 102/200\n",
      "11513/11513 [==============================] - 1s 52us/step - loss: 0.0887 - accuracy: 0.9835 - val_loss: 0.0919 - val_accuracy: 0.9812\n",
      "Epoch 103/200\n",
      "11513/11513 [==============================] - 1s 54us/step - loss: 0.0875 - accuracy: 0.9844 - val_loss: 0.0904 - val_accuracy: 0.9833\n",
      "Epoch 104/200\n",
      "11513/11513 [==============================] - 1s 49us/step - loss: 0.0862 - accuracy: 0.9854 - val_loss: 0.0889 - val_accuracy: 0.9837\n",
      "Epoch 105/200\n",
      "11513/11513 [==============================] - 1s 49us/step - loss: 0.0848 - accuracy: 0.9859 - val_loss: 0.0875 - val_accuracy: 0.9851\n",
      "Epoch 106/200\n",
      "11513/11513 [==============================] - 1s 49us/step - loss: 0.0837 - accuracy: 0.9864 - val_loss: 0.0863 - val_accuracy: 0.9865\n",
      "Epoch 107/200\n",
      "11513/11513 [==============================] - 1s 50us/step - loss: 0.0827 - accuracy: 0.9871 - val_loss: 0.0852 - val_accuracy: 0.9865\n",
      "Epoch 108/200\n",
      "11513/11513 [==============================] - 1s 50us/step - loss: 0.0819 - accuracy: 0.9876 - val_loss: 0.0843 - val_accuracy: 0.9871\n",
      "Epoch 109/200\n",
      "11513/11513 [==============================] - 1s 49us/step - loss: 0.0811 - accuracy: 0.9883 - val_loss: 0.0834 - val_accuracy: 0.9878\n",
      "Epoch 110/200\n"
     ]
    },
    {
     "name": "stdout",
     "output_type": "stream",
     "text": [
      "11513/11513 [==============================] - 1s 52us/step - loss: 0.0804 - accuracy: 0.9886 - val_loss: 0.0826 - val_accuracy: 0.9878\n",
      "Epoch 111/200\n",
      "11513/11513 [==============================] - 1s 58us/step - loss: 0.0797 - accuracy: 0.9889 - val_loss: 0.0819 - val_accuracy: 0.9878\n",
      "Epoch 112/200\n",
      "11513/11513 [==============================] - 1s 57us/step - loss: 0.0791 - accuracy: 0.9891 - val_loss: 0.0812 - val_accuracy: 0.9878\n",
      "Epoch 113/200\n",
      "11513/11513 [==============================] - 1s 54us/step - loss: 0.0785 - accuracy: 0.9892 - val_loss: 0.0806 - val_accuracy: 0.9882\n",
      "Epoch 114/200\n",
      "11513/11513 [==============================] - 1s 52us/step - loss: 0.0780 - accuracy: 0.9893 - val_loss: 0.0800 - val_accuracy: 0.9889\n",
      "Epoch 115/200\n",
      "11513/11513 [==============================] - 1s 46us/step - loss: 0.0775 - accuracy: 0.9893 - val_loss: 0.0795 - val_accuracy: 0.9889\n",
      "Epoch 116/200\n",
      "11513/11513 [==============================] - 1s 54us/step - loss: 0.0770 - accuracy: 0.9894 - val_loss: 0.0790 - val_accuracy: 0.9889\n",
      "Epoch 117/200\n",
      "11513/11513 [==============================] - 1s 56us/step - loss: 0.0765 - accuracy: 0.9894 - val_loss: 0.0785 - val_accuracy: 0.9889\n",
      "Epoch 118/200\n",
      "11513/11513 [==============================] - 1s 58us/step - loss: 0.0761 - accuracy: 0.9894 - val_loss: 0.0780 - val_accuracy: 0.9889\n",
      "Epoch 119/200\n",
      "11513/11513 [==============================] - 1s 51us/step - loss: 0.0757 - accuracy: 0.9894 - val_loss: 0.0775 - val_accuracy: 0.9889\n",
      "Epoch 120/200\n",
      "11513/11513 [==============================] - 1s 46us/step - loss: 0.0753 - accuracy: 0.9894 - val_loss: 0.0771 - val_accuracy: 0.9889\n",
      "Epoch 121/200\n",
      "11513/11513 [==============================] - 1s 46us/step - loss: 0.0749 - accuracy: 0.9894 - val_loss: 0.0766 - val_accuracy: 0.9889\n",
      "Epoch 122/200\n",
      "11513/11513 [==============================] - 1s 53us/step - loss: 0.0745 - accuracy: 0.9894 - val_loss: 0.0762 - val_accuracy: 0.9889\n",
      "Epoch 123/200\n",
      "11513/11513 [==============================] - 1s 58us/step - loss: 0.0741 - accuracy: 0.9894 - val_loss: 0.0758 - val_accuracy: 0.9889\n",
      "Epoch 124/200\n",
      "11513/11513 [==============================] - 1s 58us/step - loss: 0.0737 - accuracy: 0.9894 - val_loss: 0.0754 - val_accuracy: 0.9889\n",
      "Epoch 125/200\n",
      "11513/11513 [==============================] - 1s 61us/step - loss: 0.0734 - accuracy: 0.9894 - val_loss: 0.0750 - val_accuracy: 0.9889\n",
      "Epoch 126/200\n",
      "11513/11513 [==============================] - 1s 60us/step - loss: 0.0730 - accuracy: 0.9894 - val_loss: 0.0746 - val_accuracy: 0.9889\n",
      "Epoch 127/200\n",
      "11513/11513 [==============================] - 1s 52us/step - loss: 0.0727 - accuracy: 0.9894 - val_loss: 0.0742 - val_accuracy: 0.9889\n",
      "Epoch 128/200\n",
      "11513/11513 [==============================] - 1s 54us/step - loss: 0.0723 - accuracy: 0.9894 - val_loss: 0.0738 - val_accuracy: 0.9889\n",
      "Epoch 129/200\n",
      "11513/11513 [==============================] - 1s 65us/step - loss: 0.0720 - accuracy: 0.9894 - val_loss: 0.0735 - val_accuracy: 0.9889\n",
      "Epoch 130/200\n",
      "11513/11513 [==============================] - 1s 58us/step - loss: 0.0717 - accuracy: 0.9893 - val_loss: 0.0731 - val_accuracy: 0.9889\n",
      "Epoch 131/200\n",
      "11513/11513 [==============================] - 1s 59us/step - loss: 0.0714 - accuracy: 0.9893 - val_loss: 0.0728 - val_accuracy: 0.9889\n",
      "Epoch 132/200\n",
      "11513/11513 [==============================] - 1s 61us/step - loss: 0.0711 - accuracy: 0.9894 - val_loss: 0.0725 - val_accuracy: 0.9889\n",
      "Epoch 133/200\n",
      "11513/11513 [==============================] - 1s 56us/step - loss: 0.0708 - accuracy: 0.9894 - val_loss: 0.0722 - val_accuracy: 0.9889\n",
      "Epoch 134/200\n",
      "11513/11513 [==============================] - 1s 57us/step - loss: 0.0705 - accuracy: 0.9893 - val_loss: 0.0718 - val_accuracy: 0.9889\n",
      "Epoch 135/200\n",
      "11513/11513 [==============================] - 1s 58us/step - loss: 0.0702 - accuracy: 0.9893 - val_loss: 0.0715 - val_accuracy: 0.9889\n",
      "Epoch 136/200\n",
      "11513/11513 [==============================] - 1s 64us/step - loss: 0.0699 - accuracy: 0.9893 - val_loss: 0.0713 - val_accuracy: 0.9889\n",
      "Epoch 137/200\n",
      "11513/11513 [==============================] - 1s 50us/step - loss: 0.0696 - accuracy: 0.9893 - val_loss: 0.0710 - val_accuracy: 0.9889\n",
      "Epoch 138/200\n",
      "11513/11513 [==============================] - 1s 50us/step - loss: 0.0694 - accuracy: 0.9893 - val_loss: 0.0707 - val_accuracy: 0.9889\n",
      "Epoch 139/200\n",
      "11513/11513 [==============================] - 1s 48us/step - loss: 0.0691 - accuracy: 0.9893 - val_loss: 0.0704 - val_accuracy: 0.9889\n",
      "Epoch 140/200\n",
      "11513/11513 [==============================] - 1s 46us/step - loss: 0.0688 - accuracy: 0.9893 - val_loss: 0.0702 - val_accuracy: 0.9889\n",
      "Epoch 141/200\n",
      "11513/11513 [==============================] - 1s 47us/step - loss: 0.0686 - accuracy: 0.9893 - val_loss: 0.0699 - val_accuracy: 0.9889\n",
      "Epoch 142/200\n",
      "11513/11513 [==============================] - 1s 53us/step - loss: 0.0683 - accuracy: 0.9893 - val_loss: 0.0696 - val_accuracy: 0.9889\n",
      "Epoch 143/200\n",
      "11513/11513 [==============================] - 1s 51us/step - loss: 0.0681 - accuracy: 0.9894 - val_loss: 0.0694 - val_accuracy: 0.9889\n",
      "Epoch 144/200\n",
      "11513/11513 [==============================] - 1s 51us/step - loss: 0.0679 - accuracy: 0.9894 - val_loss: 0.0692 - val_accuracy: 0.9889\n",
      "Epoch 145/200\n",
      "11513/11513 [==============================] - 1s 49us/step - loss: 0.0676 - accuracy: 0.9894 - val_loss: 0.0689 - val_accuracy: 0.9889\n",
      "Epoch 146/200\n",
      "11513/11513 [==============================] - 1s 46us/step - loss: 0.0674 - accuracy: 0.9894 - val_loss: 0.0687 - val_accuracy: 0.9889\n",
      "Epoch 147/200\n",
      "11513/11513 [==============================] - 1s 50us/step - loss: 0.0672 - accuracy: 0.9895 - val_loss: 0.0684 - val_accuracy: 0.9889\n",
      "Epoch 148/200\n",
      "11513/11513 [==============================] - 1s 55us/step - loss: 0.0670 - accuracy: 0.9895 - val_loss: 0.0682 - val_accuracy: 0.9889\n",
      "Epoch 149/200\n",
      "11513/11513 [==============================] - 1s 54us/step - loss: 0.0667 - accuracy: 0.9895 - val_loss: 0.0680 - val_accuracy: 0.9889\n",
      "Epoch 150/200\n",
      "11513/11513 [==============================] - 1s 59us/step - loss: 0.0665 - accuracy: 0.9895 - val_loss: 0.0678 - val_accuracy: 0.9889\n",
      "Epoch 151/200\n",
      "11513/11513 [==============================] - 1s 61us/step - loss: 0.0663 - accuracy: 0.9895 - val_loss: 0.0676 - val_accuracy: 0.9889\n",
      "Epoch 152/200\n",
      "11513/11513 [==============================] - 1s 59us/step - loss: 0.0661 - accuracy: 0.9895 - val_loss: 0.0673 - val_accuracy: 0.9889\n",
      "Epoch 153/200\n",
      "11513/11513 [==============================] - 1s 53us/step - loss: 0.0659 - accuracy: 0.9895 - val_loss: 0.0671 - val_accuracy: 0.9889\n",
      "Epoch 154/200\n",
      "11513/11513 [==============================] - 1s 53us/step - loss: 0.0657 - accuracy: 0.9895 - val_loss: 0.0669 - val_accuracy: 0.9889\n",
      "Epoch 155/200\n",
      "11513/11513 [==============================] - 1s 50us/step - loss: 0.0655 - accuracy: 0.9895 - val_loss: 0.0667 - val_accuracy: 0.9889\n",
      "Epoch 156/200\n",
      "11513/11513 [==============================] - 1s 48us/step - loss: 0.0653 - accuracy: 0.9895 - val_loss: 0.0665 - val_accuracy: 0.9889\n",
      "Epoch 157/200\n",
      "11513/11513 [==============================] - 1s 52us/step - loss: 0.0651 - accuracy: 0.9895 - val_loss: 0.0663 - val_accuracy: 0.9889\n",
      "Epoch 158/200\n",
      "11513/11513 [==============================] - 1s 51us/step - loss: 0.0649 - accuracy: 0.9895 - val_loss: 0.0661 - val_accuracy: 0.9889\n",
      "Epoch 159/200\n",
      "11513/11513 [==============================] - 1s 50us/step - loss: 0.0647 - accuracy: 0.9895 - val_loss: 0.0659 - val_accuracy: 0.9889\n",
      "Epoch 160/200\n",
      "11513/11513 [==============================] - 1s 48us/step - loss: 0.0645 - accuracy: 0.9895 - val_loss: 0.0658 - val_accuracy: 0.9889\n",
      "Epoch 161/200\n",
      "11513/11513 [==============================] - 1s 51us/step - loss: 0.0644 - accuracy: 0.9895 - val_loss: 0.0656 - val_accuracy: 0.9889\n",
      "Epoch 162/200\n",
      "11513/11513 [==============================] - 1s 51us/step - loss: 0.0642 - accuracy: 0.9895 - val_loss: 0.0654 - val_accuracy: 0.9889\n",
      "Epoch 163/200\n",
      "11513/11513 [==============================] - 1s 51us/step - loss: 0.0640 - accuracy: 0.9895 - val_loss: 0.0652 - val_accuracy: 0.9889\n",
      "Epoch 164/200\n",
      "11513/11513 [==============================] - 1s 50us/step - loss: 0.0638 - accuracy: 0.9895 - val_loss: 0.0650 - val_accuracy: 0.9889\n"
     ]
    },
    {
     "name": "stdout",
     "output_type": "stream",
     "text": [
      "Epoch 165/200\n",
      "11513/11513 [==============================] - 1s 51us/step - loss: 0.0637 - accuracy: 0.9895 - val_loss: 0.0649 - val_accuracy: 0.9889\n",
      "Epoch 166/200\n",
      "11513/11513 [==============================] - 1s 49us/step - loss: 0.0635 - accuracy: 0.9895 - val_loss: 0.0647 - val_accuracy: 0.9889\n",
      "Epoch 167/200\n",
      "11513/11513 [==============================] - 1s 51us/step - loss: 0.0633 - accuracy: 0.9895 - val_loss: 0.0645 - val_accuracy: 0.9889\n",
      "Epoch 168/200\n",
      "11513/11513 [==============================] - 1s 51us/step - loss: 0.0632 - accuracy: 0.9895 - val_loss: 0.0644 - val_accuracy: 0.9889\n",
      "Epoch 169/200\n",
      "11513/11513 [==============================] - 1s 50us/step - loss: 0.0630 - accuracy: 0.9895 - val_loss: 0.0642 - val_accuracy: 0.9889\n",
      "Epoch 170/200\n",
      "11513/11513 [==============================] - 1s 50us/step - loss: 0.0629 - accuracy: 0.9895 - val_loss: 0.0641 - val_accuracy: 0.9889\n",
      "Epoch 171/200\n",
      "11513/11513 [==============================] - 1s 49us/step - loss: 0.0627 - accuracy: 0.9895 - val_loss: 0.0639 - val_accuracy: 0.9889\n",
      "Epoch 172/200\n",
      "11513/11513 [==============================] - 1s 48us/step - loss: 0.0626 - accuracy: 0.9895 - val_loss: 0.0638 - val_accuracy: 0.9889\n",
      "Epoch 173/200\n",
      "11513/11513 [==============================] - 1s 46us/step - loss: 0.0624 - accuracy: 0.9895 - val_loss: 0.0636 - val_accuracy: 0.9889\n",
      "Epoch 174/200\n",
      "11513/11513 [==============================] - 1s 54us/step - loss: 0.0623 - accuracy: 0.9895 - val_loss: 0.0635 - val_accuracy: 0.9889\n",
      "Epoch 175/200\n",
      "11513/11513 [==============================] - 1s 54us/step - loss: 0.0621 - accuracy: 0.9895 - val_loss: 0.0633 - val_accuracy: 0.9889\n",
      "Epoch 176/200\n",
      "11513/11513 [==============================] - 1s 50us/step - loss: 0.0620 - accuracy: 0.9895 - val_loss: 0.0632 - val_accuracy: 0.9889\n",
      "Epoch 177/200\n",
      "11513/11513 [==============================] - 1s 48us/step - loss: 0.0618 - accuracy: 0.9895 - val_loss: 0.0630 - val_accuracy: 0.9889\n",
      "Epoch 178/200\n",
      "11513/11513 [==============================] - 1s 52us/step - loss: 0.0617 - accuracy: 0.9895 - val_loss: 0.0629 - val_accuracy: 0.9889\n",
      "Epoch 179/200\n",
      "11513/11513 [==============================] - 1s 46us/step - loss: 0.0615 - accuracy: 0.9895 - val_loss: 0.0628 - val_accuracy: 0.9889\n",
      "Epoch 180/200\n",
      "11513/11513 [==============================] - 1s 56us/step - loss: 0.0614 - accuracy: 0.9895 - val_loss: 0.0626 - val_accuracy: 0.9889\n",
      "Epoch 181/200\n",
      "11513/11513 [==============================] - 1s 68us/step - loss: 0.0613 - accuracy: 0.9895 - val_loss: 0.0625 - val_accuracy: 0.9889\n",
      "Epoch 182/200\n",
      "11513/11513 [==============================] - 1s 67us/step - loss: 0.0611 - accuracy: 0.9895 - val_loss: 0.0623 - val_accuracy: 0.9889\n",
      "Epoch 183/200\n",
      "11513/11513 [==============================] - 1s 56us/step - loss: 0.0610 - accuracy: 0.9895 - val_loss: 0.0622 - val_accuracy: 0.9889\n",
      "Epoch 184/200\n",
      "11513/11513 [==============================] - 1s 60us/step - loss: 0.0609 - accuracy: 0.9895 - val_loss: 0.0621 - val_accuracy: 0.9889\n",
      "Epoch 185/200\n",
      "11513/11513 [==============================] - 1s 62us/step - loss: 0.0607 - accuracy: 0.9895 - val_loss: 0.0620 - val_accuracy: 0.9889\n",
      "Epoch 186/200\n",
      "11513/11513 [==============================] - 1s 48us/step - loss: 0.0606 - accuracy: 0.9895 - val_loss: 0.0618 - val_accuracy: 0.9889\n",
      "Epoch 187/200\n",
      "11513/11513 [==============================] - 1s 55us/step - loss: 0.0605 - accuracy: 0.9895 - val_loss: 0.0617 - val_accuracy: 0.9889\n",
      "Epoch 188/200\n",
      "11513/11513 [==============================] - 1s 61us/step - loss: 0.0604 - accuracy: 0.9895 - val_loss: 0.0616 - val_accuracy: 0.9889\n",
      "Epoch 189/200\n",
      "11513/11513 [==============================] - 1s 56us/step - loss: 0.0602 - accuracy: 0.9895 - val_loss: 0.0615 - val_accuracy: 0.9889\n",
      "Epoch 190/200\n",
      "11513/11513 [==============================] - 1s 61us/step - loss: 0.0601 - accuracy: 0.9895 - val_loss: 0.0613 - val_accuracy: 0.9889\n",
      "Epoch 191/200\n",
      "11513/11513 [==============================] - 1s 63us/step - loss: 0.0600 - accuracy: 0.9895 - val_loss: 0.0612 - val_accuracy: 0.9889\n",
      "Epoch 192/200\n",
      "11513/11513 [==============================] - 1s 55us/step - loss: 0.0599 - accuracy: 0.9895 - val_loss: 0.0611 - val_accuracy: 0.9889\n",
      "Epoch 193/200\n",
      "11513/11513 [==============================] - 1s 49us/step - loss: 0.0598 - accuracy: 0.9895 - val_loss: 0.0610 - val_accuracy: 0.9889\n",
      "Epoch 194/200\n",
      "11513/11513 [==============================] - 1s 52us/step - loss: 0.0597 - accuracy: 0.9895 - val_loss: 0.0609 - val_accuracy: 0.9889\n",
      "Epoch 195/200\n",
      "11513/11513 [==============================] - 1s 53us/step - loss: 0.0595 - accuracy: 0.9895 - val_loss: 0.0607 - val_accuracy: 0.9889\n",
      "Epoch 196/200\n",
      "11513/11513 [==============================] - 1s 50us/step - loss: 0.0594 - accuracy: 0.9895 - val_loss: 0.0606 - val_accuracy: 0.9889\n",
      "Epoch 197/200\n",
      "11513/11513 [==============================] - 1s 49us/step - loss: 0.0593 - accuracy: 0.9895 - val_loss: 0.0605 - val_accuracy: 0.9889\n",
      "Epoch 198/200\n",
      "11513/11513 [==============================] - 1s 45us/step - loss: 0.0592 - accuracy: 0.9895 - val_loss: 0.0604 - val_accuracy: 0.9889\n",
      "Epoch 199/200\n",
      "11513/11513 [==============================] - 1s 51us/step - loss: 0.0591 - accuracy: 0.9895 - val_loss: 0.0603 - val_accuracy: 0.9889\n",
      "Epoch 200/200\n",
      "11513/11513 [==============================] - 1s 49us/step - loss: 0.0590 - accuracy: 0.9895 - val_loss: 0.0602 - val_accuracy: 0.9889\n"
     ]
    }
   ],
   "source": [
    "model_best = build_best_model()\n",
    "\n",
    "history3 = model_best.fit(X_train, y_train, validation_data=(X_val, y_val), epochs=200, batch_size=100).history"
   ]
  },
  {
   "cell_type": "code",
   "execution_count": 51,
   "metadata": {},
   "outputs": [
    {
     "name": "stdout",
     "output_type": "stream",
     "text": [
      "6168/6168 [==============================] - 1s 110us/step\n",
      "Loss 0.055896, Accuracy 0.991083\n"
     ]
    }
   ],
   "source": [
    "test_loss_3, test_acc_3 = model_best.evaluate(X_test, y_test)\n",
    "\n",
    "print('Loss %f, Accuracy %f' % (test_loss_3, test_acc_3))"
   ]
  },
  {
   "cell_type": "code",
   "execution_count": 52,
   "metadata": {},
   "outputs": [
    {
     "data": {
      "image/png": "[encoded data removed]",
      "text/plain": [
       "<Figure size 432x288 with 1 Axes>"
      ]
     },
     "metadata": {
      "needs_background": "light"
     },
     "output_type": "display_data"
    }
   ],
   "source": [
    "plt.plot(history3['loss'], label='Train')\n",
    "plt.plot(history3['val_loss'], label='Val')\n",
    "plt.xlabel('Epochs')\n",
    "plt.ylabel('Cross-Entropy')\n",
    "plt.legend()\n",
    "plt.show()"
   ]
  },
  {
   "cell_type": "code",
   "execution_count": 53,
   "metadata": {},
   "outputs": [
    {
     "name": "stdout",
     "output_type": "stream",
     "text": [
      "Accuracy 0.7689688715953308\n",
      "F1-score [0.86939786 0.        ]\n",
      "              precision    recall  f1-score   support\n",
      "\n",
      "           0       0.77      1.00      0.87      4743\n",
      "           1       0.00      0.00      0.00      1425\n",
      "\n",
      "    accuracy                           0.77      6168\n",
      "   macro avg       0.38      0.50      0.43      6168\n",
      "weighted avg       0.59      0.77      0.67      6168\n",
      "\n"
     ]
    },
    {
     "name": "stderr",
     "output_type": "stream",
     "text": [
      "C:\\Users\\Gianmarco\\anaconda3\\envs\\tfk\\lib\\site-packages\\sklearn\\metrics\\_classification.py:1272: UndefinedMetricWarning: Precision and F-score are ill-defined and being set to 0.0 in labels with no predicted samples. Use `zero_division` parameter to control this behavior.\n",
      "  _warn_prf(average, modifier, msg_start, len(result))\n"
     ]
    }
   ],
   "source": [
    "y_pred = model_best.predict(X_test).astype(int)\n",
    "\n",
    "print('Accuracy %s' % accuracy_score(y_test, y_pred))\n",
    "print('F1-score %s' % f1_score(y_test, y_pred, average=None))\n",
    "print(classification_report(y_test, y_pred))"
   ]
  },
  {
   "cell_type": "code",
   "execution_count": null,
   "metadata": {},
   "outputs": [],
   "source": []
  }
 ],
 "metadata": {
  "kernelspec": {
   "display_name": "Python 3",
   "language": "python",
   "name": "python3"
  },
  "language_info": {
   "codemirror_mode": {
    "name": "ipython",
    "version": 3
   },
   "file_extension": ".py",
   "mimetype": "text/x-python",
   "name": "python",
   "nbconvert_exporter": "python",
   "pygments_lexer": "ipython3",
   "version": "3.7.4"
  }
 },
 "nbformat": 4,
 "nbformat_minor": 4
}
