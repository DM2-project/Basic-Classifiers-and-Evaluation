{
 "cells": [
  {
   "cell_type": "code",
   "execution_count": 1,
   "metadata": {},
   "outputs": [],
   "source": [
    "%matplotlib inline\n",
    "\n",
    "import numpy as np\n",
    "import pandas as pd\n",
    "import matplotlib.pyplot as plt\n",
    "\n",
    "from collections import defaultdict"
   ]
  },
  {
   "cell_type": "markdown",
   "metadata": {},
   "source": [
    "### Data preparation, Data partitioning and normalization"
   ]
  },
  {
   "cell_type": "code",
   "execution_count": 2,
   "metadata": {},
   "outputs": [],
   "source": [
    "class_name = 'Occupancy'\n",
    "df1 = pd.read_csv('datatraining.txt', skipinitialspace=True, na_values='?', \n",
    "                 keep_default_na=True)\n",
    "df2 =pd.read_csv('datatest.txt', skipinitialspace=True, na_values='?', \n",
    "                 keep_default_na=True)\n",
    "df3=pd.read_csv('datatest2.txt', skipinitialspace=True, na_values='?', \n",
    "                 keep_default_na=True)\n",
    "df4=pd.merge(df1, df2, how='outer')\n",
    "df=pd.merge(df4, df3, how='outer')"
   ]
  },
  {
   "cell_type": "code",
   "execution_count": 3,
   "metadata": {},
   "outputs": [],
   "source": [
    "df['Day']=pd.to_datetime(df['date']).dt.day\n",
    "df['Hour']=pd.to_datetime(df['date']).dt.hour\n",
    "df['Month']=pd.to_datetime(df['date']).dt.month\n",
    "df['Year']=pd.to_datetime(df['date']).dt.year\n",
    "df['Data']=pd.to_datetime(df['date']).dt.normalize()\n",
    "del df['date']"
   ]
  },
  {
   "cell_type": "code",
   "execution_count": 4,
   "metadata": {},
   "outputs": [],
   "source": [
    "df['Day']=df['Data'].dt.dayofweek\n",
    "df.drop(['Year','Month','Data'], axis='columns', inplace=True)\n",
    "del df['HumidityRatio']"
   ]
  },
  {
   "cell_type": "code",
   "execution_count": 5,
   "metadata": {},
   "outputs": [],
   "source": [
    "from data_preparation import prepare_dataset"
   ]
  },
  {
   "cell_type": "code",
   "execution_count": 6,
   "metadata": {},
   "outputs": [
    {
     "data": {
      "text/html": [
       "<div>\n",
       "<style scoped>\n",
       "    .dataframe tbody tr th:only-of-type {\n",
       "        vertical-align: middle;\n",
       "    }\n",
       "\n",
       "    .dataframe tbody tr th {\n",
       "        vertical-align: top;\n",
       "    }\n",
       "\n",
       "    .dataframe thead th {\n",
       "        text-align: right;\n",
       "    }\n",
       "</style>\n",
       "<table border=\"1\" class=\"dataframe\">\n",
       "  <thead>\n",
       "    <tr style=\"text-align: right;\">\n",
       "      <th></th>\n",
       "      <th>Temperature</th>\n",
       "      <th>Humidity</th>\n",
       "      <th>Light</th>\n",
       "      <th>CO2</th>\n",
       "      <th>Day</th>\n",
       "      <th>Hour</th>\n",
       "      <th>Occupancy</th>\n",
       "    </tr>\n",
       "  </thead>\n",
       "  <tbody>\n",
       "    <tr>\n",
       "      <th>0</th>\n",
       "      <td>23.18</td>\n",
       "      <td>27.2720</td>\n",
       "      <td>426.0</td>\n",
       "      <td>721.25</td>\n",
       "      <td>2</td>\n",
       "      <td>17</td>\n",
       "      <td>1</td>\n",
       "    </tr>\n",
       "    <tr>\n",
       "      <th>1</th>\n",
       "      <td>23.15</td>\n",
       "      <td>27.2675</td>\n",
       "      <td>429.5</td>\n",
       "      <td>714.00</td>\n",
       "      <td>2</td>\n",
       "      <td>17</td>\n",
       "      <td>1</td>\n",
       "    </tr>\n",
       "    <tr>\n",
       "      <th>2</th>\n",
       "      <td>23.15</td>\n",
       "      <td>27.2450</td>\n",
       "      <td>426.0</td>\n",
       "      <td>713.50</td>\n",
       "      <td>2</td>\n",
       "      <td>17</td>\n",
       "      <td>1</td>\n",
       "    </tr>\n",
       "    <tr>\n",
       "      <th>3</th>\n",
       "      <td>23.15</td>\n",
       "      <td>27.2000</td>\n",
       "      <td>426.0</td>\n",
       "      <td>708.25</td>\n",
       "      <td>2</td>\n",
       "      <td>17</td>\n",
       "      <td>1</td>\n",
       "    </tr>\n",
       "    <tr>\n",
       "      <th>4</th>\n",
       "      <td>23.10</td>\n",
       "      <td>27.2000</td>\n",
       "      <td>426.0</td>\n",
       "      <td>704.50</td>\n",
       "      <td>2</td>\n",
       "      <td>17</td>\n",
       "      <td>1</td>\n",
       "    </tr>\n",
       "  </tbody>\n",
       "</table>\n",
       "</div>"
      ],
      "text/plain": [
       "   Temperature  Humidity  Light     CO2  Day  Hour  Occupancy\n",
       "0        23.18   27.2720  426.0  721.25    2    17          1\n",
       "1        23.15   27.2675  429.5  714.00    2    17          1\n",
       "2        23.15   27.2450  426.0  713.50    2    17          1\n",
       "3        23.15   27.2000  426.0  708.25    2    17          1\n",
       "4        23.10   27.2000  426.0  704.50    2    17          1"
      ]
     },
     "execution_count": 6,
     "metadata": {},
     "output_type": "execute_result"
    }
   ],
   "source": [
    "res = prepare_dataset(df, class_name)\n",
    "df, feature_names, class_values, numeric_columns, rdf, real_feature_names, features_map = res\n",
    "df.head()"
   ]
  },
  {
   "cell_type": "code",
   "execution_count": 7,
   "metadata": {},
   "outputs": [],
   "source": [
    "from sklearn.model_selection import train_test_split, cross_val_score, GridSearchCV\n",
    "\n",
    "from sklearn.metrics import accuracy_score, f1_score, classification_report\n",
    "from sklearn.metrics import roc_curve, auc, roc_auc_score"
   ]
  },
  {
   "cell_type": "code",
   "execution_count": 8,
   "metadata": {},
   "outputs": [],
   "source": [
    "attributes = [col for col in df.columns if col != class_name]\n",
    "X = df[attributes].values\n",
    "y = df[class_name]\n",
    "\n",
    "X_train, X_test, y_train, y_test = train_test_split(X, y, test_size=0.3, random_state=100, stratify=y)"
   ]
  },
  {
   "cell_type": "code",
   "execution_count": 9,
   "metadata": {},
   "outputs": [],
   "source": [
    "from sklearn.preprocessing import StandardScaler"
   ]
  },
  {
   "cell_type": "code",
   "execution_count": 10,
   "metadata": {},
   "outputs": [],
   "source": [
    "scaler = StandardScaler()\n",
    "scaler.fit(X_train)\n",
    "X_train = scaler.transform(X_train)\n",
    "X_test = scaler.transform(X_test)"
   ]
  },
  {
   "cell_type": "markdown",
   "metadata": {},
   "source": [
    "## Single layer network"
   ]
  },
  {
   "cell_type": "code",
   "execution_count": 11,
   "metadata": {},
   "outputs": [],
   "source": [
    "from sklearn.linear_model import Perceptron"
   ]
  },
  {
   "cell_type": "code",
   "execution_count": 12,
   "metadata": {},
   "outputs": [],
   "source": [
    "sln=Perceptron()"
   ]
  },
  {
   "cell_type": "code",
   "execution_count": 13,
   "metadata": {},
   "outputs": [
    {
     "data": {
      "text/plain": [
       "Perceptron(alpha=0.0001, class_weight=None, early_stopping=False, eta0=1.0,\n",
       "           fit_intercept=True, max_iter=1000, n_iter_no_change=5, n_jobs=None,\n",
       "           penalty=None, random_state=0, shuffle=True, tol=0.001,\n",
       "           validation_fraction=0.1, verbose=0, warm_start=False)"
      ]
     },
     "execution_count": 13,
     "metadata": {},
     "output_type": "execute_result"
    }
   ],
   "source": [
    "sln.fit(X_train, y_train)"
   ]
  },
  {
   "cell_type": "code",
   "execution_count": 14,
   "metadata": {},
   "outputs": [],
   "source": [
    "y_pred_sln = sln.predict(X_test)"
   ]
  },
  {
   "cell_type": "code",
   "execution_count": 15,
   "metadata": {},
   "outputs": [
    {
     "name": "stdout",
     "output_type": "stream",
     "text": [
      "Accuracy 0.9854085603112841\n",
      "F1-score [0.99049028 0.96866295]\n",
      "              precision    recall  f1-score   support\n",
      "\n",
      "           0       0.99      0.99      0.99      4743\n",
      "           1       0.96      0.98      0.97      1425\n",
      "\n",
      "    accuracy                           0.99      6168\n",
      "   macro avg       0.98      0.98      0.98      6168\n",
      "weighted avg       0.99      0.99      0.99      6168\n",
      "\n"
     ]
    }
   ],
   "source": [
    "print('Accuracy %s' % accuracy_score(y_test, y_pred_sln))\n",
    "print('F1-score %s' % f1_score(y_test, y_pred_sln, average=None))\n",
    "print(classification_report(y_test, y_pred_sln))"
   ]
  },
  {
   "cell_type": "markdown",
   "metadata": {},
   "source": [
    "non posso fare roc curve ne lift chart perchè questo classificatore non ha clf.proba (Perceptrons do not output a class probability; rather,\n",
    "they just make predictions based on a hard threshold. This is one of the good reasons to prefer Logistic\n",
    "Regression over Perceptrons.)\n"
   ]
  },
  {
   "cell_type": "markdown",
   "metadata": {},
   "source": [
    "## Multiple layer network"
   ]
  },
  {
   "cell_type": "code",
   "execution_count": 16,
   "metadata": {},
   "outputs": [],
   "source": [
    "from sklearn.neural_network import MLPClassifier"
   ]
  },
  {
   "cell_type": "code",
   "execution_count": 17,
   "metadata": {},
   "outputs": [
    {
     "name": "stdout",
     "output_type": "stream",
     "text": [
      "Accuracy 0.9920557717250325\n",
      "F1-score [0.99481317 0.98303911]\n",
      "              precision    recall  f1-score   support\n",
      "\n",
      "           0       1.00      0.99      0.99      4743\n",
      "           1       0.97      1.00      0.98      1425\n",
      "\n",
      "    accuracy                           0.99      6168\n",
      "   macro avg       0.98      0.99      0.99      6168\n",
      "weighted avg       0.99      0.99      0.99      6168\n",
      "\n"
     ]
    }
   ],
   "source": [
    "mln = MLPClassifier(random_state=0)\n",
    "\n",
    "mln.fit(X_train, y_train)\n",
    "\n",
    "y_pred_mln = mln.predict(X_test)\n",
    "\n",
    "print('Accuracy %s' % accuracy_score(y_test, y_pred_mln))\n",
    "print('F1-score %s' % f1_score(y_test, y_pred_mln, average=None))\n",
    "print(classification_report(y_test, y_pred_mln))"
   ]
  },
  {
   "cell_type": "code",
   "execution_count": 18,
   "metadata": {},
   "outputs": [
    {
     "data": {
      "image/png": "[encoded data removed]",
      "text/plain": [
       "<Figure size 432x288 with 1 Axes>"
      ]
     },
     "metadata": {
      "needs_background": "light"
     },
     "output_type": "display_data"
    }
   ],
   "source": [
    "plt.plot(mln.loss_curve_)\n",
    "plt.show()"
   ]
  },
  {
   "cell_type": "markdown",
   "metadata": {},
   "source": [
    "non sembrano esserci problemi ne di overfitting ne di underfitting:\n",
    "    - overfitting: The plot of training loss continues to decrease with experience or The plot of validation loss decreases to a point and begins increasing again.\n",
    "    - underfitting:The training loss remains flat regardless of training or The training loss continues to decrease until the end of training."
   ]
  },
  {
   "cell_type": "markdown",
   "metadata": {},
   "source": [
    "This example visualizes some training loss curves for different stochastic learning strategies, including SGD and Adam. "
   ]
  },
  {
   "cell_type": "code",
   "execution_count": 19,
   "metadata": {},
   "outputs": [],
   "source": [
    "params = [{'solver': 'sgd', 'learning_rate': 'constant', 'momentum': 0,\n",
    "           'learning_rate_init': 0.2},\n",
    "          {'solver': 'sgd', 'learning_rate': 'constant', 'momentum': .9,\n",
    "           'nesterovs_momentum': False, 'learning_rate_init': 0.2},\n",
    "          {'solver': 'sgd', 'learning_rate': 'constant', 'momentum': .9,\n",
    "           'nesterovs_momentum': True, 'learning_rate_init': 0.2},\n",
    "          {'solver': 'sgd', 'learning_rate': 'invscaling', 'momentum': 0,\n",
    "           'learning_rate_init': 0.2},\n",
    "          {'solver': 'sgd', 'learning_rate': 'invscaling', 'momentum': .9,\n",
    "           'nesterovs_momentum': True, 'learning_rate_init': 0.2},\n",
    "          {'solver': 'sgd', 'learning_rate': 'invscaling', 'momentum': .9,\n",
    "           'nesterovs_momentum': False, 'learning_rate_init': 0.2},\n",
    "          {'solver': 'adam', 'learning_rate_init': 0.01}]\n",
    "\n",
    "labels = [\"constant learning-rate\", \"constant with momentum\",\n",
    "          \"constant with Nesterov's momentum\",\n",
    "          \"inv-scaling learning-rate\", \"inv-scaling with momentum\",\n",
    "          \"inv-scaling with Nesterov's momentum\", \"adam\"]"
   ]
  },
  {
   "cell_type": "code",
   "execution_count": 20,
   "metadata": {},
   "outputs": [],
   "source": [
    "import warnings\n",
    "from sklearn.exceptions import ConvergenceWarning"
   ]
  },
  {
   "cell_type": "code",
   "execution_count": 21,
   "metadata": {},
   "outputs": [
    {
     "name": "stdout",
     "output_type": "stream",
     "text": [
      "constant learning-rate\n",
      "training set score and loss: 0.769, 5.606281\n"
     ]
    },
    {
     "data": {
      "image/png": "[encoded data removed]",
      "text/plain": [
       "<Figure size 432x288 with 1 Axes>"
      ]
     },
     "metadata": {
      "needs_background": "light"
     },
     "output_type": "display_data"
    },
    {
     "name": "stdout",
     "output_type": "stream",
     "text": [
      "constant with momentum\n",
      "training set score and loss: 0.769, 488.868846\n"
     ]
    },
    {
     "data": {
      "image/png": "[encoded data removed]",
      "text/plain": [
       "<Figure size 432x288 with 1 Axes>"
      ]
     },
     "metadata": {
      "needs_background": "light"
     },
     "output_type": "display_data"
    },
    {
     "name": "stdout",
     "output_type": "stream",
     "text": [
      "constant with Nesterov's momentum\n",
      "training set score and loss: 0.769, 1603.213153\n"
     ]
    },
    {
     "data": {
      "image/png": "[encoded data removed]",
      "text/plain": [
       "<Figure size 432x288 with 1 Axes>"
      ]
     },
     "metadata": {
      "needs_background": "light"
     },
     "output_type": "display_data"
    },
    {
     "name": "stdout",
     "output_type": "stream",
     "text": [
      "inv-scaling learning-rate\n",
      "training set score and loss: 0.769, 5.627009\n"
     ]
    },
    {
     "data": {
      "image/png": "[encoded data removed]",
      "text/plain": [
       "<Figure size 432x288 with 1 Axes>"
      ]
     },
     "metadata": {
      "needs_background": "light"
     },
     "output_type": "display_data"
    },
    {
     "name": "stdout",
     "output_type": "stream",
     "text": [
      "inv-scaling with momentum\n",
      "training set score and loss: 0.769, 1670.178766\n"
     ]
    },
    {
     "data": {
      "image/png": "[encoded data removed]",
      "text/plain": [
       "<Figure size 432x288 with 1 Axes>"
      ]
     },
     "metadata": {
      "needs_background": "light"
     },
     "output_type": "display_data"
    },
    {
     "name": "stdout",
     "output_type": "stream",
     "text": [
      "inv-scaling with Nesterov's momentum\n",
      "training set score and loss: 0.769, 509.280629\n"
     ]
    },
    {
     "data": {
      "image/png": "[encoded data removed]",
      "text/plain": [
       "<Figure size 432x288 with 1 Axes>"
      ]
     },
     "metadata": {
      "needs_background": "light"
     },
     "output_type": "display_data"
    },
    {
     "name": "stdout",
     "output_type": "stream",
     "text": [
      "adam\n",
      "training set score and loss: 0.990, 0.051007\n"
     ]
    },
    {
     "data": {
      "image/png": "[encoded data removed]",
      "text/plain": [
       "<Figure size 432x288 with 1 Axes>"
      ]
     },
     "metadata": {
      "needs_background": "light"
     },
     "output_type": "display_data"
    }
   ],
   "source": [
    "for label, param in zip(labels, params):\n",
    "    print(label)\n",
    "    mlp = MLPClassifier(random_state=0, max_iter=200, **param)\n",
    "\n",
    "    # some parameter combinations will not converge as can be seen on the\n",
    "    # plots so they are ignored here\n",
    "    with warnings.catch_warnings():\n",
    "        warnings.filterwarnings(\"ignore\", category=ConvergenceWarning, module=\"sklearn\")\n",
    "        mlp.fit(X, y)\n",
    "\n",
    "    print(\"training set score and loss: %.3f, %f\" % (mlp.score(X, y), mlp.loss_))\n",
    "    plt.plot(mlp.loss_curve_, label=label)\n",
    "    plt.legend(loc=\"upper center\")\n",
    "    plt.show()"
   ]
  },
  {
   "cell_type": "markdown",
   "metadata": {},
   "source": [
    "tutte le strategie portano ad overfitting: le prime sei perche la loss curve continuano a decrescere con l'esperienza, mentre l'ultima strategia decresce da un punto e riprendere a crescere da un altro punto"
   ]
  },
  {
   "cell_type": "markdown",
   "metadata": {},
   "source": [
    "## keras DNN"
   ]
  },
  {
   "cell_type": "code",
   "execution_count": 16,
   "metadata": {},
   "outputs": [],
   "source": [
    "from keras.models import Sequential\n",
    "from keras.layers import Dense"
   ]
  },
  {
   "cell_type": "code",
   "execution_count": 25,
   "metadata": {},
   "outputs": [],
   "source": [
    "def build_model():\n",
    "    \n",
    "    n_feature = X_train.shape[1]\n",
    "    model = Sequential()\n",
    "    model.add(Dense(128, input_dim=n_feature, activation='relu'))\n",
    "    model.add(Dense(64, activation='relu'))\n",
    "    model.add(Dense(1, activation='sigmoid'))\n",
    "\n",
    "    model.compile(loss='binary_crossentropy', optimizer='adam', metrics=['accuracy'])\n",
    "    return model"
   ]
  },
  {
   "cell_type": "markdown",
   "metadata": {},
   "source": [
    "-The batch size is a hyperparameter of gradient descent that controls the number of training samples to work through before the model’s internal parameters are updated.(The batch size is a number of samples processed before the model is updated)\n",
    "\n",
    "\n",
    "-The number of epochs is a hyperparameter of gradient descent that controls the number of complete passes through the training dataset.(The number of epochs is the number of complete passes through the training dataset)\n",
    "\n",
    "https://machinelearningmastery.com/difference-between-a-batch-and-an-epoch/"
   ]
  },
  {
   "cell_type": "code",
   "execution_count": 38,
   "metadata": {},
   "outputs": [
    {
     "name": "stdout",
     "output_type": "stream",
     "text": [
      "Epoch 1/50\n",
      "14392/14392 [==============================] - 2s 160us/step - loss: 0.0565 - accuracy: 0.9869\n",
      "Epoch 2/50\n",
      "14392/14392 [==============================] - 2s 157us/step - loss: 0.0406 - accuracy: 0.9893\n",
      "Epoch 3/50\n",
      "14392/14392 [==============================] - 2s 162us/step - loss: 0.0379 - accuracy: 0.9890\n",
      "Epoch 4/50\n",
      "14392/14392 [==============================] - 2s 147us/step - loss: 0.0354 - accuracy: 0.9891\n",
      "Epoch 5/50\n",
      "14392/14392 [==============================] - 2s 154us/step - loss: 0.0336 - accuracy: 0.9892\n",
      "Epoch 6/50\n",
      "14392/14392 [==============================] - 2s 144us/step - loss: 0.0321 - accuracy: 0.9897\n",
      "Epoch 7/50\n",
      "14392/14392 [==============================] - 2s 142us/step - loss: 0.0314 - accuracy: 0.9896\n",
      "Epoch 8/50\n",
      "14392/14392 [==============================] - 2s 150us/step - loss: 0.0310 - accuracy: 0.9902\n",
      "Epoch 9/50\n",
      "14392/14392 [==============================] - 2s 143us/step - loss: 0.0298 - accuracy: 0.9910\n",
      "Epoch 10/50\n",
      "14392/14392 [==============================] - 2s 166us/step - loss: 0.0297 - accuracy: 0.9912\n",
      "Epoch 11/50\n",
      "14392/14392 [==============================] - 2s 167us/step - loss: 0.0294 - accuracy: 0.9909\n",
      "Epoch 12/50\n",
      "14392/14392 [==============================] - 3s 179us/step - loss: 0.0294 - accuracy: 0.9912\n",
      "Epoch 13/50\n",
      "14392/14392 [==============================] - 2s 172us/step - loss: 0.0291 - accuracy: 0.9910\n",
      "Epoch 14/50\n",
      "14392/14392 [==============================] - 2s 145us/step - loss: 0.0289 - accuracy: 0.9912\n",
      "Epoch 15/50\n",
      "14392/14392 [==============================] - 2s 154us/step - loss: 0.0289 - accuracy: 0.9913\n",
      "Epoch 16/50\n",
      "14392/14392 [==============================] - 2s 150us/step - loss: 0.0282 - accuracy: 0.9910\n",
      "Epoch 17/50\n",
      "14392/14392 [==============================] - 2s 148us/step - loss: 0.0283 - accuracy: 0.9914\n",
      "Epoch 18/50\n",
      "14392/14392 [==============================] - 2s 146us/step - loss: 0.0284 - accuracy: 0.9910\n",
      "Epoch 19/50\n",
      "14392/14392 [==============================] - 2s 161us/step - loss: 0.0277 - accuracy: 0.9912\n",
      "Epoch 20/50\n",
      "14392/14392 [==============================] - 2s 151us/step - loss: 0.0274 - accuracy: 0.9912\n",
      "Epoch 21/50\n",
      "14392/14392 [==============================] - 2s 148us/step - loss: 0.0275 - accuracy: 0.9912\n",
      "Epoch 22/50\n",
      "14392/14392 [==============================] - 2s 144us/step - loss: 0.0275 - accuracy: 0.9908\n",
      "Epoch 23/50\n",
      "14392/14392 [==============================] - 2s 144us/step - loss: 0.0270 - accuracy: 0.9912\n",
      "Epoch 24/50\n",
      "14392/14392 [==============================] - 2s 144us/step - loss: 0.0270 - accuracy: 0.9912\n",
      "Epoch 25/50\n",
      "14392/14392 [==============================] - 2s 144us/step - loss: 0.0268 - accuracy: 0.9915\n",
      "Epoch 26/50\n",
      "14392/14392 [==============================] - 2s 151us/step - loss: 0.0264 - accuracy: 0.9912\n",
      "Epoch 27/50\n",
      "14392/14392 [==============================] - ETA: 0s - loss: 0.0260 - accuracy: 0.99 - 2s 158us/step - loss: 0.0260 - accuracy: 0.9915\n",
      "Epoch 28/50\n",
      "14392/14392 [==============================] - 2s 152us/step - loss: 0.0267 - accuracy: 0.9912\n",
      "Epoch 29/50\n",
      "14392/14392 [==============================] - 2s 150us/step - loss: 0.0253 - accuracy: 0.9919\n",
      "Epoch 30/50\n",
      "14392/14392 [==============================] - 2s 148us/step - loss: 0.0261 - accuracy: 0.9915\n",
      "Epoch 31/50\n",
      "14392/14392 [==============================] - 2s 144us/step - loss: 0.0257 - accuracy: 0.9909\n",
      "Epoch 32/50\n",
      "14392/14392 [==============================] - 2s 151us/step - loss: 0.0263 - accuracy: 0.9912\n",
      "Epoch 33/50\n",
      "14392/14392 [==============================] - 2s 148us/step - loss: 0.0246 - accuracy: 0.9915\n",
      "Epoch 34/50\n",
      "14392/14392 [==============================] - 2s 161us/step - loss: 0.0253 - accuracy: 0.9915\n",
      "Epoch 35/50\n",
      "14392/14392 [==============================] - 2s 156us/step - loss: 0.0250 - accuracy: 0.9912\n",
      "Epoch 36/50\n",
      "14392/14392 [==============================] - 2s 151us/step - loss: 0.0251 - accuracy: 0.9912\n",
      "Epoch 37/50\n",
      "14392/14392 [==============================] - 2s 149us/step - loss: 0.0250 - accuracy: 0.9912\n",
      "Epoch 38/50\n",
      "14392/14392 [==============================] - 2s 153us/step - loss: 0.0251 - accuracy: 0.9912\n",
      "Epoch 39/50\n",
      "14392/14392 [==============================] - 2s 149us/step - loss: 0.0243 - accuracy: 0.9918\n",
      "Epoch 40/50\n",
      "14392/14392 [==============================] - 2s 149us/step - loss: 0.0250 - accuracy: 0.9916\n",
      "Epoch 41/50\n",
      "14392/14392 [==============================] - 2s 159us/step - loss: 0.0246 - accuracy: 0.9915\n",
      "Epoch 42/50\n",
      "14392/14392 [==============================] - 2s 150us/step - loss: 0.0244 - accuracy: 0.9913\n",
      "Epoch 43/50\n",
      "14392/14392 [==============================] - 2s 149us/step - loss: 0.0244 - accuracy: 0.9912\n",
      "Epoch 44/50\n",
      "14392/14392 [==============================] - 2s 152us/step - loss: 0.0242 - accuracy: 0.9917\n",
      "Epoch 45/50\n",
      "14392/14392 [==============================] - 2s 146us/step - loss: 0.0240 - accuracy: 0.9921\n",
      "Epoch 46/50\n",
      "14392/14392 [==============================] - 2s 159us/step - loss: 0.0239 - accuracy: 0.9914\n",
      "Epoch 47/50\n",
      "14392/14392 [==============================] - 2s 144us/step - loss: 0.0245 - accuracy: 0.9912\n",
      "Epoch 48/50\n",
      "14392/14392 [==============================] - 2s 163us/step - loss: 0.0232 - accuracy: 0.9918\n",
      "Epoch 49/50\n",
      "14392/14392 [==============================] - 2s 161us/step - loss: 0.0232 - accuracy: 0.9918\n",
      "Epoch 50/50\n",
      "14392/14392 [==============================] - 2s 144us/step - loss: 0.0232 - accuracy: 0.9917\n"
     ]
    }
   ],
   "source": [
    "model1 = build_model()\n",
    "\n",
    "history1 = model1.fit(X_train, y_train, epochs=50, batch_size=10).history"
   ]
  },
  {
   "cell_type": "code",
   "execution_count": 34,
   "metadata": {},
   "outputs": [
    {
     "name": "stdout",
     "output_type": "stream",
     "text": [
      "Epoch 1/50\n",
      "14392/14392 [==============================] - 1s 48us/step - loss: 0.1116 - accuracy: 0.9657\n",
      "Epoch 2/50\n",
      "14392/14392 [==============================] - 0s 33us/step - loss: 0.0432 - accuracy: 0.9893\n",
      "Epoch 3/50\n",
      "14392/14392 [==============================] - 0s 34us/step - loss: 0.0406 - accuracy: 0.9892\n",
      "Epoch 4/50\n",
      "14392/14392 [==============================] - 0s 33us/step - loss: 0.0393 - accuracy: 0.9894\n",
      "Epoch 5/50\n",
      "14392/14392 [==============================] - 0s 34us/step - loss: 0.0375 - accuracy: 0.9893 0s - loss: 0.0273 \n",
      "Epoch 6/50\n",
      "14392/14392 [==============================] - 0s 33us/step - loss: 0.0360 - accuracy: 0.9897\n",
      "Epoch 7/50\n",
      "14392/14392 [==============================] - 0s 33us/step - loss: 0.0358 - accuracy: 0.9894\n",
      "Epoch 8/50\n",
      "14392/14392 [==============================] - 0s 33us/step - loss: 0.0342 - accuracy: 0.9893\n",
      "Epoch 9/50\n",
      "14392/14392 [==============================] - 0s 33us/step - loss: 0.0330 - accuracy: 0.9896\n",
      "Epoch 10/50\n",
      "14392/14392 [==============================] - 0s 33us/step - loss: 0.0326 - accuracy: 0.9895\n",
      "Epoch 11/50\n",
      "14392/14392 [==============================] - 0s 33us/step - loss: 0.0309 - accuracy: 0.9899\n",
      "Epoch 12/50\n",
      "14392/14392 [==============================] - 0s 33us/step - loss: 0.0309 - accuracy: 0.9899\n",
      "Epoch 13/50\n",
      "14392/14392 [==============================] - 0s 33us/step - loss: 0.0301 - accuracy: 0.9899\n",
      "Epoch 14/50\n",
      "14392/14392 [==============================] - 1s 37us/step - loss: 0.0297 - accuracy: 0.9903\n",
      "Epoch 15/50\n",
      "14392/14392 [==============================] - 1s 37us/step - loss: 0.0290 - accuracy: 0.9907\n",
      "Epoch 16/50\n",
      "14392/14392 [==============================] - 1s 35us/step - loss: 0.0282 - accuracy: 0.9911\n",
      "Epoch 17/50\n",
      "14392/14392 [==============================] - 0s 33us/step - loss: 0.0282 - accuracy: 0.9914\n",
      "Epoch 18/50\n",
      "14392/14392 [==============================] - 1s 35us/step - loss: 0.0283 - accuracy: 0.9912\n",
      "Epoch 19/50\n",
      "14392/14392 [==============================] - 0s 35us/step - loss: 0.0278 - accuracy: 0.9910\n",
      "Epoch 20/50\n",
      "14392/14392 [==============================] - 0s 34us/step - loss: 0.0273 - accuracy: 0.9914\n",
      "Epoch 21/50\n",
      "14392/14392 [==============================] - 0s 34us/step - loss: 0.0276 - accuracy: 0.9918\n",
      "Epoch 22/50\n",
      "14392/14392 [==============================] - 0s 35us/step - loss: 0.0279 - accuracy: 0.9914\n",
      "Epoch 23/50\n",
      "14392/14392 [==============================] - 0s 35us/step - loss: 0.0272 - accuracy: 0.9917\n",
      "Epoch 24/50\n",
      "14392/14392 [==============================] - 1s 35us/step - loss: 0.0263 - accuracy: 0.9915\n",
      "Epoch 25/50\n",
      "14392/14392 [==============================] - 0s 34us/step - loss: 0.0273 - accuracy: 0.9907\n",
      "Epoch 26/50\n",
      "14392/14392 [==============================] - 0s 34us/step - loss: 0.0263 - accuracy: 0.9916\n",
      "Epoch 27/50\n",
      "14392/14392 [==============================] - 0s 34us/step - loss: 0.0263 - accuracy: 0.9917\n",
      "Epoch 28/50\n",
      "14392/14392 [==============================] - 0s 34us/step - loss: 0.0260 - accuracy: 0.9915\n",
      "Epoch 29/50\n",
      "14392/14392 [==============================] - 0s 34us/step - loss: 0.0259 - accuracy: 0.9917\n",
      "Epoch 30/50\n",
      "14392/14392 [==============================] - 1s 36us/step - loss: 0.0264 - accuracy: 0.9916\n",
      "Epoch 31/50\n",
      "14392/14392 [==============================] - 1s 39us/step - loss: 0.0257 - accuracy: 0.9916\n",
      "Epoch 32/50\n",
      "14392/14392 [==============================] - 1s 40us/step - loss: 0.0258 - accuracy: 0.9918\n",
      "Epoch 33/50\n",
      "14392/14392 [==============================] - 1s 38us/step - loss: 0.0257 - accuracy: 0.9917\n",
      "Epoch 34/50\n",
      "14392/14392 [==============================] - 1s 37us/step - loss: 0.0257 - accuracy: 0.9915\n",
      "Epoch 35/50\n",
      "14392/14392 [==============================] - 0s 35us/step - loss: 0.0256 - accuracy: 0.9915\n",
      "Epoch 36/50\n",
      "14392/14392 [==============================] - 1s 37us/step - loss: 0.0253 - accuracy: 0.9911\n",
      "Epoch 37/50\n",
      "14392/14392 [==============================] - 1s 39us/step - loss: 0.0252 - accuracy: 0.9915\n",
      "Epoch 38/50\n",
      "14392/14392 [==============================] - 1s 38us/step - loss: 0.0255 - accuracy: 0.9919\n",
      "Epoch 39/50\n",
      "14392/14392 [==============================] - 1s 36us/step - loss: 0.0249 - accuracy: 0.9919\n",
      "Epoch 40/50\n",
      "14392/14392 [==============================] - 0s 35us/step - loss: 0.0254 - accuracy: 0.9917\n",
      "Epoch 41/50\n",
      "14392/14392 [==============================] - 1s 36us/step - loss: 0.0246 - accuracy: 0.9916\n",
      "Epoch 42/50\n",
      "14392/14392 [==============================] - 1s 36us/step - loss: 0.0248 - accuracy: 0.9920\n",
      "Epoch 43/50\n",
      "14392/14392 [==============================] - 0s 34us/step - loss: 0.0245 - accuracy: 0.9921\n",
      "Epoch 44/50\n",
      "14392/14392 [==============================] - 0s 34us/step - loss: 0.0245 - accuracy: 0.9916\n",
      "Epoch 45/50\n",
      "14392/14392 [==============================] - 0s 34us/step - loss: 0.0245 - accuracy: 0.9917\n",
      "Epoch 46/50\n",
      "14392/14392 [==============================] - 1s 39us/step - loss: 0.0241 - accuracy: 0.9914\n",
      "Epoch 47/50\n",
      "14392/14392 [==============================] - 1s 37us/step - loss: 0.0246 - accuracy: 0.9919\n",
      "Epoch 48/50\n",
      "14392/14392 [==============================] - 1s 38us/step - loss: 0.0240 - accuracy: 0.9916\n",
      "Epoch 49/50\n",
      "14392/14392 [==============================] - 1s 37us/step - loss: 0.0241 - accuracy: 0.9912\n",
      "Epoch 50/50\n",
      "14392/14392 [==============================] - 1s 38us/step - loss: 0.0242 - accuracy: 0.9915\n"
     ]
    }
   ],
   "source": [
    "model2 = build_model()\n",
    "\n",
    "history2 = model2.fit(X_train, y_train, epochs=50, batch_size=50).history"
   ]
  },
  {
   "cell_type": "code",
   "execution_count": 39,
   "metadata": {},
   "outputs": [
    {
     "data": {
      "image/png": "[encoded data removed]",
      "text/plain": [
       "<Figure size 432x288 with 1 Axes>"
      ]
     },
     "metadata": {
      "needs_background": "light"
     },
     "output_type": "display_data"
    }
   ],
   "source": [
    "plt.plot(history1['loss'], label='Loss 10')\n",
    "plt.plot(history2['loss'], label='Loss 50')\n",
    "plt.xlabel('Epochs')\n",
    "plt.ylabel('Cross-Entropy')\n",
    "plt.legend()\n",
    "plt.show()"
   ]
  },
  {
   "cell_type": "code",
   "execution_count": 40,
   "metadata": {},
   "outputs": [
    {
     "name": "stdout",
     "output_type": "stream",
     "text": [
      "6168/6168 [==============================] - 0s 25us/step\n",
      "6168/6168 [==============================] - 0s 25us/step\n",
      "Loss 0.029139, Accuracy 0.991894\n",
      "Loss 0.029003, Accuracy 0.992704\n"
     ]
    }
   ],
   "source": [
    "test_loss_1, test_acc_1 = model1.evaluate(X_test, y_test)\n",
    "test_loss_2, test_acc_2 = model2.evaluate(X_test, y_test)\n",
    "\n",
    "print('Loss %f, Accuracy %f' % (test_loss_1, test_acc_1))\n",
    "print('Loss %f, Accuracy %f' % (test_loss_2, test_acc_2))"
   ]
  },
  {
   "cell_type": "code",
   "execution_count": 42,
   "metadata": {},
   "outputs": [
    {
     "name": "stdout",
     "output_type": "stream",
     "text": [
      "Accuracy 0.7691309987029832\n",
      "F1-score [0.86947754 0.00140252]\n",
      "              precision    recall  f1-score   support\n",
      "\n",
      "           0       0.77      1.00      0.87      4743\n",
      "           1       1.00      0.00      0.00      1425\n",
      "\n",
      "    accuracy                           0.77      6168\n",
      "   macro avg       0.88      0.50      0.44      6168\n",
      "weighted avg       0.82      0.77      0.67      6168\n",
      "\n"
     ]
    }
   ],
   "source": [
    "y_pred = model2.predict(X_test).astype(int)\n",
    "\n",
    "print('Accuracy %s' % accuracy_score(y_test, y_pred))\n",
    "print('F1-score %s' % f1_score(y_test, y_pred, average=None))\n",
    "print(classification_report(y_test, y_pred))"
   ]
  },
  {
   "cell_type": "code",
   "execution_count": 46,
   "metadata": {},
   "outputs": [
    {
     "name": "stdout",
     "output_type": "stream",
     "text": [
      "Train on 14392 samples, validate on 6168 samples\n",
      "Epoch 1/500\n",
      "14392/14392 [==============================] - 1s 89us/step - loss: 0.1051 - accuracy: 0.9724 - val_loss: 0.0385 - val_accuracy: 0.9916\n",
      "Epoch 2/500\n",
      "14392/14392 [==============================] - 1s 79us/step - loss: 0.0428 - accuracy: 0.9894 - val_loss: 0.0352 - val_accuracy: 0.9914\n",
      "Epoch 3/500\n",
      "14392/14392 [==============================] - 1s 78us/step - loss: 0.0405 - accuracy: 0.9892 - val_loss: 0.0340 - val_accuracy: 0.9914\n",
      "Epoch 4/500\n",
      "14392/14392 [==============================] - 1s 69us/step - loss: 0.0387 - accuracy: 0.9894 - val_loss: 0.0340 - val_accuracy: 0.9916\n",
      "Epoch 5/500\n",
      "14392/14392 [==============================] - 1s 70us/step - loss: 0.0375 - accuracy: 0.9896 - val_loss: 0.0328 - val_accuracy: 0.9916\n",
      "Epoch 6/500\n",
      "14392/14392 [==============================] - 1s 61us/step - loss: 0.0366 - accuracy: 0.9892 - val_loss: 0.0373 - val_accuracy: 0.9899\n",
      "Epoch 7/500\n",
      "14392/14392 [==============================] - 1s 62us/step - loss: 0.0353 - accuracy: 0.9895 - val_loss: 0.0359 - val_accuracy: 0.9891\n",
      "Epoch 8/500\n",
      "14392/14392 [==============================] - 1s 72us/step - loss: 0.0340 - accuracy: 0.9893 - val_loss: 0.0314 - val_accuracy: 0.9914\n",
      "Epoch 9/500\n",
      "14392/14392 [==============================] - 1s 69us/step - loss: 0.0328 - accuracy: 0.9892 - val_loss: 0.0321 - val_accuracy: 0.9914\n",
      "Epoch 10/500\n",
      "14392/14392 [==============================] - 1s 66us/step - loss: 0.0324 - accuracy: 0.9899 - val_loss: 0.0358 - val_accuracy: 0.9911\n",
      "Epoch 11/500\n",
      "14392/14392 [==============================] - 1s 76us/step - loss: 0.0313 - accuracy: 0.9899 - val_loss: 0.0310 - val_accuracy: 0.9916\n",
      "Epoch 12/500\n",
      "14392/14392 [==============================] - 1s 63us/step - loss: 0.0304 - accuracy: 0.9898 - val_loss: 0.0301 - val_accuracy: 0.9914\n",
      "Epoch 13/500\n",
      "14392/14392 [==============================] - 1s 61us/step - loss: 0.0299 - accuracy: 0.9901 - val_loss: 0.0306 - val_accuracy: 0.9912\n",
      "Epoch 14/500\n",
      "14392/14392 [==============================] - 1s 67us/step - loss: 0.0298 - accuracy: 0.9902 - val_loss: 0.0298 - val_accuracy: 0.9922\n",
      "Epoch 15/500\n",
      "14392/14392 [==============================] - 1s 84us/step - loss: 0.0290 - accuracy: 0.9903 - val_loss: 0.0310 - val_accuracy: 0.9922\n",
      "Epoch 16/500\n",
      "14392/14392 [==============================] - 1s 80us/step - loss: 0.0289 - accuracy: 0.9910 - val_loss: 0.0291 - val_accuracy: 0.9924\n",
      "Epoch 17/500\n",
      "14392/14392 [==============================] - 1s 82us/step - loss: 0.0287 - accuracy: 0.9910 - val_loss: 0.0294 - val_accuracy: 0.9921\n",
      "Epoch 18/500\n",
      "14392/14392 [==============================] - 1s 79us/step - loss: 0.0280 - accuracy: 0.9911 - val_loss: 0.0293 - val_accuracy: 0.9922\n",
      "Epoch 19/500\n",
      "14392/14392 [==============================] - 1s 79us/step - loss: 0.0282 - accuracy: 0.9914 - val_loss: 0.0311 - val_accuracy: 0.9925\n",
      "Epoch 20/500\n",
      "14392/14392 [==============================] - 1s 74us/step - loss: 0.0275 - accuracy: 0.9915 - val_loss: 0.0307 - val_accuracy: 0.9922\n",
      "Epoch 21/500\n",
      "14392/14392 [==============================] - 1s 65us/step - loss: 0.0276 - accuracy: 0.9915 - val_loss: 0.0311 - val_accuracy: 0.9911\n",
      "Epoch 22/500\n",
      "14392/14392 [==============================] - 1s 58us/step - loss: 0.0273 - accuracy: 0.9915 - val_loss: 0.0297 - val_accuracy: 0.9925\n",
      "Epoch 23/500\n",
      "14392/14392 [==============================] - 1s 70us/step - loss: 0.0274 - accuracy: 0.9913 - val_loss: 0.0282 - val_accuracy: 0.9932\n",
      "Epoch 24/500\n",
      "14392/14392 [==============================] - 1s 70us/step - loss: 0.0267 - accuracy: 0.9914 - val_loss: 0.0291 - val_accuracy: 0.9927\n",
      "Epoch 25/500\n",
      "14392/14392 [==============================] - 1s 65us/step - loss: 0.0263 - accuracy: 0.9915 - val_loss: 0.0292 - val_accuracy: 0.9925\n",
      "Epoch 26/500\n",
      "14392/14392 [==============================] - 1s 65us/step - loss: 0.0271 - accuracy: 0.9917 - val_loss: 0.0295 - val_accuracy: 0.9930\n",
      "Epoch 27/500\n",
      "14392/14392 [==============================] - 1s 63us/step - loss: 0.0272 - accuracy: 0.9915 - val_loss: 0.0294 - val_accuracy: 0.9919\n",
      "Epoch 28/500\n",
      "14392/14392 [==============================] - 1s 56us/step - loss: 0.0266 - accuracy: 0.9911 - val_loss: 0.0294 - val_accuracy: 0.9922\n",
      "Epoch 29/500\n",
      "14392/14392 [==============================] - 1s 62us/step - loss: 0.0260 - accuracy: 0.9915 - val_loss: 0.0278 - val_accuracy: 0.9927\n",
      "Epoch 30/500\n",
      "14392/14392 [==============================] - 1s 59us/step - loss: 0.0267 - accuracy: 0.9912 - val_loss: 0.0274 - val_accuracy: 0.9930\n",
      "Epoch 31/500\n",
      "14392/14392 [==============================] - 1s 65us/step - loss: 0.0266 - accuracy: 0.9912 - val_loss: 0.0288 - val_accuracy: 0.9924\n",
      "Epoch 32/500\n",
      "14392/14392 [==============================] - 1s 74us/step - loss: 0.0261 - accuracy: 0.9915 - val_loss: 0.0283 - val_accuracy: 0.9927\n",
      "Epoch 33/500\n",
      "14392/14392 [==============================] - 1s 69us/step - loss: 0.0260 - accuracy: 0.9918 - val_loss: 0.0283 - val_accuracy: 0.9930\n",
      "Epoch 34/500\n",
      "14392/14392 [==============================] - 1s 72us/step - loss: 0.0257 - accuracy: 0.9915 - val_loss: 0.0286 - val_accuracy: 0.9929\n",
      "Epoch 35/500\n",
      "14392/14392 [==============================] - 1s 61us/step - loss: 0.0258 - accuracy: 0.9918 - val_loss: 0.0282 - val_accuracy: 0.9930\n",
      "Epoch 36/500\n",
      "14392/14392 [==============================] - 1s 64us/step - loss: 0.0262 - accuracy: 0.9915 - val_loss: 0.0281 - val_accuracy: 0.9917\n",
      "Epoch 37/500\n",
      "14392/14392 [==============================] - 1s 65us/step - loss: 0.0255 - accuracy: 0.9913 - val_loss: 0.0321 - val_accuracy: 0.9916\n",
      "Epoch 38/500\n",
      "14392/14392 [==============================] - 1s 68us/step - loss: 0.0261 - accuracy: 0.9915 - val_loss: 0.0294 - val_accuracy: 0.9906\n",
      "Epoch 39/500\n",
      "14392/14392 [==============================] - 1s 65us/step - loss: 0.0256 - accuracy: 0.9916 - val_loss: 0.0285 - val_accuracy: 0.9924\n",
      "Epoch 40/500\n",
      "14392/14392 [==============================] - 1s 73us/step - loss: 0.0254 - accuracy: 0.9912 - val_loss: 0.0279 - val_accuracy: 0.9922\n",
      "Epoch 41/500\n",
      "14392/14392 [==============================] - 1s 80us/step - loss: 0.0251 - accuracy: 0.9912 - val_loss: 0.0276 - val_accuracy: 0.9924\n",
      "Epoch 42/500\n",
      "14392/14392 [==============================] - 1s 77us/step - loss: 0.0251 - accuracy: 0.9918 - val_loss: 0.0277 - val_accuracy: 0.9925\n",
      "Epoch 43/500\n",
      "14392/14392 [==============================] - 1s 67us/step - loss: 0.0250 - accuracy: 0.9912 - val_loss: 0.0307 - val_accuracy: 0.9916\n",
      "Epoch 44/500\n",
      "14392/14392 [==============================] - 1s 62us/step - loss: 0.0247 - accuracy: 0.9914 - val_loss: 0.0305 - val_accuracy: 0.9919\n",
      "Epoch 45/500\n",
      "14392/14392 [==============================] - 1s 64us/step - loss: 0.0248 - accuracy: 0.9910 - val_loss: 0.0274 - val_accuracy: 0.9917\n",
      "Epoch 46/500\n",
      "14392/14392 [==============================] - 1s 64us/step - loss: 0.0252 - accuracy: 0.9915 - val_loss: 0.0287 - val_accuracy: 0.9930\n",
      "Epoch 47/500\n",
      "14392/14392 [==============================] - 1s 66us/step - loss: 0.0244 - accuracy: 0.9921 - val_loss: 0.0279 - val_accuracy: 0.9925\n",
      "Epoch 48/500\n",
      "14392/14392 [==============================] - 1s 69us/step - loss: 0.0239 - accuracy: 0.9923 - val_loss: 0.0307 - val_accuracy: 0.9898\n",
      "Epoch 49/500\n",
      "14392/14392 [==============================] - 1s 67us/step - loss: 0.0252 - accuracy: 0.9915 - val_loss: 0.0270 - val_accuracy: 0.9922\n",
      "Epoch 50/500\n",
      "14392/14392 [==============================] - 1s 65us/step - loss: 0.0244 - accuracy: 0.9912 - val_loss: 0.0295 - val_accuracy: 0.9919\n",
      "Epoch 51/500\n",
      "14392/14392 [==============================] - 1s 79us/step - loss: 0.0245 - accuracy: 0.9916 - val_loss: 0.0274 - val_accuracy: 0.9916\n",
      "Epoch 52/500\n",
      "14392/14392 [==============================] - 1s 69us/step - loss: 0.0243 - accuracy: 0.9916 - val_loss: 0.0282 - val_accuracy: 0.9917\n",
      "Epoch 53/500\n",
      "14392/14392 [==============================] - 1s 95us/step - loss: 0.0240 - accuracy: 0.9919 - val_loss: 0.0282 - val_accuracy: 0.9922\n",
      "Epoch 54/500\n",
      "14392/14392 [==============================] - 1s 59us/step - loss: 0.0239 - accuracy: 0.9918 - val_loss: 0.0280 - val_accuracy: 0.9917\n",
      "Epoch 55/500\n",
      "14392/14392 [==============================] - 1s 57us/step - loss: 0.0241 - accuracy: 0.9915 - val_loss: 0.0282 - val_accuracy: 0.9924\n"
     ]
    },
    {
     "name": "stdout",
     "output_type": "stream",
     "text": [
      "Epoch 56/500\n",
      "14392/14392 [==============================] - 1s 99us/step - loss: 0.0240 - accuracy: 0.9916 - val_loss: 0.0282 - val_accuracy: 0.9922\n",
      "Epoch 57/500\n",
      "14392/14392 [==============================] - 1s 76us/step - loss: 0.0242 - accuracy: 0.9917 - val_loss: 0.0286 - val_accuracy: 0.9919\n",
      "Epoch 58/500\n",
      "14392/14392 [==============================] - 1s 65us/step - loss: 0.0236 - accuracy: 0.9912 - val_loss: 0.0280 - val_accuracy: 0.9922\n",
      "Epoch 59/500\n",
      "14392/14392 [==============================] - 1s 76us/step - loss: 0.0235 - accuracy: 0.9916 - val_loss: 0.0292 - val_accuracy: 0.9908\n",
      "Epoch 60/500\n",
      "14392/14392 [==============================] - 1s 78us/step - loss: 0.0241 - accuracy: 0.9916 - val_loss: 0.0276 - val_accuracy: 0.9921\n",
      "Epoch 61/500\n",
      "14392/14392 [==============================] - 1s 87us/step - loss: 0.0234 - accuracy: 0.9915 - val_loss: 0.0288 - val_accuracy: 0.9924\n",
      "Epoch 62/500\n",
      "14392/14392 [==============================] - 1s 82us/step - loss: 0.0239 - accuracy: 0.9919 - val_loss: 0.0268 - val_accuracy: 0.9925\n",
      "Epoch 63/500\n",
      "14392/14392 [==============================] - 1s 78us/step - loss: 0.0234 - accuracy: 0.9921 - val_loss: 0.0287 - val_accuracy: 0.9924\n",
      "Epoch 64/500\n",
      "14392/14392 [==============================] - 1s 79us/step - loss: 0.0237 - accuracy: 0.9914 - val_loss: 0.0275 - val_accuracy: 0.9925\n",
      "Epoch 65/500\n",
      "14392/14392 [==============================] - 1s 79us/step - loss: 0.0231 - accuracy: 0.9920 - val_loss: 0.0293 - val_accuracy: 0.9896\n",
      "Epoch 66/500\n",
      "14392/14392 [==============================] - 1s 79us/step - loss: 0.0234 - accuracy: 0.9911 - val_loss: 0.0307 - val_accuracy: 0.9906\n",
      "Epoch 67/500\n",
      "14392/14392 [==============================] - 1s 78us/step - loss: 0.0230 - accuracy: 0.9919 - val_loss: 0.0292 - val_accuracy: 0.9914\n",
      "Epoch 68/500\n",
      "14392/14392 [==============================] - 1s 79us/step - loss: 0.0233 - accuracy: 0.9915 - val_loss: 0.0276 - val_accuracy: 0.9919\n",
      "Epoch 69/500\n",
      "14392/14392 [==============================] - 1s 80us/step - loss: 0.0235 - accuracy: 0.9925 - val_loss: 0.0277 - val_accuracy: 0.9927\n",
      "Epoch 70/500\n",
      "14392/14392 [==============================] - 1s 77us/step - loss: 0.0231 - accuracy: 0.9920 - val_loss: 0.0298 - val_accuracy: 0.9911\n",
      "Epoch 71/500\n",
      "14392/14392 [==============================] - 1s 81us/step - loss: 0.0232 - accuracy: 0.9917 - val_loss: 0.0271 - val_accuracy: 0.9919\n",
      "Epoch 72/500\n",
      "14392/14392 [==============================] - 1s 78us/step - loss: 0.0230 - accuracy: 0.9921 - val_loss: 0.0284 - val_accuracy: 0.9916\n",
      "Epoch 73/500\n",
      "14392/14392 [==============================] - 1s 65us/step - loss: 0.0226 - accuracy: 0.9918 - val_loss: 0.0310 - val_accuracy: 0.9906\n",
      "Epoch 74/500\n",
      "14392/14392 [==============================] - 1s 62us/step - loss: 0.0232 - accuracy: 0.9916 - val_loss: 0.0289 - val_accuracy: 0.9914\n",
      "Epoch 75/500\n",
      "14392/14392 [==============================] - 1s 73us/step - loss: 0.0229 - accuracy: 0.9915 - val_loss: 0.0289 - val_accuracy: 0.9924\n",
      "Epoch 76/500\n",
      "14392/14392 [==============================] - 1s 90us/step - loss: 0.0228 - accuracy: 0.9920 - val_loss: 0.0283 - val_accuracy: 0.9917\n",
      "Epoch 77/500\n",
      "14392/14392 [==============================] - 1s 74us/step - loss: 0.0222 - accuracy: 0.9919 - val_loss: 0.0301 - val_accuracy: 0.9911\n",
      "Epoch 78/500\n",
      "14392/14392 [==============================] - 1s 83us/step - loss: 0.0227 - accuracy: 0.9917 - val_loss: 0.0292 - val_accuracy: 0.9919\n",
      "Epoch 79/500\n",
      "14392/14392 [==============================] - 1s 79us/step - loss: 0.0226 - accuracy: 0.9916 - val_loss: 0.0291 - val_accuracy: 0.9916\n",
      "Epoch 80/500\n",
      "14392/14392 [==============================] - 1s 92us/step - loss: 0.0230 - accuracy: 0.9916 - val_loss: 0.0297 - val_accuracy: 0.9921\n",
      "Epoch 81/500\n",
      "14392/14392 [==============================] - 1s 75us/step - loss: 0.0222 - accuracy: 0.9916 - val_loss: 0.0306 - val_accuracy: 0.9911\n",
      "Epoch 82/500\n",
      "14392/14392 [==============================] - 1s 62us/step - loss: 0.0217 - accuracy: 0.9921 - val_loss: 0.0307 - val_accuracy: 0.9925\n",
      "Epoch 83/500\n",
      "14392/14392 [==============================] - 1s 84us/step - loss: 0.0229 - accuracy: 0.9917 - val_loss: 0.0282 - val_accuracy: 0.9911\n",
      "Epoch 84/500\n",
      "14392/14392 [==============================] - 1s 89us/step - loss: 0.0229 - accuracy: 0.9915 - val_loss: 0.0286 - val_accuracy: 0.9921\n",
      "Epoch 85/500\n",
      "14392/14392 [==============================] - 1s 86us/step - loss: 0.0226 - accuracy: 0.9917 - val_loss: 0.0310 - val_accuracy: 0.9898\n",
      "Epoch 86/500\n",
      "14392/14392 [==============================] - 1s 103us/step - loss: 0.0228 - accuracy: 0.9917 - val_loss: 0.0289 - val_accuracy: 0.9919\n",
      "Epoch 87/500\n",
      "14392/14392 [==============================] - 1s 80us/step - loss: 0.0224 - accuracy: 0.9910 - val_loss: 0.0276 - val_accuracy: 0.9921\n",
      "Epoch 88/500\n",
      "14392/14392 [==============================] - 1s 88us/step - loss: 0.0225 - accuracy: 0.9917 - val_loss: 0.0298 - val_accuracy: 0.9922\n",
      "Epoch 89/500\n",
      "14392/14392 [==============================] - 1s 69us/step - loss: 0.0220 - accuracy: 0.9919 - val_loss: 0.0284 - val_accuracy: 0.9921\n",
      "Epoch 90/500\n",
      "14392/14392 [==============================] - 1s 64us/step - loss: 0.0220 - accuracy: 0.9917 - val_loss: 0.0295 - val_accuracy: 0.9917\n",
      "Epoch 91/500\n",
      "14392/14392 [==============================] - 1s 68us/step - loss: 0.0221 - accuracy: 0.9918 - val_loss: 0.0287 - val_accuracy: 0.9921\n",
      "Epoch 92/500\n",
      "14392/14392 [==============================] - 1s 67us/step - loss: 0.0217 - accuracy: 0.9921 - val_loss: 0.0290 - val_accuracy: 0.9922\n",
      "Epoch 93/500\n",
      "14392/14392 [==============================] - 1s 62us/step - loss: 0.0219 - accuracy: 0.9922 - val_loss: 0.0297 - val_accuracy: 0.9932\n",
      "Epoch 94/500\n",
      "14392/14392 [==============================] - 1s 61us/step - loss: 0.0224 - accuracy: 0.9913 - val_loss: 0.0289 - val_accuracy: 0.9919\n",
      "Epoch 95/500\n",
      "14392/14392 [==============================] - 1s 72us/step - loss: 0.0220 - accuracy: 0.9919 - val_loss: 0.0293 - val_accuracy: 0.9925\n",
      "Epoch 96/500\n",
      "14392/14392 [==============================] - 1s 65us/step - loss: 0.0217 - accuracy: 0.9915 - val_loss: 0.0308 - val_accuracy: 0.9916\n",
      "Epoch 97/500\n",
      "14392/14392 [==============================] - 1s 61us/step - loss: 0.0219 - accuracy: 0.9919 - val_loss: 0.0308 - val_accuracy: 0.9917\n",
      "Epoch 98/500\n",
      "14392/14392 [==============================] - 1s 61us/step - loss: 0.0222 - accuracy: 0.9917 - val_loss: 0.0357 - val_accuracy: 0.9896\n",
      "Epoch 99/500\n",
      "14392/14392 [==============================] - 1s 67us/step - loss: 0.0216 - accuracy: 0.9919 - val_loss: 0.0308 - val_accuracy: 0.9895\n",
      "Epoch 100/500\n",
      "14392/14392 [==============================] - 1s 73us/step - loss: 0.0216 - accuracy: 0.9915 - val_loss: 0.0306 - val_accuracy: 0.9909\n",
      "Epoch 101/500\n",
      "14392/14392 [==============================] - 1s 65us/step - loss: 0.0211 - accuracy: 0.9922 - val_loss: 0.0284 - val_accuracy: 0.9919\n",
      "Epoch 102/500\n",
      "14392/14392 [==============================] - 1s 56us/step - loss: 0.0220 - accuracy: 0.9920 - val_loss: 0.0299 - val_accuracy: 0.9912\n",
      "Epoch 103/500\n",
      "14392/14392 [==============================] - 1s 60us/step - loss: 0.0217 - accuracy: 0.9922 - val_loss: 0.0320 - val_accuracy: 0.9908\n",
      "Epoch 104/500\n",
      "14392/14392 [==============================] - 1s 84us/step - loss: 0.0215 - accuracy: 0.9917 - val_loss: 0.0303 - val_accuracy: 0.9917\n",
      "Epoch 105/500\n",
      "14392/14392 [==============================] - 1s 76us/step - loss: 0.0221 - accuracy: 0.9919 - val_loss: 0.0314 - val_accuracy: 0.9906\n",
      "Epoch 106/500\n",
      "14392/14392 [==============================] - 1s 59us/step - loss: 0.0214 - accuracy: 0.9923 - val_loss: 0.0289 - val_accuracy: 0.9919\n",
      "Epoch 107/500\n",
      "14392/14392 [==============================] - 1s 63us/step - loss: 0.0212 - accuracy: 0.9920 - val_loss: 0.0296 - val_accuracy: 0.9912\n",
      "Epoch 108/500\n",
      "14392/14392 [==============================] - 1s 75us/step - loss: 0.0211 - accuracy: 0.9924 - val_loss: 0.0311 - val_accuracy: 0.9916\n",
      "Epoch 109/500\n",
      "14392/14392 [==============================] - 1s 79us/step - loss: 0.0218 - accuracy: 0.9918 - val_loss: 0.0313 - val_accuracy: 0.9898\n",
      "Epoch 110/500\n",
      "14392/14392 [==============================] - 1s 81us/step - loss: 0.0205 - accuracy: 0.9926 - val_loss: 0.0302 - val_accuracy: 0.9914\n"
     ]
    },
    {
     "name": "stdout",
     "output_type": "stream",
     "text": [
      "Epoch 111/500\n",
      "14392/14392 [==============================] - 1s 82us/step - loss: 0.0210 - accuracy: 0.9927 - val_loss: 0.0283 - val_accuracy: 0.9916\n",
      "Epoch 112/500\n",
      "14392/14392 [==============================] - 1s 79us/step - loss: 0.0213 - accuracy: 0.9917 - val_loss: 0.0282 - val_accuracy: 0.9919\n",
      "Epoch 113/500\n",
      "14392/14392 [==============================] - 1s 78us/step - loss: 0.0215 - accuracy: 0.9928 - val_loss: 0.0314 - val_accuracy: 0.9904\n",
      "Epoch 114/500\n",
      "14392/14392 [==============================] - 1s 82us/step - loss: 0.0212 - accuracy: 0.9918 - val_loss: 0.0298 - val_accuracy: 0.9921\n",
      "Epoch 115/500\n",
      "14392/14392 [==============================] - 1s 77us/step - loss: 0.0214 - accuracy: 0.9921 - val_loss: 0.0288 - val_accuracy: 0.9927\n",
      "Epoch 116/500\n",
      "14392/14392 [==============================] - 1s 68us/step - loss: 0.0213 - accuracy: 0.9924 - val_loss: 0.0318 - val_accuracy: 0.9904\n",
      "Epoch 117/500\n",
      "14392/14392 [==============================] - 1s 59us/step - loss: 0.0217 - accuracy: 0.9919 - val_loss: 0.0310 - val_accuracy: 0.9917\n",
      "Epoch 118/500\n",
      "14392/14392 [==============================] - 1s 63us/step - loss: 0.0217 - accuracy: 0.9918 - val_loss: 0.0315 - val_accuracy: 0.9916\n",
      "Epoch 119/500\n",
      "14392/14392 [==============================] - 1s 72us/step - loss: 0.0207 - accuracy: 0.9922 - val_loss: 0.0355 - val_accuracy: 0.9896\n",
      "Epoch 120/500\n",
      "14392/14392 [==============================] - 1s 75us/step - loss: 0.0211 - accuracy: 0.9919 - val_loss: 0.0293 - val_accuracy: 0.9922\n",
      "Epoch 121/500\n",
      "14392/14392 [==============================] - 1s 84us/step - loss: 0.0211 - accuracy: 0.9925 - val_loss: 0.0331 - val_accuracy: 0.9903\n",
      "Epoch 122/500\n",
      "14392/14392 [==============================] - 1s 62us/step - loss: 0.0210 - accuracy: 0.9921 - val_loss: 0.0302 - val_accuracy: 0.9911\n",
      "Epoch 123/500\n",
      "14392/14392 [==============================] - 1s 63us/step - loss: 0.0209 - accuracy: 0.9924 - val_loss: 0.0308 - val_accuracy: 0.9917\n",
      "Epoch 124/500\n",
      "14392/14392 [==============================] - 1s 77us/step - loss: 0.0206 - accuracy: 0.9924 - val_loss: 0.0290 - val_accuracy: 0.9917\n",
      "Epoch 125/500\n",
      "14392/14392 [==============================] - 1s 83us/step - loss: 0.0205 - accuracy: 0.9926 - val_loss: 0.0324 - val_accuracy: 0.9891\n",
      "Epoch 126/500\n",
      "14392/14392 [==============================] - 1s 69us/step - loss: 0.0207 - accuracy: 0.9924 - val_loss: 0.0292 - val_accuracy: 0.9919\n",
      "Epoch 127/500\n",
      "14392/14392 [==============================] - 1s 64us/step - loss: 0.0209 - accuracy: 0.9919 - val_loss: 0.0309 - val_accuracy: 0.9925\n",
      "Epoch 128/500\n",
      "14392/14392 [==============================] - 1s 64us/step - loss: 0.0208 - accuracy: 0.9926 - val_loss: 0.0311 - val_accuracy: 0.9921\n",
      "Epoch 129/500\n",
      "14392/14392 [==============================] - 1s 58us/step - loss: 0.0201 - accuracy: 0.9927 - val_loss: 0.0289 - val_accuracy: 0.9921\n",
      "Epoch 130/500\n",
      "14392/14392 [==============================] - 1s 87us/step - loss: 0.0207 - accuracy: 0.9922 - val_loss: 0.0295 - val_accuracy: 0.9922\n",
      "Epoch 131/500\n",
      "14392/14392 [==============================] - 1s 100us/step - loss: 0.0212 - accuracy: 0.9919 - val_loss: 0.0293 - val_accuracy: 0.9922\n",
      "Epoch 132/500\n",
      "14392/14392 [==============================] - 1s 83us/step - loss: 0.0204 - accuracy: 0.9921 - val_loss: 0.0307 - val_accuracy: 0.9929\n",
      "Epoch 133/500\n",
      "14392/14392 [==============================] - 1s 75us/step - loss: 0.0203 - accuracy: 0.9923 - val_loss: 0.0319 - val_accuracy: 0.9906\n",
      "Epoch 134/500\n",
      "14392/14392 [==============================] - 1s 72us/step - loss: 0.0205 - accuracy: 0.9926 - val_loss: 0.0312 - val_accuracy: 0.9909\n",
      "Epoch 135/500\n",
      "14392/14392 [==============================] - 1s 69us/step - loss: 0.0206 - accuracy: 0.9924 - val_loss: 0.0313 - val_accuracy: 0.9898\n",
      "Epoch 136/500\n",
      "14392/14392 [==============================] - 1s 65us/step - loss: 0.0196 - accuracy: 0.9927 - val_loss: 0.0312 - val_accuracy: 0.9912\n",
      "Epoch 137/500\n",
      "14392/14392 [==============================] - 1s 63us/step - loss: 0.0205 - accuracy: 0.9924 - val_loss: 0.0319 - val_accuracy: 0.9909\n",
      "Epoch 138/500\n",
      "14392/14392 [==============================] - 1s 62us/step - loss: 0.0208 - accuracy: 0.9916 - val_loss: 0.0336 - val_accuracy: 0.9898\n",
      "Epoch 139/500\n",
      "14392/14392 [==============================] - 1s 62us/step - loss: 0.0203 - accuracy: 0.9925 - val_loss: 0.0315 - val_accuracy: 0.9921\n",
      "Epoch 140/500\n",
      "14392/14392 [==============================] - 1s 71us/step - loss: 0.0200 - accuracy: 0.9923 - val_loss: 0.0290 - val_accuracy: 0.9925\n",
      "Epoch 141/500\n",
      "14392/14392 [==============================] - 1s 62us/step - loss: 0.0205 - accuracy: 0.9925 - val_loss: 0.0343 - val_accuracy: 0.9891\n",
      "Epoch 142/500\n",
      "14392/14392 [==============================] - 1s 57us/step - loss: 0.0201 - accuracy: 0.9928 - val_loss: 0.0315 - val_accuracy: 0.9921\n",
      "Epoch 143/500\n",
      "14392/14392 [==============================] - 1s 63us/step - loss: 0.0201 - accuracy: 0.9928 - val_loss: 0.0346 - val_accuracy: 0.9891\n",
      "Epoch 144/500\n",
      "14392/14392 [==============================] - 1s 65us/step - loss: 0.0205 - accuracy: 0.9922 - val_loss: 0.0307 - val_accuracy: 0.9916\n",
      "Epoch 145/500\n",
      "14392/14392 [==============================] - 1s 77us/step - loss: 0.0197 - accuracy: 0.9930 - val_loss: 0.0289 - val_accuracy: 0.9922\n",
      "Epoch 146/500\n",
      "14392/14392 [==============================] - 1s 74us/step - loss: 0.0202 - accuracy: 0.9921 - val_loss: 0.0316 - val_accuracy: 0.9909\n",
      "Epoch 147/500\n",
      "14392/14392 [==============================] - 1s 70us/step - loss: 0.0203 - accuracy: 0.9924 - val_loss: 0.0328 - val_accuracy: 0.9908\n",
      "Epoch 148/500\n",
      "14392/14392 [==============================] - 1s 66us/step - loss: 0.0203 - accuracy: 0.9925 - val_loss: 0.0293 - val_accuracy: 0.9921\n",
      "Epoch 149/500\n",
      "14392/14392 [==============================] - 1s 61us/step - loss: 0.0199 - accuracy: 0.9924 - val_loss: 0.0300 - val_accuracy: 0.9914\n",
      "Epoch 150/500\n",
      "14392/14392 [==============================] - 1s 71us/step - loss: 0.0197 - accuracy: 0.9924 - val_loss: 0.0309 - val_accuracy: 0.9922\n",
      "Epoch 151/500\n",
      "14392/14392 [==============================] - 1s 86us/step - loss: 0.0207 - accuracy: 0.9920 - val_loss: 0.0304 - val_accuracy: 0.9914\n",
      "Epoch 152/500\n",
      "14392/14392 [==============================] - 1s 82us/step - loss: 0.0201 - accuracy: 0.9922 - val_loss: 0.0306 - val_accuracy: 0.9914\n",
      "Epoch 153/500\n",
      "14392/14392 [==============================] - 1s 80us/step - loss: 0.0199 - accuracy: 0.9923 - val_loss: 0.0404 - val_accuracy: 0.9878\n",
      "Epoch 154/500\n",
      "14392/14392 [==============================] - 1s 85us/step - loss: 0.0200 - accuracy: 0.9924 - val_loss: 0.0312 - val_accuracy: 0.9919\n",
      "Epoch 155/500\n",
      "14392/14392 [==============================] - 1s 81us/step - loss: 0.0197 - accuracy: 0.9919 - val_loss: 0.0309 - val_accuracy: 0.9922\n",
      "Epoch 156/500\n",
      "14392/14392 [==============================] - 1s 79us/step - loss: 0.0196 - accuracy: 0.9926 - val_loss: 0.0291 - val_accuracy: 0.9922\n",
      "Epoch 157/500\n",
      "14392/14392 [==============================] - 1s 82us/step - loss: 0.0198 - accuracy: 0.9930 - val_loss: 0.0343 - val_accuracy: 0.9906\n",
      "Epoch 158/500\n",
      "14392/14392 [==============================] - 1s 80us/step - loss: 0.0196 - accuracy: 0.9923 - val_loss: 0.0300 - val_accuracy: 0.9919\n",
      "Epoch 159/500\n",
      "14392/14392 [==============================] - 1s 84us/step - loss: 0.0198 - accuracy: 0.9925 - val_loss: 0.0368 - val_accuracy: 0.9890\n",
      "Epoch 160/500\n",
      "14392/14392 [==============================] - 1s 83us/step - loss: 0.0200 - accuracy: 0.9923 - val_loss: 0.0306 - val_accuracy: 0.9925\n",
      "Epoch 161/500\n",
      "14392/14392 [==============================] - 1s 81us/step - loss: 0.0201 - accuracy: 0.9922 - val_loss: 0.0317 - val_accuracy: 0.9911\n",
      "Epoch 162/500\n",
      "14392/14392 [==============================] - 1s 67us/step - loss: 0.0200 - accuracy: 0.9926 - val_loss: 0.0327 - val_accuracy: 0.9912\n",
      "Epoch 163/500\n",
      "14392/14392 [==============================] - 1s 65us/step - loss: 0.0196 - accuracy: 0.9926 - val_loss: 0.0292 - val_accuracy: 0.9927\n",
      "Epoch 164/500\n",
      "14392/14392 [==============================] - 1s 75us/step - loss: 0.0200 - accuracy: 0.9922 - val_loss: 0.0310 - val_accuracy: 0.9921\n",
      "Epoch 165/500\n",
      "14392/14392 [==============================] - 1s 83us/step - loss: 0.0194 - accuracy: 0.9926 - val_loss: 0.0312 - val_accuracy: 0.9924\n",
      "Epoch 166/500\n",
      "14392/14392 [==============================] - 1s 77us/step - loss: 0.0190 - accuracy: 0.9928 - val_loss: 0.0315 - val_accuracy: 0.9917\n",
      "Epoch 167/500\n",
      "14392/14392 [==============================] - 1s 75us/step - loss: 0.0204 - accuracy: 0.9921 - val_loss: 0.0319 - val_accuracy: 0.9921\n",
      "Epoch 168/500\n",
      "14392/14392 [==============================] - 1s 57us/step - loss: 0.0192 - accuracy: 0.9924 - val_loss: 0.0317 - val_accuracy: 0.9917\n",
      "Epoch 169/500\n",
      "14392/14392 [==============================] - 1s 54us/step - loss: 0.0198 - accuracy: 0.9920 - val_loss: 0.0310 - val_accuracy: 0.9924\n",
      "Epoch 170/500\n",
      "14392/14392 [==============================] - 1s 61us/step - loss: 0.0198 - accuracy: 0.9928 - val_loss: 0.0296 - val_accuracy: 0.9925\n",
      "Epoch 171/500\n",
      "14392/14392 [==============================] - 1s 65us/step - loss: 0.0195 - accuracy: 0.9926 - val_loss: 0.0332 - val_accuracy: 0.9914\n",
      "Epoch 172/500\n",
      "14392/14392 [==============================] - 1s 80us/step - loss: 0.0200 - accuracy: 0.9919 - val_loss: 0.0335 - val_accuracy: 0.9901\n",
      "Epoch 173/500\n",
      "14392/14392 [==============================] - 1s 81us/step - loss: 0.0187 - accuracy: 0.9929 - val_loss: 0.0313 - val_accuracy: 0.9922\n",
      "Epoch 174/500\n",
      "14392/14392 [==============================] - 1s 81us/step - loss: 0.0194 - accuracy: 0.9931 - val_loss: 0.0323 - val_accuracy: 0.9925\n",
      "Epoch 175/500\n",
      "14392/14392 [==============================] - 1s 75us/step - loss: 0.0197 - accuracy: 0.9922 - val_loss: 0.0330 - val_accuracy: 0.9896\n",
      "Epoch 176/500\n",
      "14392/14392 [==============================] - 1s 68us/step - loss: 0.0193 - accuracy: 0.9927 - val_loss: 0.0307 - val_accuracy: 0.9917\n",
      "Epoch 177/500\n",
      "14392/14392 [==============================] - 1s 71us/step - loss: 0.0191 - accuracy: 0.9927 - val_loss: 0.0331 - val_accuracy: 0.9909\n",
      "Epoch 178/500\n",
      "14392/14392 [==============================] - 1s 62us/step - loss: 0.0201 - accuracy: 0.9924 - val_loss: 0.0358 - val_accuracy: 0.9888\n",
      "Epoch 179/500\n",
      "14392/14392 [==============================] - 1s 72us/step - loss: 0.0192 - accuracy: 0.9928 - val_loss: 0.0317 - val_accuracy: 0.9927\n",
      "Epoch 180/500\n",
      "14392/14392 [==============================] - 1s 75us/step - loss: 0.0192 - accuracy: 0.9929 - val_loss: 0.0348 - val_accuracy: 0.9901\n",
      "Epoch 181/500\n",
      "14392/14392 [==============================] - 1s 85us/step - loss: 0.0196 - accuracy: 0.9926 - val_loss: 0.0318 - val_accuracy: 0.9916\n",
      "Epoch 182/500\n",
      "14392/14392 [==============================] - 1s 84us/step - loss: 0.0192 - accuracy: 0.9927 - val_loss: 0.0320 - val_accuracy: 0.9924\n",
      "Epoch 183/500\n",
      "14392/14392 [==============================] - 1s 82us/step - loss: 0.0192 - accuracy: 0.9926 - val_loss: 0.0321 - val_accuracy: 0.9924\n",
      "Epoch 184/500\n",
      "14392/14392 [==============================] - 1s 83us/step - loss: 0.0191 - accuracy: 0.9924 - val_loss: 0.0316 - val_accuracy: 0.9924\n",
      "Epoch 185/500\n",
      "14392/14392 [==============================] - 1s 85us/step - loss: 0.0187 - accuracy: 0.9928 - val_loss: 0.0329 - val_accuracy: 0.9916\n",
      "Epoch 186/500\n",
      "14392/14392 [==============================] - 1s 79us/step - loss: 0.0191 - accuracy: 0.9923 - val_loss: 0.0316 - val_accuracy: 0.9917\n",
      "Epoch 187/500\n",
      "14392/14392 [==============================] - 1s 61us/step - loss: 0.0192 - accuracy: 0.9924 - val_loss: 0.0322 - val_accuracy: 0.9914\n",
      "Epoch 188/500\n",
      "14392/14392 [==============================] - 1s 70us/step - loss: 0.0189 - accuracy: 0.9933 - val_loss: 0.0351 - val_accuracy: 0.9909\n",
      "Epoch 189/500\n",
      "14392/14392 [==============================] - 1s 72us/step - loss: 0.0193 - accuracy: 0.9927 - val_loss: 0.0332 - val_accuracy: 0.9906\n",
      "Epoch 190/500\n",
      "14392/14392 [==============================] - 1s 62us/step - loss: 0.0187 - accuracy: 0.9927 - val_loss: 0.0300 - val_accuracy: 0.9924\n",
      "Epoch 191/500\n",
      "14392/14392 [==============================] - 1s 76us/step - loss: 0.0186 - accuracy: 0.9925 - val_loss: 0.0330 - val_accuracy: 0.9901\n",
      "Epoch 192/500\n",
      "14392/14392 [==============================] - 1s 75us/step - loss: 0.0188 - accuracy: 0.9928 - val_loss: 0.0355 - val_accuracy: 0.9916\n",
      "Epoch 193/500\n",
      "14392/14392 [==============================] - 1s 63us/step - loss: 0.0190 - accuracy: 0.9933 - val_loss: 0.0331 - val_accuracy: 0.9896\n",
      "Epoch 194/500\n",
      "14392/14392 [==============================] - 1s 74us/step - loss: 0.0192 - accuracy: 0.9929 - val_loss: 0.0346 - val_accuracy: 0.9904\n",
      "Epoch 195/500\n",
      "14392/14392 [==============================] - 1s 74us/step - loss: 0.0190 - accuracy: 0.9929 - val_loss: 0.0324 - val_accuracy: 0.9911\n",
      "Epoch 196/500\n",
      "14392/14392 [==============================] - 1s 65us/step - loss: 0.0188 - accuracy: 0.9924 - val_loss: 0.0335 - val_accuracy: 0.9919\n",
      "Epoch 197/500\n",
      "14392/14392 [==============================] - 1s 60us/step - loss: 0.0189 - accuracy: 0.9924 - val_loss: 0.0346 - val_accuracy: 0.9906\n",
      "Epoch 198/500\n",
      "14392/14392 [==============================] - 1s 61us/step - loss: 0.0188 - accuracy: 0.9929 - val_loss: 0.0336 - val_accuracy: 0.9906\n",
      "Epoch 199/500\n",
      "14392/14392 [==============================] - 1s 78us/step - loss: 0.0189 - accuracy: 0.9926 - val_loss: 0.0338 - val_accuracy: 0.9908\n",
      "Epoch 200/500\n",
      "14392/14392 [==============================] - 1s 76us/step - loss: 0.0189 - accuracy: 0.9925 - val_loss: 0.0318 - val_accuracy: 0.9924\n",
      "Epoch 201/500\n",
      "14392/14392 [==============================] - 1s 74us/step - loss: 0.0185 - accuracy: 0.9931 - val_loss: 0.0329 - val_accuracy: 0.9912\n",
      "Epoch 202/500\n",
      "14392/14392 [==============================] - 1s 72us/step - loss: 0.0187 - accuracy: 0.9924 - val_loss: 0.0338 - val_accuracy: 0.9914\n",
      "Epoch 203/500\n",
      "14392/14392 [==============================] - 1s 65us/step - loss: 0.0192 - accuracy: 0.9924 - val_loss: 0.0313 - val_accuracy: 0.9919\n",
      "Epoch 204/500\n",
      "14392/14392 [==============================] - 1s 78us/step - loss: 0.0188 - accuracy: 0.9926 - val_loss: 0.0330 - val_accuracy: 0.9911\n",
      "Epoch 205/500\n",
      "14392/14392 [==============================] - 1s 78us/step - loss: 0.0180 - accuracy: 0.9933 - val_loss: 0.0368 - val_accuracy: 0.9916\n",
      "Epoch 206/500\n",
      "14392/14392 [==============================] - 1s 84us/step - loss: 0.0190 - accuracy: 0.9922 - val_loss: 0.0322 - val_accuracy: 0.9916\n",
      "Epoch 207/500\n",
      "14392/14392 [==============================] - 1s 90us/step - loss: 0.0182 - accuracy: 0.9933 - val_loss: 0.0344 - val_accuracy: 0.9917\n",
      "Epoch 208/500\n",
      "14392/14392 [==============================] - 1s 80us/step - loss: 0.0189 - accuracy: 0.9926 - val_loss: 0.0324 - val_accuracy: 0.9924\n",
      "Epoch 209/500\n",
      "14392/14392 [==============================] - 1s 66us/step - loss: 0.0189 - accuracy: 0.9930 - val_loss: 0.0359 - val_accuracy: 0.9898\n",
      "Epoch 210/500\n",
      "14392/14392 [==============================] - 1s 67us/step - loss: 0.0181 - accuracy: 0.9928 - val_loss: 0.0320 - val_accuracy: 0.9925\n",
      "Epoch 211/500\n",
      "14392/14392 [==============================] - 1s 66us/step - loss: 0.0189 - accuracy: 0.9928 - val_loss: 0.0326 - val_accuracy: 0.9919\n",
      "Epoch 212/500\n",
      "14392/14392 [==============================] - 1s 67us/step - loss: 0.0183 - accuracy: 0.9928 - val_loss: 0.0329 - val_accuracy: 0.9916\n",
      "Epoch 213/500\n",
      "14392/14392 [==============================] - 1s 62us/step - loss: 0.0183 - accuracy: 0.9931 - val_loss: 0.0328 - val_accuracy: 0.9922\n",
      "Epoch 214/500\n",
      "14392/14392 [==============================] - 1s 70us/step - loss: 0.0183 - accuracy: 0.9928 - val_loss: 0.0343 - val_accuracy: 0.9911\n",
      "Epoch 215/500\n",
      "14392/14392 [==============================] - 1s 77us/step - loss: 0.0190 - accuracy: 0.9924 - val_loss: 0.0357 - val_accuracy: 0.9901\n",
      "Epoch 216/500\n",
      "14392/14392 [==============================] - 1s 69us/step - loss: 0.0185 - accuracy: 0.9926 - val_loss: 0.0332 - val_accuracy: 0.9916\n",
      "Epoch 217/500\n",
      "14392/14392 [==============================] - 1s 86us/step - loss: 0.0181 - accuracy: 0.9930 - val_loss: 0.0345 - val_accuracy: 0.9908\n",
      "Epoch 218/500\n",
      "14392/14392 [==============================] - 1s 84us/step - loss: 0.0185 - accuracy: 0.9924 - val_loss: 0.0341 - val_accuracy: 0.9901\n",
      "Epoch 219/500\n",
      "14392/14392 [==============================] - 1s 86us/step - loss: 0.0186 - accuracy: 0.9926 - val_loss: 0.0313 - val_accuracy: 0.9916\n"
     ]
    },
    {
     "name": "stdout",
     "output_type": "stream",
     "text": [
      "Epoch 220/500\n",
      "14392/14392 [==============================] - 1s 78us/step - loss: 0.0181 - accuracy: 0.9930 - val_loss: 0.0347 - val_accuracy: 0.9898\n",
      "Epoch 221/500\n",
      "14392/14392 [==============================] - 1s 74us/step - loss: 0.0186 - accuracy: 0.9930 - val_loss: 0.0344 - val_accuracy: 0.9917\n",
      "Epoch 222/500\n",
      "14392/14392 [==============================] - 1s 76us/step - loss: 0.0185 - accuracy: 0.9924 - val_loss: 0.0346 - val_accuracy: 0.9912\n",
      "Epoch 223/500\n",
      "14392/14392 [==============================] - 1s 76us/step - loss: 0.0183 - accuracy: 0.9929 - val_loss: 0.0343 - val_accuracy: 0.9909\n",
      "Epoch 224/500\n",
      "14392/14392 [==============================] - 1s 67us/step - loss: 0.0185 - accuracy: 0.9928 - val_loss: 0.0346 - val_accuracy: 0.9912\n",
      "Epoch 225/500\n",
      "14392/14392 [==============================] - 1s 70us/step - loss: 0.0183 - accuracy: 0.9931 - val_loss: 0.0378 - val_accuracy: 0.9887\n",
      "Epoch 226/500\n",
      "14392/14392 [==============================] - 1s 73us/step - loss: 0.0177 - accuracy: 0.9928 - val_loss: 0.0318 - val_accuracy: 0.9914\n",
      "Epoch 227/500\n",
      "14392/14392 [==============================] - 1s 70us/step - loss: 0.0182 - accuracy: 0.9932 - val_loss: 0.0334 - val_accuracy: 0.9909\n",
      "Epoch 228/500\n",
      "14392/14392 [==============================] - 1s 69us/step - loss: 0.0183 - accuracy: 0.9928 - val_loss: 0.0325 - val_accuracy: 0.9924\n",
      "Epoch 229/500\n",
      "14392/14392 [==============================] - 1s 64us/step - loss: 0.0184 - accuracy: 0.9928 - val_loss: 0.0354 - val_accuracy: 0.9903\n",
      "Epoch 230/500\n",
      "14392/14392 [==============================] - 1s 64us/step - loss: 0.0176 - accuracy: 0.9927 - val_loss: 0.0368 - val_accuracy: 0.9898\n",
      "Epoch 231/500\n",
      "14392/14392 [==============================] - 1s 63us/step - loss: 0.0181 - accuracy: 0.9926 - val_loss: 0.0324 - val_accuracy: 0.9916\n",
      "Epoch 232/500\n",
      "14392/14392 [==============================] - 1s 61us/step - loss: 0.0176 - accuracy: 0.9931 - val_loss: 0.0359 - val_accuracy: 0.9899\n",
      "Epoch 233/500\n",
      "14392/14392 [==============================] - 1s 88us/step - loss: 0.0181 - accuracy: 0.9930 - val_loss: 0.0329 - val_accuracy: 0.9919\n",
      "Epoch 234/500\n",
      "14392/14392 [==============================] - 1s 77us/step - loss: 0.0177 - accuracy: 0.9933 - val_loss: 0.0332 - val_accuracy: 0.9909\n",
      "Epoch 235/500\n",
      "14392/14392 [==============================] - 1s 64us/step - loss: 0.0175 - accuracy: 0.9930 - val_loss: 0.0325 - val_accuracy: 0.9922\n",
      "Epoch 236/500\n",
      "14392/14392 [==============================] - 1s 63us/step - loss: 0.0176 - accuracy: 0.9933 - val_loss: 0.0335 - val_accuracy: 0.9916\n",
      "Epoch 237/500\n",
      "14392/14392 [==============================] - 1s 72us/step - loss: 0.0179 - accuracy: 0.9927 - val_loss: 0.0348 - val_accuracy: 0.9912\n",
      "Epoch 238/500\n",
      "14392/14392 [==============================] - 1s 69us/step - loss: 0.0180 - accuracy: 0.9927 - val_loss: 0.0361 - val_accuracy: 0.9914\n",
      "Epoch 239/500\n",
      "14392/14392 [==============================] - 1s 62us/step - loss: 0.0179 - accuracy: 0.9929 - val_loss: 0.0344 - val_accuracy: 0.9922\n",
      "Epoch 240/500\n",
      "14392/14392 [==============================] - 1s 65us/step - loss: 0.0177 - accuracy: 0.9932 - val_loss: 0.0380 - val_accuracy: 0.9899\n",
      "Epoch 241/500\n",
      "14392/14392 [==============================] - 1s 77us/step - loss: 0.0178 - accuracy: 0.9928 - val_loss: 0.0344 - val_accuracy: 0.9914\n",
      "Epoch 242/500\n",
      "14392/14392 [==============================] - 1s 64us/step - loss: 0.0175 - accuracy: 0.9931 - val_loss: 0.0333 - val_accuracy: 0.9909\n",
      "Epoch 243/500\n",
      "14392/14392 [==============================] - 1s 64us/step - loss: 0.0176 - accuracy: 0.9930 - val_loss: 0.0317 - val_accuracy: 0.9904\n",
      "Epoch 244/500\n",
      "14392/14392 [==============================] - 1s 74us/step - loss: 0.0182 - accuracy: 0.9932 - val_loss: 0.0372 - val_accuracy: 0.9911\n",
      "Epoch 245/500\n",
      "14392/14392 [==============================] - 1s 67us/step - loss: 0.0188 - accuracy: 0.9924 - val_loss: 0.0360 - val_accuracy: 0.9914\n",
      "Epoch 246/500\n",
      "14392/14392 [==============================] - 1s 70us/step - loss: 0.0181 - accuracy: 0.9926 - val_loss: 0.0344 - val_accuracy: 0.9917\n",
      "Epoch 247/500\n",
      "14392/14392 [==============================] - 1s 67us/step - loss: 0.0178 - accuracy: 0.9932 - val_loss: 0.0364 - val_accuracy: 0.9911\n",
      "Epoch 248/500\n",
      "14392/14392 [==============================] - 1s 68us/step - loss: 0.0174 - accuracy: 0.9937 - val_loss: 0.0337 - val_accuracy: 0.9911\n",
      "Epoch 249/500\n",
      "14392/14392 [==============================] - 1s 83us/step - loss: 0.0181 - accuracy: 0.9924 - val_loss: 0.0335 - val_accuracy: 0.9916\n",
      "Epoch 250/500\n",
      "14392/14392 [==============================] - 1s 68us/step - loss: 0.0179 - accuracy: 0.9928 - val_loss: 0.0354 - val_accuracy: 0.9917\n",
      "Epoch 251/500\n",
      "14392/14392 [==============================] - 1s 64us/step - loss: 0.0183 - accuracy: 0.9925 - val_loss: 0.0377 - val_accuracy: 0.9896\n",
      "Epoch 252/500\n",
      "14392/14392 [==============================] - 1s 66us/step - loss: 0.0176 - accuracy: 0.9931 - val_loss: 0.0341 - val_accuracy: 0.9914\n",
      "Epoch 253/500\n",
      "14392/14392 [==============================] - 1s 77us/step - loss: 0.0176 - accuracy: 0.9942 - val_loss: 0.0383 - val_accuracy: 0.9904\n",
      "Epoch 254/500\n",
      "14392/14392 [==============================] - 1s 75us/step - loss: 0.0174 - accuracy: 0.9929 - val_loss: 0.0357 - val_accuracy: 0.9916\n",
      "Epoch 255/500\n",
      "14392/14392 [==============================] - 1s 65us/step - loss: 0.0179 - accuracy: 0.9932 - val_loss: 0.0340 - val_accuracy: 0.9916\n",
      "Epoch 256/500\n",
      "14392/14392 [==============================] - 1s 63us/step - loss: 0.0175 - accuracy: 0.9935 - val_loss: 0.0354 - val_accuracy: 0.9901\n",
      "Epoch 257/500\n",
      "14392/14392 [==============================] - 1s 63us/step - loss: 0.0178 - accuracy: 0.9933 - val_loss: 0.0341 - val_accuracy: 0.9908\n",
      "Epoch 258/500\n",
      "14392/14392 [==============================] - 1s 67us/step - loss: 0.0183 - accuracy: 0.9926 - val_loss: 0.0350 - val_accuracy: 0.9911\n",
      "Epoch 259/500\n",
      "14392/14392 [==============================] - 1s 65us/step - loss: 0.0170 - accuracy: 0.9929 - val_loss: 0.0350 - val_accuracy: 0.9916\n",
      "Epoch 260/500\n",
      "14392/14392 [==============================] - 1s 66us/step - loss: 0.0176 - accuracy: 0.9937 - val_loss: 0.0327 - val_accuracy: 0.9922\n",
      "Epoch 261/500\n",
      "14392/14392 [==============================] - 1s 66us/step - loss: 0.0171 - accuracy: 0.9935 - val_loss: 0.0330 - val_accuracy: 0.9912\n",
      "Epoch 262/500\n",
      "14392/14392 [==============================] - 1s 66us/step - loss: 0.0177 - accuracy: 0.9930 - val_loss: 0.0346 - val_accuracy: 0.9919\n",
      "Epoch 263/500\n",
      "14392/14392 [==============================] - 1s 66us/step - loss: 0.0173 - accuracy: 0.9931 - val_loss: 0.0383 - val_accuracy: 0.9901\n",
      "Epoch 264/500\n",
      "14392/14392 [==============================] - 1s 72us/step - loss: 0.0180 - accuracy: 0.9928 - val_loss: 0.0371 - val_accuracy: 0.9901\n",
      "Epoch 265/500\n",
      "14392/14392 [==============================] - 1s 71us/step - loss: 0.0175 - accuracy: 0.9930 - val_loss: 0.0345 - val_accuracy: 0.9909\n",
      "Epoch 266/500\n",
      "14392/14392 [==============================] - 1s 81us/step - loss: 0.0174 - accuracy: 0.9928 - val_loss: 0.0343 - val_accuracy: 0.9921\n",
      "Epoch 267/500\n",
      "14392/14392 [==============================] - 1s 82us/step - loss: 0.0177 - accuracy: 0.9928 - val_loss: 0.0376 - val_accuracy: 0.9898\n",
      "Epoch 268/500\n",
      "14392/14392 [==============================] - 1s 67us/step - loss: 0.0176 - accuracy: 0.9929 - val_loss: 0.0348 - val_accuracy: 0.9917\n",
      "Epoch 269/500\n",
      "14392/14392 [==============================] - 1s 70us/step - loss: 0.0172 - accuracy: 0.9931 - val_loss: 0.0353 - val_accuracy: 0.9906\n",
      "Epoch 270/500\n",
      "14392/14392 [==============================] - 1s 76us/step - loss: 0.0172 - accuracy: 0.9933 - val_loss: 0.0347 - val_accuracy: 0.9914\n",
      "Epoch 271/500\n",
      "14392/14392 [==============================] - 1s 64us/step - loss: 0.0167 - accuracy: 0.9936 - val_loss: 0.0358 - val_accuracy: 0.9922\n",
      "Epoch 272/500\n",
      "14392/14392 [==============================] - 1s 65us/step - loss: 0.0171 - accuracy: 0.9933 - val_loss: 0.0350 - val_accuracy: 0.9909\n",
      "Epoch 273/500\n",
      "14392/14392 [==============================] - 1s 65us/step - loss: 0.0171 - accuracy: 0.9935 - val_loss: 0.0354 - val_accuracy: 0.9909\n",
      "Epoch 274/500\n",
      "14392/14392 [==============================] - 1s 64us/step - loss: 0.0177 - accuracy: 0.9933 - val_loss: 0.0359 - val_accuracy: 0.9924\n",
      "Epoch 275/500\n",
      "14392/14392 [==============================] - 1s 65us/step - loss: 0.0174 - accuracy: 0.9925 - val_loss: 0.0391 - val_accuracy: 0.9888\n",
      "Epoch 276/500\n",
      "14392/14392 [==============================] - 1s 64us/step - loss: 0.0170 - accuracy: 0.9928 - val_loss: 0.0359 - val_accuracy: 0.9906\n",
      "Epoch 277/500\n",
      "14392/14392 [==============================] - 1s 65us/step - loss: 0.0173 - accuracy: 0.9927 - val_loss: 0.0374 - val_accuracy: 0.9911\n",
      "Epoch 278/500\n",
      "14392/14392 [==============================] - 1s 65us/step - loss: 0.0174 - accuracy: 0.9929 - val_loss: 0.0343 - val_accuracy: 0.9924\n",
      "Epoch 279/500\n",
      "14392/14392 [==============================] - 1s 62us/step - loss: 0.0172 - accuracy: 0.9932 - val_loss: 0.0365 - val_accuracy: 0.9911\n",
      "Epoch 280/500\n",
      "14392/14392 [==============================] - 1s 61us/step - loss: 0.0169 - accuracy: 0.9932 - val_loss: 0.0450 - val_accuracy: 0.9878\n",
      "Epoch 281/500\n",
      "14392/14392 [==============================] - 1s 65us/step - loss: 0.0168 - accuracy: 0.9935 - val_loss: 0.0336 - val_accuracy: 0.9912\n",
      "Epoch 282/500\n",
      "14392/14392 [==============================] - 1s 64us/step - loss: 0.0174 - accuracy: 0.9928 - val_loss: 0.0388 - val_accuracy: 0.9914\n",
      "Epoch 283/500\n",
      "14392/14392 [==============================] - 1s 64us/step - loss: 0.0166 - accuracy: 0.9937 - val_loss: 0.0364 - val_accuracy: 0.9901\n",
      "Epoch 284/500\n",
      "14392/14392 [==============================] - 1s 63us/step - loss: 0.0169 - accuracy: 0.9932 - val_loss: 0.0368 - val_accuracy: 0.9914\n",
      "Epoch 285/500\n",
      "14392/14392 [==============================] - 1s 68us/step - loss: 0.0167 - accuracy: 0.9927 - val_loss: 0.0360 - val_accuracy: 0.9911\n",
      "Epoch 286/500\n",
      "14392/14392 [==============================] - 1s 76us/step - loss: 0.0165 - accuracy: 0.9938 - val_loss: 0.0357 - val_accuracy: 0.9922\n",
      "Epoch 287/500\n",
      "14392/14392 [==============================] - 1s 78us/step - loss: 0.0170 - accuracy: 0.9929 - val_loss: 0.0387 - val_accuracy: 0.9908\n",
      "Epoch 288/500\n",
      "14392/14392 [==============================] - 1s 64us/step - loss: 0.0166 - accuracy: 0.9933 - val_loss: 0.0350 - val_accuracy: 0.9912\n",
      "Epoch 289/500\n",
      "14392/14392 [==============================] - 1s 67us/step - loss: 0.0169 - accuracy: 0.9931 - val_loss: 0.0386 - val_accuracy: 0.9906\n",
      "Epoch 290/500\n",
      "14392/14392 [==============================] - 1s 75us/step - loss: 0.0173 - accuracy: 0.9928 - val_loss: 0.0383 - val_accuracy: 0.9908\n",
      "Epoch 291/500\n",
      "14392/14392 [==============================] - 1s 64us/step - loss: 0.0163 - accuracy: 0.9938 - val_loss: 0.0348 - val_accuracy: 0.9911\n",
      "Epoch 292/500\n",
      "14392/14392 [==============================] - 1s 70us/step - loss: 0.0169 - accuracy: 0.9930 - val_loss: 0.0398 - val_accuracy: 0.9917\n",
      "Epoch 293/500\n",
      "14392/14392 [==============================] - 1s 87us/step - loss: 0.0175 - accuracy: 0.9930 - val_loss: 0.0363 - val_accuracy: 0.9911\n",
      "Epoch 294/500\n",
      "14392/14392 [==============================] - 1s 73us/step - loss: 0.0171 - accuracy: 0.9934 - val_loss: 0.0395 - val_accuracy: 0.9919\n",
      "Epoch 295/500\n",
      "14392/14392 [==============================] - 1s 73us/step - loss: 0.0166 - accuracy: 0.9938 - val_loss: 0.0368 - val_accuracy: 0.9921\n",
      "Epoch 296/500\n",
      "14392/14392 [==============================] - 1s 72us/step - loss: 0.0175 - accuracy: 0.9930 - val_loss: 0.0358 - val_accuracy: 0.9911\n",
      "Epoch 297/500\n",
      "14392/14392 [==============================] - 1s 68us/step - loss: 0.0170 - accuracy: 0.9933 - val_loss: 0.0343 - val_accuracy: 0.9914\n",
      "Epoch 298/500\n",
      "14392/14392 [==============================] - 1s 74us/step - loss: 0.0164 - accuracy: 0.9935 - val_loss: 0.0370 - val_accuracy: 0.9904\n",
      "Epoch 299/500\n",
      "14392/14392 [==============================] - 1s 62us/step - loss: 0.0167 - accuracy: 0.9937 - val_loss: 0.0376 - val_accuracy: 0.9914\n",
      "Epoch 300/500\n",
      "14392/14392 [==============================] - 1s 67us/step - loss: 0.0168 - accuracy: 0.9934 - val_loss: 0.0341 - val_accuracy: 0.9924\n",
      "Epoch 301/500\n",
      "14392/14392 [==============================] - 1s 63us/step - loss: 0.0164 - accuracy: 0.9932 - val_loss: 0.0376 - val_accuracy: 0.9912\n",
      "Epoch 302/500\n",
      "14392/14392 [==============================] - 1s 70us/step - loss: 0.0171 - accuracy: 0.9940 - val_loss: 0.0377 - val_accuracy: 0.9914\n",
      "Epoch 303/500\n",
      "14392/14392 [==============================] - 1s 65us/step - loss: 0.0167 - accuracy: 0.9933 - val_loss: 0.0364 - val_accuracy: 0.9914\n",
      "Epoch 304/500\n",
      "14392/14392 [==============================] - 1s 61us/step - loss: 0.0166 - accuracy: 0.9936 - val_loss: 0.0355 - val_accuracy: 0.9912\n",
      "Epoch 305/500\n",
      "14392/14392 [==============================] - 1s 71us/step - loss: 0.0164 - accuracy: 0.9939 - val_loss: 0.0377 - val_accuracy: 0.9906\n",
      "Epoch 306/500\n",
      "14392/14392 [==============================] - 1s 65us/step - loss: 0.0166 - accuracy: 0.9931 - val_loss: 0.0369 - val_accuracy: 0.9906\n",
      "Epoch 307/500\n",
      "14392/14392 [==============================] - 1s 72us/step - loss: 0.0163 - accuracy: 0.9935 - val_loss: 0.0369 - val_accuracy: 0.9916\n",
      "Epoch 308/500\n",
      "14392/14392 [==============================] - 1s 84us/step - loss: 0.0161 - accuracy: 0.9940 - val_loss: 0.0403 - val_accuracy: 0.9924\n",
      "Epoch 309/500\n",
      "14392/14392 [==============================] - 1s 79us/step - loss: 0.0165 - accuracy: 0.9933 - val_loss: 0.0373 - val_accuracy: 0.9908\n",
      "Epoch 310/500\n",
      "14392/14392 [==============================] - 1s 80us/step - loss: 0.0164 - accuracy: 0.9938 - val_loss: 0.0375 - val_accuracy: 0.9909\n",
      "Epoch 311/500\n",
      "14392/14392 [==============================] - 1s 83us/step - loss: 0.0164 - accuracy: 0.9931 - val_loss: 0.0375 - val_accuracy: 0.9912\n",
      "Epoch 312/500\n",
      "14392/14392 [==============================] - 1s 75us/step - loss: 0.0167 - accuracy: 0.9933 - val_loss: 0.0361 - val_accuracy: 0.9914\n",
      "Epoch 313/500\n",
      "14392/14392 [==============================] - 1s 73us/step - loss: 0.0163 - accuracy: 0.9935 - val_loss: 0.0382 - val_accuracy: 0.9917\n",
      "Epoch 314/500\n",
      "14392/14392 [==============================] - 1s 71us/step - loss: 0.0161 - accuracy: 0.9935 - val_loss: 0.0386 - val_accuracy: 0.9921\n",
      "Epoch 315/500\n",
      "14392/14392 [==============================] - 1s 76us/step - loss: 0.0168 - accuracy: 0.9935 - val_loss: 0.0383 - val_accuracy: 0.9917\n",
      "Epoch 316/500\n",
      "14392/14392 [==============================] - 1s 71us/step - loss: 0.0166 - accuracy: 0.9935 - val_loss: 0.0366 - val_accuracy: 0.9908\n",
      "Epoch 317/500\n",
      "14392/14392 [==============================] - 1s 75us/step - loss: 0.0162 - accuracy: 0.9938 - val_loss: 0.0373 - val_accuracy: 0.9929\n",
      "Epoch 318/500\n",
      "14392/14392 [==============================] - 1s 71us/step - loss: 0.0166 - accuracy: 0.9934 - val_loss: 0.0370 - val_accuracy: 0.9895\n",
      "Epoch 319/500\n",
      "14392/14392 [==============================] - 1s 65us/step - loss: 0.0164 - accuracy: 0.9924 - val_loss: 0.0345 - val_accuracy: 0.9916\n",
      "Epoch 320/500\n",
      "14392/14392 [==============================] - 1s 67us/step - loss: 0.0160 - accuracy: 0.9937 - val_loss: 0.0410 - val_accuracy: 0.9901\n",
      "Epoch 321/500\n",
      "14392/14392 [==============================] - 1s 79us/step - loss: 0.0165 - accuracy: 0.9933 - val_loss: 0.0405 - val_accuracy: 0.9903\n",
      "Epoch 322/500\n",
      "14392/14392 [==============================] - 1s 70us/step - loss: 0.0165 - accuracy: 0.9937 - val_loss: 0.0357 - val_accuracy: 0.9922\n",
      "Epoch 323/500\n",
      "14392/14392 [==============================] - 1s 74us/step - loss: 0.0163 - accuracy: 0.9933 - val_loss: 0.0356 - val_accuracy: 0.9904\n",
      "Epoch 324/500\n",
      "14392/14392 [==============================] - 1s 63us/step - loss: 0.0160 - accuracy: 0.9936 - val_loss: 0.0376 - val_accuracy: 0.9919\n",
      "Epoch 325/500\n",
      "14392/14392 [==============================] - 1s 64us/step - loss: 0.0167 - accuracy: 0.9937 - val_loss: 0.0391 - val_accuracy: 0.9899\n",
      "Epoch 326/500\n",
      "14392/14392 [==============================] - 1s 72us/step - loss: 0.0162 - accuracy: 0.9940 - val_loss: 0.0374 - val_accuracy: 0.9909\n",
      "Epoch 327/500\n",
      "14392/14392 [==============================] - 1s 69us/step - loss: 0.0164 - accuracy: 0.9938 - val_loss: 0.0398 - val_accuracy: 0.9912\n",
      "Epoch 328/500\n",
      "14392/14392 [==============================] - 1s 70us/step - loss: 0.0165 - accuracy: 0.9935 - val_loss: 0.0379 - val_accuracy: 0.9899\n"
     ]
    },
    {
     "name": "stdout",
     "output_type": "stream",
     "text": [
      "Epoch 329/500\n",
      "14392/14392 [==============================] - 1s 65us/step - loss: 0.0163 - accuracy: 0.9936 - val_loss: 0.0396 - val_accuracy: 0.9901\n",
      "Epoch 330/500\n",
      "14392/14392 [==============================] - 1s 66us/step - loss: 0.0169 - accuracy: 0.9933 - val_loss: 0.0384 - val_accuracy: 0.9911\n",
      "Epoch 331/500\n",
      "14392/14392 [==============================] - 1s 65us/step - loss: 0.0166 - accuracy: 0.9931 - val_loss: 0.0402 - val_accuracy: 0.9914\n",
      "Epoch 332/500\n",
      "14392/14392 [==============================] - 1s 85us/step - loss: 0.0164 - accuracy: 0.9934 - val_loss: 0.0425 - val_accuracy: 0.9921\n",
      "Epoch 333/500\n",
      "14392/14392 [==============================] - 1s 75us/step - loss: 0.0158 - accuracy: 0.9939 - val_loss: 0.0401 - val_accuracy: 0.9914\n",
      "Epoch 334/500\n",
      "14392/14392 [==============================] - 1s 70us/step - loss: 0.0164 - accuracy: 0.9934 - val_loss: 0.0404 - val_accuracy: 0.9890\n",
      "Epoch 335/500\n",
      "14392/14392 [==============================] - 1s 64us/step - loss: 0.0162 - accuracy: 0.9931 - val_loss: 0.0358 - val_accuracy: 0.9921\n",
      "Epoch 336/500\n",
      "14392/14392 [==============================] - 1s 65us/step - loss: 0.0160 - accuracy: 0.9932 - val_loss: 0.0424 - val_accuracy: 0.9903\n",
      "Epoch 337/500\n",
      "14392/14392 [==============================] - 1s 67us/step - loss: 0.0164 - accuracy: 0.9933 - val_loss: 0.0357 - val_accuracy: 0.9917\n",
      "Epoch 338/500\n",
      "14392/14392 [==============================] - 1s 87us/step - loss: 0.0157 - accuracy: 0.9937 - val_loss: 0.0387 - val_accuracy: 0.9912\n",
      "Epoch 339/500\n",
      "14392/14392 [==============================] - 1s 88us/step - loss: 0.0162 - accuracy: 0.9938 - val_loss: 0.0380 - val_accuracy: 0.9924\n",
      "Epoch 340/500\n",
      "14392/14392 [==============================] - 1s 63us/step - loss: 0.0154 - accuracy: 0.9942 - val_loss: 0.0422 - val_accuracy: 0.9919\n",
      "Epoch 341/500\n",
      "14392/14392 [==============================] - 1s 62us/step - loss: 0.0169 - accuracy: 0.9931 - val_loss: 0.0391 - val_accuracy: 0.9885\n",
      "Epoch 342/500\n",
      "14392/14392 [==============================] - 1s 68us/step - loss: 0.0163 - accuracy: 0.9933 - val_loss: 0.0379 - val_accuracy: 0.9896\n",
      "Epoch 343/500\n",
      "14392/14392 [==============================] - 1s 84us/step - loss: 0.0154 - accuracy: 0.9944 - val_loss: 0.0393 - val_accuracy: 0.9914\n",
      "Epoch 344/500\n",
      "14392/14392 [==============================] - 1s 79us/step - loss: 0.0156 - accuracy: 0.9942 - val_loss: 0.0424 - val_accuracy: 0.9914\n",
      "Epoch 345/500\n",
      "14392/14392 [==============================] - 1s 80us/step - loss: 0.0163 - accuracy: 0.9934 - val_loss: 0.0363 - val_accuracy: 0.9924\n",
      "Epoch 346/500\n",
      "14392/14392 [==============================] - 1s 83us/step - loss: 0.0160 - accuracy: 0.9939 - val_loss: 0.0407 - val_accuracy: 0.9898\n",
      "Epoch 347/500\n",
      "14392/14392 [==============================] - 1s 83us/step - loss: 0.0158 - accuracy: 0.9942 - val_loss: 0.0369 - val_accuracy: 0.9906\n",
      "Epoch 348/500\n",
      "14392/14392 [==============================] - 1s 80us/step - loss: 0.0159 - accuracy: 0.9942 - val_loss: 0.0390 - val_accuracy: 0.9924\n",
      "Epoch 349/500\n",
      "14392/14392 [==============================] - 1s 66us/step - loss: 0.0158 - accuracy: 0.9937 - val_loss: 0.0374 - val_accuracy: 0.9912\n",
      "Epoch 350/500\n",
      "14392/14392 [==============================] - 1s 71us/step - loss: 0.0159 - accuracy: 0.9931 - val_loss: 0.0359 - val_accuracy: 0.9916\n",
      "Epoch 351/500\n",
      "14392/14392 [==============================] - 1s 65us/step - loss: 0.0160 - accuracy: 0.9939 - val_loss: 0.0357 - val_accuracy: 0.9914\n",
      "Epoch 352/500\n",
      "14392/14392 [==============================] - 1s 63us/step - loss: 0.0164 - accuracy: 0.9935 - val_loss: 0.0382 - val_accuracy: 0.9917\n",
      "Epoch 353/500\n",
      "14392/14392 [==============================] - 1s 58us/step - loss: 0.0158 - accuracy: 0.9937 - val_loss: 0.0381 - val_accuracy: 0.9919\n",
      "Epoch 354/500\n",
      "14392/14392 [==============================] - 1s 56us/step - loss: 0.0157 - accuracy: 0.9940 - val_loss: 0.0376 - val_accuracy: 0.9914\n",
      "Epoch 355/500\n",
      "14392/14392 [==============================] - 1s 63us/step - loss: 0.0161 - accuracy: 0.9934 - val_loss: 0.0400 - val_accuracy: 0.9893\n",
      "Epoch 356/500\n",
      "14392/14392 [==============================] - 1s 68us/step - loss: 0.0163 - accuracy: 0.9934 - val_loss: 0.0374 - val_accuracy: 0.9924\n",
      "Epoch 357/500\n",
      "14392/14392 [==============================] - 1s 75us/step - loss: 0.0161 - accuracy: 0.9938 - val_loss: 0.0380 - val_accuracy: 0.9912\n",
      "Epoch 358/500\n",
      "14392/14392 [==============================] - 1s 63us/step - loss: 0.0159 - accuracy: 0.9935 - val_loss: 0.0387 - val_accuracy: 0.9921\n",
      "Epoch 359/500\n",
      "14392/14392 [==============================] - 1s 66us/step - loss: 0.0164 - accuracy: 0.9940 - val_loss: 0.0354 - val_accuracy: 0.9914\n",
      "Epoch 360/500\n",
      "14392/14392 [==============================] - 1s 59us/step - loss: 0.0152 - accuracy: 0.9936 - val_loss: 0.0380 - val_accuracy: 0.9909\n",
      "Epoch 361/500\n",
      "14392/14392 [==============================] - 1s 59us/step - loss: 0.0155 - accuracy: 0.9939 - val_loss: 0.0397 - val_accuracy: 0.9914\n",
      "Epoch 362/500\n",
      "14392/14392 [==============================] - 1s 77us/step - loss: 0.0157 - accuracy: 0.9937 - val_loss: 0.0421 - val_accuracy: 0.9891\n",
      "Epoch 363/500\n",
      "14392/14392 [==============================] - 1s 83us/step - loss: 0.0160 - accuracy: 0.9933 - val_loss: 0.0382 - val_accuracy: 0.9922\n",
      "Epoch 364/500\n",
      "14392/14392 [==============================] - 1s 74us/step - loss: 0.0158 - accuracy: 0.9940 - val_loss: 0.0385 - val_accuracy: 0.9922\n",
      "Epoch 365/500\n",
      "14392/14392 [==============================] - 1s 69us/step - loss: 0.0160 - accuracy: 0.9935 - val_loss: 0.0369 - val_accuracy: 0.9916\n",
      "Epoch 366/500\n",
      "14392/14392 [==============================] - 1s 75us/step - loss: 0.0154 - accuracy: 0.9942 - val_loss: 0.0387 - val_accuracy: 0.9909\n",
      "Epoch 367/500\n",
      "14392/14392 [==============================] - 1s 80us/step - loss: 0.0158 - accuracy: 0.9941 - val_loss: 0.0429 - val_accuracy: 0.9912\n",
      "Epoch 368/500\n",
      "14392/14392 [==============================] - 1s 72us/step - loss: 0.0152 - accuracy: 0.9938 - val_loss: 0.0395 - val_accuracy: 0.9911\n",
      "Epoch 369/500\n",
      "14392/14392 [==============================] - 1s 77us/step - loss: 0.0158 - accuracy: 0.9937 - val_loss: 0.0411 - val_accuracy: 0.9919\n",
      "Epoch 370/500\n",
      "14392/14392 [==============================] - 1s 83us/step - loss: 0.0159 - accuracy: 0.9935 - val_loss: 0.0410 - val_accuracy: 0.9903\n",
      "Epoch 371/500\n",
      "14392/14392 [==============================] - 1s 81us/step - loss: 0.0159 - accuracy: 0.9931 - val_loss: 0.0371 - val_accuracy: 0.9916\n",
      "Epoch 372/500\n",
      "14392/14392 [==============================] - 1s 64us/step - loss: 0.0151 - accuracy: 0.9946 - val_loss: 0.0407 - val_accuracy: 0.9906\n",
      "Epoch 373/500\n",
      "14392/14392 [==============================] - 1s 64us/step - loss: 0.0161 - accuracy: 0.9936 - val_loss: 0.0386 - val_accuracy: 0.9914\n",
      "Epoch 374/500\n",
      "14392/14392 [==============================] - 1s 68us/step - loss: 0.0162 - accuracy: 0.9935 - val_loss: 0.0430 - val_accuracy: 0.9919\n",
      "Epoch 375/500\n",
      "14392/14392 [==============================] - 1s 61us/step - loss: 0.0158 - accuracy: 0.9937 - val_loss: 0.0405 - val_accuracy: 0.9914\n",
      "Epoch 376/500\n",
      "14392/14392 [==============================] - 1s 78us/step - loss: 0.0160 - accuracy: 0.9940 - val_loss: 0.0408 - val_accuracy: 0.9912\n",
      "Epoch 377/500\n",
      "14392/14392 [==============================] - 1s 82us/step - loss: 0.0159 - accuracy: 0.9936 - val_loss: 0.0387 - val_accuracy: 0.9912\n",
      "Epoch 378/500\n",
      "14392/14392 [==============================] - 1s 79us/step - loss: 0.0159 - accuracy: 0.9933 - val_loss: 0.0405 - val_accuracy: 0.9909\n",
      "Epoch 379/500\n",
      "14392/14392 [==============================] - 1s 77us/step - loss: 0.0154 - accuracy: 0.9939 - val_loss: 0.0410 - val_accuracy: 0.9916\n",
      "Epoch 380/500\n",
      "14392/14392 [==============================] - 1s 67us/step - loss: 0.0155 - accuracy: 0.9940 - val_loss: 0.0357 - val_accuracy: 0.9904\n",
      "Epoch 381/500\n",
      "14392/14392 [==============================] - 1s 60us/step - loss: 0.0153 - accuracy: 0.9935 - val_loss: 0.0378 - val_accuracy: 0.9903\n",
      "Epoch 382/500\n",
      "14392/14392 [==============================] - 1s 61us/step - loss: 0.0155 - accuracy: 0.9936 - val_loss: 0.0442 - val_accuracy: 0.9914\n",
      "Epoch 383/500\n",
      "14392/14392 [==============================] - 1s 63us/step - loss: 0.0157 - accuracy: 0.9937 - val_loss: 0.0421 - val_accuracy: 0.9898\n",
      "Epoch 384/500\n",
      "14392/14392 [==============================] - 1s 60us/step - loss: 0.0145 - accuracy: 0.9944 - val_loss: 0.0411 - val_accuracy: 0.9912\n",
      "Epoch 385/500\n",
      "14392/14392 [==============================] - 1s 58us/step - loss: 0.0159 - accuracy: 0.9931 - val_loss: 0.0416 - val_accuracy: 0.9911\n",
      "Epoch 386/500\n",
      "14392/14392 [==============================] - 1s 65us/step - loss: 0.0153 - accuracy: 0.9935 - val_loss: 0.0427 - val_accuracy: 0.9901\n",
      "Epoch 387/500\n",
      "14392/14392 [==============================] - 1s 61us/step - loss: 0.0158 - accuracy: 0.9937 - val_loss: 0.0460 - val_accuracy: 0.9904\n",
      "Epoch 388/500\n",
      "14392/14392 [==============================] - 1s 57us/step - loss: 0.0152 - accuracy: 0.9932 - val_loss: 0.0439 - val_accuracy: 0.9901\n",
      "Epoch 389/500\n",
      "14392/14392 [==============================] - 1s 56us/step - loss: 0.0157 - accuracy: 0.9937 - val_loss: 0.0414 - val_accuracy: 0.9911\n",
      "Epoch 390/500\n",
      "14392/14392 [==============================] - 1s 64us/step - loss: 0.0157 - accuracy: 0.9937 - val_loss: 0.0416 - val_accuracy: 0.9903\n",
      "Epoch 391/500\n",
      "14392/14392 [==============================] - 1s 57us/step - loss: 0.0159 - accuracy: 0.9938 - val_loss: 0.0439 - val_accuracy: 0.9908\n",
      "Epoch 392/500\n",
      "14392/14392 [==============================] - 1s 58us/step - loss: 0.0155 - accuracy: 0.9936 - val_loss: 0.0404 - val_accuracy: 0.9904\n",
      "Epoch 393/500\n",
      "14392/14392 [==============================] - 1s 57us/step - loss: 0.0156 - accuracy: 0.9941 - val_loss: 0.0431 - val_accuracy: 0.9917\n",
      "Epoch 394/500\n",
      "14392/14392 [==============================] - 1s 64us/step - loss: 0.0155 - accuracy: 0.9941 - val_loss: 0.0404 - val_accuracy: 0.9912\n",
      "Epoch 395/500\n",
      "14392/14392 [==============================] - 1s 83us/step - loss: 0.0156 - accuracy: 0.9933 - val_loss: 0.0408 - val_accuracy: 0.9917\n",
      "Epoch 396/500\n",
      "14392/14392 [==============================] - 1s 81us/step - loss: 0.0155 - accuracy: 0.9936 - val_loss: 0.0426 - val_accuracy: 0.9921\n",
      "Epoch 397/500\n",
      "14392/14392 [==============================] - 1s 68us/step - loss: 0.0166 - accuracy: 0.9933 - val_loss: 0.0385 - val_accuracy: 0.9919\n",
      "Epoch 398/500\n",
      "14392/14392 [==============================] - 1s 66us/step - loss: 0.0151 - accuracy: 0.9945 - val_loss: 0.0384 - val_accuracy: 0.9916\n",
      "Epoch 399/500\n",
      "14392/14392 [==============================] - 1s 60us/step - loss: 0.0156 - accuracy: 0.9934 - val_loss: 0.0402 - val_accuracy: 0.9909\n",
      "Epoch 400/500\n",
      "14392/14392 [==============================] - 1s 65us/step - loss: 0.0149 - accuracy: 0.9938 - val_loss: 0.0413 - val_accuracy: 0.9917\n",
      "Epoch 401/500\n",
      "14392/14392 [==============================] - 1s 74us/step - loss: 0.0157 - accuracy: 0.9940 - val_loss: 0.0394 - val_accuracy: 0.9924\n",
      "Epoch 402/500\n",
      "14392/14392 [==============================] - 1s 70us/step - loss: 0.0151 - accuracy: 0.9936 - val_loss: 0.0426 - val_accuracy: 0.9904\n",
      "Epoch 403/500\n",
      "14392/14392 [==============================] - 1s 73us/step - loss: 0.0153 - accuracy: 0.9942 - val_loss: 0.0414 - val_accuracy: 0.9908\n",
      "Epoch 404/500\n",
      "14392/14392 [==============================] - 1s 76us/step - loss: 0.0153 - accuracy: 0.9938 - val_loss: 0.0371 - val_accuracy: 0.9912\n",
      "Epoch 405/500\n",
      "14392/14392 [==============================] - 1s 78us/step - loss: 0.0155 - accuracy: 0.9937 - val_loss: 0.0423 - val_accuracy: 0.9904\n",
      "Epoch 406/500\n",
      "14392/14392 [==============================] - 1s 67us/step - loss: 0.0150 - accuracy: 0.9942 - val_loss: 0.0435 - val_accuracy: 0.9901\n",
      "Epoch 407/500\n",
      "14392/14392 [==============================] - 1s 62us/step - loss: 0.0152 - accuracy: 0.9946 - val_loss: 0.0410 - val_accuracy: 0.9916\n",
      "Epoch 408/500\n",
      "14392/14392 [==============================] - 1s 81us/step - loss: 0.0152 - accuracy: 0.9937 - val_loss: 0.0431 - val_accuracy: 0.9911\n",
      "Epoch 409/500\n",
      "14392/14392 [==============================] - 1s 83us/step - loss: 0.0152 - accuracy: 0.9944 - val_loss: 0.0428 - val_accuracy: 0.9906\n",
      "Epoch 410/500\n",
      "14392/14392 [==============================] - 1s 74us/step - loss: 0.0152 - accuracy: 0.9938 - val_loss: 0.0443 - val_accuracy: 0.9901\n",
      "Epoch 411/500\n",
      "14392/14392 [==============================] - 1s 67us/step - loss: 0.0147 - accuracy: 0.9940 - val_loss: 0.0429 - val_accuracy: 0.9912\n",
      "Epoch 412/500\n",
      "14392/14392 [==============================] - 1s 83us/step - loss: 0.0155 - accuracy: 0.9939 - val_loss: 0.0427 - val_accuracy: 0.9921\n",
      "Epoch 413/500\n",
      "14392/14392 [==============================] - 1s 72us/step - loss: 0.0151 - accuracy: 0.9942 - val_loss: 0.0399 - val_accuracy: 0.9906\n",
      "Epoch 414/500\n",
      "14392/14392 [==============================] - 1s 83us/step - loss: 0.0155 - accuracy: 0.9942 - val_loss: 0.0414 - val_accuracy: 0.9925\n",
      "Epoch 415/500\n",
      "14392/14392 [==============================] - 1s 61us/step - loss: 0.0156 - accuracy: 0.9940 - val_loss: 0.0395 - val_accuracy: 0.9917\n",
      "Epoch 416/500\n",
      "14392/14392 [==============================] - 1s 65us/step - loss: 0.0160 - accuracy: 0.9931 - val_loss: 0.0385 - val_accuracy: 0.9921\n",
      "Epoch 417/500\n",
      "14392/14392 [==============================] - 1s 75us/step - loss: 0.0152 - accuracy: 0.9941 - val_loss: 0.0432 - val_accuracy: 0.9924\n",
      "Epoch 418/500\n",
      "14392/14392 [==============================] - 1s 84us/step - loss: 0.0154 - accuracy: 0.9941 - val_loss: 0.0399 - val_accuracy: 0.9914\n",
      "Epoch 419/500\n",
      "14392/14392 [==============================] - 1s 80us/step - loss: 0.0147 - accuracy: 0.9942 - val_loss: 0.0448 - val_accuracy: 0.9909\n",
      "Epoch 420/500\n",
      "14392/14392 [==============================] - 1s 79us/step - loss: 0.0155 - accuracy: 0.9935 - val_loss: 0.0479 - val_accuracy: 0.9890\n",
      "Epoch 421/500\n",
      "14392/14392 [==============================] - 1s 84us/step - loss: 0.0159 - accuracy: 0.9928 - val_loss: 0.0420 - val_accuracy: 0.9901\n",
      "Epoch 422/500\n",
      "14392/14392 [==============================] - 1s 77us/step - loss: 0.0147 - accuracy: 0.9946 - val_loss: 0.0409 - val_accuracy: 0.9912\n",
      "Epoch 423/500\n",
      "14392/14392 [==============================] - 1s 62us/step - loss: 0.0154 - accuracy: 0.9935 - val_loss: 0.0432 - val_accuracy: 0.9909\n",
      "Epoch 424/500\n",
      "14392/14392 [==============================] - 1s 67us/step - loss: 0.0147 - accuracy: 0.9942 - val_loss: 0.0475 - val_accuracy: 0.9904\n",
      "Epoch 425/500\n",
      "14392/14392 [==============================] - 1s 70us/step - loss: 0.0148 - accuracy: 0.9941 - val_loss: 0.0429 - val_accuracy: 0.9916\n",
      "Epoch 426/500\n",
      "14392/14392 [==============================] - 1s 73us/step - loss: 0.0145 - accuracy: 0.9944 - val_loss: 0.0405 - val_accuracy: 0.9916\n",
      "Epoch 427/500\n",
      "14392/14392 [==============================] - 1s 70us/step - loss: 0.0143 - accuracy: 0.9939 - val_loss: 0.0451 - val_accuracy: 0.9891\n",
      "Epoch 428/500\n",
      "14392/14392 [==============================] - 1s 69us/step - loss: 0.0147 - accuracy: 0.9944 - val_loss: 0.0429 - val_accuracy: 0.9898\n",
      "Epoch 429/500\n",
      "14392/14392 [==============================] - 1s 59us/step - loss: 0.0151 - accuracy: 0.9937 - val_loss: 0.0373 - val_accuracy: 0.9914\n",
      "Epoch 430/500\n",
      "14392/14392 [==============================] - 1s 82us/step - loss: 0.0156 - accuracy: 0.9942 - val_loss: 0.0418 - val_accuracy: 0.9912\n",
      "Epoch 431/500\n",
      "14392/14392 [==============================] - 1s 84us/step - loss: 0.0144 - accuracy: 0.9946 - val_loss: 0.0424 - val_accuracy: 0.9916\n",
      "Epoch 432/500\n",
      "14392/14392 [==============================] - 1s 86us/step - loss: 0.0147 - accuracy: 0.9943 - val_loss: 0.0418 - val_accuracy: 0.9911\n",
      "Epoch 433/500\n",
      "14392/14392 [==============================] - 1s 81us/step - loss: 0.0150 - accuracy: 0.9942 - val_loss: 0.0431 - val_accuracy: 0.9909\n",
      "Epoch 434/500\n",
      "14392/14392 [==============================] - 1s 80us/step - loss: 0.0146 - accuracy: 0.9940 - val_loss: 0.0424 - val_accuracy: 0.9914\n",
      "Epoch 435/500\n",
      "14392/14392 [==============================] - 1s 66us/step - loss: 0.0157 - accuracy: 0.9941 - val_loss: 0.0406 - val_accuracy: 0.9914\n",
      "Epoch 436/500\n",
      "14392/14392 [==============================] - 1s 54us/step - loss: 0.0144 - accuracy: 0.9944 - val_loss: 0.0447 - val_accuracy: 0.9911\n",
      "Epoch 437/500\n",
      "14392/14392 [==============================] - 1s 56us/step - loss: 0.0149 - accuracy: 0.9941 - val_loss: 0.0427 - val_accuracy: 0.9906\n"
     ]
    },
    {
     "name": "stdout",
     "output_type": "stream",
     "text": [
      "Epoch 438/500\n",
      "14392/14392 [==============================] - 1s 59us/step - loss: 0.0147 - accuracy: 0.9941 - val_loss: 0.0441 - val_accuracy: 0.9904\n",
      "Epoch 439/500\n",
      "14392/14392 [==============================] - 1s 67us/step - loss: 0.0154 - accuracy: 0.9930 - val_loss: 0.0431 - val_accuracy: 0.9895\n",
      "Epoch 440/500\n",
      "14392/14392 [==============================] - 1s 72us/step - loss: 0.0152 - accuracy: 0.9939 - val_loss: 0.0427 - val_accuracy: 0.9914\n",
      "Epoch 441/500\n",
      "14392/14392 [==============================] - 1s 69us/step - loss: 0.0151 - accuracy: 0.9937 - val_loss: 0.0425 - val_accuracy: 0.9896\n",
      "Epoch 442/500\n",
      "14392/14392 [==============================] - 1s 69us/step - loss: 0.0151 - accuracy: 0.9937 - val_loss: 0.0401 - val_accuracy: 0.9924\n",
      "Epoch 443/500\n",
      "14392/14392 [==============================] - 1s 71us/step - loss: 0.0148 - accuracy: 0.9938 - val_loss: 0.0407 - val_accuracy: 0.9912\n",
      "Epoch 444/500\n",
      "14392/14392 [==============================] - 1s 68us/step - loss: 0.0149 - accuracy: 0.9941 - val_loss: 0.0415 - val_accuracy: 0.9917\n",
      "Epoch 445/500\n",
      "14392/14392 [==============================] - 1s 77us/step - loss: 0.0143 - accuracy: 0.9946 - val_loss: 0.0419 - val_accuracy: 0.9912\n",
      "Epoch 446/500\n",
      "14392/14392 [==============================] - 1s 84us/step - loss: 0.0148 - accuracy: 0.9941 - val_loss: 0.0429 - val_accuracy: 0.9912\n",
      "Epoch 447/500\n",
      "14392/14392 [==============================] - 1s 80us/step - loss: 0.0150 - accuracy: 0.9937 - val_loss: 0.0425 - val_accuracy: 0.9912\n",
      "Epoch 448/500\n",
      "14392/14392 [==============================] - 1s 76us/step - loss: 0.0148 - accuracy: 0.9943 - val_loss: 0.0424 - val_accuracy: 0.9911\n",
      "Epoch 449/500\n",
      "14392/14392 [==============================] - 1s 79us/step - loss: 0.0150 - accuracy: 0.9942 - val_loss: 0.0434 - val_accuracy: 0.9908\n",
      "Epoch 450/500\n",
      "14392/14392 [==============================] - 1s 79us/step - loss: 0.0149 - accuracy: 0.9939 - val_loss: 0.0443 - val_accuracy: 0.9922\n",
      "Epoch 451/500\n",
      "14392/14392 [==============================] - 1s 61us/step - loss: 0.0146 - accuracy: 0.9940 - val_loss: 0.0463 - val_accuracy: 0.9906\n",
      "Epoch 452/500\n",
      "14392/14392 [==============================] - 1s 63us/step - loss: 0.0146 - accuracy: 0.9938 - val_loss: 0.0433 - val_accuracy: 0.9919\n",
      "Epoch 453/500\n",
      "14392/14392 [==============================] - 1s 64us/step - loss: 0.0147 - accuracy: 0.9945 - val_loss: 0.0445 - val_accuracy: 0.9906\n",
      "Epoch 454/500\n",
      "14392/14392 [==============================] - 1s 90us/step - loss: 0.0153 - accuracy: 0.9941 - val_loss: 0.0443 - val_accuracy: 0.9914\n",
      "Epoch 455/500\n",
      "14392/14392 [==============================] - 1s 64us/step - loss: 0.0142 - accuracy: 0.9938 - val_loss: 0.0395 - val_accuracy: 0.9917\n",
      "Epoch 456/500\n",
      "14392/14392 [==============================] - 1s 65us/step - loss: 0.0141 - accuracy: 0.9949 - val_loss: 0.0481 - val_accuracy: 0.9908\n",
      "Epoch 457/500\n",
      "14392/14392 [==============================] - 1s 78us/step - loss: 0.0146 - accuracy: 0.9936 - val_loss: 0.0406 - val_accuracy: 0.9911\n",
      "Epoch 458/500\n",
      "14392/14392 [==============================] - 1s 83us/step - loss: 0.0143 - accuracy: 0.9945 - val_loss: 0.0449 - val_accuracy: 0.9916\n",
      "Epoch 459/500\n",
      "14392/14392 [==============================] - 1s 75us/step - loss: 0.0148 - accuracy: 0.9942 - val_loss: 0.0432 - val_accuracy: 0.9912\n",
      "Epoch 460/500\n",
      "14392/14392 [==============================] - 1s 79us/step - loss: 0.0149 - accuracy: 0.9943 - val_loss: 0.0452 - val_accuracy: 0.9909\n",
      "Epoch 461/500\n",
      "14392/14392 [==============================] - 1s 80us/step - loss: 0.0145 - accuracy: 0.9944 - val_loss: 0.0461 - val_accuracy: 0.9912\n",
      "Epoch 462/500\n",
      "14392/14392 [==============================] - 1s 85us/step - loss: 0.0149 - accuracy: 0.9936 - val_loss: 0.0416 - val_accuracy: 0.9922\n",
      "Epoch 463/500\n",
      "14392/14392 [==============================] - 1s 84us/step - loss: 0.0147 - accuracy: 0.9942 - val_loss: 0.0434 - val_accuracy: 0.9912\n",
      "Epoch 464/500\n",
      "14392/14392 [==============================] - 1s 92us/step - loss: 0.0146 - accuracy: 0.9941 - val_loss: 0.0446 - val_accuracy: 0.9906\n",
      "Epoch 465/500\n",
      "14392/14392 [==============================] - 1s 78us/step - loss: 0.0148 - accuracy: 0.9941 - val_loss: 0.0469 - val_accuracy: 0.9924\n",
      "Epoch 466/500\n",
      "14392/14392 [==============================] - 1s 65us/step - loss: 0.0148 - accuracy: 0.9948 - val_loss: 0.0464 - val_accuracy: 0.9914\n",
      "Epoch 467/500\n",
      "14392/14392 [==============================] - 1s 75us/step - loss: 0.0151 - accuracy: 0.9937 - val_loss: 0.0450 - val_accuracy: 0.9908\n",
      "Epoch 468/500\n",
      "14392/14392 [==============================] - 1s 76us/step - loss: 0.0151 - accuracy: 0.9938 - val_loss: 0.0436 - val_accuracy: 0.9919\n",
      "Epoch 469/500\n",
      "14392/14392 [==============================] - 1s 78us/step - loss: 0.0158 - accuracy: 0.9929 - val_loss: 0.0435 - val_accuracy: 0.9917\n",
      "Epoch 470/500\n",
      "14392/14392 [==============================] - 1s 81us/step - loss: 0.0141 - accuracy: 0.9946 - val_loss: 0.0478 - val_accuracy: 0.9912\n",
      "Epoch 471/500\n",
      "14392/14392 [==============================] - 1s 71us/step - loss: 0.0140 - accuracy: 0.9942 - val_loss: 0.0465 - val_accuracy: 0.9912\n",
      "Epoch 472/500\n",
      "14392/14392 [==============================] - 1s 82us/step - loss: 0.0144 - accuracy: 0.9942 - val_loss: 0.0454 - val_accuracy: 0.9898\n",
      "Epoch 473/500\n",
      "14392/14392 [==============================] - 1s 83us/step - loss: 0.0143 - accuracy: 0.9942 - val_loss: 0.0516 - val_accuracy: 0.9891\n",
      "Epoch 474/500\n",
      "14392/14392 [==============================] - 1s 67us/step - loss: 0.0145 - accuracy: 0.9940 - val_loss: 0.0487 - val_accuracy: 0.9901\n",
      "Epoch 475/500\n",
      "14392/14392 [==============================] - 1s 85us/step - loss: 0.0148 - accuracy: 0.9937 - val_loss: 0.0439 - val_accuracy: 0.9916\n",
      "Epoch 476/500\n",
      "14392/14392 [==============================] - 1s 72us/step - loss: 0.0140 - accuracy: 0.9946 - val_loss: 0.0450 - val_accuracy: 0.9922\n",
      "Epoch 477/500\n",
      "14392/14392 [==============================] - 1s 81us/step - loss: 0.0143 - accuracy: 0.9942 - val_loss: 0.0498 - val_accuracy: 0.9890\n",
      "Epoch 478/500\n",
      "14392/14392 [==============================] - 1s 69us/step - loss: 0.0147 - accuracy: 0.9943 - val_loss: 0.0445 - val_accuracy: 0.9912\n",
      "Epoch 479/500\n",
      "14392/14392 [==============================] - 1s 65us/step - loss: 0.0140 - accuracy: 0.9941 - val_loss: 0.0473 - val_accuracy: 0.9912\n",
      "Epoch 480/500\n",
      "14392/14392 [==============================] - 1s 63us/step - loss: 0.0151 - accuracy: 0.9942 - val_loss: 0.0433 - val_accuracy: 0.9922\n",
      "Epoch 481/500\n",
      "14392/14392 [==============================] - 1s 63us/step - loss: 0.0145 - accuracy: 0.9941 - val_loss: 0.0464 - val_accuracy: 0.9921\n",
      "Epoch 482/500\n",
      "14392/14392 [==============================] - 1s 75us/step - loss: 0.0146 - accuracy: 0.9943 - val_loss: 0.0447 - val_accuracy: 0.9917\n",
      "Epoch 483/500\n",
      "14392/14392 [==============================] - 1s 69us/step - loss: 0.0148 - accuracy: 0.9936 - val_loss: 0.0475 - val_accuracy: 0.9911\n",
      "Epoch 484/500\n",
      "14392/14392 [==============================] - 1s 70us/step - loss: 0.0146 - accuracy: 0.9941 - val_loss: 0.0496 - val_accuracy: 0.9908\n",
      "Epoch 485/500\n",
      "14392/14392 [==============================] - 1s 77us/step - loss: 0.0143 - accuracy: 0.9948 - val_loss: 0.0465 - val_accuracy: 0.9916\n",
      "Epoch 486/500\n",
      "14392/14392 [==============================] - 1s 82us/step - loss: 0.0149 - accuracy: 0.9940 - val_loss: 0.0455 - val_accuracy: 0.9914\n",
      "Epoch 487/500\n",
      "14392/14392 [==============================] - 1s 74us/step - loss: 0.0146 - accuracy: 0.9942 - val_loss: 0.0443 - val_accuracy: 0.9906\n",
      "Epoch 488/500\n",
      "14392/14392 [==============================] - 1s 71us/step - loss: 0.0140 - accuracy: 0.9942 - val_loss: 0.0483 - val_accuracy: 0.9924\n",
      "Epoch 489/500\n",
      "14392/14392 [==============================] - 1s 63us/step - loss: 0.0140 - accuracy: 0.9946 - val_loss: 0.0488 - val_accuracy: 0.9901\n",
      "Epoch 490/500\n",
      "14392/14392 [==============================] - 1s 82us/step - loss: 0.0151 - accuracy: 0.9938 - val_loss: 0.0463 - val_accuracy: 0.9904\n",
      "Epoch 491/500\n",
      "14392/14392 [==============================] - 1s 81us/step - loss: 0.0141 - accuracy: 0.9945 - val_loss: 0.0454 - val_accuracy: 0.9924\n",
      "Epoch 492/500\n",
      "14392/14392 [==============================] - 1s 86us/step - loss: 0.0138 - accuracy: 0.9946 - val_loss: 0.0434 - val_accuracy: 0.9924\n",
      "Epoch 493/500\n",
      "14392/14392 [==============================] - 1s 80us/step - loss: 0.0142 - accuracy: 0.9944 - val_loss: 0.0495 - val_accuracy: 0.9919\n",
      "Epoch 494/500\n",
      "14392/14392 [==============================] - 1s 77us/step - loss: 0.0149 - accuracy: 0.9944 - val_loss: 0.0424 - val_accuracy: 0.9917\n",
      "Epoch 495/500\n",
      "14392/14392 [==============================] - 1s 75us/step - loss: 0.0145 - accuracy: 0.9937 - val_loss: 0.0480 - val_accuracy: 0.9916\n",
      "Epoch 496/500\n",
      "14392/14392 [==============================] - 1s 71us/step - loss: 0.0143 - accuracy: 0.9939 - val_loss: 0.0502 - val_accuracy: 0.9912\n",
      "Epoch 497/500\n",
      "14392/14392 [==============================] - 1s 74us/step - loss: 0.0143 - accuracy: 0.9936 - val_loss: 0.0455 - val_accuracy: 0.9912\n",
      "Epoch 498/500\n",
      "14392/14392 [==============================] - 1s 74us/step - loss: 0.0142 - accuracy: 0.9942 - val_loss: 0.0491 - val_accuracy: 0.9903\n",
      "Epoch 499/500\n",
      "14392/14392 [==============================] - 1s 80us/step - loss: 0.0145 - accuracy: 0.9944 - val_loss: 0.0454 - val_accuracy: 0.9922\n",
      "Epoch 500/500\n",
      "14392/14392 [==============================] - 1s 78us/step - loss: 0.0147 - accuracy: 0.9933 - val_loss: 0.0491 - val_accuracy: 0.9917\n"
     ]
    }
   ],
   "source": [
    "model3 = build_model()\n",
    "\n",
    "history3 = model3.fit(X_train, y_train, validation_data=(X_test, y_test), epochs=500, batch_size=50).history"
   ]
  },
  {
   "cell_type": "code",
   "execution_count": 47,
   "metadata": {},
   "outputs": [
    {
     "name": "stdout",
     "output_type": "stream",
     "text": [
      "6168/6168 [==============================] - 0s 39us/step\n",
      "Loss 0.029139, Accuracy 0.991894\n",
      "Loss 0.029003, Accuracy 0.992704\n",
      "Loss 0.049051, Accuracy 0.991732\n"
     ]
    }
   ],
   "source": [
    "test_loss_3, test_acc_3 = model3.evaluate(X_test, y_test)\n",
    "\n",
    "print('Loss %f, Accuracy %f' % (test_loss_1, test_acc_1))\n",
    "print('Loss %f, Accuracy %f' % (test_loss_2, test_acc_2))\n",
    "print('Loss %f, Accuracy %f' % (test_loss_3, test_acc_3))"
   ]
  },
  {
   "cell_type": "code",
   "execution_count": 64,
   "metadata": {},
   "outputs": [
    {
     "data": {
      "image/png": "[encoded data removed]",
      "text/plain": [
       "<Figure size 432x288 with 1 Axes>"
      ]
     },
     "metadata": {
      "needs_background": "light"
     },
     "output_type": "display_data"
    },
    {
     "data": {
      "image/png": "[encoded data removed]",
      "text/plain": [
       "<Figure size 432x288 with 1 Axes>"
      ]
     },
     "metadata": {
      "needs_background": "light"
     },
     "output_type": "display_data"
    }
   ],
   "source": [
    "#plot loss during training\n",
    "plt.title('Loss')\n",
    "plt.plot(history3['loss'], label='Train')\n",
    "plt.plot(history3['val_loss'], label='Val')\n",
    "plt.xlabel('Epochs')\n",
    "plt.ylabel('Cross-Entropy')\n",
    "plt.legend()\n",
    "plt.show()\n",
    "\n",
    "# plot accuracy during training\n",
    "\n",
    "plt.title('Accuracy')\n",
    "plt.plot(history3['accuracy'], label='train')\n",
    "plt.plot(history3['val_accuracy'], label='Val')\n",
    "plt.legend()\n",
    "plt.show()"
   ]
  },
  {
   "cell_type": "markdown",
   "metadata": {},
   "source": [
    "https://machinelearningmastery.com/how-to-choose-loss-functions-when-training-deep-learning-neural-networks/"
   ]
  },
  {
   "cell_type": "code",
   "execution_count": 65,
   "metadata": {},
   "outputs": [],
   "source": [
    "X_train, X_val, y_train, y_val = train_test_split(X_train, y_train, test_size=0.2)"
   ]
  },
  {
   "cell_type": "markdown",
   "metadata": {},
   "source": [
    "## Early stopping"
   ]
  },
  {
   "cell_type": "code",
   "execution_count": 19,
   "metadata": {},
   "outputs": [],
   "source": [
    "from keras.callbacks import EarlyStopping, ModelCheckpoint"
   ]
  },
  {
   "cell_type": "code",
   "execution_count": 51,
   "metadata": {},
   "outputs": [
    {
     "name": "stdout",
     "output_type": "stream",
     "text": [
      "Train on 11513 samples, validate on 2879 samples\n",
      "Epoch 1/100\n",
      "11513/11513 [==============================] - 4s 336us/step - loss: 0.0626 - accuracy: 0.9852 - val_loss: 0.0324 - val_accuracy: 0.9927\n",
      "Epoch 2/100\n",
      "11513/11513 [==============================] - 4s 339us/step - loss: 0.0432 - accuracy: 0.9881 - val_loss: 0.0291 - val_accuracy: 0.9927\n",
      "Epoch 3/100\n",
      "11513/11513 [==============================] - 4s 321us/step - loss: 0.0407 - accuracy: 0.9886 - val_loss: 0.0301 - val_accuracy: 0.9927\n",
      "Epoch 4/100\n",
      "11513/11513 [==============================] - 4s 308us/step - loss: 0.0388 - accuracy: 0.9884 - val_loss: 0.0278 - val_accuracy: 0.9927\n",
      "Epoch 5/100\n",
      "11513/11513 [==============================] - 3s 284us/step - loss: 0.0358 - accuracy: 0.9888 - val_loss: 0.0271 - val_accuracy: 0.9934\n",
      "Epoch 6/100\n",
      "11513/11513 [==============================] - 4s 311us/step - loss: 0.0343 - accuracy: 0.9890 - val_loss: 0.0291 - val_accuracy: 0.9927\n",
      "Epoch 7/100\n",
      "11513/11513 [==============================] - 3s 291us/step - loss: 0.0328 - accuracy: 0.9892 - val_loss: 0.0350 - val_accuracy: 0.9906\n",
      "Epoch 8/100\n",
      "11513/11513 [==============================] - 3s 272us/step - loss: 0.0324 - accuracy: 0.9892 - val_loss: 0.0278 - val_accuracy: 0.9934\n",
      "Epoch 9/100\n",
      "11513/11513 [==============================] - 4s 362us/step - loss: 0.0322 - accuracy: 0.9897 - val_loss: 0.0262 - val_accuracy: 0.9931\n",
      "Epoch 10/100\n",
      "11513/11513 [==============================] - 3s 270us/step - loss: 0.0310 - accuracy: 0.9904 - val_loss: 0.0273 - val_accuracy: 0.9924\n",
      "Epoch 11/100\n",
      "11513/11513 [==============================] - 4s 339us/step - loss: 0.0309 - accuracy: 0.9908 - val_loss: 0.0260 - val_accuracy: 0.9931\n",
      "Epoch 12/100\n",
      "11513/11513 [==============================] - 4s 354us/step - loss: 0.0305 - accuracy: 0.9900 - val_loss: 0.0264 - val_accuracy: 0.9927\n",
      "Epoch 13/100\n",
      "11513/11513 [==============================] - 4s 365us/step - loss: 0.0300 - accuracy: 0.9903 - val_loss: 0.0249 - val_accuracy: 0.9934\n",
      "Epoch 14/100\n",
      "11513/11513 [==============================] - 4s 309us/step - loss: 0.0297 - accuracy: 0.9900 - val_loss: 0.0253 - val_accuracy: 0.9934\n",
      "Epoch 15/100\n",
      "11513/11513 [==============================] - 3s 278us/step - loss: 0.0291 - accuracy: 0.9903 - val_loss: 0.0276 - val_accuracy: 0.9917\n",
      "Epoch 16/100\n",
      "11513/11513 [==============================] - 3s 286us/step - loss: 0.0287 - accuracy: 0.9913 - val_loss: 0.0299 - val_accuracy: 0.9924\n",
      "Epoch 17/100\n",
      "11513/11513 [==============================] - 3s 303us/step - loss: 0.0294 - accuracy: 0.9905 - val_loss: 0.0270 - val_accuracy: 0.9924\n",
      "Epoch 18/100\n",
      "11513/11513 [==============================] - 3s 291us/step - loss: 0.0290 - accuracy: 0.9907 - val_loss: 0.0262 - val_accuracy: 0.9934\n",
      "Epoch 19/100\n",
      "11513/11513 [==============================] - 4s 331us/step - loss: 0.0283 - accuracy: 0.9901 - val_loss: 0.0259 - val_accuracy: 0.9931\n",
      "Epoch 20/100\n",
      "11513/11513 [==============================] - 3s 277us/step - loss: 0.0281 - accuracy: 0.9908 - val_loss: 0.0257 - val_accuracy: 0.9931\n",
      "Epoch 21/100\n",
      "11513/11513 [==============================] - 4s 312us/step - loss: 0.0282 - accuracy: 0.9914 - val_loss: 0.0265 - val_accuracy: 0.9934\n",
      "Epoch 22/100\n",
      "11513/11513 [==============================] - 4s 319us/step - loss: 0.0277 - accuracy: 0.9902 - val_loss: 0.0251 - val_accuracy: 0.9927\n",
      "Epoch 23/100\n",
      "11513/11513 [==============================] - 3s 303us/step - loss: 0.0280 - accuracy: 0.9911 - val_loss: 0.0261 - val_accuracy: 0.9927\n"
     ]
    }
   ],
   "source": [
    "es = EarlyStopping(monitor='val_loss', patience=10)\n",
    "mc = ModelCheckpoint('best_model_NOREG.h5', monitor='val_loss', save_best_only=True)\n",
    "\n",
    "model4 = build_model()\n",
    "history4 = model4.fit(X_train, y_train, validation_data=(X_val, y_val), epochs=100, \n",
    "                      batch_size=10, callbacks=[es,mc]).history"
   ]
  },
  {
   "cell_type": "code",
   "execution_count": 52,
   "metadata": {},
   "outputs": [
    {
     "name": "stdout",
     "output_type": "stream",
     "text": [
      "6168/6168 [==============================] - 0s 35us/step\n",
      "Loss 0.029139, Accuracy 0.991894\n",
      "Loss 0.029003, Accuracy 0.992704\n",
      "Loss 0.049051, Accuracy 0.991732\n",
      "Loss 0.028266, Accuracy 0.992218\n"
     ]
    }
   ],
   "source": [
    "test_loss_4, test_acc_4 = model4.evaluate(X_test, y_test)\n",
    "\n",
    "print('Loss %f, Accuracy %f' % (test_loss_1, test_acc_1))\n",
    "print('Loss %f, Accuracy %f' % (test_loss_2, test_acc_2))\n",
    "print('Loss %f, Accuracy %f' % (test_loss_3, test_acc_3))\n",
    "print('Loss %f, Accuracy %f' % (test_loss_4, test_acc_4))"
   ]
  },
  {
   "cell_type": "code",
   "execution_count": null,
   "metadata": {},
   "outputs": [],
   "source": [
    "#plot loss during training\n",
    "plt.title('Loss')\n",
    "plt.plot(history4['loss'], label='Train')\n",
    "plt.plot(history4['val_loss'], label='Val')\n",
    "plt.xlabel('Epochs')\n",
    "plt.ylabel('Cross-Entropy')\n",
    "plt.legend()\n",
    "plt.show()\n",
    "\n",
    "# plot accuracy during training\n",
    "\n",
    "plt.title('Accuracy')\n",
    "plt.plot(history4['accuracy'], label='train')\n",
    "plt.plot(history4['val_accuracy'], label='Val')\n",
    "plt.legend()\n",
    "plt.show()"
   ]
  },
  {
   "cell_type": "markdown",
   "metadata": {},
   "source": [
    "## L2 regularization"
   ]
  },
  {
   "cell_type": "code",
   "execution_count": 53,
   "metadata": {},
   "outputs": [],
   "source": [
    "from keras.regularizers import l2\n",
    "\n",
    "def build_L2_model():\n",
    "    # define the model\n",
    "    model = Sequential()\n",
    "\n",
    "    n_feature = X_train.shape[1]\n",
    "    h_dim=100\n",
    "    model.add(Dense(h_dim, activation='relu', input_shape=(n_feature,), kernel_regularizer=l2(0.01)))\n",
    "    model.add(Dense(h_dim, activation='relu', kernel_regularizer=l2(0.01)))\n",
    "    model.add(Dense(h_dim, activation='relu', kernel_regularizer=l2(0.01)))\n",
    "    model.add(Dense(h_dim, activation='relu', kernel_regularizer=l2(0.01)))\n",
    "    #linear activation\n",
    "    model.add(Dense(1))\n",
    "\n",
    "    #compile the model\n",
    "    model.compile(loss='binary_crossentropy', optimizer='adam', metrics=['accuracy'])\n",
    "    \n",
    "    return model"
   ]
  },
  {
   "cell_type": "code",
   "execution_count": 54,
   "metadata": {},
   "outputs": [
    {
     "name": "stdout",
     "output_type": "stream",
     "text": [
      "Train on 11513 samples, validate on 2879 samples\n",
      "Epoch 1/100\n",
      "11513/11513 [==============================] - 5s 406us/step - loss: 0.5143 - accuracy: 0.9342 - val_loss: 0.1535 - val_accuracy: 0.9597\n",
      "Epoch 2/100\n",
      "11513/11513 [==============================] - 4s 344us/step - loss: 0.2058 - accuracy: 0.9361 - val_loss: 0.1462 - val_accuracy: 0.9444\n",
      "Epoch 3/100\n",
      "11513/11513 [==============================] - 5s 419us/step - loss: 0.2000 - accuracy: 0.9451 - val_loss: 0.1226 - val_accuracy: 0.9833\n",
      "Epoch 4/100\n",
      "11513/11513 [==============================] - 4s 324us/step - loss: 0.2071 - accuracy: 0.9486 - val_loss: 0.1449 - val_accuracy: 0.9517\n",
      "Epoch 5/100\n",
      "11513/11513 [==============================] - 4s 364us/step - loss: 0.1642 - accuracy: 0.9600 - val_loss: 0.1470 - val_accuracy: 0.9476\n",
      "Epoch 6/100\n",
      "11513/11513 [==============================] - 5s 432us/step - loss: 0.1742 - accuracy: 0.9553 - val_loss: 0.1011 - val_accuracy: 0.9906\n",
      "Epoch 7/100\n",
      "11513/11513 [==============================] - 4s 360us/step - loss: 0.2089 - accuracy: 0.9520 - val_loss: 0.2917 - val_accuracy: 0.7767\n",
      "Epoch 8/100\n",
      "11513/11513 [==============================] - 4s 336us/step - loss: 0.1347 - accuracy: 0.9707 - val_loss: 0.1019 - val_accuracy: 0.9924\n",
      "Epoch 9/100\n",
      "11513/11513 [==============================] - 4s 332us/step - loss: 0.1282 - accuracy: 0.9868 - val_loss: 0.0996 - val_accuracy: 0.9920\n",
      "Epoch 10/100\n",
      "11513/11513 [==============================] - 4s 337us/step - loss: 0.1288 - accuracy: 0.9870 - val_loss: 0.0865 - val_accuracy: 0.9920\n",
      "Epoch 11/100\n",
      "11513/11513 [==============================] - 4s 363us/step - loss: 0.1244 - accuracy: 0.9858 - val_loss: 0.1005 - val_accuracy: 0.9924\n",
      "Epoch 12/100\n",
      "11513/11513 [==============================] - 4s 336us/step - loss: 0.1406 - accuracy: 0.9644 - val_loss: 0.0944 - val_accuracy: 0.9920\n",
      "Epoch 13/100\n",
      "11513/11513 [==============================] - 4s 332us/step - loss: 0.1176 - accuracy: 0.9878 - val_loss: 0.0902 - val_accuracy: 0.9920\n",
      "Epoch 14/100\n",
      "11513/11513 [==============================] - 4s 333us/step - loss: 0.1738 - accuracy: 0.9557 - val_loss: 0.1162 - val_accuracy: 0.9920\n",
      "Epoch 15/100\n",
      "11513/11513 [==============================] - 4s 367us/step - loss: 0.2434 - accuracy: 0.8824 - val_loss: 0.6875 - val_accuracy: 0.2136\n",
      "Epoch 16/100\n",
      "11513/11513 [==============================] - 4s 331us/step - loss: 0.5434 - accuracy: 0.9743 - val_loss: 0.3847 - val_accuracy: 0.9910\n",
      "Epoch 17/100\n",
      "11513/11513 [==============================] - 4s 339us/step - loss: 0.2677 - accuracy: 0.9871 - val_loss: 0.1458 - val_accuracy: 0.9917\n",
      "Epoch 18/100\n",
      "11513/11513 [==============================] - 5s 433us/step - loss: 0.1464 - accuracy: 0.9865 - val_loss: 0.1094 - val_accuracy: 0.9920\n",
      "Epoch 19/100\n",
      "11513/11513 [==============================] - 4s 362us/step - loss: 0.1275 - accuracy: 0.9759 - val_loss: 0.0917 - val_accuracy: 0.9920\n",
      "Epoch 20/100\n",
      "11513/11513 [==============================] - 4s 340us/step - loss: 0.1224 - accuracy: 0.9876 - val_loss: 0.1008 - val_accuracy: 0.9917\n"
     ]
    }
   ],
   "source": [
    "mc = ModelCheckpoint('best_model_L2.h5', monitor='val_loss', save_best_only=True)\n",
    "\n",
    "L2_model = build_L2_model()\n",
    "h_L2 = L2_model.fit(X_train, y_train, validation_data=(X_val, y_val), epochs=100, \n",
    "                    batch_size=10, callbacks=[es,mc]).history"
   ]
  },
  {
   "cell_type": "code",
   "execution_count": 55,
   "metadata": {},
   "outputs": [],
   "source": [
    "from keras.layers import Dropout\n",
    "\n",
    "def build_DROPOUT_model():\n",
    "    # define the model\n",
    "    model = Sequential()\n",
    "\n",
    "    n_feature = X_train.shape[1]\n",
    "    h_dim=100\n",
    "    model.add(Dense(h_dim, activation='relu', input_shape=(n_feature,)))\n",
    "    model.add(Dropout(0.2))\n",
    "    model.add(Dense(h_dim, activation='relu'))\n",
    "    model.add(Dropout(0.2))\n",
    "    model.add(Dense(h_dim, activation='relu'))\n",
    "    model.add(Dropout(0.2))\n",
    "    model.add(Dense(h_dim, activation='relu'))\n",
    "    #linear activation\n",
    "    model.add(Dense(1))\n",
    "\n",
    "    #compile the model\n",
    "    model.compile(loss='binary_crossentropy', optimizer='adam', metrics=['accuracy'])\n",
    "    \n",
    "    return model"
   ]
  },
  {
   "cell_type": "code",
   "execution_count": 56,
   "metadata": {},
   "outputs": [
    {
     "name": "stdout",
     "output_type": "stream",
     "text": [
      "Train on 11513 samples, validate on 2879 samples\n",
      "Epoch 1/100\n",
      "11513/11513 [==============================] - 5s 457us/step - loss: 0.1882 - accuracy: 0.1292 - val_loss: 0.1070 - val_accuracy: 0.0080\n",
      "Epoch 2/100\n",
      "11513/11513 [==============================] - 4s 369us/step - loss: 0.1740 - accuracy: 0.0062 - val_loss: 0.1118 - val_accuracy: 6.9469e-04\n",
      "Epoch 3/100\n",
      "11513/11513 [==============================] - 5s 412us/step - loss: 0.1873 - accuracy: 0.0031 - val_loss: 0.1120 - val_accuracy: 0.0000e+00\n",
      "Epoch 4/100\n",
      "11513/11513 [==============================] - 5s 391us/step - loss: 0.1787 - accuracy: 0.0012 - val_loss: 0.1168 - val_accuracy: 3.4734e-04\n",
      "Epoch 5/100\n",
      "11513/11513 [==============================] - 4s 364us/step - loss: 0.1707 - accuracy: 6.0801e-04 - val_loss: 0.1168 - val_accuracy: 3.4734e-04\n",
      "Epoch 6/100\n",
      "11513/11513 [==============================] - 4s 367us/step - loss: 0.1723 - accuracy: 6.9487e-04 - val_loss: 0.1119 - val_accuracy: 0.0000e+00\n",
      "Epoch 7/100\n",
      "11513/11513 [==============================] - 4s 372us/step - loss: 0.1899 - accuracy: 9.5544e-04 - val_loss: 0.1114 - val_accuracy: 3.4734e-04\n",
      "Epoch 8/100\n",
      "11513/11513 [==============================] - 5s 407us/step - loss: 0.1734 - accuracy: 5.2115e-04 - val_loss: 0.1125 - val_accuracy: 0.0000e+00\n",
      "Epoch 9/100\n",
      "11513/11513 [==============================] - 4s 367us/step - loss: 0.1790 - accuracy: 4.3429e-04 - val_loss: 0.1166 - val_accuracy: 0.0000e+00\n",
      "Epoch 10/100\n",
      "11513/11513 [==============================] - 5s 397us/step - loss: 0.1718 - accuracy: 0.0000e+00 - val_loss: 0.1166 - val_accuracy: 0.0000e+00\n",
      "Epoch 11/100\n",
      "11513/11513 [==============================] - 5s 468us/step - loss: 0.1746 - accuracy: 1.7372e-04 - val_loss: 0.1166 - val_accuracy: 0.0000e+00\n"
     ]
    }
   ],
   "source": [
    "mc = ModelCheckpoint('best_model_DROPOUT.h5', monitor='val_loss', save_best_only=True)\n",
    "\n",
    "DROPOUT_model = build_DROPOUT_model()\n",
    "h_DROPOUT = DROPOUT_model.fit(X_train, y_train, validation_data=(X_val, y_val), \n",
    "                              epochs=100, batch_size=10, callbacks=[es,mc]).history"
   ]
  },
  {
   "cell_type": "code",
   "execution_count": 57,
   "metadata": {},
   "outputs": [
    {
     "name": "stdout",
     "output_type": "stream",
     "text": [
      "6168/6168 [==============================] - 0s 46us/step\n",
      "6168/6168 [==============================] - 0s 58us/step\n",
      "6168/6168 [==============================] - 0s 58us/step\n"
     ]
    }
   ],
   "source": [
    "# laod best models and test them\n",
    "from keras.models import load_model\n",
    "\n",
    "best_NOREG_model = load_model('best_model_NOREG.h5')\n",
    "best_L2_model = load_model('best_model_L2.h5')\n",
    "best_DROPOUT_model = load_model('best_model_DROPOUT.h5')\n",
    "\n",
    "loss_NOREG, acc_NOREG = best_NOREG_model.evaluate(X_test, y_test)\n",
    "loss_L2, acc_L2 = best_L2_model.evaluate(X_test, y_test)\n",
    "loss_DROPOUT, acc_DROPOUT = best_DROPOUT_model.evaluate(X_test, y_test)"
   ]
  },
  {
   "cell_type": "code",
   "execution_count": 58,
   "metadata": {},
   "outputs": [
    {
     "name": "stdout",
     "output_type": "stream",
     "text": [
      "Loss 0.029020, Accuracy 0.992380\n",
      "Loss 0.092494, Accuracy 0.990759\n",
      "Loss 0.126677, Accuracy 0.004864\n"
     ]
    }
   ],
   "source": [
    "print('Loss %f, Accuracy %f' % (loss_NOREG, acc_NOREG))\n",
    "print('Loss %f, Accuracy %f' % (loss_L2, acc_L2))\n",
    "print('Loss %f, Accuracy %f' % (loss_DROPOUT, acc_DROPOUT))"
   ]
  },
  {
   "cell_type": "markdown",
   "metadata": {},
   "source": [
    "## Hyper-Parameter Tuning"
   ]
  },
  {
   "cell_type": "code",
   "execution_count": 11,
   "metadata": {},
   "outputs": [
    {
     "name": "stderr",
     "output_type": "stream",
     "text": [
      "Using TensorFlow backend.\n"
     ]
    }
   ],
   "source": [
    "from keras.wrappers.scikit_learn import KerasRegressor #which implements the Scikit-Learn regressor interface\n",
    "from sklearn.model_selection import RandomizedSearchCV"
   ]
  },
  {
   "cell_type": "code",
   "execution_count": 13,
   "metadata": {},
   "outputs": [],
   "source": [
    "def build_model(n_layers=2, h_dim=64, activation='relu', optimizer='adam'):\n",
    "    # define the model\n",
    "    model = Sequential()\n",
    "\n",
    "    n_feature = X_train.shape[1]\n",
    "    \n",
    "    model.add(Dense(h_dim, activation=activation, input_shape=(n_feature,)))\n",
    "    for i in range(n_layers-1):\n",
    "        model.add(Dense(h_dim, activation=activation))\n",
    "    #linear activation\n",
    "    model.add(Dense(1))\n",
    "\n",
    "    #compile the model\n",
    "    model.compile(loss='binary_crossentropy', optimizer=optimizer, metrics=['accuracy'])\n",
    "    \n",
    "    return model"
   ]
  },
  {
   "cell_type": "code",
   "execution_count": 17,
   "metadata": {},
   "outputs": [],
   "source": [
    "n_layers = [1, 2, 3]\n",
    "h_dim = [32, 64, 128]\n",
    "activation = ['relu', 'tanh']\n",
    "optimizer = ['adagrad', 'adam']\n",
    "params = dict(optimizer=optimizer, n_layers=n_layers, h_dim=h_dim, activation=activation)"
   ]
  },
  {
   "cell_type": "code",
   "execution_count": 18,
   "metadata": {},
   "outputs": [
    {
     "name": "stdout",
     "output_type": "stream",
     "text": [
      "4798/4798 [==============================] - 0s 29us/step\n",
      "4797/4797 [==============================] - 0s 31us/step\n",
      "4797/4797 [==============================] - 0s 22us/step\n",
      "4798/4798 [==============================] - 0s 19us/step\n",
      "4797/4797 [==============================] - 0s 28us/step\n",
      "4797/4797 [==============================] - 0s 20us/step\n",
      "4798/4798 [==============================] - 0s 28us/step\n",
      "4797/4797 [==============================] - 0s 23us/step\n",
      "4797/4797 [==============================] - 0s 22us/step\n",
      "4798/4798 [==============================] - 0s 25us/step\n",
      "4797/4797 [==============================] - 0s 24us/step\n",
      "4797/4797 [==============================] - 0s 26us/step\n",
      "4798/4798 [==============================] - 0s 22us/step\n",
      "4797/4797 [==============================] - 0s 20us/step\n",
      "4797/4797 [==============================] - 0s 21us/step\n"
     ]
    }
   ],
   "source": [
    "model = KerasRegressor(build_fn=build_model)\n",
    "\n",
    "rnd = RandomizedSearchCV(estimator=model, param_distributions=params, n_iter=5, cv=3)\n",
    "rnd_result = rnd.fit(X_train, y_train, epochs=100, batch_size=10, verbose=0)"
   ]
  },
  {
   "cell_type": "code",
   "execution_count": 20,
   "metadata": {},
   "outputs": [
    {
     "name": "stdout",
     "output_type": "stream",
     "text": [
      "Best: 0.085057 using {'optimizer': 'adagrad', 'n_layers': 1, 'h_dim': 32, 'activation': 'relu'}\n",
      "1.306715 (1.634046) with: {'optimizer': 'adagrad', 'n_layers': 2, 'h_dim': 128, 'activation': 'relu'}\n",
      "0.160350 (0.019033) with: {'optimizer': 'adam', 'n_layers': 1, 'h_dim': 64, 'activation': 'tanh'}\n",
      "0.306539 (0.211596) with: {'optimizer': 'adam', 'n_layers': 2, 'h_dim': 128, 'activation': 'tanh'}\n",
      "0.159410 (0.018303) with: {'optimizer': 'adagrad', 'n_layers': 3, 'h_dim': 128, 'activation': 'relu'}\n",
      "0.085057 (0.013912) with: {'optimizer': 'adagrad', 'n_layers': 1, 'h_dim': 32, 'activation': 'relu'}\n"
     ]
    }
   ],
   "source": [
    "print(\"Best: %f using %s\" % (-rnd_result.best_score_, rnd_result.best_params_))\n",
    "means = rnd_result.cv_results_['mean_test_score']\n",
    "stds = rnd_result.cv_results_['std_test_score']\n",
    "params = rnd_result.cv_results_['params']\n",
    "for mean, stdev, param in zip(means, stds, params):\n",
    "    print(\"%f (%f) with: %r\" % (-mean, stdev, param))"
   ]
  },
  {
   "cell_type": "code",
   "execution_count": 21,
   "metadata": {},
   "outputs": [
    {
     "name": "stdout",
     "output_type": "stream",
     "text": [
      "6168/6168 [==============================] - 0s 22us/step\n",
      "Loss 0.097560, Accuracy 0.276751\n"
     ]
    }
   ],
   "source": [
    "clf = rnd_result.best_estimator_.model\n",
    "\n",
    "loss, acc = clf.evaluate(X_test, y_test)\n",
    "print('Loss %f, Accuracy %f' % (loss, acc))"
   ]
  },
  {
   "cell_type": "markdown",
   "metadata": {},
   "source": [
    "https://towardsdatascience.com/hyperparameter-optimization-with-keras-b82e6364ca53"
   ]
  },
  {
   "cell_type": "code",
   "execution_count": null,
   "metadata": {},
   "outputs": [],
   "source": []
  }
 ],
 "metadata": {
  "kernelspec": {
   "display_name": "Python 3",
   "language": "python",
   "name": "python3"
  },
  "language_info": {
   "codemirror_mode": {
    "name": "ipython",
    "version": 3
   },
   "file_extension": ".py",
   "mimetype": "text/x-python",
   "name": "python",
   "nbconvert_exporter": "python",
   "pygments_lexer": "ipython3",
   "version": "3.7.7"
  }
 },
 "nbformat": 4,
 "nbformat_minor": 4
}
