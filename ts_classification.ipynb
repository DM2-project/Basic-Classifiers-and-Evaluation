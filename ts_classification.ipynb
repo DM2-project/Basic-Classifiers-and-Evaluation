{
 "cells": [
  {
   "cell_type": "code",
   "execution_count": 9,
   "metadata": {},
   "outputs": [],
   "source": [
    "%matplotlib inline\n",
    "\n",
    "import numpy as np\n",
    "import pandas as pd\n",
    "import matplotlib.pyplot as plt\n",
    "\n",
    "\n",
    "from collections import defaultdict"
   ]
  },
  {
   "cell_type": "markdown",
   "metadata": {},
   "source": [
    "# Data Preparation"
   ]
  },
  {
   "cell_type": "code",
   "execution_count": 10,
   "metadata": {},
   "outputs": [],
   "source": [
    "df1 = pd.read_csv('datatraining.txt', header=0, parse_dates=[0], index_col=0, squeeze=True)\n",
    "df2= pd.read_csv('datatest.txt', header=0, parse_dates=[0], index_col=0, squeeze=True)\n",
    "df3= pd.read_csv('datatest2.txt', header=0, parse_dates=[0], index_col=0, squeeze=True)\n",
    "\n",
    "df4= pd.merge(df2, df1, how='outer')\n",
    "df_m=pd.merge(df4, df3, how='outer')\n",
    "\n",
    "df = df_m.set_index(['date'])"
   ]
  },
  {
   "cell_type": "code",
   "execution_count": 11,
   "metadata": {},
   "outputs": [],
   "source": [
    "from data_preparation import prepare_dataset"
   ]
  },
  {
   "cell_type": "code",
   "execution_count": 12,
   "metadata": {},
   "outputs": [
    {
     "data": {
      "text/html": [
       "<div>\n",
       "<style scoped>\n",
       "    .dataframe tbody tr th:only-of-type {\n",
       "        vertical-align: middle;\n",
       "    }\n",
       "\n",
       "    .dataframe tbody tr th {\n",
       "        vertical-align: top;\n",
       "    }\n",
       "\n",
       "    .dataframe thead th {\n",
       "        text-align: right;\n",
       "    }\n",
       "</style>\n",
       "<table border=\"1\" class=\"dataframe\">\n",
       "  <thead>\n",
       "    <tr style=\"text-align: right;\">\n",
       "      <th></th>\n",
       "      <th>Temperature</th>\n",
       "      <th>Humidity</th>\n",
       "      <th>Light</th>\n",
       "      <th>CO2</th>\n",
       "      <th>HumidityRatio</th>\n",
       "      <th>Occupancy</th>\n",
       "    </tr>\n",
       "    <tr>\n",
       "      <th>date</th>\n",
       "      <th></th>\n",
       "      <th></th>\n",
       "      <th></th>\n",
       "      <th></th>\n",
       "      <th></th>\n",
       "      <th></th>\n",
       "    </tr>\n",
       "  </thead>\n",
       "  <tbody>\n",
       "    <tr>\n",
       "      <th>2015-02-02 14:19:00</th>\n",
       "      <td>23.7000</td>\n",
       "      <td>26.272</td>\n",
       "      <td>585.200000</td>\n",
       "      <td>749.200000</td>\n",
       "      <td>0.004764</td>\n",
       "      <td>1</td>\n",
       "    </tr>\n",
       "    <tr>\n",
       "      <th>2015-02-02 14:19:59</th>\n",
       "      <td>23.7180</td>\n",
       "      <td>26.290</td>\n",
       "      <td>578.400000</td>\n",
       "      <td>760.400000</td>\n",
       "      <td>0.004773</td>\n",
       "      <td>1</td>\n",
       "    </tr>\n",
       "    <tr>\n",
       "      <th>2015-02-02 14:21:00</th>\n",
       "      <td>23.7300</td>\n",
       "      <td>26.230</td>\n",
       "      <td>572.666667</td>\n",
       "      <td>769.666667</td>\n",
       "      <td>0.004765</td>\n",
       "      <td>1</td>\n",
       "    </tr>\n",
       "    <tr>\n",
       "      <th>2015-02-02 14:22:00</th>\n",
       "      <td>23.7225</td>\n",
       "      <td>26.125</td>\n",
       "      <td>493.750000</td>\n",
       "      <td>774.750000</td>\n",
       "      <td>0.004744</td>\n",
       "      <td>1</td>\n",
       "    </tr>\n",
       "    <tr>\n",
       "      <th>2015-02-02 14:23:00</th>\n",
       "      <td>23.7540</td>\n",
       "      <td>26.200</td>\n",
       "      <td>488.600000</td>\n",
       "      <td>779.000000</td>\n",
       "      <td>0.004767</td>\n",
       "      <td>1</td>\n",
       "    </tr>\n",
       "  </tbody>\n",
       "</table>\n",
       "</div>"
      ],
      "text/plain": [
       "                     Temperature  Humidity       Light         CO2  \\\n",
       "date                                                                 \n",
       "2015-02-02 14:19:00      23.7000    26.272  585.200000  749.200000   \n",
       "2015-02-02 14:19:59      23.7180    26.290  578.400000  760.400000   \n",
       "2015-02-02 14:21:00      23.7300    26.230  572.666667  769.666667   \n",
       "2015-02-02 14:22:00      23.7225    26.125  493.750000  774.750000   \n",
       "2015-02-02 14:23:00      23.7540    26.200  488.600000  779.000000   \n",
       "\n",
       "                     HumidityRatio  Occupancy  \n",
       "date                                           \n",
       "2015-02-02 14:19:00       0.004764          1  \n",
       "2015-02-02 14:19:59       0.004773          1  \n",
       "2015-02-02 14:21:00       0.004765          1  \n",
       "2015-02-02 14:22:00       0.004744          1  \n",
       "2015-02-02 14:23:00       0.004767          1  "
      ]
     },
     "execution_count": 12,
     "metadata": {},
     "output_type": "execute_result"
    }
   ],
   "source": [
    "class_name = 'Occupancy'\n",
    "res = prepare_dataset(df, class_name)\n",
    "df, feature_names, class_values, numeric_columns, rdf, real_feature_names, features_map = res\n",
    "df.head()"
   ]
  },
  {
   "cell_type": "code",
   "execution_count": 13,
   "metadata": {},
   "outputs": [
    {
     "name": "stdout",
     "output_type": "stream",
     "text": [
      "257 <class 'list'>\n"
     ]
    },
    {
     "data": {
      "text/plain": [
       "(257, 80)"
      ]
     },
     "execution_count": 13,
     "metadata": {},
     "output_type": "execute_result"
    }
   ],
   "source": [
    "data = df['CO2']\n",
    "\n",
    "samples = list()\n",
    "length = 80\n",
    "# step over the 5,000 in jumps of 200\n",
    "for i in range(0,20560,length):\n",
    "\n",
    "    sample = data[i:i+length]\n",
    "    samples.append(sample)\n",
    "print(len(samples),type(samples))\n",
    "\n",
    "X = np.array(samples)\n",
    "X.shape"
   ]
  },
  {
   "cell_type": "code",
   "execution_count": 14,
   "metadata": {},
   "outputs": [],
   "source": [
    "y = np.array([0, 2, 1, 1, 1, 1, 2, 1, 1, 1, 0, 0, 0, 0, 0, 0, 1, 2, 0, 2, 1, 1,\n",
    "       1, 1, 1, 1, 1, 2, 1, 2, 2, 0, 0, 1, 1, 1, 2, 1, 1, 1, 1, 1, 0, 0,\n",
    "       0, 2, 0, 1, 1, 2, 1, 1, 1, 1, 1, 0, 1, 0, 2, 1, 1, 0, 0, 0, 1, 1,\n",
    "       0, 2, 0, 1, 1, 1, 1, 1, 2, 1, 0, 0, 1, 0, 2, 0, 1, 2, 0, 2, 0, 0,\n",
    "       0, 2, 2, 2, 1, 1, 1, 1, 0, 0, 1, 0, 0, 1, 2, 1, 0, 1, 0, 0, 2, 2,\n",
    "       0, 2, 0, 2, 0, 2, 0, 0, 2, 1, 0, 0, 2, 1, 1, 1, 1, 1, 1, 2, 0, 0,\n",
    "       0, 0, 0, 2, 0, 1, 2, 1, 0, 0, 0, 2, 0, 0, 0, 0, 0, 2, 0, 1, 1, 2,\n",
    "       0, 2, 1, 1, 1, 0, 1, 2, 2, 2, 1, 1, 2, 0, 2, 1, 1, 0, 0, 1, 1, 2,\n",
    "       0, 1, 0, 2, 1, 0, 1, 2, 0, 0, 1, 2, 2, 1, 0, 0, 1, 2, 2, 0, 1, 0,\n",
    "       0, 2, 0, 0, 0, 2, 2, 2, 2, 1, 0, 1, 2, 2, 2, 0, 0, 2, 0, 1, 1, 0,\n",
    "       0, 2, 2, 1, 1, 1, 2, 2, 1, 1, 2, 2, 2, 0, 0, 1, 0, 0, 0, 0, 0, 2,\n",
    "       0, 2, 2, 2, 0, 0, 2, 0, 2, 2, 0, 1, 2, 2, 2])"
   ]
  },
  {
   "cell_type": "code",
   "execution_count": 7,
   "metadata": {},
   "outputs": [
    {
     "data": {
      "image/png": "[encoded data removed]",
      "text/plain": [
       "<Figure size 432x288 with 3 Axes>"
      ]
     },
     "metadata": {
      "needs_background": "light"
     },
     "output_type": "display_data"
    }
   ],
   "source": [
    "plt.figure()\n",
    "for i, classe in enumerate([0,1,2]):\n",
    "    plt.subplot(3, 1, i + 1)\n",
    "    for x in X[y == i]:\n",
    "        plt.plot(x, color='C0', linewidth=0.9)\n",
    "    plt.title('Class: {}'.format(classe), fontsize=16)\n",
    "\n",
    "plt.tight_layout()\n",
    "\n",
    "plt.show()"
   ]
  },
  {
   "cell_type": "code",
   "execution_count": 8,
   "metadata": {},
   "outputs": [
    {
     "data": {
      "image/png": "[encoded data removed]",
      "text/plain": [
       "<Figure size 432x288 with 1 Axes>"
      ]
     },
     "metadata": {
      "needs_background": "light"
     },
     "output_type": "display_data"
    }
   ],
   "source": [
    "hist, bins = np.histogram(y, \n",
    "                          bins=range(0, len(set(y)) + 1))\n",
    "dict(zip(bins, hist))\n",
    "x = np.linspace(1,3,3,endpoint=True)\n",
    "plt.xticks(np.linspace(0,3,4,endpoint=True))\n",
    "plt.bar(x,hist)\n",
    "plt.show()"
   ]
  },
  {
   "cell_type": "markdown",
   "metadata": {},
   "source": [
    "NORMALIZATION"
   ]
  },
  {
   "cell_type": "code",
   "execution_count": 5,
   "metadata": {},
   "outputs": [
    {
     "name": "stderr",
     "output_type": "stream",
     "text": [
      "Using TensorFlow backend.\n",
      "C:\\Users\\Gianmarco\\anaconda3\\envs\\tfk\\lib\\site-packages\\sklearn\\utils\\deprecation.py:144: FutureWarning: The sklearn.cluster.k_means_ module is  deprecated in version 0.22 and will be removed in version 0.24. The corresponding classes / functions should instead be imported from sklearn.cluster. Anything that cannot be imported from sklearn.cluster is now part of the private API.\n",
      "  warnings.warn(message, FutureWarning)\n"
     ]
    }
   ],
   "source": [
    "from keras.optimizers import Adagrad\n",
    "from tslearn.shapelets import ShapeletModel\n",
    "from tslearn.shapelets import grabocka_params_to_shapelet_size_dict\n",
    "\n",
    "from tslearn.preprocessing import TimeSeriesScalerMinMax"
   ]
  },
  {
   "cell_type": "code",
   "execution_count": 10,
   "metadata": {},
   "outputs": [],
   "source": [
    "scaler = TimeSeriesScalerMinMax()\n",
    "X = scaler.fit_transform(X).reshape(X.shape[0], X.shape[1])"
   ]
  },
  {
   "cell_type": "markdown",
   "metadata": {},
   "source": [
    "PARTITIONING"
   ]
  },
  {
   "cell_type": "code",
   "execution_count": 6,
   "metadata": {},
   "outputs": [],
   "source": [
    "from sklearn.model_selection import train_test_split, cross_val_score \n",
    "\n",
    "from sklearn.metrics import accuracy_score, f1_score, classification_report\n",
    "from sklearn.metrics import roc_curve, auc, roc_auc_score"
   ]
  },
  {
   "cell_type": "code",
   "execution_count": 12,
   "metadata": {},
   "outputs": [],
   "source": [
    "X_train, X_test, y_train, y_test = train_test_split(X, y, test_size=0.3, random_state=100, stratify=y)"
   ]
  },
  {
   "cell_type": "code",
   "execution_count": 13,
   "metadata": {},
   "outputs": [
    {
     "name": "stdout",
     "output_type": "stream",
     "text": [
      "(179, 80) (78, 80) (179,) (78,)\n"
     ]
    }
   ],
   "source": [
    "print(X_train.shape, X_test.shape, y_train.shape, y_test.shape)"
   ]
  },
  {
   "cell_type": "markdown",
   "metadata": {},
   "source": [
    "# CLASSIFIERS"
   ]
  },
  {
   "cell_type": "markdown",
   "metadata": {},
   "source": [
    "##### SHAPELET CLASSIFIER"
   ]
  },
  {
   "cell_type": "code",
   "execution_count": 14,
   "metadata": {},
   "outputs": [
    {
     "name": "stdout",
     "output_type": "stream",
     "text": [
      "n_ts 179\n",
      "ts_sz 80\n",
      "n_classes 3\n",
      "shapelet_sizes {8: 4}\n"
     ]
    }
   ],
   "source": [
    "n_ts, ts_sz = X_train.shape\n",
    "n_classes = len(set(y))\n",
    "\n",
    "# Set the number of shapelets per size as done in the original paper\n",
    "shapelet_sizes = grabocka_params_to_shapelet_size_dict(n_ts=n_ts,\n",
    "                                                       ts_sz=ts_sz,\n",
    "                                                       n_classes=n_classes,\n",
    "                                                       l=0.1,\n",
    "                                                       r=1)\n",
    "\n",
    "print('n_ts', n_ts)\n",
    "print('ts_sz', ts_sz)\n",
    "print('n_classes', n_classes)\n",
    "print('shapelet_sizes', shapelet_sizes)"
   ]
  },
  {
   "cell_type": "code",
   "execution_count": 15,
   "metadata": {},
   "outputs": [],
   "source": [
    "#with sgd optimizer\n",
    "shp_clf = ShapeletModel(n_shapelets_per_size=shapelet_sizes,\n",
    "                        optimizer=\"sgd\",\n",
    "                        weight_regularizer=.01,\n",
    "                        max_iter=200,\n",
    "                        verbose=1)"
   ]
  },
  {
   "cell_type": "code",
   "execution_count": 16,
   "metadata": {
    "scrolled": true
   },
   "outputs": [
    {
     "name": "stdout",
     "output_type": "stream",
     "text": [
      "WARNING:tensorflow:From C:\\Users\\Gianmarco\\anaconda3\\envs\\tfk\\lib\\site-packages\\tensorflow_core\\python\\ops\\resource_variable_ops.py:1630: calling BaseResourceVariable.__init__ (from tensorflow.python.ops.resource_variable_ops) with constraint is deprecated and will be removed in a future version.\n",
      "Instructions for updating:\n",
      "If using Keras pass *_constraint arguments to layers.\n",
      "WARNING:tensorflow:From C:\\Users\\Gianmarco\\anaconda3\\envs\\tfk\\lib\\site-packages\\tensorflow_core\\python\\ops\\math_grad.py:1375: where (from tensorflow.python.ops.array_ops) is deprecated and will be removed in a future version.\n",
      "Instructions for updating:\n",
      "Use tf.where in 2.0, which has the same broadcast rule as np.where\n",
      "WARNING:tensorflow:From C:\\Users\\Gianmarco\\anaconda3\\envs\\tfk\\lib\\site-packages\\keras\\backend\\tensorflow_backend.py:422: The name tf.global_variables is deprecated. Please use tf.compat.v1.global_variables instead.\n",
      "\n",
      "Epoch 1/200\n",
      "179/179 [==============================] - 0s 2ms/step - loss: 1.1280 - categorical_accuracy: 0.3799 - categorical_crossentropy: 1.0988\n",
      "Epoch 2/200\n",
      "179/179 [==============================] - 0s 259us/step - loss: 1.1280 - categorical_accuracy: 0.3799 - categorical_crossentropy: 1.0987\n",
      "Epoch 3/200\n",
      "179/179 [==============================] - 0s 201us/step - loss: 1.1279 - categorical_accuracy: 0.3743 - categorical_crossentropy: 1.0987\n",
      "Epoch 4/200\n",
      "179/179 [==============================] - 0s 237us/step - loss: 1.1279 - categorical_accuracy: 0.3911 - categorical_crossentropy: 1.0986\n",
      "Epoch 5/200\n",
      "179/179 [==============================] - 0s 45us/step - loss: 1.1278 - categorical_accuracy: 0.3911 - categorical_crossentropy: 1.0986\n",
      "Epoch 6/200\n",
      "179/179 [==============================] - 0s 134us/step - loss: 1.1278 - categorical_accuracy: 0.3911 - categorical_crossentropy: 1.0986\n",
      "Epoch 7/200\n",
      "179/179 [==============================] - 0s 174us/step - loss: 1.1278 - categorical_accuracy: 0.3966 - categorical_crossentropy: 1.0985\n",
      "Epoch 8/200\n",
      "179/179 [==============================] - 0s 45us/step - loss: 1.1277 - categorical_accuracy: 0.3966 - categorical_crossentropy: 1.0985\n",
      "Epoch 9/200\n",
      "179/179 [==============================] - 0s 246us/step - loss: 1.1277 - categorical_accuracy: 0.3966 - categorical_crossentropy: 1.0985\n",
      "Epoch 10/200\n",
      "179/179 [==============================] - 0s 80us/step - loss: 1.1276 - categorical_accuracy: 0.4022 - categorical_crossentropy: 1.0984\n",
      "Epoch 11/200\n",
      "179/179 [==============================] - 0s 45us/step - loss: 1.1276 - categorical_accuracy: 0.4078 - categorical_crossentropy: 1.0984\n",
      "Epoch 12/200\n",
      "179/179 [==============================] - 0s 223us/step - loss: 1.1275 - categorical_accuracy: 0.4022 - categorical_crossentropy: 1.0984\n",
      "Epoch 13/200\n",
      "179/179 [==============================] - 0s 45us/step - loss: 1.1275 - categorical_accuracy: 0.4022 - categorical_crossentropy: 1.0983\n",
      "Epoch 14/200\n",
      "179/179 [==============================] - 0s 156us/step - loss: 1.1274 - categorical_accuracy: 0.4022 - categorical_crossentropy: 1.0983\n",
      "Epoch 15/200\n",
      "179/179 [==============================] - 0s 201us/step - loss: 1.1274 - categorical_accuracy: 0.4022 - categorical_crossentropy: 1.0983\n",
      "Epoch 16/200\n",
      "179/179 [==============================] - 0s 45us/step - loss: 1.1273 - categorical_accuracy: 0.3966 - categorical_crossentropy: 1.0982\n",
      "Epoch 17/200\n",
      "179/179 [==============================] - 0s 45us/step - loss: 1.1273 - categorical_accuracy: 0.3911 - categorical_crossentropy: 1.0982\n",
      "Epoch 18/200\n",
      "179/179 [==============================] - 0s 156us/step - loss: 1.1273 - categorical_accuracy: 0.3911 - categorical_crossentropy: 1.0982\n",
      "Epoch 19/200\n",
      "179/179 [==============================] - 0s 45us/step - loss: 1.1272 - categorical_accuracy: 0.3911 - categorical_crossentropy: 1.0981\n",
      "Epoch 20/200\n",
      "179/179 [==============================] - 0s 45us/step - loss: 1.1272 - categorical_accuracy: 0.3911 - categorical_crossentropy: 1.0981\n",
      "Epoch 21/200\n",
      "179/179 [==============================] - 0s 179us/step - loss: 1.1271 - categorical_accuracy: 0.3911 - categorical_crossentropy: 1.0981\n",
      "Epoch 22/200\n",
      "179/179 [==============================] - 0s 89us/step - loss: 1.1271 - categorical_accuracy: 0.3911 - categorical_crossentropy: 1.0980\n",
      "Epoch 23/200\n",
      "179/179 [==============================] - 0s 67us/step - loss: 1.1270 - categorical_accuracy: 0.3855 - categorical_crossentropy: 1.0980\n",
      "Epoch 24/200\n",
      "179/179 [==============================] - 0s 112us/step - loss: 1.1270 - categorical_accuracy: 0.3855 - categorical_crossentropy: 1.0980\n",
      "Epoch 25/200\n",
      "179/179 [==============================] - 0s 134us/step - loss: 1.1269 - categorical_accuracy: 0.3855 - categorical_crossentropy: 1.0979\n",
      "Epoch 26/200\n",
      "179/179 [==============================] - 0s 45us/step - loss: 1.1269 - categorical_accuracy: 0.3855 - categorical_crossentropy: 1.0979\n",
      "Epoch 27/200\n",
      "179/179 [==============================] - 0s 67us/step - loss: 1.1269 - categorical_accuracy: 0.3855 - categorical_crossentropy: 1.0979\n",
      "Epoch 28/200\n",
      "179/179 [==============================] - 0s 156us/step - loss: 1.1268 - categorical_accuracy: 0.3855 - categorical_crossentropy: 1.0979\n",
      "Epoch 29/200\n",
      "179/179 [==============================] - 0s 67us/step - loss: 1.1268 - categorical_accuracy: 0.3855 - categorical_crossentropy: 1.0978\n",
      "Epoch 30/200\n",
      "179/179 [==============================] - 0s 67us/step - loss: 1.1267 - categorical_accuracy: 0.3855 - categorical_crossentropy: 1.0978\n",
      "Epoch 31/200\n",
      "179/179 [==============================] - 0s 223us/step - loss: 1.1267 - categorical_accuracy: 0.3855 - categorical_crossentropy: 1.0978\n",
      "Epoch 32/200\n",
      "179/179 [==============================] - 0s 22us/step - loss: 1.1267 - categorical_accuracy: 0.3855 - categorical_crossentropy: 1.0977\n",
      "Epoch 33/200\n",
      "179/179 [==============================] - 0s 22us/step - loss: 1.1266 - categorical_accuracy: 0.3855 - categorical_crossentropy: 1.0977\n",
      "Epoch 34/200\n",
      "179/179 [==============================] - 0s 22us/step - loss: 1.1266 - categorical_accuracy: 0.3855 - categorical_crossentropy: 1.0977\n",
      "Epoch 35/200\n",
      "179/179 [==============================] - 0s 112us/step - loss: 1.1265 - categorical_accuracy: 0.3855 - categorical_crossentropy: 1.0976\n",
      "Epoch 36/200\n",
      "179/179 [==============================] - 0s 89us/step - loss: 1.1265 - categorical_accuracy: 0.3855 - categorical_crossentropy: 1.0976\n",
      "Epoch 37/200\n",
      "179/179 [==============================] - 0s 45us/step - loss: 1.1265 - categorical_accuracy: 0.3855 - categorical_crossentropy: 1.0976\n",
      "Epoch 38/200\n",
      "179/179 [==============================] - 0s 223us/step - loss: 1.1264 - categorical_accuracy: 0.3855 - categorical_crossentropy: 1.0976\n",
      "Epoch 39/200\n",
      "179/179 [==============================] - 0s 112us/step - loss: 1.1264 - categorical_accuracy: 0.3855 - categorical_crossentropy: 1.0975\n",
      "Epoch 40/200\n",
      "179/179 [==============================] - 0s 67us/step - loss: 1.1263 - categorical_accuracy: 0.3855 - categorical_crossentropy: 1.0975\n",
      "Epoch 41/200\n",
      "179/179 [==============================] - 0s 134us/step - loss: 1.1263 - categorical_accuracy: 0.3911 - categorical_crossentropy: 1.0975\n",
      "Epoch 42/200\n",
      "179/179 [==============================] - 0s 156us/step - loss: 1.1263 - categorical_accuracy: 0.3911 - categorical_crossentropy: 1.0974\n",
      "Epoch 43/200\n",
      "179/179 [==============================] - 0s 129us/step - loss: 1.1262 - categorical_accuracy: 0.3911 - categorical_crossentropy: 1.0974\n",
      "Epoch 44/200\n",
      "179/179 [==============================] - 0s 201us/step - loss: 1.1262 - categorical_accuracy: 0.3855 - categorical_crossentropy: 1.0974\n",
      "Epoch 45/200\n",
      "179/179 [==============================] - 0s 67us/step - loss: 1.1261 - categorical_accuracy: 0.3855 - categorical_crossentropy: 1.0974\n",
      "Epoch 46/200\n",
      "179/179 [==============================] - 0s 89us/step - loss: 1.1261 - categorical_accuracy: 0.3855 - categorical_crossentropy: 1.0973\n",
      "Epoch 47/200\n",
      "179/179 [==============================] - 0s 45us/step - loss: 1.1261 - categorical_accuracy: 0.3855 - categorical_crossentropy: 1.0973\n",
      "Epoch 48/200\n",
      "179/179 [==============================] - 0s 45us/step - loss: 1.1260 - categorical_accuracy: 0.3855 - categorical_crossentropy: 1.0973\n",
      "Epoch 49/200\n",
      "179/179 [==============================] - 0s 156us/step - loss: 1.1260 - categorical_accuracy: 0.3855 - categorical_crossentropy: 1.0973\n"
     ]
    },
    {
     "name": "stdout",
     "output_type": "stream",
     "text": [
      "Epoch 50/200\n",
      "179/179 [==============================] - 0s 157us/step - loss: 1.1259 - categorical_accuracy: 0.3855 - categorical_crossentropy: 1.0972\n",
      "Epoch 51/200\n",
      "179/179 [==============================] - 0s 179us/step - loss: 1.1259 - categorical_accuracy: 0.3855 - categorical_crossentropy: 1.0972\n",
      "Epoch 52/200\n",
      "179/179 [==============================] - 0s 112us/step - loss: 1.1259 - categorical_accuracy: 0.3855 - categorical_crossentropy: 1.0972\n",
      "Epoch 53/200\n",
      "179/179 [==============================] - 0s 112us/step - loss: 1.1258 - categorical_accuracy: 0.3855 - categorical_crossentropy: 1.0972\n",
      "Epoch 54/200\n",
      "179/179 [==============================] - 0s 134us/step - loss: 1.1258 - categorical_accuracy: 0.3855 - categorical_crossentropy: 1.0971\n",
      "Epoch 55/200\n",
      "179/179 [==============================] - 0s 203us/step - loss: 1.1258 - categorical_accuracy: 0.3855 - categorical_crossentropy: 1.0971\n",
      "Epoch 56/200\n",
      "179/179 [==============================] - 0s 45us/step - loss: 1.1257 - categorical_accuracy: 0.3855 - categorical_crossentropy: 1.0971\n",
      "Epoch 57/200\n",
      "179/179 [==============================] - 0s 45us/step - loss: 1.1257 - categorical_accuracy: 0.3855 - categorical_crossentropy: 1.0971\n",
      "Epoch 58/200\n",
      "179/179 [==============================] - 0s 67us/step - loss: 1.1256 - categorical_accuracy: 0.3855 - categorical_crossentropy: 1.0970\n",
      "Epoch 59/200\n",
      "179/179 [==============================] - 0s 134us/step - loss: 1.1256 - categorical_accuracy: 0.3855 - categorical_crossentropy: 1.0970\n",
      "Epoch 60/200\n",
      "179/179 [==============================] - 0s 45us/step - loss: 1.1256 - categorical_accuracy: 0.3855 - categorical_crossentropy: 1.0970\n",
      "Epoch 61/200\n",
      "179/179 [==============================] - 0s 156us/step - loss: 1.1255 - categorical_accuracy: 0.3799 - categorical_crossentropy: 1.0970\n",
      "Epoch 62/200\n",
      "179/179 [==============================] - 0s 112us/step - loss: 1.1255 - categorical_accuracy: 0.3799 - categorical_crossentropy: 1.0969\n",
      "Epoch 63/200\n",
      "179/179 [==============================] - 0s 112us/step - loss: 1.1255 - categorical_accuracy: 0.3799 - categorical_crossentropy: 1.0969\n",
      "Epoch 64/200\n",
      "179/179 [==============================] - 0s 22us/step - loss: 1.1254 - categorical_accuracy: 0.3799 - categorical_crossentropy: 1.0969\n",
      "Epoch 65/200\n",
      "179/179 [==============================] - 0s 45us/step - loss: 1.1254 - categorical_accuracy: 0.3799 - categorical_crossentropy: 1.0969\n",
      "Epoch 66/200\n",
      "179/179 [==============================] - 0s 67us/step - loss: 1.1254 - categorical_accuracy: 0.3799 - categorical_crossentropy: 1.0968\n",
      "Epoch 67/200\n",
      "179/179 [==============================] - 0s 67us/step - loss: 1.1253 - categorical_accuracy: 0.3799 - categorical_crossentropy: 1.0968\n",
      "Epoch 68/200\n",
      "179/179 [==============================] - 0s 156us/step - loss: 1.1253 - categorical_accuracy: 0.3799 - categorical_crossentropy: 1.0968\n",
      "Epoch 69/200\n",
      "179/179 [==============================] - 0s 246us/step - loss: 1.1252 - categorical_accuracy: 0.3743 - categorical_crossentropy: 1.0968\n",
      "Epoch 70/200\n",
      "179/179 [==============================] - 0s 45us/step - loss: 1.1252 - categorical_accuracy: 0.3743 - categorical_crossentropy: 1.0967\n",
      "Epoch 71/200\n",
      "179/179 [==============================] - 0s 47us/step - loss: 1.1252 - categorical_accuracy: 0.3743 - categorical_crossentropy: 1.0967\n",
      "Epoch 72/200\n",
      "179/179 [==============================] - 0s 89us/step - loss: 1.1251 - categorical_accuracy: 0.3743 - categorical_crossentropy: 1.0967\n",
      "Epoch 73/200\n",
      "179/179 [==============================] - 0s 112us/step - loss: 1.1251 - categorical_accuracy: 0.3743 - categorical_crossentropy: 1.0967\n",
      "Epoch 74/200\n",
      "179/179 [==============================] - 0s 156us/step - loss: 1.1251 - categorical_accuracy: 0.3743 - categorical_crossentropy: 1.0966\n",
      "Epoch 75/200\n",
      "179/179 [==============================] - 0s 67us/step - loss: 1.1250 - categorical_accuracy: 0.3743 - categorical_crossentropy: 1.0966\n",
      "Epoch 76/200\n",
      "179/179 [==============================] - 0s 112us/step - loss: 1.1250 - categorical_accuracy: 0.3743 - categorical_crossentropy: 1.0966\n",
      "Epoch 77/200\n",
      "179/179 [==============================] - 0s 134us/step - loss: 1.1250 - categorical_accuracy: 0.3743 - categorical_crossentropy: 1.0966\n",
      "Epoch 78/200\n",
      "179/179 [==============================] - 0s 45us/step - loss: 1.1249 - categorical_accuracy: 0.3743 - categorical_crossentropy: 1.0966\n",
      "Epoch 79/200\n",
      "179/179 [==============================] - 0s 134us/step - loss: 1.1249 - categorical_accuracy: 0.3743 - categorical_crossentropy: 1.0965\n",
      "Epoch 80/200\n",
      "179/179 [==============================] - 0s 112us/step - loss: 1.1249 - categorical_accuracy: 0.3743 - categorical_crossentropy: 1.0965\n",
      "Epoch 81/200\n",
      "179/179 [==============================] - 0s 45us/step - loss: 1.1248 - categorical_accuracy: 0.3743 - categorical_crossentropy: 1.0965\n",
      "Epoch 82/200\n",
      "179/179 [==============================] - 0s 45us/step - loss: 1.1248 - categorical_accuracy: 0.3743 - categorical_crossentropy: 1.0965\n",
      "Epoch 83/200\n",
      "179/179 [==============================] - 0s 67us/step - loss: 1.1248 - categorical_accuracy: 0.3743 - categorical_crossentropy: 1.0964\n",
      "Epoch 84/200\n",
      "179/179 [==============================] - 0s 45us/step - loss: 1.1247 - categorical_accuracy: 0.3743 - categorical_crossentropy: 1.0964\n",
      "Epoch 85/200\n",
      "179/179 [==============================] - 0s 179us/step - loss: 1.1247 - categorical_accuracy: 0.3743 - categorical_crossentropy: 1.0964\n",
      "Epoch 86/200\n",
      "179/179 [==============================] - 0s 313us/step - loss: 1.1247 - categorical_accuracy: 0.3743 - categorical_crossentropy: 1.0964\n",
      "Epoch 87/200\n",
      "179/179 [==============================] - 0s 179us/step - loss: 1.1246 - categorical_accuracy: 0.3743 - categorical_crossentropy: 1.0964\n",
      "Epoch 88/200\n",
      "179/179 [==============================] - 0s 39us/step - loss: 1.1246 - categorical_accuracy: 0.3743 - categorical_crossentropy: 1.0963\n",
      "Epoch 89/200\n",
      "179/179 [==============================] - 0s 45us/step - loss: 1.1246 - categorical_accuracy: 0.3743 - categorical_crossentropy: 1.0963\n",
      "Epoch 90/200\n",
      "179/179 [==============================] - 0s 80us/step - loss: 1.1245 - categorical_accuracy: 0.3743 - categorical_crossentropy: 1.0963\n",
      "Epoch 91/200\n",
      "179/179 [==============================] - 0s 22us/step - loss: 1.1245 - categorical_accuracy: 0.3743 - categorical_crossentropy: 1.0963\n",
      "Epoch 92/200\n",
      "179/179 [==============================] - 0s 45us/step - loss: 1.1245 - categorical_accuracy: 0.3743 - categorical_crossentropy: 1.0963\n",
      "Epoch 93/200\n",
      "179/179 [==============================] - 0s 112us/step - loss: 1.1244 - categorical_accuracy: 0.3743 - categorical_crossentropy: 1.0962\n",
      "Epoch 94/200\n",
      "179/179 [==============================] - 0s 156us/step - loss: 1.1244 - categorical_accuracy: 0.3743 - categorical_crossentropy: 1.0962\n",
      "Epoch 95/200\n",
      "179/179 [==============================] - 0s 224us/step - loss: 1.1244 - categorical_accuracy: 0.3743 - categorical_crossentropy: 1.0962\n",
      "Epoch 96/200\n",
      "179/179 [==============================] - 0s 337us/step - loss: 1.1244 - categorical_accuracy: 0.3743 - categorical_crossentropy: 1.0962\n",
      "Epoch 97/200\n",
      "179/179 [==============================] - 0s 112us/step - loss: 1.1243 - categorical_accuracy: 0.3743 - categorical_crossentropy: 1.0962\n",
      "Epoch 98/200\n",
      "179/179 [==============================] - 0s 67us/step - loss: 1.1243 - categorical_accuracy: 0.3743 - categorical_crossentropy: 1.0961\n",
      "Epoch 99/200\n",
      "179/179 [==============================] - 0s 134us/step - loss: 1.1243 - categorical_accuracy: 0.3743 - categorical_crossentropy: 1.0961\n",
      "Epoch 100/200\n",
      "179/179 [==============================] - 0s 112us/step - loss: 1.1242 - categorical_accuracy: 0.3743 - categorical_crossentropy: 1.0961\n",
      "Epoch 101/200\n",
      "179/179 [==============================] - 0s 45us/step - loss: 1.1242 - categorical_accuracy: 0.3743 - categorical_crossentropy: 1.0961\n",
      "Epoch 102/200\n",
      "179/179 [==============================] - 0s 112us/step - loss: 1.1242 - categorical_accuracy: 0.3743 - categorical_crossentropy: 1.0961\n",
      "Epoch 103/200\n",
      "179/179 [==============================] - 0s 45us/step - loss: 1.1241 - categorical_accuracy: 0.3743 - categorical_crossentropy: 1.0960\n",
      "Epoch 104/200\n",
      "179/179 [==============================] - 0s 89us/step - loss: 1.1241 - categorical_accuracy: 0.3743 - categorical_crossentropy: 1.0960\n"
     ]
    },
    {
     "name": "stdout",
     "output_type": "stream",
     "text": [
      "Epoch 105/200\n",
      "179/179 [==============================] - 0s 67us/step - loss: 1.1241 - categorical_accuracy: 0.3743 - categorical_crossentropy: 1.0960\n",
      "Epoch 106/200\n",
      "179/179 [==============================] - 0s 45us/step - loss: 1.1240 - categorical_accuracy: 0.3743 - categorical_crossentropy: 1.0960\n",
      "Epoch 107/200\n",
      "179/179 [==============================] - 0s 112us/step - loss: 1.1240 - categorical_accuracy: 0.3743 - categorical_crossentropy: 1.0960\n",
      "Epoch 108/200\n",
      "179/179 [==============================] - 0s 45us/step - loss: 1.1240 - categorical_accuracy: 0.3743 - categorical_crossentropy: 1.0959\n",
      "Epoch 109/200\n",
      "179/179 [==============================] - 0s 45us/step - loss: 1.1240 - categorical_accuracy: 0.3743 - categorical_crossentropy: 1.0959\n",
      "Epoch 110/200\n",
      "179/179 [==============================] - 0s 156us/step - loss: 1.1239 - categorical_accuracy: 0.3743 - categorical_crossentropy: 1.0959\n",
      "Epoch 111/200\n",
      "179/179 [==============================] - 0s 134us/step - loss: 1.1239 - categorical_accuracy: 0.3743 - categorical_crossentropy: 1.0959\n",
      "Epoch 112/200\n",
      "179/179 [==============================] - 0s 45us/step - loss: 1.1239 - categorical_accuracy: 0.3743 - categorical_crossentropy: 1.0959\n",
      "Epoch 113/200\n",
      "179/179 [==============================] - 0s 45us/step - loss: 1.1238 - categorical_accuracy: 0.3743 - categorical_crossentropy: 1.0959\n",
      "Epoch 114/200\n",
      "179/179 [==============================] - 0s 179us/step - loss: 1.1238 - categorical_accuracy: 0.3743 - categorical_crossentropy: 1.0958\n",
      "Epoch 115/200\n",
      "179/179 [==============================] - 0s 157us/step - loss: 1.1238 - categorical_accuracy: 0.3743 - categorical_crossentropy: 1.0958\n",
      "Epoch 116/200\n",
      "179/179 [==============================] - 0s 45us/step - loss: 1.1238 - categorical_accuracy: 0.3743 - categorical_crossentropy: 1.0958\n",
      "Epoch 117/200\n",
      "179/179 [==============================] - 0s 45us/step - loss: 1.1237 - categorical_accuracy: 0.3743 - categorical_crossentropy: 1.0958\n",
      "Epoch 118/200\n",
      "179/179 [==============================] - 0s 134us/step - loss: 1.1237 - categorical_accuracy: 0.3743 - categorical_crossentropy: 1.0958\n",
      "Epoch 119/200\n",
      "179/179 [==============================] - 0s 134us/step - loss: 1.1237 - categorical_accuracy: 0.3743 - categorical_crossentropy: 1.0957\n",
      "Epoch 120/200\n",
      "179/179 [==============================] - 0s 22us/step - loss: 1.1236 - categorical_accuracy: 0.3743 - categorical_crossentropy: 1.0957\n",
      "Epoch 121/200\n",
      "179/179 [==============================] - 0s 112us/step - loss: 1.1236 - categorical_accuracy: 0.3743 - categorical_crossentropy: 1.0957\n",
      "Epoch 122/200\n",
      "179/179 [==============================] - 0s 223us/step - loss: 1.1236 - categorical_accuracy: 0.3743 - categorical_crossentropy: 1.0957\n",
      "Epoch 123/200\n",
      "179/179 [==============================] - 0s 201us/step - loss: 1.1236 - categorical_accuracy: 0.3743 - categorical_crossentropy: 1.0957\n",
      "Epoch 124/200\n",
      "179/179 [==============================] - 0s 45us/step - loss: 1.1235 - categorical_accuracy: 0.3743 - categorical_crossentropy: 1.0957\n",
      "Epoch 125/200\n",
      "179/179 [==============================] - 0s 89us/step - loss: 1.1235 - categorical_accuracy: 0.3743 - categorical_crossentropy: 1.0956\n",
      "Epoch 126/200\n",
      "179/179 [==============================] - 0s 179us/step - loss: 1.1235 - categorical_accuracy: 0.3743 - categorical_crossentropy: 1.0956\n",
      "Epoch 127/200\n",
      "179/179 [==============================] - 0s 134us/step - loss: 1.1234 - categorical_accuracy: 0.3743 - categorical_crossentropy: 1.0956\n",
      "Epoch 128/200\n",
      "179/179 [==============================] - 0s 112us/step - loss: 1.1234 - categorical_accuracy: 0.3743 - categorical_crossentropy: 1.0956\n",
      "Epoch 129/200\n",
      "179/179 [==============================] - 0s 67us/step - loss: 1.1234 - categorical_accuracy: 0.3743 - categorical_crossentropy: 1.0956\n",
      "Epoch 130/200\n",
      "179/179 [==============================] - 0s 45us/step - loss: 1.1234 - categorical_accuracy: 0.3743 - categorical_crossentropy: 1.0956\n",
      "Epoch 131/200\n",
      "179/179 [==============================] - 0s 45us/step - loss: 1.1233 - categorical_accuracy: 0.3743 - categorical_crossentropy: 1.0956\n",
      "Epoch 132/200\n",
      "179/179 [==============================] - 0s 89us/step - loss: 1.1233 - categorical_accuracy: 0.3743 - categorical_crossentropy: 1.0955\n",
      "Epoch 133/200\n",
      "179/179 [==============================] - 0s 45us/step - loss: 1.1233 - categorical_accuracy: 0.3743 - categorical_crossentropy: 1.0955\n",
      "Epoch 134/200\n",
      "179/179 [==============================] - 0s 89us/step - loss: 1.1233 - categorical_accuracy: 0.3743 - categorical_crossentropy: 1.0955\n",
      "Epoch 135/200\n",
      "179/179 [==============================] - 0s 89us/step - loss: 1.1232 - categorical_accuracy: 0.3743 - categorical_crossentropy: 1.0955\n",
      "Epoch 136/200\n",
      "179/179 [==============================] - 0s 134us/step - loss: 1.1232 - categorical_accuracy: 0.3743 - categorical_crossentropy: 1.0955\n",
      "Epoch 137/200\n",
      "179/179 [==============================] - 0s 135us/step - loss: 1.1232 - categorical_accuracy: 0.3743 - categorical_crossentropy: 1.0955\n",
      "Epoch 138/200\n",
      "179/179 [==============================] - 0s 89us/step - loss: 1.1231 - categorical_accuracy: 0.3743 - categorical_crossentropy: 1.0954\n",
      "Epoch 139/200\n",
      "179/179 [==============================] - 0s 45us/step - loss: 1.1231 - categorical_accuracy: 0.3743 - categorical_crossentropy: 1.0954\n",
      "Epoch 140/200\n",
      "179/179 [==============================] - 0s 134us/step - loss: 1.1231 - categorical_accuracy: 0.3743 - categorical_crossentropy: 1.0954\n",
      "Epoch 141/200\n",
      "179/179 [==============================] - 0s 48us/step - loss: 1.1231 - categorical_accuracy: 0.3743 - categorical_crossentropy: 1.0954\n",
      "Epoch 142/200\n",
      "179/179 [==============================] - 0s 67us/step - loss: 1.1230 - categorical_accuracy: 0.3743 - categorical_crossentropy: 1.0954\n",
      "Epoch 143/200\n",
      "179/179 [==============================] - 0s 45us/step - loss: 1.1230 - categorical_accuracy: 0.3743 - categorical_crossentropy: 1.0954\n",
      "Epoch 144/200\n",
      "179/179 [==============================] - 0s 112us/step - loss: 1.1230 - categorical_accuracy: 0.3743 - categorical_crossentropy: 1.0954\n",
      "Epoch 145/200\n",
      "179/179 [==============================] - 0s 45us/step - loss: 1.1230 - categorical_accuracy: 0.3743 - categorical_crossentropy: 1.0953\n",
      "Epoch 146/200\n",
      "179/179 [==============================] - 0s 112us/step - loss: 1.1229 - categorical_accuracy: 0.3743 - categorical_crossentropy: 1.0953\n",
      "Epoch 147/200\n",
      "179/179 [==============================] - 0s 208us/step - loss: 1.1229 - categorical_accuracy: 0.3743 - categorical_crossentropy: 1.0953\n",
      "Epoch 148/200\n",
      "179/179 [==============================] - 0s 174us/step - loss: 1.1229 - categorical_accuracy: 0.3743 - categorical_crossentropy: 1.0953\n",
      "Epoch 149/200\n",
      "179/179 [==============================] - 0s 58us/step - loss: 1.1229 - categorical_accuracy: 0.3743 - categorical_crossentropy: 1.0953\n",
      "Epoch 150/200\n",
      "179/179 [==============================] - 0s 67us/step - loss: 1.1228 - categorical_accuracy: 0.3743 - categorical_crossentropy: 1.0953\n",
      "Epoch 151/200\n",
      "179/179 [==============================] - 0s 45us/step - loss: 1.1228 - categorical_accuracy: 0.3743 - categorical_crossentropy: 1.0952\n",
      "Epoch 152/200\n",
      "179/179 [==============================] - 0s 214us/step - loss: 1.1228 - categorical_accuracy: 0.3743 - categorical_crossentropy: 1.0952\n",
      "Epoch 153/200\n",
      "179/179 [==============================] - 0s 22us/step - loss: 1.1228 - categorical_accuracy: 0.3743 - categorical_crossentropy: 1.0952\n",
      "Epoch 154/200\n",
      "179/179 [==============================] - 0s 134us/step - loss: 1.1227 - categorical_accuracy: 0.3743 - categorical_crossentropy: 1.0952\n",
      "Epoch 155/200\n",
      "179/179 [==============================] - 0s 156us/step - loss: 1.1227 - categorical_accuracy: 0.3743 - categorical_crossentropy: 1.0952\n",
      "Epoch 156/200\n",
      "179/179 [==============================] - 0s 223us/step - loss: 1.1227 - categorical_accuracy: 0.3743 - categorical_crossentropy: 1.0952\n",
      "Epoch 157/200\n",
      "179/179 [==============================] - 0s 134us/step - loss: 1.1227 - categorical_accuracy: 0.3743 - categorical_crossentropy: 1.0952\n",
      "Epoch 158/200\n",
      "179/179 [==============================] - 0s 67us/step - loss: 1.1226 - categorical_accuracy: 0.3743 - categorical_crossentropy: 1.0952\n",
      "Epoch 159/200\n"
     ]
    },
    {
     "name": "stdout",
     "output_type": "stream",
     "text": [
      "179/179 [==============================] - 0s 45us/step - loss: 1.1226 - categorical_accuracy: 0.3743 - categorical_crossentropy: 1.0951\n",
      "Epoch 160/200\n",
      "179/179 [==============================] - 0s 67us/step - loss: 1.1226 - categorical_accuracy: 0.3743 - categorical_crossentropy: 1.0951\n",
      "Epoch 161/200\n",
      "179/179 [==============================] - 0s 22us/step - loss: 1.1226 - categorical_accuracy: 0.3743 - categorical_crossentropy: 1.0951\n",
      "Epoch 162/200\n",
      "179/179 [==============================] - 0s 22us/step - loss: 1.1225 - categorical_accuracy: 0.3743 - categorical_crossentropy: 1.0951\n",
      "Epoch 163/200\n",
      "179/179 [==============================] - 0s 134us/step - loss: 1.1225 - categorical_accuracy: 0.3743 - categorical_crossentropy: 1.0951\n",
      "Epoch 164/200\n",
      "179/179 [==============================] - 0s 45us/step - loss: 1.1225 - categorical_accuracy: 0.3743 - categorical_crossentropy: 1.0951\n",
      "Epoch 165/200\n",
      "179/179 [==============================] - 0s 112us/step - loss: 1.1225 - categorical_accuracy: 0.3743 - categorical_crossentropy: 1.0951\n",
      "Epoch 166/200\n",
      "179/179 [==============================] - 0s 112us/step - loss: 1.1224 - categorical_accuracy: 0.3743 - categorical_crossentropy: 1.0950\n",
      "Epoch 167/200\n",
      "179/179 [==============================] - 0s 156us/step - loss: 1.1224 - categorical_accuracy: 0.3743 - categorical_crossentropy: 1.0950\n",
      "Epoch 168/200\n",
      "179/179 [==============================] - 0s 179us/step - loss: 1.1224 - categorical_accuracy: 0.3743 - categorical_crossentropy: 1.0950\n",
      "Epoch 169/200\n",
      "179/179 [==============================] - 0s 201us/step - loss: 1.1224 - categorical_accuracy: 0.3743 - categorical_crossentropy: 1.0950\n",
      "Epoch 170/200\n",
      "179/179 [==============================] - 0s 67us/step - loss: 1.1223 - categorical_accuracy: 0.3743 - categorical_crossentropy: 1.0950\n",
      "Epoch 171/200\n",
      "179/179 [==============================] - 0s 67us/step - loss: 1.1223 - categorical_accuracy: 0.3743 - categorical_crossentropy: 1.0950\n",
      "Epoch 172/200\n",
      "179/179 [==============================] - 0s 335us/step - loss: 1.1223 - categorical_accuracy: 0.3743 - categorical_crossentropy: 1.0950\n",
      "Epoch 173/200\n",
      "179/179 [==============================] - 0s 45us/step - loss: 1.1223 - categorical_accuracy: 0.3743 - categorical_crossentropy: 1.0950\n",
      "Epoch 174/200\n",
      "179/179 [==============================] - 0s 224us/step - loss: 1.1222 - categorical_accuracy: 0.3743 - categorical_crossentropy: 1.0949\n",
      "Epoch 175/200\n",
      "179/179 [==============================] - 0s 134us/step - loss: 1.1222 - categorical_accuracy: 0.3743 - categorical_crossentropy: 1.0949\n",
      "Epoch 176/200\n",
      "179/179 [==============================] - 0s 112us/step - loss: 1.1222 - categorical_accuracy: 0.3743 - categorical_crossentropy: 1.0949\n",
      "Epoch 177/200\n",
      "179/179 [==============================] - 0s 134us/step - loss: 1.1222 - categorical_accuracy: 0.3743 - categorical_crossentropy: 1.0949\n",
      "Epoch 178/200\n",
      "179/179 [==============================] - 0s 201us/step - loss: 1.1222 - categorical_accuracy: 0.3743 - categorical_crossentropy: 1.0949\n",
      "Epoch 179/200\n",
      "179/179 [==============================] - 0s 67us/step - loss: 1.1221 - categorical_accuracy: 0.3743 - categorical_crossentropy: 1.0949\n",
      "Epoch 180/200\n",
      "179/179 [==============================] - 0s 201us/step - loss: 1.1221 - categorical_accuracy: 0.3743 - categorical_crossentropy: 1.0949\n",
      "Epoch 181/200\n",
      "179/179 [==============================] - 0s 134us/step - loss: 1.1221 - categorical_accuracy: 0.3743 - categorical_crossentropy: 1.0949\n",
      "Epoch 182/200\n",
      "179/179 [==============================] - 0s 134us/step - loss: 1.1221 - categorical_accuracy: 0.3743 - categorical_crossentropy: 1.0948\n",
      "Epoch 183/200\n",
      "179/179 [==============================] - 0s 201us/step - loss: 1.1220 - categorical_accuracy: 0.3743 - categorical_crossentropy: 1.0948\n",
      "Epoch 184/200\n",
      "179/179 [==============================] - 0s 67us/step - loss: 1.1220 - categorical_accuracy: 0.3743 - categorical_crossentropy: 1.0948\n",
      "Epoch 185/200\n",
      "179/179 [==============================] - 0s 45us/step - loss: 1.1220 - categorical_accuracy: 0.3743 - categorical_crossentropy: 1.0948\n",
      "Epoch 186/200\n",
      "179/179 [==============================] - 0s 89us/step - loss: 1.1220 - categorical_accuracy: 0.3743 - categorical_crossentropy: 1.0948\n",
      "Epoch 187/200\n",
      "179/179 [==============================] - 0s 89us/step - loss: 1.1219 - categorical_accuracy: 0.3743 - categorical_crossentropy: 1.0948\n",
      "Epoch 188/200\n",
      "179/179 [==============================] - 0s 45us/step - loss: 1.1219 - categorical_accuracy: 0.3743 - categorical_crossentropy: 1.0948\n",
      "Epoch 189/200\n",
      "179/179 [==============================] - 0s 45us/step - loss: 1.1219 - categorical_accuracy: 0.3743 - categorical_crossentropy: 1.0948\n",
      "Epoch 190/200\n",
      "179/179 [==============================] - 0s 89us/step - loss: 1.1219 - categorical_accuracy: 0.3743 - categorical_crossentropy: 1.0948\n",
      "Epoch 191/200\n",
      "179/179 [==============================] - 0s 223us/step - loss: 1.1219 - categorical_accuracy: 0.3743 - categorical_crossentropy: 1.0947\n",
      "Epoch 192/200\n",
      "179/179 [==============================] - 0s 134us/step - loss: 1.1218 - categorical_accuracy: 0.3743 - categorical_crossentropy: 1.0947\n",
      "Epoch 193/200\n",
      "179/179 [==============================] - 0s 22us/step - loss: 1.1218 - categorical_accuracy: 0.3743 - categorical_crossentropy: 1.0947\n",
      "Epoch 194/200\n",
      "179/179 [==============================] - 0s 156us/step - loss: 1.1218 - categorical_accuracy: 0.3743 - categorical_crossentropy: 1.0947\n",
      "Epoch 195/200\n",
      "179/179 [==============================] - 0s 45us/step - loss: 1.1218 - categorical_accuracy: 0.3743 - categorical_crossentropy: 1.0947\n",
      "Epoch 196/200\n",
      "179/179 [==============================] - 0s 134us/step - loss: 1.1217 - categorical_accuracy: 0.3743 - categorical_crossentropy: 1.0947\n",
      "Epoch 197/200\n",
      "179/179 [==============================] - 0s 45us/step - loss: 1.1217 - categorical_accuracy: 0.3743 - categorical_crossentropy: 1.0947\n",
      "Epoch 198/200\n",
      "179/179 [==============================] - 0s 112us/step - loss: 1.1217 - categorical_accuracy: 0.3743 - categorical_crossentropy: 1.0947\n",
      "Epoch 199/200\n",
      "179/179 [==============================] - 0s 22us/step - loss: 1.1217 - categorical_accuracy: 0.3743 - categorical_crossentropy: 1.0947\n",
      "Epoch 200/200\n",
      "179/179 [==============================] - 0s 89us/step - loss: 1.1217 - categorical_accuracy: 0.3743 - categorical_crossentropy: 1.0946\n"
     ]
    },
    {
     "data": {
      "text/plain": [
       "ShapeletModel(batch_size=256, max_iter=200, n_shapelets_per_size={8: 4},\n",
       "              optimizer='sgd', random_state=None, shapelet_length=0.15,\n",
       "              total_lengths=3, verbose=1, verbose_level=None,\n",
       "              weight_regularizer=0.01)"
      ]
     },
     "execution_count": 16,
     "metadata": {},
     "output_type": "execute_result"
    }
   ],
   "source": [
    "shp_clf.fit(X_train, y_train)"
   ]
  },
  {
   "cell_type": "code",
   "execution_count": 17,
   "metadata": {},
   "outputs": [],
   "source": [
    "# with adagrad optimizer\n",
    "shp_clf = ShapeletModel(n_shapelets_per_size=shapelet_sizes,\n",
    "                        optimizer=\"Adadelta\",\n",
    "                        weight_regularizer=.00001,\n",
    "                        max_iter=300,\n",
    "                        verbose=1)"
   ]
  },
  {
   "cell_type": "code",
   "execution_count": 18,
   "metadata": {},
   "outputs": [
    {
     "name": "stdout",
     "output_type": "stream",
     "text": [
      "Epoch 1/300\n",
      "179/179 [==============================] - 0s 2ms/step - loss: 1.0990 - categorical_accuracy: 0.2793 - categorical_crossentropy: 1.0990\n",
      "Epoch 2/300\n",
      "179/179 [==============================] - 0s 201us/step - loss: 1.0988 - categorical_accuracy: 0.3073 - categorical_crossentropy: 1.0988\n",
      "Epoch 3/300\n",
      "179/179 [==============================] - 0s 45us/step - loss: 1.0986 - categorical_accuracy: 0.3575 - categorical_crossentropy: 1.0986\n",
      "Epoch 4/300\n",
      "179/179 [==============================] - 0s 23us/step - loss: 1.0985 - categorical_accuracy: 0.3464 - categorical_crossentropy: 1.0984\n",
      "Epoch 5/300\n",
      "179/179 [==============================] - 0s 45us/step - loss: 1.0983 - categorical_accuracy: 0.3631 - categorical_crossentropy: 1.0983\n",
      "Epoch 6/300\n",
      "179/179 [==============================] - 0s 147us/step - loss: 1.0981 - categorical_accuracy: 0.3799 - categorical_crossentropy: 1.0981\n",
      "Epoch 7/300\n",
      "179/179 [==============================] - 0s 45us/step - loss: 1.0980 - categorical_accuracy: 0.3631 - categorical_crossentropy: 1.0979\n",
      "Epoch 8/300\n",
      "179/179 [==============================] - 0s 45us/step - loss: 1.0978 - categorical_accuracy: 0.3575 - categorical_crossentropy: 1.0978\n",
      "Epoch 9/300\n",
      "179/179 [==============================] - 0s 89us/step - loss: 1.0976 - categorical_accuracy: 0.3687 - categorical_crossentropy: 1.0976\n",
      "Epoch 10/300\n",
      "179/179 [==============================] - 0s 22us/step - loss: 1.0975 - categorical_accuracy: 0.3575 - categorical_crossentropy: 1.0975\n",
      "Epoch 11/300\n",
      "179/179 [==============================] - 0s 89us/step - loss: 1.0973 - categorical_accuracy: 0.3855 - categorical_crossentropy: 1.0973\n",
      "Epoch 12/300\n",
      "179/179 [==============================] - 0s 45us/step - loss: 1.0972 - categorical_accuracy: 0.3855 - categorical_crossentropy: 1.0972\n",
      "Epoch 13/300\n",
      "179/179 [==============================] - 0s 201us/step - loss: 1.0970 - categorical_accuracy: 0.3743 - categorical_crossentropy: 1.0970\n",
      "Epoch 14/300\n",
      "179/179 [==============================] - 0s 313us/step - loss: 1.0969 - categorical_accuracy: 0.3687 - categorical_crossentropy: 1.0969\n",
      "Epoch 15/300\n",
      "179/179 [==============================] - 0s 112us/step - loss: 1.0967 - categorical_accuracy: 0.3687 - categorical_crossentropy: 1.0967\n",
      "Epoch 16/300\n",
      "179/179 [==============================] - 0s 45us/step - loss: 1.0966 - categorical_accuracy: 0.3687 - categorical_crossentropy: 1.0966\n",
      "Epoch 17/300\n",
      "179/179 [==============================] - 0s 45us/step - loss: 1.0965 - categorical_accuracy: 0.3687 - categorical_crossentropy: 1.0964\n",
      "Epoch 18/300\n",
      "179/179 [==============================] - 0s 22us/step - loss: 1.0963 - categorical_accuracy: 0.3743 - categorical_crossentropy: 1.0963\n",
      "Epoch 19/300\n",
      "179/179 [==============================] - 0s 45us/step - loss: 1.0962 - categorical_accuracy: 0.3743 - categorical_crossentropy: 1.0962\n",
      "Epoch 20/300\n",
      "179/179 [==============================] - 0s 45us/step - loss: 1.0961 - categorical_accuracy: 0.3687 - categorical_crossentropy: 1.0961\n",
      "Epoch 21/300\n",
      "179/179 [==============================] - 0s 45us/step - loss: 1.0960 - categorical_accuracy: 0.3743 - categorical_crossentropy: 1.0959\n",
      "Epoch 22/300\n",
      "179/179 [==============================] - 0s 112us/step - loss: 1.0958 - categorical_accuracy: 0.3631 - categorical_crossentropy: 1.0958\n",
      "Epoch 23/300\n",
      "179/179 [==============================] - 0s 67us/step - loss: 1.0957 - categorical_accuracy: 0.3575 - categorical_crossentropy: 1.0957\n",
      "Epoch 24/300\n",
      "179/179 [==============================] - 0s 22us/step - loss: 1.0956 - categorical_accuracy: 0.3631 - categorical_crossentropy: 1.0956\n",
      "Epoch 25/300\n",
      "179/179 [==============================] - 0s 22us/step - loss: 1.0955 - categorical_accuracy: 0.3575 - categorical_crossentropy: 1.0955\n",
      "Epoch 26/300\n",
      "179/179 [==============================] - 0s 45us/step - loss: 1.0954 - categorical_accuracy: 0.3575 - categorical_crossentropy: 1.0953\n",
      "Epoch 27/300\n",
      "179/179 [==============================] - 0s 134us/step - loss: 1.0953 - categorical_accuracy: 0.3520 - categorical_crossentropy: 1.0952\n",
      "Epoch 28/300\n",
      "179/179 [==============================] - 0s 134us/step - loss: 1.0951 - categorical_accuracy: 0.3520 - categorical_crossentropy: 1.0951\n",
      "Epoch 29/300\n",
      "179/179 [==============================] - 0s 45us/step - loss: 1.0950 - categorical_accuracy: 0.3408 - categorical_crossentropy: 1.0950\n",
      "Epoch 30/300\n",
      "179/179 [==============================] - 0s 45us/step - loss: 1.0949 - categorical_accuracy: 0.3352 - categorical_crossentropy: 1.0949\n",
      "Epoch 31/300\n",
      "179/179 [==============================] - 0s 201us/step - loss: 1.0948 - categorical_accuracy: 0.3408 - categorical_crossentropy: 1.0948\n",
      "Epoch 32/300\n",
      "179/179 [==============================] - 0s 156us/step - loss: 1.0947 - categorical_accuracy: 0.3464 - categorical_crossentropy: 1.0947\n",
      "Epoch 33/300\n",
      "179/179 [==============================] - 0s 45us/step - loss: 1.0946 - categorical_accuracy: 0.3408 - categorical_crossentropy: 1.0946\n",
      "Epoch 34/300\n",
      "179/179 [==============================] - 0s 112us/step - loss: 1.0945 - categorical_accuracy: 0.3575 - categorical_crossentropy: 1.0945\n",
      "Epoch 35/300\n",
      "179/179 [==============================] - 0s 45us/step - loss: 1.0944 - categorical_accuracy: 0.3631 - categorical_crossentropy: 1.0944\n",
      "Epoch 36/300\n",
      "179/179 [==============================] - 0s 45us/step - loss: 1.0943 - categorical_accuracy: 0.3687 - categorical_crossentropy: 1.0943\n",
      "Epoch 37/300\n",
      "179/179 [==============================] - 0s 22us/step - loss: 1.0943 - categorical_accuracy: 0.3687 - categorical_crossentropy: 1.0942\n",
      "Epoch 38/300\n",
      "179/179 [==============================] - 0s 45us/step - loss: 1.0942 - categorical_accuracy: 0.3687 - categorical_crossentropy: 1.0941\n",
      "Epoch 39/300\n",
      "179/179 [==============================] - 0s 112us/step - loss: 1.0941 - categorical_accuracy: 0.3575 - categorical_crossentropy: 1.0940\n",
      "Epoch 40/300\n",
      "179/179 [==============================] - 0s 45us/step - loss: 1.0940 - categorical_accuracy: 0.3631 - categorical_crossentropy: 1.0940\n",
      "Epoch 41/300\n",
      "179/179 [==============================] - 0s 22us/step - loss: 1.0939 - categorical_accuracy: 0.3687 - categorical_crossentropy: 1.0939\n",
      "Epoch 42/300\n",
      "179/179 [==============================] - 0s 224us/step - loss: 1.0938 - categorical_accuracy: 0.3687 - categorical_crossentropy: 1.0938\n",
      "Epoch 43/300\n",
      "179/179 [==============================] - 0s 134us/step - loss: 1.0937 - categorical_accuracy: 0.3631 - categorical_crossentropy: 1.0937\n",
      "Epoch 44/300\n",
      "179/179 [==============================] - 0s 67us/step - loss: 1.0937 - categorical_accuracy: 0.3575 - categorical_crossentropy: 1.0936\n",
      "Epoch 45/300\n",
      "179/179 [==============================] - 0s 201us/step - loss: 1.0936 - categorical_accuracy: 0.3631 - categorical_crossentropy: 1.0936\n",
      "Epoch 46/300\n",
      "179/179 [==============================] - 0s 67us/step - loss: 1.0935 - categorical_accuracy: 0.3687 - categorical_crossentropy: 1.0935\n",
      "Epoch 47/300\n",
      "179/179 [==============================] - 0s 112us/step - loss: 1.0934 - categorical_accuracy: 0.3743 - categorical_crossentropy: 1.0934\n",
      "Epoch 48/300\n",
      "179/179 [==============================] - 0s 67us/step - loss: 1.0934 - categorical_accuracy: 0.3687 - categorical_crossentropy: 1.0933\n",
      "Epoch 49/300\n",
      "179/179 [==============================] - 0s 45us/step - loss: 1.0933 - categorical_accuracy: 0.3743 - categorical_crossentropy: 1.0933\n",
      "Epoch 50/300\n",
      "179/179 [==============================] - 0s 89us/step - loss: 1.0932 - categorical_accuracy: 0.3687 - categorical_crossentropy: 1.0932\n",
      "Epoch 51/300\n",
      "179/179 [==============================] - 0s 45us/step - loss: 1.0931 - categorical_accuracy: 0.3743 - categorical_crossentropy: 1.0931\n",
      "Epoch 52/300\n",
      "179/179 [==============================] - 0s 22us/step - loss: 1.0931 - categorical_accuracy: 0.3799 - categorical_crossentropy: 1.0930\n",
      "Epoch 53/300\n",
      "179/179 [==============================] - 0s 112us/step - loss: 1.0930 - categorical_accuracy: 0.3799 - categorical_crossentropy: 1.0930\n",
      "Epoch 54/300\n",
      "179/179 [==============================] - 0s 134us/step - loss: 1.0929 - categorical_accuracy: 0.3743 - categorical_crossentropy: 1.0929\n",
      "Epoch 55/300\n",
      "179/179 [==============================] - 0s 67us/step - loss: 1.0929 - categorical_accuracy: 0.3687 - categorical_crossentropy: 1.0928\n"
     ]
    },
    {
     "name": "stdout",
     "output_type": "stream",
     "text": [
      "Epoch 56/300\n",
      "179/179 [==============================] - 0s 89us/step - loss: 1.0928 - categorical_accuracy: 0.3631 - categorical_crossentropy: 1.0928\n",
      "Epoch 57/300\n",
      "179/179 [==============================] - 0s 134us/step - loss: 1.0927 - categorical_accuracy: 0.3631 - categorical_crossentropy: 1.0927\n",
      "Epoch 58/300\n",
      "179/179 [==============================] - 0s 45us/step - loss: 1.0927 - categorical_accuracy: 0.3520 - categorical_crossentropy: 1.0926\n",
      "Epoch 59/300\n",
      "179/179 [==============================] - 0s 201us/step - loss: 1.0926 - categorical_accuracy: 0.3575 - categorical_crossentropy: 1.0926\n",
      "Epoch 60/300\n",
      "179/179 [==============================] - 0s 112us/step - loss: 1.0925 - categorical_accuracy: 0.3575 - categorical_crossentropy: 1.0925\n",
      "Epoch 61/300\n",
      "179/179 [==============================] - 0s 45us/step - loss: 1.0925 - categorical_accuracy: 0.3687 - categorical_crossentropy: 1.0925\n",
      "Epoch 62/300\n",
      "179/179 [==============================] - 0s 134us/step - loss: 1.0924 - categorical_accuracy: 0.3743 - categorical_crossentropy: 1.0924\n",
      "Epoch 63/300\n",
      "179/179 [==============================] - 0s 102us/step - loss: 1.0924 - categorical_accuracy: 0.3631 - categorical_crossentropy: 1.0924\n",
      "Epoch 64/300\n",
      "179/179 [==============================] - 0s 112us/step - loss: 1.0923 - categorical_accuracy: 0.3631 - categorical_crossentropy: 1.0923\n",
      "Epoch 65/300\n",
      "179/179 [==============================] - 0s 67us/step - loss: 1.0923 - categorical_accuracy: 0.3631 - categorical_crossentropy: 1.0922\n",
      "Epoch 66/300\n",
      "179/179 [==============================] - 0s 45us/step - loss: 1.0922 - categorical_accuracy: 0.3631 - categorical_crossentropy: 1.0922\n",
      "Epoch 67/300\n",
      "179/179 [==============================] - 0s 45us/step - loss: 1.0922 - categorical_accuracy: 0.3631 - categorical_crossentropy: 1.0921\n",
      "Epoch 68/300\n",
      "179/179 [==============================] - 0s 192us/step - loss: 1.0921 - categorical_accuracy: 0.3631 - categorical_crossentropy: 1.0921\n",
      "Epoch 69/300\n",
      "179/179 [==============================] - 0s 45us/step - loss: 1.0921 - categorical_accuracy: 0.3631 - categorical_crossentropy: 1.0920\n",
      "Epoch 70/300\n",
      "179/179 [==============================] - 0s 89us/step - loss: 1.0920 - categorical_accuracy: 0.3631 - categorical_crossentropy: 1.0920\n",
      "Epoch 71/300\n",
      "179/179 [==============================] - 0s 45us/step - loss: 1.0920 - categorical_accuracy: 0.3631 - categorical_crossentropy: 1.0919\n",
      "Epoch 72/300\n",
      "179/179 [==============================] - 0s 179us/step - loss: 1.0919 - categorical_accuracy: 0.3631 - categorical_crossentropy: 1.0919\n",
      "Epoch 73/300\n",
      "179/179 [==============================] - 0s 45us/step - loss: 1.0919 - categorical_accuracy: 0.3687 - categorical_crossentropy: 1.0918\n",
      "Epoch 74/300\n",
      "179/179 [==============================] - 0s 112us/step - loss: 1.0918 - categorical_accuracy: 0.3687 - categorical_crossentropy: 1.0918\n",
      "Epoch 75/300\n",
      "179/179 [==============================] - 0s 67us/step - loss: 1.0918 - categorical_accuracy: 0.3687 - categorical_crossentropy: 1.0918\n",
      "Epoch 76/300\n",
      "179/179 [==============================] - 0s 45us/step - loss: 1.0917 - categorical_accuracy: 0.3631 - categorical_crossentropy: 1.0917\n",
      "Epoch 77/300\n",
      "179/179 [==============================] - 0s 268us/step - loss: 1.0917 - categorical_accuracy: 0.3631 - categorical_crossentropy: 1.0917\n",
      "Epoch 78/300\n",
      "179/179 [==============================] - 0s 67us/step - loss: 1.0916 - categorical_accuracy: 0.3631 - categorical_crossentropy: 1.0916\n",
      "Epoch 79/300\n",
      "179/179 [==============================] - 0s 67us/step - loss: 1.0916 - categorical_accuracy: 0.3631 - categorical_crossentropy: 1.0916\n",
      "Epoch 80/300\n",
      "179/179 [==============================] - 0s 156us/step - loss: 1.0916 - categorical_accuracy: 0.3631 - categorical_crossentropy: 1.0915\n",
      "Epoch 81/300\n",
      "179/179 [==============================] - 0s 112us/step - loss: 1.0915 - categorical_accuracy: 0.3631 - categorical_crossentropy: 1.0915\n",
      "Epoch 82/300\n",
      "179/179 [==============================] - 0s 67us/step - loss: 1.0915 - categorical_accuracy: 0.3631 - categorical_crossentropy: 1.0915\n",
      "Epoch 83/300\n",
      "179/179 [==============================] - 0s 113us/step - loss: 1.0914 - categorical_accuracy: 0.3631 - categorical_crossentropy: 1.0914\n",
      "Epoch 84/300\n",
      "179/179 [==============================] - 0s 358us/step - loss: 1.0914 - categorical_accuracy: 0.3631 - categorical_crossentropy: 1.0914\n",
      "Epoch 85/300\n",
      "179/179 [==============================] - 0s 169us/step - loss: 1.0914 - categorical_accuracy: 0.3631 - categorical_crossentropy: 1.0913\n",
      "Epoch 86/300\n",
      "179/179 [==============================] - 0s 45us/step - loss: 1.0913 - categorical_accuracy: 0.3631 - categorical_crossentropy: 1.0913\n",
      "Epoch 87/300\n",
      "179/179 [==============================] - 0s 89us/step - loss: 1.0913 - categorical_accuracy: 0.3687 - categorical_crossentropy: 1.0913\n",
      "Epoch 88/300\n",
      "179/179 [==============================] - 0s 89us/step - loss: 1.0913 - categorical_accuracy: 0.3687 - categorical_crossentropy: 1.0912\n",
      "Epoch 89/300\n",
      "179/179 [==============================] - 0s 223us/step - loss: 1.0912 - categorical_accuracy: 0.3687 - categorical_crossentropy: 1.0912\n",
      "Epoch 90/300\n",
      "179/179 [==============================] - 0s 291us/step - loss: 1.0912 - categorical_accuracy: 0.3743 - categorical_crossentropy: 1.0912\n",
      "Epoch 91/300\n",
      "179/179 [==============================] - 0s 152us/step - loss: 1.0912 - categorical_accuracy: 0.3743 - categorical_crossentropy: 1.0911\n",
      "Epoch 92/300\n",
      "179/179 [==============================] - 0s 179us/step - loss: 1.0911 - categorical_accuracy: 0.3743 - categorical_crossentropy: 1.0911\n",
      "Epoch 93/300\n",
      "179/179 [==============================] - 0s 67us/step - loss: 1.0911 - categorical_accuracy: 0.3743 - categorical_crossentropy: 1.0911\n",
      "Epoch 94/300\n",
      "179/179 [==============================] - 0s 112us/step - loss: 1.0911 - categorical_accuracy: 0.3743 - categorical_crossentropy: 1.0910\n",
      "Epoch 95/300\n",
      "179/179 [==============================] - 0s 45us/step - loss: 1.0910 - categorical_accuracy: 0.3743 - categorical_crossentropy: 1.0910\n",
      "Epoch 96/300\n",
      "179/179 [==============================] - 0s 179us/step - loss: 1.0910 - categorical_accuracy: 0.3743 - categorical_crossentropy: 1.0910\n",
      "Epoch 97/300\n",
      "179/179 [==============================] - 0s 67us/step - loss: 1.0910 - categorical_accuracy: 0.3743 - categorical_crossentropy: 1.0910\n",
      "Epoch 98/300\n",
      "179/179 [==============================] - 0s 22us/step - loss: 1.0910 - categorical_accuracy: 0.3743 - categorical_crossentropy: 1.0909\n",
      "Epoch 99/300\n",
      "179/179 [==============================] - 0s 45us/step - loss: 1.0909 - categorical_accuracy: 0.3743 - categorical_crossentropy: 1.0909\n",
      "Epoch 100/300\n",
      "179/179 [==============================] - 0s 22us/step - loss: 1.0909 - categorical_accuracy: 0.3743 - categorical_crossentropy: 1.0909\n",
      "Epoch 101/300\n",
      "179/179 [==============================] - 0s 45us/step - loss: 1.0909 - categorical_accuracy: 0.3743 - categorical_crossentropy: 1.0908\n",
      "Epoch 102/300\n",
      "179/179 [==============================] - 0s 67us/step - loss: 1.0908 - categorical_accuracy: 0.3743 - categorical_crossentropy: 1.0908\n",
      "Epoch 103/300\n",
      "179/179 [==============================] - 0s 112us/step - loss: 1.0908 - categorical_accuracy: 0.3743 - categorical_crossentropy: 1.0908\n",
      "Epoch 104/300\n",
      "179/179 [==============================] - 0s 22us/step - loss: 1.0908 - categorical_accuracy: 0.3743 - categorical_crossentropy: 1.0908\n",
      "Epoch 105/300\n",
      "179/179 [==============================] - 0s 67us/step - loss: 1.0908 - categorical_accuracy: 0.3743 - categorical_crossentropy: 1.0907\n",
      "Epoch 106/300\n",
      "179/179 [==============================] - 0s 114us/step - loss: 1.0907 - categorical_accuracy: 0.3743 - categorical_crossentropy: 1.0907\n",
      "Epoch 107/300\n",
      "179/179 [==============================] - 0s 89us/step - loss: 1.0907 - categorical_accuracy: 0.3743 - categorical_crossentropy: 1.0907\n",
      "Epoch 108/300\n",
      "179/179 [==============================] - 0s 89us/step - loss: 1.0907 - categorical_accuracy: 0.3743 - categorical_crossentropy: 1.0906\n",
      "Epoch 109/300\n",
      "179/179 [==============================] - 0s 67us/step - loss: 1.0906 - categorical_accuracy: 0.3743 - categorical_crossentropy: 1.0906\n",
      "Epoch 110/300\n",
      "179/179 [==============================] - 0s 45us/step - loss: 1.0906 - categorical_accuracy: 0.3743 - categorical_crossentropy: 1.0906\n"
     ]
    },
    {
     "name": "stdout",
     "output_type": "stream",
     "text": [
      "Epoch 111/300\n",
      "179/179 [==============================] - 0s 192us/step - loss: 1.0906 - categorical_accuracy: 0.3743 - categorical_crossentropy: 1.0906\n",
      "Epoch 112/300\n",
      "179/179 [==============================] - 0s 22us/step - loss: 1.0906 - categorical_accuracy: 0.3743 - categorical_crossentropy: 1.0905\n",
      "Epoch 113/300\n",
      "179/179 [==============================] - 0s 67us/step - loss: 1.0905 - categorical_accuracy: 0.3743 - categorical_crossentropy: 1.0905\n",
      "Epoch 114/300\n",
      "179/179 [==============================] - 0s 45us/step - loss: 1.0905 - categorical_accuracy: 0.3743 - categorical_crossentropy: 1.0905\n",
      "Epoch 115/300\n",
      "179/179 [==============================] - 0s 128us/step - loss: 1.0905 - categorical_accuracy: 0.3743 - categorical_crossentropy: 1.0904\n",
      "Epoch 116/300\n",
      "179/179 [==============================] - 0s 112us/step - loss: 1.0904 - categorical_accuracy: 0.3743 - categorical_crossentropy: 1.0904\n",
      "Epoch 117/300\n",
      "179/179 [==============================] - 0s 112us/step - loss: 1.0904 - categorical_accuracy: 0.3743 - categorical_crossentropy: 1.0904\n",
      "Epoch 118/300\n",
      "179/179 [==============================] - 0s 45us/step - loss: 1.0904 - categorical_accuracy: 0.3743 - categorical_crossentropy: 1.0904\n",
      "Epoch 119/300\n",
      "179/179 [==============================] - 0s 90us/step - loss: 1.0904 - categorical_accuracy: 0.3743 - categorical_crossentropy: 1.0903\n",
      "Epoch 120/300\n",
      "179/179 [==============================] - 0s 112us/step - loss: 1.0903 - categorical_accuracy: 0.3743 - categorical_crossentropy: 1.0903\n",
      "Epoch 121/300\n",
      "179/179 [==============================] - 0s 112us/step - loss: 1.0903 - categorical_accuracy: 0.3743 - categorical_crossentropy: 1.0903\n",
      "Epoch 122/300\n",
      "179/179 [==============================] - 0s 179us/step - loss: 1.0903 - categorical_accuracy: 0.3743 - categorical_crossentropy: 1.0903\n",
      "Epoch 123/300\n",
      "179/179 [==============================] - 0s 179us/step - loss: 1.0903 - categorical_accuracy: 0.3743 - categorical_crossentropy: 1.0902\n",
      "Epoch 124/300\n",
      "179/179 [==============================] - 0s 134us/step - loss: 1.0902 - categorical_accuracy: 0.3743 - categorical_crossentropy: 1.0902\n",
      "Epoch 125/300\n",
      "179/179 [==============================] - 0s 45us/step - loss: 1.0902 - categorical_accuracy: 0.3743 - categorical_crossentropy: 1.0902\n",
      "Epoch 126/300\n",
      "179/179 [==============================] - 0s 89us/step - loss: 1.0902 - categorical_accuracy: 0.3743 - categorical_crossentropy: 1.0902\n",
      "Epoch 127/300\n",
      "179/179 [==============================] - 0s 179us/step - loss: 1.0902 - categorical_accuracy: 0.3743 - categorical_crossentropy: 1.0901\n",
      "Epoch 128/300\n",
      "179/179 [==============================] - 0s 45us/step - loss: 1.0901 - categorical_accuracy: 0.3743 - categorical_crossentropy: 1.0901\n",
      "Epoch 129/300\n",
      "179/179 [==============================] - 0s 67us/step - loss: 1.0901 - categorical_accuracy: 0.3743 - categorical_crossentropy: 1.0901\n",
      "Epoch 130/300\n",
      "179/179 [==============================] - 0s 156us/step - loss: 1.0901 - categorical_accuracy: 0.3743 - categorical_crossentropy: 1.0901\n",
      "Epoch 131/300\n",
      "179/179 [==============================] - 0s 67us/step - loss: 1.0901 - categorical_accuracy: 0.3743 - categorical_crossentropy: 1.0900\n",
      "Epoch 132/300\n",
      "179/179 [==============================] - 0s 45us/step - loss: 1.0900 - categorical_accuracy: 0.3743 - categorical_crossentropy: 1.0900\n",
      "Epoch 133/300\n",
      "179/179 [==============================] - 0s 45us/step - loss: 1.0900 - categorical_accuracy: 0.3743 - categorical_crossentropy: 1.0900\n",
      "Epoch 134/300\n",
      "179/179 [==============================] - 0s 89us/step - loss: 1.0900 - categorical_accuracy: 0.3743 - categorical_crossentropy: 1.0900\n",
      "Epoch 135/300\n",
      "179/179 [==============================] - 0s 134us/step - loss: 1.0900 - categorical_accuracy: 0.3743 - categorical_crossentropy: 1.0900\n",
      "Epoch 136/300\n",
      "179/179 [==============================] - 0s 179us/step - loss: 1.0900 - categorical_accuracy: 0.3743 - categorical_crossentropy: 1.0899\n",
      "Epoch 137/300\n",
      "179/179 [==============================] - 0s 45us/step - loss: 1.0899 - categorical_accuracy: 0.3743 - categorical_crossentropy: 1.0899\n",
      "Epoch 138/300\n",
      "179/179 [==============================] - 0s 89us/step - loss: 1.0899 - categorical_accuracy: 0.3743 - categorical_crossentropy: 1.0899\n",
      "Epoch 139/300\n",
      "179/179 [==============================] - 0s 335us/step - loss: 1.0899 - categorical_accuracy: 0.3743 - categorical_crossentropy: 1.0899\n",
      "Epoch 140/300\n",
      "179/179 [==============================] - 0s 112us/step - loss: 1.0899 - categorical_accuracy: 0.3743 - categorical_crossentropy: 1.0898\n",
      "Epoch 141/300\n",
      "179/179 [==============================] - 0s 134us/step - loss: 1.0898 - categorical_accuracy: 0.3743 - categorical_crossentropy: 1.0898\n",
      "Epoch 142/300\n",
      "179/179 [==============================] - 0s 89us/step - loss: 1.0898 - categorical_accuracy: 0.3743 - categorical_crossentropy: 1.0898\n",
      "Epoch 143/300\n",
      "179/179 [==============================] - 0s 246us/step - loss: 1.0898 - categorical_accuracy: 0.3743 - categorical_crossentropy: 1.0898\n",
      "Epoch 144/300\n",
      "179/179 [==============================] - 0s 67us/step - loss: 1.0898 - categorical_accuracy: 0.3743 - categorical_crossentropy: 1.0897\n",
      "Epoch 145/300\n",
      "179/179 [==============================] - 0s 45us/step - loss: 1.0897 - categorical_accuracy: 0.3743 - categorical_crossentropy: 1.0897\n",
      "Epoch 146/300\n",
      "179/179 [==============================] - 0s 112us/step - loss: 1.0897 - categorical_accuracy: 0.3743 - categorical_crossentropy: 1.0897\n",
      "Epoch 147/300\n",
      "179/179 [==============================] - 0s 45us/step - loss: 1.0897 - categorical_accuracy: 0.3743 - categorical_crossentropy: 1.0897\n",
      "Epoch 148/300\n",
      "179/179 [==============================] - 0s 67us/step - loss: 1.0897 - categorical_accuracy: 0.3743 - categorical_crossentropy: 1.0896\n",
      "Epoch 149/300\n",
      "179/179 [==============================] - 0s 45us/step - loss: 1.0897 - categorical_accuracy: 0.3743 - categorical_crossentropy: 1.0896\n",
      "Epoch 150/300\n",
      "179/179 [==============================] - 0s 201us/step - loss: 1.0896 - categorical_accuracy: 0.3743 - categorical_crossentropy: 1.0896\n",
      "Epoch 151/300\n",
      "179/179 [==============================] - 0s 156us/step - loss: 1.0896 - categorical_accuracy: 0.3743 - categorical_crossentropy: 1.0896\n",
      "Epoch 152/300\n",
      "179/179 [==============================] - 0s 22us/step - loss: 1.0896 - categorical_accuracy: 0.3743 - categorical_crossentropy: 1.0896\n",
      "Epoch 153/300\n",
      "179/179 [==============================] - 0s 112us/step - loss: 1.0896 - categorical_accuracy: 0.3743 - categorical_crossentropy: 1.0895\n",
      "Epoch 154/300\n",
      "179/179 [==============================] - 0s 45us/step - loss: 1.0895 - categorical_accuracy: 0.3743 - categorical_crossentropy: 1.0895\n",
      "Epoch 155/300\n",
      "179/179 [==============================] - 0s 112us/step - loss: 1.0895 - categorical_accuracy: 0.3743 - categorical_crossentropy: 1.0895\n",
      "Epoch 156/300\n",
      "179/179 [==============================] - 0s 179us/step - loss: 1.0895 - categorical_accuracy: 0.3743 - categorical_crossentropy: 1.0895\n",
      "Epoch 157/300\n",
      "179/179 [==============================] - 0s 201us/step - loss: 1.0895 - categorical_accuracy: 0.3743 - categorical_crossentropy: 1.0895\n",
      "Epoch 158/300\n",
      "179/179 [==============================] - 0s 179us/step - loss: 1.0895 - categorical_accuracy: 0.3743 - categorical_crossentropy: 1.0894\n",
      "Epoch 159/300\n",
      "179/179 [==============================] - 0s 91us/step - loss: 1.0894 - categorical_accuracy: 0.3743 - categorical_crossentropy: 1.0894\n",
      "Epoch 160/300\n",
      "179/179 [==============================] - 0s 45us/step - loss: 1.0894 - categorical_accuracy: 0.3743 - categorical_crossentropy: 1.0894\n",
      "Epoch 161/300\n",
      "179/179 [==============================] - 0s 290us/step - loss: 1.0894 - categorical_accuracy: 0.3743 - categorical_crossentropy: 1.0894\n",
      "Epoch 162/300\n",
      "179/179 [==============================] - 0s 45us/step - loss: 1.0894 - categorical_accuracy: 0.3743 - categorical_crossentropy: 1.0893\n",
      "Epoch 163/300\n",
      "179/179 [==============================] - 0s 24us/step - loss: 1.0894 - categorical_accuracy: 0.3743 - categorical_crossentropy: 1.0893\n",
      "Epoch 164/300\n",
      "179/179 [==============================] - 0s 45us/step - loss: 1.0893 - categorical_accuracy: 0.3743 - categorical_crossentropy: 1.0893\n",
      "Epoch 165/300\n",
      "179/179 [==============================] - 0s 22us/step - loss: 1.0893 - categorical_accuracy: 0.3743 - categorical_crossentropy: 1.0893\n"
     ]
    },
    {
     "name": "stdout",
     "output_type": "stream",
     "text": [
      "Epoch 166/300\n",
      "179/179 [==============================] - 0s 134us/step - loss: 1.0893 - categorical_accuracy: 0.3743 - categorical_crossentropy: 1.0893\n",
      "Epoch 167/300\n",
      "179/179 [==============================] - 0s 45us/step - loss: 1.0893 - categorical_accuracy: 0.3743 - categorical_crossentropy: 1.0892\n",
      "Epoch 168/300\n",
      "179/179 [==============================] - 0s 45us/step - loss: 1.0892 - categorical_accuracy: 0.3743 - categorical_crossentropy: 1.0892\n",
      "Epoch 169/300\n",
      "179/179 [==============================] - 0s 45us/step - loss: 1.0892 - categorical_accuracy: 0.3743 - categorical_crossentropy: 1.0892\n",
      "Epoch 170/300\n",
      "179/179 [==============================] - 0s 22us/step - loss: 1.0892 - categorical_accuracy: 0.3743 - categorical_crossentropy: 1.0892\n",
      "Epoch 171/300\n",
      "179/179 [==============================] - 0s 201us/step - loss: 1.0892 - categorical_accuracy: 0.3743 - categorical_crossentropy: 1.0892\n",
      "Epoch 172/300\n",
      "179/179 [==============================] - 0s 45us/step - loss: 1.0892 - categorical_accuracy: 0.3743 - categorical_crossentropy: 1.0891\n",
      "Epoch 173/300\n",
      "179/179 [==============================] - 0s 22us/step - loss: 1.0891 - categorical_accuracy: 0.3743 - categorical_crossentropy: 1.0891\n",
      "Epoch 174/300\n",
      "179/179 [==============================] - 0s 112us/step - loss: 1.0891 - categorical_accuracy: 0.3743 - categorical_crossentropy: 1.0891\n",
      "Epoch 175/300\n",
      "179/179 [==============================] - 0s 22us/step - loss: 1.0891 - categorical_accuracy: 0.3743 - categorical_crossentropy: 1.0891\n",
      "Epoch 176/300\n",
      "179/179 [==============================] - 0s 67us/step - loss: 1.0891 - categorical_accuracy: 0.3743 - categorical_crossentropy: 1.0890\n",
      "Epoch 177/300\n",
      "179/179 [==============================] - 0s 67us/step - loss: 1.0891 - categorical_accuracy: 0.3743 - categorical_crossentropy: 1.0890\n",
      "Epoch 178/300\n",
      "179/179 [==============================] - 0s 89us/step - loss: 1.0890 - categorical_accuracy: 0.3743 - categorical_crossentropy: 1.0890\n",
      "Epoch 179/300\n",
      "179/179 [==============================] - 0s 89us/step - loss: 1.0890 - categorical_accuracy: 0.3743 - categorical_crossentropy: 1.0890\n",
      "Epoch 180/300\n",
      "179/179 [==============================] - 0s 134us/step - loss: 1.0890 - categorical_accuracy: 0.3743 - categorical_crossentropy: 1.0890\n",
      "Epoch 181/300\n",
      "179/179 [==============================] - 0s 179us/step - loss: 1.0890 - categorical_accuracy: 0.3743 - categorical_crossentropy: 1.0889\n",
      "Epoch 182/300\n",
      "179/179 [==============================] - 0s 201us/step - loss: 1.0889 - categorical_accuracy: 0.3743 - categorical_crossentropy: 1.0889\n",
      "Epoch 183/300\n",
      "179/179 [==============================] - 0s 43us/step - loss: 1.0889 - categorical_accuracy: 0.3743 - categorical_crossentropy: 1.0889\n",
      "Epoch 184/300\n",
      "179/179 [==============================] - 0s 134us/step - loss: 1.0889 - categorical_accuracy: 0.3743 - categorical_crossentropy: 1.0889\n",
      "Epoch 185/300\n",
      "179/179 [==============================] - 0s 112us/step - loss: 1.0889 - categorical_accuracy: 0.3743 - categorical_crossentropy: 1.0888\n",
      "Epoch 186/300\n",
      "179/179 [==============================] - 0s 179us/step - loss: 1.0889 - categorical_accuracy: 0.3743 - categorical_crossentropy: 1.0888\n",
      "Epoch 187/300\n",
      "179/179 [==============================] - 0s 112us/step - loss: 1.0888 - categorical_accuracy: 0.3743 - categorical_crossentropy: 1.0888\n",
      "Epoch 188/300\n",
      "179/179 [==============================] - 0s 45us/step - loss: 1.0888 - categorical_accuracy: 0.3743 - categorical_crossentropy: 1.0888\n",
      "Epoch 189/300\n",
      "179/179 [==============================] - 0s 335us/step - loss: 1.0888 - categorical_accuracy: 0.3743 - categorical_crossentropy: 1.0888\n",
      "Epoch 190/300\n",
      "179/179 [==============================] - 0s 67us/step - loss: 1.0888 - categorical_accuracy: 0.3743 - categorical_crossentropy: 1.0887\n",
      "Epoch 191/300\n",
      "179/179 [==============================] - 0s 67us/step - loss: 1.0887 - categorical_accuracy: 0.3743 - categorical_crossentropy: 1.0887\n",
      "Epoch 192/300\n",
      "179/179 [==============================] - 0s 67us/step - loss: 1.0887 - categorical_accuracy: 0.3743 - categorical_crossentropy: 1.0887\n",
      "Epoch 193/300\n",
      "179/179 [==============================] - 0s 89us/step - loss: 1.0887 - categorical_accuracy: 0.3743 - categorical_crossentropy: 1.0887\n",
      "Epoch 194/300\n",
      "179/179 [==============================] - 0s 45us/step - loss: 1.0887 - categorical_accuracy: 0.3743 - categorical_crossentropy: 1.0886\n",
      "Epoch 195/300\n",
      "179/179 [==============================] - 0s 134us/step - loss: 1.0887 - categorical_accuracy: 0.3743 - categorical_crossentropy: 1.0886\n",
      "Epoch 196/300\n",
      "179/179 [==============================] - 0s 45us/step - loss: 1.0886 - categorical_accuracy: 0.3743 - categorical_crossentropy: 1.0886\n",
      "Epoch 197/300\n",
      "179/179 [==============================] - 0s 135us/step - loss: 1.0886 - categorical_accuracy: 0.3743 - categorical_crossentropy: 1.0886\n",
      "Epoch 198/300\n",
      "179/179 [==============================] - 0s 67us/step - loss: 1.0886 - categorical_accuracy: 0.3743 - categorical_crossentropy: 1.0886\n",
      "Epoch 199/300\n",
      "179/179 [==============================] - 0s 115us/step - loss: 1.0886 - categorical_accuracy: 0.3743 - categorical_crossentropy: 1.0885\n",
      "Epoch 200/300\n",
      "179/179 [==============================] - 0s 223us/step - loss: 1.0886 - categorical_accuracy: 0.3743 - categorical_crossentropy: 1.0885\n",
      "Epoch 201/300\n",
      "179/179 [==============================] - 0s 246us/step - loss: 1.0885 - categorical_accuracy: 0.3743 - categorical_crossentropy: 1.0885\n",
      "Epoch 202/300\n",
      "179/179 [==============================] - 0s 89us/step - loss: 1.0885 - categorical_accuracy: 0.3743 - categorical_crossentropy: 1.0885\n",
      "Epoch 203/300\n",
      "179/179 [==============================] - 0s 112us/step - loss: 1.0885 - categorical_accuracy: 0.3743 - categorical_crossentropy: 1.0885\n",
      "Epoch 204/300\n",
      "179/179 [==============================] - 0s 246us/step - loss: 1.0885 - categorical_accuracy: 0.3743 - categorical_crossentropy: 1.0884\n",
      "Epoch 205/300\n",
      "179/179 [==============================] - 0s 134us/step - loss: 1.0884 - categorical_accuracy: 0.3743 - categorical_crossentropy: 1.0884\n",
      "Epoch 206/300\n",
      "179/179 [==============================] - 0s 112us/step - loss: 1.0884 - categorical_accuracy: 0.3743 - categorical_crossentropy: 1.0884\n",
      "Epoch 207/300\n",
      "179/179 [==============================] - 0s 246us/step - loss: 1.0884 - categorical_accuracy: 0.3743 - categorical_crossentropy: 1.0884\n",
      "Epoch 208/300\n",
      "179/179 [==============================] - 0s 89us/step - loss: 1.0884 - categorical_accuracy: 0.3743 - categorical_crossentropy: 1.0883\n",
      "Epoch 209/300\n",
      "179/179 [==============================] - 0s 273us/step - loss: 1.0883 - categorical_accuracy: 0.3743 - categorical_crossentropy: 1.0883\n",
      "Epoch 210/300\n",
      "179/179 [==============================] - 0s 45us/step - loss: 1.0883 - categorical_accuracy: 0.3743 - categorical_crossentropy: 1.0883\n",
      "Epoch 211/300\n",
      "179/179 [==============================] - 0s 89us/step - loss: 1.0883 - categorical_accuracy: 0.3743 - categorical_crossentropy: 1.0883\n",
      "Epoch 212/300\n",
      "179/179 [==============================] - 0s 45us/step - loss: 1.0883 - categorical_accuracy: 0.3743 - categorical_crossentropy: 1.0882\n",
      "Epoch 213/300\n",
      "179/179 [==============================] - 0s 112us/step - loss: 1.0882 - categorical_accuracy: 0.3743 - categorical_crossentropy: 1.0882\n",
      "Epoch 214/300\n",
      "179/179 [==============================] - 0s 22us/step - loss: 1.0882 - categorical_accuracy: 0.3743 - categorical_crossentropy: 1.0882\n",
      "Epoch 215/300\n",
      "179/179 [==============================] - 0s 192us/step - loss: 1.0882 - categorical_accuracy: 0.3743 - categorical_crossentropy: 1.0881\n",
      "Epoch 216/300\n",
      "179/179 [==============================] - 0s 290us/step - loss: 1.0882 - categorical_accuracy: 0.3743 - categorical_crossentropy: 1.0881\n",
      "Epoch 217/300\n",
      "179/179 [==============================] - 0s 67us/step - loss: 1.0881 - categorical_accuracy: 0.3743 - categorical_crossentropy: 1.0881\n",
      "Epoch 218/300\n",
      "179/179 [==============================] - 0s 89us/step - loss: 1.0881 - categorical_accuracy: 0.3743 - categorical_crossentropy: 1.0881\n",
      "Epoch 219/300\n",
      "179/179 [==============================] - 0s 246us/step - loss: 1.0881 - categorical_accuracy: 0.3743 - categorical_crossentropy: 1.0880\n",
      "Epoch 220/300\n"
     ]
    },
    {
     "name": "stdout",
     "output_type": "stream",
     "text": [
      "179/179 [==============================] - 0s 157us/step - loss: 1.0880 - categorical_accuracy: 0.3743 - categorical_crossentropy: 1.0880\n",
      "Epoch 221/300\n",
      "179/179 [==============================] - 0s 67us/step - loss: 1.0880 - categorical_accuracy: 0.3743 - categorical_crossentropy: 1.0880\n",
      "Epoch 222/300\n",
      "179/179 [==============================] - 0s 22us/step - loss: 1.0880 - categorical_accuracy: 0.3743 - categorical_crossentropy: 1.0879\n",
      "Epoch 223/300\n",
      "179/179 [==============================] - 0s 89us/step - loss: 1.0880 - categorical_accuracy: 0.3743 - categorical_crossentropy: 1.0879\n",
      "Epoch 224/300\n",
      "179/179 [==============================] - 0s 178us/step - loss: 1.0879 - categorical_accuracy: 0.3743 - categorical_crossentropy: 1.0879\n",
      "Epoch 225/300\n",
      "179/179 [==============================] - 0s 156us/step - loss: 1.0879 - categorical_accuracy: 0.3743 - categorical_crossentropy: 1.0879\n",
      "Epoch 226/300\n",
      "179/179 [==============================] - 0s 201us/step - loss: 1.0879 - categorical_accuracy: 0.3743 - categorical_crossentropy: 1.0878\n",
      "Epoch 227/300\n",
      "179/179 [==============================] - 0s 179us/step - loss: 1.0878 - categorical_accuracy: 0.3743 - categorical_crossentropy: 1.0878\n",
      "Epoch 228/300\n",
      "179/179 [==============================] - 0s 246us/step - loss: 1.0878 - categorical_accuracy: 0.3743 - categorical_crossentropy: 1.0878\n",
      "Epoch 229/300\n",
      "179/179 [==============================] - 0s 45us/step - loss: 1.0877 - categorical_accuracy: 0.3743 - categorical_crossentropy: 1.0877\n",
      "Epoch 230/300\n",
      "179/179 [==============================] - 0s 22us/step - loss: 1.0877 - categorical_accuracy: 0.3743 - categorical_crossentropy: 1.0877\n",
      "Epoch 231/300\n",
      "179/179 [==============================] - 0s 201us/step - loss: 1.0877 - categorical_accuracy: 0.3743 - categorical_crossentropy: 1.0876\n",
      "Epoch 232/300\n",
      "179/179 [==============================] - 0s 179us/step - loss: 1.0876 - categorical_accuracy: 0.3743 - categorical_crossentropy: 1.0876\n",
      "Epoch 233/300\n",
      "179/179 [==============================] - 0s 112us/step - loss: 1.0876 - categorical_accuracy: 0.3743 - categorical_crossentropy: 1.0876\n",
      "Epoch 234/300\n",
      "179/179 [==============================] - 0s 156us/step - loss: 1.0876 - categorical_accuracy: 0.3743 - categorical_crossentropy: 1.0875\n",
      "Epoch 235/300\n",
      "179/179 [==============================] - 0s 112us/step - loss: 1.0875 - categorical_accuracy: 0.3743 - categorical_crossentropy: 1.0875\n",
      "Epoch 236/300\n",
      "179/179 [==============================] - 0s 223us/step - loss: 1.0875 - categorical_accuracy: 0.3743 - categorical_crossentropy: 1.0875\n",
      "Epoch 237/300\n",
      "179/179 [==============================] - 0s 134us/step - loss: 1.0875 - categorical_accuracy: 0.3743 - categorical_crossentropy: 1.0874\n",
      "Epoch 238/300\n",
      "179/179 [==============================] - 0s 45us/step - loss: 1.0874 - categorical_accuracy: 0.3743 - categorical_crossentropy: 1.0874\n",
      "Epoch 239/300\n",
      "179/179 [==============================] - 0s 447us/step - loss: 1.0874 - categorical_accuracy: 0.3743 - categorical_crossentropy: 1.0873\n",
      "Epoch 240/300\n",
      "179/179 [==============================] - 0s 290us/step - loss: 1.0873 - categorical_accuracy: 0.3799 - categorical_crossentropy: 1.0873\n",
      "Epoch 241/300\n",
      "179/179 [==============================] - 0s 179us/step - loss: 1.0873 - categorical_accuracy: 0.3911 - categorical_crossentropy: 1.0873\n",
      "Epoch 242/300\n",
      "179/179 [==============================] - 0s 223us/step - loss: 1.0873 - categorical_accuracy: 0.3911 - categorical_crossentropy: 1.0872\n",
      "Epoch 243/300\n",
      "179/179 [==============================] - 0s 45us/step - loss: 1.0872 - categorical_accuracy: 0.3911 - categorical_crossentropy: 1.0872\n",
      "Epoch 244/300\n",
      "179/179 [==============================] - 0s 223us/step - loss: 1.0872 - categorical_accuracy: 0.3911 - categorical_crossentropy: 1.0871\n",
      "Epoch 245/300\n",
      "179/179 [==============================] - 0s 134us/step - loss: 1.0871 - categorical_accuracy: 0.3966 - categorical_crossentropy: 1.0871\n",
      "Epoch 246/300\n",
      "179/179 [==============================] - 0s 45us/step - loss: 1.0871 - categorical_accuracy: 0.4022 - categorical_crossentropy: 1.0871\n",
      "Epoch 247/300\n",
      "179/179 [==============================] - 0s 67us/step - loss: 1.0871 - categorical_accuracy: 0.4078 - categorical_crossentropy: 1.0870\n",
      "Epoch 248/300\n",
      "179/179 [==============================] - 0s 179us/step - loss: 1.0870 - categorical_accuracy: 0.4078 - categorical_crossentropy: 1.0870\n",
      "Epoch 249/300\n",
      "179/179 [==============================] - 0s 89us/step - loss: 1.0870 - categorical_accuracy: 0.4078 - categorical_crossentropy: 1.0870\n",
      "Epoch 250/300\n",
      "179/179 [==============================] - 0s 45us/step - loss: 1.0869 - categorical_accuracy: 0.4078 - categorical_crossentropy: 1.0869\n",
      "Epoch 251/300\n",
      "179/179 [==============================] - 0s 117us/step - loss: 1.0869 - categorical_accuracy: 0.4078 - categorical_crossentropy: 1.0869\n",
      "Epoch 252/300\n",
      "179/179 [==============================] - 0s 89us/step - loss: 1.0869 - categorical_accuracy: 0.4078 - categorical_crossentropy: 1.0868\n",
      "Epoch 253/300\n",
      "179/179 [==============================] - 0s 112us/step - loss: 1.0868 - categorical_accuracy: 0.4134 - categorical_crossentropy: 1.0868\n",
      "Epoch 254/300\n",
      "179/179 [==============================] - 0s 134us/step - loss: 1.0868 - categorical_accuracy: 0.4134 - categorical_crossentropy: 1.0868\n",
      "Epoch 255/300\n",
      "179/179 [==============================] - 0s 80us/step - loss: 1.0867 - categorical_accuracy: 0.4134 - categorical_crossentropy: 1.0867\n",
      "Epoch 256/300\n",
      "179/179 [==============================] - 0s 134us/step - loss: 1.0867 - categorical_accuracy: 0.4246 - categorical_crossentropy: 1.0867\n",
      "Epoch 257/300\n",
      "179/179 [==============================] - 0s 89us/step - loss: 1.0866 - categorical_accuracy: 0.4246 - categorical_crossentropy: 1.0866\n",
      "Epoch 258/300\n",
      "179/179 [==============================] - 0s 134us/step - loss: 1.0866 - categorical_accuracy: 0.4302 - categorical_crossentropy: 1.0866\n",
      "Epoch 259/300\n",
      "179/179 [==============================] - 0s 89us/step - loss: 1.0865 - categorical_accuracy: 0.4413 - categorical_crossentropy: 1.0865\n",
      "Epoch 260/300\n",
      "179/179 [==============================] - 0s 223us/step - loss: 1.0865 - categorical_accuracy: 0.4413 - categorical_crossentropy: 1.0865\n",
      "Epoch 261/300\n",
      "179/179 [==============================] - 0s 45us/step - loss: 1.0864 - categorical_accuracy: 0.4413 - categorical_crossentropy: 1.0864\n",
      "Epoch 262/300\n",
      "179/179 [==============================] - 0s 89us/step - loss: 1.0864 - categorical_accuracy: 0.4413 - categorical_crossentropy: 1.0863\n",
      "Epoch 263/300\n",
      "179/179 [==============================] - 0s 67us/step - loss: 1.0863 - categorical_accuracy: 0.4413 - categorical_crossentropy: 1.0863\n",
      "Epoch 264/300\n",
      "179/179 [==============================] - 0s 45us/step - loss: 1.0863 - categorical_accuracy: 0.4413 - categorical_crossentropy: 1.0862\n",
      "Epoch 265/300\n",
      "179/179 [==============================] - 0s 67us/step - loss: 1.0862 - categorical_accuracy: 0.4413 - categorical_crossentropy: 1.0862\n",
      "Epoch 266/300\n",
      "179/179 [==============================] - 0s 157us/step - loss: 1.0862 - categorical_accuracy: 0.4413 - categorical_crossentropy: 1.0861\n",
      "Epoch 267/300\n",
      "179/179 [==============================] - 0s 45us/step - loss: 1.0861 - categorical_accuracy: 0.4469 - categorical_crossentropy: 1.0861\n",
      "Epoch 268/300\n",
      "179/179 [==============================] - 0s 179us/step - loss: 1.0861 - categorical_accuracy: 0.4469 - categorical_crossentropy: 1.0860\n",
      "Epoch 269/300\n",
      "179/179 [==============================] - 0s 223us/step - loss: 1.0860 - categorical_accuracy: 0.4469 - categorical_crossentropy: 1.0860\n",
      "Epoch 270/300\n",
      "179/179 [==============================] - 0s 89us/step - loss: 1.0859 - categorical_accuracy: 0.4469 - categorical_crossentropy: 1.0859\n",
      "Epoch 271/300\n",
      "179/179 [==============================] - 0s 45us/step - loss: 1.0859 - categorical_accuracy: 0.4525 - categorical_crossentropy: 1.0859\n",
      "Epoch 272/300\n",
      "179/179 [==============================] - 0s 89us/step - loss: 1.0858 - categorical_accuracy: 0.4525 - categorical_crossentropy: 1.0858\n",
      "Epoch 273/300\n",
      "179/179 [==============================] - 0s 67us/step - loss: 1.0858 - categorical_accuracy: 0.4525 - categorical_crossentropy: 1.0857\n",
      "Epoch 274/300\n",
      "179/179 [==============================] - 0s 22us/step - loss: 1.0857 - categorical_accuracy: 0.4525 - categorical_crossentropy: 1.0857\n"
     ]
    },
    {
     "name": "stdout",
     "output_type": "stream",
     "text": [
      "Epoch 275/300\n",
      "179/179 [==============================] - 0s 45us/step - loss: 1.0856 - categorical_accuracy: 0.4525 - categorical_crossentropy: 1.0856\n",
      "Epoch 276/300\n",
      "179/179 [==============================] - 0s 156us/step - loss: 1.0856 - categorical_accuracy: 0.4581 - categorical_crossentropy: 1.0855\n",
      "Epoch 277/300\n",
      "179/179 [==============================] - 0s 398us/step - loss: 1.0855 - categorical_accuracy: 0.4637 - categorical_crossentropy: 1.0855\n",
      "Epoch 278/300\n",
      "179/179 [==============================] - 0s 112us/step - loss: 1.0854 - categorical_accuracy: 0.4693 - categorical_crossentropy: 1.0854\n",
      "Epoch 279/300\n",
      "179/179 [==============================] - 0s 112us/step - loss: 1.0854 - categorical_accuracy: 0.4693 - categorical_crossentropy: 1.0853\n",
      "Epoch 280/300\n",
      "179/179 [==============================] - 0s 28us/step - loss: 1.0853 - categorical_accuracy: 0.4749 - categorical_crossentropy: 1.0853\n",
      "Epoch 281/300\n",
      "179/179 [==============================] - 0s 134us/step - loss: 1.0852 - categorical_accuracy: 0.4860 - categorical_crossentropy: 1.0852\n",
      "Epoch 282/300\n",
      "179/179 [==============================] - 0s 179us/step - loss: 1.0852 - categorical_accuracy: 0.4860 - categorical_crossentropy: 1.0851\n",
      "Epoch 283/300\n",
      "179/179 [==============================] - 0s 112us/step - loss: 1.0851 - categorical_accuracy: 0.4916 - categorical_crossentropy: 1.0851\n",
      "Epoch 284/300\n",
      "179/179 [==============================] - 0s 112us/step - loss: 1.0850 - categorical_accuracy: 0.4916 - categorical_crossentropy: 1.0850\n",
      "Epoch 285/300\n",
      "179/179 [==============================] - 0s 223us/step - loss: 1.0850 - categorical_accuracy: 0.4916 - categorical_crossentropy: 1.0849\n",
      "Epoch 286/300\n",
      "179/179 [==============================] - 0s 313us/step - loss: 1.0849 - categorical_accuracy: 0.4916 - categorical_crossentropy: 1.0849\n",
      "Epoch 287/300\n",
      "179/179 [==============================] - 0s 45us/step - loss: 1.0848 - categorical_accuracy: 0.4916 - categorical_crossentropy: 1.0848\n",
      "Epoch 288/300\n",
      "179/179 [==============================] - 0s 67us/step - loss: 1.0847 - categorical_accuracy: 0.4916 - categorical_crossentropy: 1.0847\n",
      "Epoch 289/300\n",
      "179/179 [==============================] - 0s 90us/step - loss: 1.0847 - categorical_accuracy: 0.4916 - categorical_crossentropy: 1.0846\n",
      "Epoch 290/300\n",
      "179/179 [==============================] - 0s 67us/step - loss: 1.0846 - categorical_accuracy: 0.4916 - categorical_crossentropy: 1.0845\n",
      "Epoch 291/300\n",
      "179/179 [==============================] - 0s 112us/step - loss: 1.0845 - categorical_accuracy: 0.4916 - categorical_crossentropy: 1.0845\n",
      "Epoch 292/300\n",
      "179/179 [==============================] - 0s 134us/step - loss: 1.0844 - categorical_accuracy: 0.4916 - categorical_crossentropy: 1.0844\n",
      "Epoch 293/300\n",
      "179/179 [==============================] - 0s 290us/step - loss: 1.0843 - categorical_accuracy: 0.4916 - categorical_crossentropy: 1.0843\n",
      "Epoch 294/300\n",
      "179/179 [==============================] - 0s 89us/step - loss: 1.0843 - categorical_accuracy: 0.4916 - categorical_crossentropy: 1.0842\n",
      "Epoch 295/300\n",
      "179/179 [==============================] - 0s 179us/step - loss: 1.0842 - categorical_accuracy: 0.4972 - categorical_crossentropy: 1.0841\n",
      "Epoch 296/300\n",
      "179/179 [==============================] - 0s 45us/step - loss: 1.0841 - categorical_accuracy: 0.4972 - categorical_crossentropy: 1.0841\n",
      "Epoch 297/300\n",
      "179/179 [==============================] - 0s 152us/step - loss: 1.0840 - categorical_accuracy: 0.4972 - categorical_crossentropy: 1.0840\n",
      "Epoch 298/300\n",
      "179/179 [==============================] - 0s 89us/step - loss: 1.0839 - categorical_accuracy: 0.4916 - categorical_crossentropy: 1.0839\n",
      "Epoch 299/300\n",
      "179/179 [==============================] - 0s 67us/step - loss: 1.0838 - categorical_accuracy: 0.4916 - categorical_crossentropy: 1.0838\n",
      "Epoch 300/300\n",
      "179/179 [==============================] - 0s 45us/step - loss: 1.0837 - categorical_accuracy: 0.4860 - categorical_crossentropy: 1.0837\n"
     ]
    },
    {
     "data": {
      "text/plain": [
       "ShapeletModel(batch_size=256, max_iter=300, n_shapelets_per_size={8: 4},\n",
       "              optimizer='Adadelta', random_state=None, shapelet_length=0.15,\n",
       "              total_lengths=3, verbose=1, verbose_level=None,\n",
       "              weight_regularizer=1e-05)"
      ]
     },
     "execution_count": 18,
     "metadata": {},
     "output_type": "execute_result"
    }
   ],
   "source": [
    "shp_clf.fit(X_train, y_train)"
   ]
  },
  {
   "cell_type": "code",
   "execution_count": 19,
   "metadata": {},
   "outputs": [],
   "source": [
    "# ho provato con diversi ottimizzatori keras e facendo variare altri parametri ma l'accuracy non supera mai 0.3757"
   ]
  },
  {
   "cell_type": "code",
   "execution_count": 19,
   "metadata": {},
   "outputs": [
    {
     "name": "stdout",
     "output_type": "stream",
     "text": [
      "\r",
      "78/78 [==============================] - 0s 2ms/step\n"
     ]
    }
   ],
   "source": [
    "y_pred = shp_clf.predict(X_test)"
   ]
  },
  {
   "cell_type": "code",
   "execution_count": 20,
   "metadata": {},
   "outputs": [
    {
     "name": "stdout",
     "output_type": "stream",
     "text": [
      "Accuracy 0.48717948717948717\n",
      "F1-score [0.58064516 0.5        0.08695652]\n",
      "              precision    recall  f1-score   support\n",
      "\n",
      "           0       0.42      0.96      0.58        28\n",
      "           1       0.83      0.36      0.50        28\n",
      "           2       1.00      0.05      0.09        22\n",
      "\n",
      "    accuracy                           0.49        78\n",
      "   macro avg       0.75      0.46      0.39        78\n",
      "weighted avg       0.73      0.49      0.41        78\n",
      "\n"
     ]
    }
   ],
   "source": [
    "print('Accuracy %s' % accuracy_score(y_test, y_pred))\n",
    "print('F1-score %s' % f1_score(y_test, y_pred, average=None))\n",
    "print(classification_report(y_test, y_pred))"
   ]
  },
  {
   "cell_type": "markdown",
   "metadata": {},
   "source": [
    "##### SHAPELET-DISTANCE-BASED CLASSIFIER"
   ]
  },
  {
   "cell_type": "code",
   "execution_count": 21,
   "metadata": {},
   "outputs": [
    {
     "name": "stdout",
     "output_type": "stream",
     "text": [
      "\r",
      "179/179 [==============================] - 0s 908us/step\n"
     ]
    }
   ],
   "source": [
    "X_train2 = shp_clf.transform(X_train) # Generate shapelet transform for a set of time series\n",
    "                                      # from Time series dataset X : array-like of shape=(n_ts, sz, d)\n",
    "                                      # returns shapelet-Transform of the provided time series array of shape=(n_ts, n_shapelets)"
   ]
  },
  {
   "cell_type": "code",
   "execution_count": 22,
   "metadata": {},
   "outputs": [
    {
     "data": {
      "text/plain": [
       "(179, 4)"
      ]
     },
     "execution_count": 22,
     "metadata": {},
     "output_type": "execute_result"
    }
   ],
   "source": [
    "X_train2.shape"
   ]
  },
  {
   "cell_type": "code",
   "execution_count": 23,
   "metadata": {},
   "outputs": [
    {
     "name": "stdout",
     "output_type": "stream",
     "text": [
      "\r",
      "78/78 [==============================] - 0s 56us/step\n"
     ]
    }
   ],
   "source": [
    "X_test2 = shp_clf.transform(X_test)"
   ]
  },
  {
   "cell_type": "markdown",
   "metadata": {},
   "source": [
    "k-NN"
   ]
  },
  {
   "cell_type": "code",
   "execution_count": 24,
   "metadata": {},
   "outputs": [],
   "source": [
    "from sklearn.neighbors import KNeighborsClassifier"
   ]
  },
  {
   "cell_type": "code",
   "execution_count": 25,
   "metadata": {},
   "outputs": [],
   "source": [
    "from sklearn.model_selection import GridSearchCV"
   ]
  },
  {
   "cell_type": "code",
   "execution_count": 26,
   "metadata": {},
   "outputs": [
    {
     "data": {
      "text/plain": [
       "GridSearchCV(cv=None, error_score=nan,\n",
       "             estimator=KNeighborsClassifier(algorithm='auto', leaf_size=30,\n",
       "                                            metric='minkowski',\n",
       "                                            metric_params=None, n_jobs=None,\n",
       "                                            n_neighbors=5, p=2,\n",
       "                                            weights='uniform'),\n",
       "             iid='deprecated', n_jobs=None,\n",
       "             param_grid={'n_neighbors': array([ 1,  2,  3,  4,  5,  6,  7,  8,  9, 10, 11, 12, 13, 14, 15, 16, 17,\n",
       "       18, 19, 20]),\n",
       "                         'weights': ['uniform', 'distance']},\n",
       "             pre_dispatch='2*n_jobs', refit=True, return_train_score=False,\n",
       "             scoring=None, verbose=0)"
      ]
     },
     "execution_count": 26,
     "metadata": {},
     "output_type": "execute_result"
    }
   ],
   "source": [
    "parameters = {'n_neighbors': np.arange(1, 20 + 1), 'weights':['uniform', 'distance']}\n",
    "\n",
    "knn = KNeighborsClassifier()\n",
    "search = GridSearchCV(knn, parameters)\n",
    "search.fit(X_train2, y_train)"
   ]
  },
  {
   "cell_type": "code",
   "execution_count": 27,
   "metadata": {},
   "outputs": [
    {
     "data": {
      "text/plain": [
       "KNeighborsClassifier(algorithm='auto', leaf_size=30, metric='minkowski',\n",
       "                     metric_params=None, n_jobs=None, n_neighbors=11, p=2,\n",
       "                     weights='distance')"
      ]
     },
     "execution_count": 27,
     "metadata": {},
     "output_type": "execute_result"
    }
   ],
   "source": [
    "clf = search.best_estimator_\n",
    "clf"
   ]
  },
  {
   "cell_type": "code",
   "execution_count": 28,
   "metadata": {},
   "outputs": [
    {
     "data": {
      "text/plain": [
       "KNeighborsClassifier(algorithm='auto', leaf_size=30, metric='minkowski',\n",
       "                     metric_params=None, n_jobs=None, n_neighbors=11, p=2,\n",
       "                     weights='distance')"
      ]
     },
     "execution_count": 28,
     "metadata": {},
     "output_type": "execute_result"
    }
   ],
   "source": [
    "clf = KNeighborsClassifier(algorithm='auto', leaf_size=30, metric='minkowski',\n",
    "                     metric_params=None, n_jobs=None, n_neighbors=11, p=2,\n",
    "                     weights='distance')\n",
    "clf.fit(X_train2, y_train)"
   ]
  },
  {
   "cell_type": "code",
   "execution_count": 29,
   "metadata": {},
   "outputs": [
    {
     "name": "stdout",
     "output_type": "stream",
     "text": [
      "Accuracy 0.5256410256410257\n",
      "F1-score [0.53731343 0.57777778 0.45454545]\n",
      "              precision    recall  f1-score   support\n",
      "\n",
      "           0       0.46      0.64      0.54        28\n",
      "           1       0.76      0.46      0.58        28\n",
      "           2       0.45      0.45      0.45        22\n",
      "\n",
      "    accuracy                           0.53        78\n",
      "   macro avg       0.56      0.52      0.52        78\n",
      "weighted avg       0.57      0.53      0.53        78\n",
      "\n"
     ]
    }
   ],
   "source": [
    "y_pred = clf.predict(X_test2)\n",
    "\n",
    "print('Accuracy %s' % accuracy_score(y_test, y_pred))\n",
    "print('F1-score %s' % f1_score(y_test, y_pred, average=None))\n",
    "print(classification_report(y_test, y_pred))"
   ]
  },
  {
   "cell_type": "markdown",
   "metadata": {},
   "source": [
    "Decision Tree"
   ]
  },
  {
   "cell_type": "code",
   "execution_count": 30,
   "metadata": {},
   "outputs": [],
   "source": [
    "from sklearn.tree import DecisionTreeClassifier"
   ]
  },
  {
   "cell_type": "code",
   "execution_count": 31,
   "metadata": {},
   "outputs": [
    {
     "data": {
      "text/plain": [
       "GridSearchCV(cv=None, error_score=nan,\n",
       "             estimator=DecisionTreeClassifier(ccp_alpha=0.0, class_weight=None,\n",
       "                                              criterion='gini', max_depth=None,\n",
       "                                              max_features=None,\n",
       "                                              max_leaf_nodes=None,\n",
       "                                              min_impurity_decrease=0.0,\n",
       "                                              min_impurity_split=None,\n",
       "                                              min_samples_leaf=1,\n",
       "                                              min_samples_split=2,\n",
       "                                              min_weight_fraction_leaf=0.0,\n",
       "                                              presort='deprecated',\n",
       "                                              random_state=None,\n",
       "                                              splitter='best'),\n",
       "             iid='deprecated', n_jobs=None,\n",
       "             param_grid={'max_depth': array([1, 2, 3, 4, 5, 6, 7, 8, 9]),\n",
       "                         'min_samples_split': array([2, 3, 4]),\n",
       "                         'random_state': [0]},\n",
       "             pre_dispatch='2*n_jobs', refit=True, return_train_score=False,\n",
       "             scoring=None, verbose=0)"
      ]
     },
     "execution_count": 31,
     "metadata": {},
     "output_type": "execute_result"
    }
   ],
   "source": [
    "hyper_params_space={'max_depth': np.arange(1, 10),'min_samples_split': np.arange(2, 5),'random_state': [0]}\n",
    "tree= DecisionTreeClassifier()\n",
    "search=GridSearchCV(tree,hyper_params_space)\n",
    "search.fit(X_train2, y_train)"
   ]
  },
  {
   "cell_type": "code",
   "execution_count": 32,
   "metadata": {},
   "outputs": [
    {
     "data": {
      "text/plain": [
       "DecisionTreeClassifier(ccp_alpha=0.0, class_weight=None, criterion='gini',\n",
       "                       max_depth=4, max_features=None, max_leaf_nodes=None,\n",
       "                       min_impurity_decrease=0.0, min_impurity_split=None,\n",
       "                       min_samples_leaf=1, min_samples_split=2,\n",
       "                       min_weight_fraction_leaf=0.0, presort='deprecated',\n",
       "                       random_state=0, splitter='best')"
      ]
     },
     "execution_count": 32,
     "metadata": {},
     "output_type": "execute_result"
    }
   ],
   "source": [
    "search.best_estimator_"
   ]
  },
  {
   "cell_type": "code",
   "execution_count": 33,
   "metadata": {},
   "outputs": [
    {
     "name": "stdout",
     "output_type": "stream",
     "text": [
      "Accuracy 0.44871794871794873\n",
      "F1-score [0.55172414 0.3902439  0.38596491]\n",
      "              precision    recall  f1-score   support\n",
      "\n",
      "           0       0.53      0.57      0.55        28\n",
      "           1       0.62      0.29      0.39        28\n",
      "           2       0.31      0.50      0.39        22\n",
      "\n",
      "    accuracy                           0.45        78\n",
      "   macro avg       0.49      0.45      0.44        78\n",
      "weighted avg       0.50      0.45      0.45        78\n",
      "\n"
     ]
    }
   ],
   "source": [
    "clf = DecisionTreeClassifier(ccp_alpha=0.0, class_weight=None, criterion='gini',\n",
    "                       max_depth=4, max_features=None, max_leaf_nodes=None,\n",
    "                       min_impurity_decrease=0.0, min_impurity_split=None,\n",
    "                       min_samples_leaf=1, min_samples_split=2,\n",
    "                       min_weight_fraction_leaf=0.0, presort='deprecated',\n",
    "                       random_state=0, splitter='best')\n",
    "clf.fit(X_train2, y_train)\n",
    "\n",
    "y_pred = clf.predict(X_test2)\n",
    "\n",
    "print('Accuracy %s' % accuracy_score(y_test, y_pred))\n",
    "print('F1-score %s' % f1_score(y_test, y_pred, average=None))\n",
    "print(classification_report(y_test, y_pred))"
   ]
  },
  {
   "cell_type": "markdown",
   "metadata": {},
   "source": [
    "##### Feature-based classifier"
   ]
  },
  {
   "cell_type": "code",
   "execution_count": 34,
   "metadata": {},
   "outputs": [],
   "source": [
    "import scipy.stats as stats"
   ]
  },
  {
   "cell_type": "code",
   "execution_count": 35,
   "metadata": {},
   "outputs": [],
   "source": [
    "def calculate_features(values):\n",
    "    features = {\n",
    "        'avg': np.mean(values),\n",
    "        'std': np.std(values),\n",
    "        'var': np.var(values),\n",
    "        'med': np.median(values),\n",
    "        '10p': np.percentile(values, 10),\n",
    "        '25p': np.percentile(values, 25),\n",
    "        '50p': np.percentile(values, 50),\n",
    "        '75p': np.percentile(values, 75),\n",
    "        '90p': np.percentile(values, 90),\n",
    "        'iqr': np.percentile(values, 75) - np.percentile(values, 25),\n",
    "        'cov': 1.0 * np.mean(values) / np.std(values),\n",
    "        'skw': stats.skew(values),\n",
    "        'kur': stats.kurtosis(values)\n",
    "    }\n",
    "\n",
    "    return features"
   ]
  },
  {
   "cell_type": "code",
   "execution_count": 36,
   "metadata": {},
   "outputs": [],
   "source": [
    "X_train3 = np.array([list(calculate_features(x).values()) for x in X_train])"
   ]
  },
  {
   "cell_type": "code",
   "execution_count": 37,
   "metadata": {},
   "outputs": [
    {
     "data": {
      "text/plain": [
       "(179, 13)"
      ]
     },
     "execution_count": 37,
     "metadata": {},
     "output_type": "execute_result"
    }
   ],
   "source": [
    "X_train3.shape"
   ]
  },
  {
   "cell_type": "code",
   "execution_count": 38,
   "metadata": {},
   "outputs": [],
   "source": [
    "X_test3 = np.array([list(calculate_features(x).values()) for x in X_test])"
   ]
  },
  {
   "cell_type": "code",
   "execution_count": 39,
   "metadata": {},
   "outputs": [
    {
     "name": "stdout",
     "output_type": "stream",
     "text": [
      "Accuracy 0.4230769230769231\n",
      "F1-score [0.25531915 0.56097561 0.2962963 ]\n",
      "              precision    recall  f1-score   support\n",
      "\n",
      "           0       0.32      0.21      0.26        28\n",
      "           1       0.43      0.82      0.56        28\n",
      "           2       0.80      0.18      0.30        22\n",
      "\n",
      "    accuracy                           0.42        78\n",
      "   macro avg       0.51      0.41      0.37        78\n",
      "weighted avg       0.49      0.42      0.38        78\n",
      "\n"
     ]
    }
   ],
   "source": [
    "clf = DecisionTreeClassifier(ccp_alpha=0.0, class_weight=None, criterion='gini',\n",
    "                       max_depth=4, max_features=None, max_leaf_nodes=None,\n",
    "                       min_impurity_decrease=0.0, min_impurity_split=None,\n",
    "                       min_samples_leaf=1, min_samples_split=2,\n",
    "                       min_weight_fraction_leaf=0.0, presort='deprecated',\n",
    "                       random_state=0, splitter='best')\n",
    "clf.fit(X_train3, y_train)\n",
    "\n",
    "y_pred = clf.predict(X_test3)\n",
    "\n",
    "print('Accuracy %s' % accuracy_score(y_test, y_pred))\n",
    "print('F1-score %s' % f1_score(y_test, y_pred, average=None))\n",
    "print(classification_report(y_test, y_pred))"
   ]
  },
  {
   "cell_type": "code",
   "execution_count": 40,
   "metadata": {},
   "outputs": [
    {
     "name": "stdout",
     "output_type": "stream",
     "text": [
      "Accuracy 0.41025641025641024\n",
      "F1-score [0.45714286 0.4137931  0.28571429]\n",
      "              precision    recall  f1-score   support\n",
      "\n",
      "           0       0.38      0.57      0.46        28\n",
      "           1       0.40      0.43      0.41        28\n",
      "           2       0.67      0.18      0.29        22\n",
      "\n",
      "    accuracy                           0.41        78\n",
      "   macro avg       0.48      0.39      0.39        78\n",
      "weighted avg       0.47      0.41      0.39        78\n",
      "\n"
     ]
    }
   ],
   "source": [
    "clf = KNeighborsClassifier(algorithm='auto', leaf_size=30, metric='minkowski',\n",
    "                     metric_params=None, n_jobs=None, n_neighbors=20, p=2,\n",
    "                     weights='uniform')\n",
    "clf.fit(X_train3, y_train)\n",
    "\n",
    "y_pred = clf.predict(X_test3)\n",
    "\n",
    "print('Accuracy %s' % accuracy_score(y_test, y_pred))\n",
    "print('F1-score %s' % f1_score(y_test, y_pred, average=None))\n",
    "print(classification_report(y_test, y_pred))"
   ]
  },
  {
   "cell_type": "markdown",
   "metadata": {},
   "source": [
    "##### Time serie classifiers"
   ]
  },
  {
   "cell_type": "code",
   "execution_count": 41,
   "metadata": {},
   "outputs": [
    {
     "name": "stdout",
     "output_type": "stream",
     "text": [
      "Accuracy 0.5384615384615384\n",
      "F1-score [0.61538462 0.58461538 0.23076923]\n",
      "              precision    recall  f1-score   support\n",
      "\n",
      "           0       0.54      0.71      0.62        28\n",
      "           1       0.51      0.68      0.58        28\n",
      "           2       0.75      0.14      0.23        22\n",
      "\n",
      "    accuracy                           0.54        78\n",
      "   macro avg       0.60      0.51      0.48        78\n",
      "weighted avg       0.59      0.54      0.50        78\n",
      "\n"
     ]
    }
   ],
   "source": [
    "clf = KNeighborsClassifier(n_neighbors=5, weights='uniform')\n",
    "clf.fit(X_train, y_train)\n",
    "\n",
    "y_pred = clf.predict(X_test)\n",
    "\n",
    "print('Accuracy %s' % accuracy_score(y_test, y_pred))\n",
    "print('F1-score %s' % f1_score(y_test, y_pred, average=None))\n",
    "print(classification_report(y_test, y_pred))"
   ]
  },
  {
   "cell_type": "code",
   "execution_count": 42,
   "metadata": {},
   "outputs": [
    {
     "name": "stdout",
     "output_type": "stream",
     "text": [
      "Accuracy 0.5384615384615384\n",
      "F1-score [0.53846154 0.625      0.4       ]\n",
      "              precision    recall  f1-score   support\n",
      "\n",
      "           0       0.58      0.50      0.54        28\n",
      "           1       0.56      0.71      0.63        28\n",
      "           2       0.44      0.36      0.40        22\n",
      "\n",
      "    accuracy                           0.54        78\n",
      "   macro avg       0.53      0.53      0.52        78\n",
      "weighted avg       0.53      0.54      0.53        78\n",
      "\n"
     ]
    }
   ],
   "source": [
    "clf = DecisionTreeClassifier(max_depth=8, random_state=42)\n",
    "clf.fit(X_train, y_train)\n",
    "\n",
    "y_pred = clf.predict(X_test)\n",
    "\n",
    "print('Accuracy %s' % accuracy_score(y_test, y_pred))\n",
    "print('F1-score %s' % f1_score(y_test, y_pred, average=None))\n",
    "print(classification_report(y_test, y_pred))"
   ]
  },
  {
   "cell_type": "code",
   "execution_count": 43,
   "metadata": {},
   "outputs": [],
   "source": [
    "#con grid search i risultati non miglioran"
   ]
  },
  {
   "cell_type": "code",
   "execution_count": 44,
   "metadata": {},
   "outputs": [],
   "source": [
    "from pyts.classification import *"
   ]
  },
  {
   "cell_type": "code",
   "execution_count": 45,
   "metadata": {},
   "outputs": [
    {
     "name": "stdout",
     "output_type": "stream",
     "text": [
      "Accuracy 0.358974358974359\n",
      "F1-score [0.52830189 0.         0.        ]\n",
      "              precision    recall  f1-score   support\n",
      "\n",
      "           0       0.36      1.00      0.53        28\n",
      "           1       0.00      0.00      0.00        28\n",
      "           2       0.00      0.00      0.00        22\n",
      "\n",
      "    accuracy                           0.36        78\n",
      "   macro avg       0.12      0.33      0.18        78\n",
      "weighted avg       0.13      0.36      0.19        78\n",
      "\n"
     ]
    },
    {
     "name": "stderr",
     "output_type": "stream",
     "text": [
      "C:\\Users\\Gianmarco\\anaconda3\\envs\\tfk\\lib\\site-packages\\sklearn\\metrics\\_classification.py:1272: UndefinedMetricWarning: Precision and F-score are ill-defined and being set to 0.0 in labels with no predicted samples. Use `zero_division` parameter to control this behavior.\n",
      "  _warn_prf(average, modifier, msg_start, len(result))\n"
     ]
    }
   ],
   "source": [
    "clf= LearningShapelets(random_state=0, tol=0.01)\n",
    "clf.fit(X_train, y_train)\n",
    "\n",
    "y_pred = clf.predict(X_test)\n",
    "\n",
    "print('Accuracy %s' % accuracy_score(y_test, y_pred))\n",
    "print('F1-score %s' % f1_score(y_test, y_pred, average=None))\n",
    "print(classification_report(y_test, y_pred))"
   ]
  },
  {
   "cell_type": "code",
   "execution_count": 46,
   "metadata": {},
   "outputs": [
    {
     "name": "stdout",
     "output_type": "stream",
     "text": [
      "Accuracy 0.5897435897435898\n",
      "F1-score [0.62068966 0.6557377  0.43243243]\n",
      "              precision    recall  f1-score   support\n",
      "\n",
      "           0       0.60      0.64      0.62        28\n",
      "           1       0.61      0.71      0.66        28\n",
      "           2       0.53      0.36      0.43        22\n",
      "\n",
      "    accuracy                           0.59        78\n",
      "   macro avg       0.58      0.57      0.57        78\n",
      "weighted avg       0.58      0.59      0.58        78\n",
      "\n"
     ]
    }
   ],
   "source": [
    "clf = KNeighborsClassifier(metric='dtw_sakoechiba')\n",
    "clf.fit(X_train, y_train)\n",
    "\n",
    "y_pred = clf.predict(X_test)\n",
    "\n",
    "print('Accuracy %s' % accuracy_score(y_test, y_pred))\n",
    "print('F1-score %s' % f1_score(y_test, y_pred, average=None))\n",
    "print(classification_report(y_test, y_pred))"
   ]
  },
  {
   "cell_type": "markdown",
   "metadata": {},
   "source": [
    "##### CNN Classifier  \n",
    "\n",
    "CNN is a sequence of convolution layers"
   ]
  },
  {
   "cell_type": "code",
   "execution_count": 47,
   "metadata": {},
   "outputs": [],
   "source": [
    "from keras.models import Sequential\n",
    "from keras.layers import Dense, Dropout, GlobalAveragePooling1D\n",
    "from keras.layers import Conv1D, Activation, Conv1D, BatchNormalization"
   ]
  },
  {
   "cell_type": "code",
   "execution_count": 48,
   "metadata": {},
   "outputs": [],
   "source": [
    "def build_simple_cnn(n_timesteps, n_outputs):\n",
    "    model = Sequential()\n",
    "    \n",
    "    model.add(Conv1D(filters=16, kernel_size=8, activation='relu', input_shape=(n_timesteps, 1)))\n",
    "    model.add(BatchNormalization())\n",
    "    model.add(Activation('relu'))\n",
    "    \n",
    "    model.add(Dropout(0.3))\n",
    "    \n",
    "    model.add(Conv1D(filters=32, kernel_size=5, activation='relu'))\n",
    "    model.add(BatchNormalization())\n",
    "    model.add(Activation('relu'))\n",
    "    \n",
    "    model.add(Dropout(0.3))\n",
    "    \n",
    "    model.add(Conv1D(filters=64, kernel_size=3, activation='relu'))\n",
    "    model.add(BatchNormalization())\n",
    "    model.add(Activation('relu'))\n",
    "    \n",
    "    model.add(Dropout(0.3))\n",
    "    \n",
    "    model.add(GlobalAveragePooling1D())\n",
    "    \n",
    "    model.add(Dense(n_outputs, activation='sigmoid'))\n",
    "    model.compile(loss='sparse_categorical_crossentropy', optimizer='adam', metrics=['accuracy'])\n",
    "    \n",
    "    return model"
   ]
  },
  {
   "cell_type": "code",
   "execution_count": 49,
   "metadata": {},
   "outputs": [
    {
     "name": "stdout",
     "output_type": "stream",
     "text": [
      "TIMESTEPS:  80\n",
      "N. LABELS:  3\n"
     ]
    }
   ],
   "source": [
    "X_train_cnn = X_train.reshape((X_train.shape[0], X_train.shape[1], 1))\n",
    "X_test_cnn = X_test.reshape((X_test.shape[0], X_test.shape[1], 1))\n",
    "\n",
    "X_train_cnn, X_val_cnn, y_train_cnn, y_val_cnn = train_test_split(X_train_cnn, y_train, test_size=0.2, stratify=y_train)\n",
    "\n",
    "n_timesteps, n_outputs, n_features = X_train_cnn.shape[1], len(np.unique(y_train_cnn)), 1 \n",
    "print(\"TIMESTEPS: \", n_timesteps)\n",
    "print(\"N. LABELS: \", n_outputs)"
   ]
  },
  {
   "cell_type": "code",
   "execution_count": 50,
   "metadata": {},
   "outputs": [],
   "source": [
    "cnn = build_simple_cnn(n_timesteps, n_outputs)"
   ]
  },
  {
   "cell_type": "code",
   "execution_count": 51,
   "metadata": {},
   "outputs": [
    {
     "name": "stdout",
     "output_type": "stream",
     "text": [
      "Model: \"sequential_1\"\n",
      "_________________________________________________________________\n",
      "Layer (type)                 Output Shape              Param #   \n",
      "=================================================================\n",
      "conv1d_1 (Conv1D)            (None, 73, 16)            144       \n",
      "_________________________________________________________________\n",
      "batch_normalization_1 (Batch (None, 73, 16)            64        \n",
      "_________________________________________________________________\n",
      "activation_1 (Activation)    (None, 73, 16)            0         \n",
      "_________________________________________________________________\n",
      "dropout_1 (Dropout)          (None, 73, 16)            0         \n",
      "_________________________________________________________________\n",
      "conv1d_2 (Conv1D)            (None, 69, 32)            2592      \n",
      "_________________________________________________________________\n",
      "batch_normalization_2 (Batch (None, 69, 32)            128       \n",
      "_________________________________________________________________\n",
      "activation_2 (Activation)    (None, 69, 32)            0         \n",
      "_________________________________________________________________\n",
      "dropout_2 (Dropout)          (None, 69, 32)            0         \n",
      "_________________________________________________________________\n",
      "conv1d_3 (Conv1D)            (None, 67, 64)            6208      \n",
      "_________________________________________________________________\n",
      "batch_normalization_3 (Batch (None, 67, 64)            256       \n",
      "_________________________________________________________________\n",
      "activation_3 (Activation)    (None, 67, 64)            0         \n",
      "_________________________________________________________________\n",
      "dropout_3 (Dropout)          (None, 67, 64)            0         \n",
      "_________________________________________________________________\n",
      "global_average_pooling1d_1 ( (None, 64)                0         \n",
      "_________________________________________________________________\n",
      "dense_1 (Dense)              (None, 3)                 195       \n",
      "=================================================================\n",
      "Total params: 9,587\n",
      "Trainable params: 9,363\n",
      "Non-trainable params: 224\n",
      "_________________________________________________________________\n"
     ]
    }
   ],
   "source": [
    "cnn.summary()"
   ]
  },
  {
   "cell_type": "code",
   "execution_count": 52,
   "metadata": {},
   "outputs": [],
   "source": [
    "from keras.callbacks import ReduceLROnPlateau, ModelCheckpoint\n",
    "# reduceLRnPlateau :Reduce learning rate when a metric has stopped improving.\n",
    "# ModelCheckpoint : Callback to save the Keras model or model weights at some frequency."
   ]
  },
  {
   "cell_type": "code",
   "execution_count": 53,
   "metadata": {},
   "outputs": [],
   "source": [
    "# factor : factor by which the learning rate will be reduced. new_lr = lr * factor\n",
    "# patiance : number of epochs with no improvement after which learning rate will be reduced\n",
    "#min_lr : lower bound on the learning rate.\n",
    "# learning rate :  the error term from the previous layer and the input to that layer. The error for a particular layer is a product of all previous layers’ errors.\n",
    "rlr = ReduceLROnPlateau(monitor='loss', factor=0.8, patience= 80, min_lr=0.0001)\n",
    "mc = ModelCheckpoint('best_model_cnn.h5', monitor='val_loss', save_best_only=True)\n",
    "\n",
    "callbacks = [rlr, mc]\n",
    "# The batch size is a hyperparameter of gradient descent that controls the number of training samples to work \n",
    "#through before the model’s internal parameters are updated.(The batch size is a number of samples processed before \n",
    "#the model is updated)\n",
    "\n",
    "\n",
    "batch_size = 16\n",
    "mini_batch_size = int(min(X_train_cnn.shape[0]/10, batch_size))"
   ]
  },
  {
   "cell_type": "code",
   "execution_count": 54,
   "metadata": {},
   "outputs": [
    {
     "name": "stdout",
     "output_type": "stream",
     "text": [
      "Train on 143 samples, validate on 36 samples\n",
      "Epoch 1/5\n",
      "143/143 [==============================] - 3s 23ms/step - loss: 1.1629 - accuracy: 0.3427 - val_loss: 1.0983 - val_accuracy: 0.3611\n",
      "Epoch 2/5\n",
      "143/143 [==============================] - 0s 3ms/step - loss: 1.0982 - accuracy: 0.4056 - val_loss: 1.0980 - val_accuracy: 0.3611\n",
      "Epoch 3/5\n",
      "143/143 [==============================] - 0s 2ms/step - loss: 1.0610 - accuracy: 0.4755 - val_loss: 1.0980 - val_accuracy: 0.3611\n",
      "Epoch 4/5\n",
      "143/143 [==============================] - 0s 2ms/step - loss: 1.0229 - accuracy: 0.5524 - val_loss: 1.0980 - val_accuracy: 0.3611\n",
      "Epoch 5/5\n",
      "143/143 [==============================] - 0s 2ms/step - loss: 1.0373 - accuracy: 0.5245 - val_loss: 1.0981 - val_accuracy: 0.3611\n"
     ]
    }
   ],
   "source": [
    "#The number of epochs is a hyperparameter of gradient descent that controls the number of complete passes through \n",
    "#the training dataset.(The number of epochs is the number of complete passes through the training dataset)\n",
    "history_cnn = cnn.fit(X_train_cnn, y_train_cnn, epochs=5, batch_size=mini_batch_size, callbacks=callbacks,\n",
    "                      validation_data=(X_val_cnn, y_val_cnn)).history"
   ]
  },
  {
   "cell_type": "code",
   "execution_count": 55,
   "metadata": {},
   "outputs": [
    {
     "name": "stdout",
     "output_type": "stream",
     "text": [
      "Accuracy 0.358974358974359\n",
      "F1-score [0.52830189 0.         0.        ]\n",
      "              precision    recall  f1-score   support\n",
      "\n",
      "           0       0.36      1.00      0.53        28\n",
      "           1       0.00      0.00      0.00        28\n",
      "           2       0.00      0.00      0.00        22\n",
      "\n",
      "    accuracy                           0.36        78\n",
      "   macro avg       0.12      0.33      0.18        78\n",
      "weighted avg       0.13      0.36      0.19        78\n",
      "\n"
     ]
    },
    {
     "name": "stderr",
     "output_type": "stream",
     "text": [
      "C:\\Users\\Gianmarco\\anaconda3\\envs\\tfk\\lib\\site-packages\\sklearn\\metrics\\_classification.py:1272: UndefinedMetricWarning: Precision and F-score are ill-defined and being set to 0.0 in labels with no predicted samples. Use `zero_division` parameter to control this behavior.\n",
      "  _warn_prf(average, modifier, msg_start, len(result))\n"
     ]
    }
   ],
   "source": [
    "y_pred = np.argmax(cnn.predict(X_test_cnn), axis=1)\n",
    "\n",
    "print('Accuracy %s' % accuracy_score(y_test, y_pred))\n",
    "print('F1-score %s' % f1_score(y_test, y_pred, average=None))\n",
    "print(classification_report(y_test, y_pred))"
   ]
  },
  {
   "cell_type": "code",
   "execution_count": 56,
   "metadata": {},
   "outputs": [
    {
     "name": "stdout",
     "output_type": "stream",
     "text": [
      "78/78 [==============================] - 0s 401us/step\n"
     ]
    },
    {
     "data": {
      "text/plain": [
       "[1.098124773074419, 0.3589743673801422]"
      ]
     },
     "execution_count": 56,
     "metadata": {},
     "output_type": "execute_result"
    }
   ],
   "source": [
    "cnn.evaluate(X_test_cnn, y_test)"
   ]
  },
  {
   "cell_type": "markdown",
   "metadata": {},
   "source": [
    "### Long-short term memory"
   ]
  },
  {
   "cell_type": "code",
   "execution_count": 57,
   "metadata": {},
   "outputs": [],
   "source": [
    "from keras.layers import LSTM"
   ]
  },
  {
   "cell_type": "code",
   "execution_count": 58,
   "metadata": {},
   "outputs": [],
   "source": [
    "def build_lstm(n_timesteps, n_outputs):\n",
    "    model = Sequential()\n",
    "    model.add(LSTM(256, input_shape=(n_timesteps, 1)))\n",
    "    model.add(Dropout(0.5))\n",
    "    model.add(Dense(64, activation='relu'))\n",
    "    model.add(Dropout(0.2))\n",
    "    model.add(Dense(n_outputs, activation='sigmoid'))\n",
    "    \n",
    "    model.compile(loss='sparse_categorical_crossentropy', optimizer='adam', metrics=['accuracy'])\n",
    "    \n",
    "    return model"
   ]
  },
  {
   "cell_type": "code",
   "execution_count": 59,
   "metadata": {},
   "outputs": [],
   "source": [
    "lstm = build_lstm(n_timesteps, n_outputs)"
   ]
  },
  {
   "cell_type": "code",
   "execution_count": 60,
   "metadata": {},
   "outputs": [
    {
     "name": "stdout",
     "output_type": "stream",
     "text": [
      "Model: \"sequential_2\"\n",
      "_________________________________________________________________\n",
      "Layer (type)                 Output Shape              Param #   \n",
      "=================================================================\n",
      "lstm_1 (LSTM)                (None, 256)               264192    \n",
      "_________________________________________________________________\n",
      "dropout_4 (Dropout)          (None, 256)               0         \n",
      "_________________________________________________________________\n",
      "dense_2 (Dense)              (None, 64)                16448     \n",
      "_________________________________________________________________\n",
      "dropout_5 (Dropout)          (None, 64)                0         \n",
      "_________________________________________________________________\n",
      "dense_3 (Dense)              (None, 3)                 195       \n",
      "=================================================================\n",
      "Total params: 280,835\n",
      "Trainable params: 280,835\n",
      "Non-trainable params: 0\n",
      "_________________________________________________________________\n"
     ]
    }
   ],
   "source": [
    "lstm.summary()"
   ]
  },
  {
   "cell_type": "code",
   "execution_count": 61,
   "metadata": {},
   "outputs": [
    {
     "name": "stdout",
     "output_type": "stream",
     "text": [
      "Train on 143 samples, validate on 36 samples\n",
      "Epoch 1/10\n",
      "143/143 [==============================] - 0s 2ms/step - loss: 1.0074 - accuracy: 0.5455 - val_loss: 1.0981 - val_accuracy: 0.3611\n",
      "Epoch 2/10\n",
      "143/143 [==============================] - 0s 2ms/step - loss: 0.9903 - accuracy: 0.5734 - val_loss: 1.0980 - val_accuracy: 0.3611\n",
      "Epoch 3/10\n",
      "143/143 [==============================] - 0s 2ms/step - loss: 0.9749 - accuracy: 0.6224 - val_loss: 1.0974 - val_accuracy: 0.3611\n",
      "Epoch 4/10\n",
      "143/143 [==============================] - 0s 2ms/step - loss: 0.9713 - accuracy: 0.6084 - val_loss: 1.0963 - val_accuracy: 0.4444\n",
      "Epoch 5/10\n",
      "143/143 [==============================] - 0s 2ms/step - loss: 0.9613 - accuracy: 0.5944 - val_loss: 1.0961 - val_accuracy: 0.4722\n",
      "Epoch 6/10\n",
      "143/143 [==============================] - 0s 2ms/step - loss: 0.9536 - accuracy: 0.5664 - val_loss: 1.0941 - val_accuracy: 0.5278\n",
      "Epoch 7/10\n",
      "143/143 [==============================] - 0s 2ms/step - loss: 0.9434 - accuracy: 0.6154 - val_loss: 1.0895 - val_accuracy: 0.4722\n",
      "Epoch 8/10\n",
      "143/143 [==============================] - 0s 3ms/step - loss: 0.9601 - accuracy: 0.6084 - val_loss: 1.0908 - val_accuracy: 0.4722\n",
      "Epoch 9/10\n",
      "143/143 [==============================] - 0s 2ms/step - loss: 0.9184 - accuracy: 0.6084 - val_loss: 1.0940 - val_accuracy: 0.5556\n",
      "Epoch 10/10\n",
      "143/143 [==============================] - 0s 2ms/step - loss: 0.9150 - accuracy: 0.6364 - val_loss: 1.0917 - val_accuracy: 0.5833\n"
     ]
    }
   ],
   "source": [
    "history_lstm = cnn.fit(X_train_cnn, y_train_cnn, epochs=10, batch_size=mini_batch_size, callbacks=callbacks,\n",
    "                       validation_data=(X_val_cnn, y_val_cnn)).history"
   ]
  },
  {
   "cell_type": "code",
   "execution_count": 62,
   "metadata": {},
   "outputs": [
    {
     "name": "stdout",
     "output_type": "stream",
     "text": [
      "Accuracy 0.28205128205128205\n",
      "F1-score [0.   0.   0.44]\n",
      "              precision    recall  f1-score   support\n",
      "\n",
      "           0       0.00      0.00      0.00        28\n",
      "           1       0.00      0.00      0.00        28\n",
      "           2       0.28      1.00      0.44        22\n",
      "\n",
      "    accuracy                           0.28        78\n",
      "   macro avg       0.09      0.33      0.15        78\n",
      "weighted avg       0.08      0.28      0.12        78\n",
      "\n"
     ]
    }
   ],
   "source": [
    "y_pred = np.argmax(lstm.predict(X_test_cnn), axis=1)\n",
    "\n",
    "print('Accuracy %s' % accuracy_score(y_test, y_pred))\n",
    "print('F1-score %s' % f1_score(y_test, y_pred, average=None))\n",
    "print(classification_report(y_test, y_pred))"
   ]
  },
  {
   "cell_type": "code",
   "execution_count": 63,
   "metadata": {},
   "outputs": [
    {
     "name": "stdout",
     "output_type": "stream",
     "text": [
      "78/78 [==============================] - 1s 10ms/step\n"
     ]
    },
    {
     "data": {
      "text/plain": [
       "[1.0981545601135645, 0.28205129504203796]"
      ]
     },
     "execution_count": 63,
     "metadata": {},
     "output_type": "execute_result"
    }
   ],
   "source": [
    "lstm.evaluate(X_test_cnn, y_test)"
   ]
  },
  {
   "cell_type": "markdown",
   "metadata": {},
   "source": [
    "# MULTIVARIATE TIME SERIES CLASSIFICATION"
   ]
  },
  {
   "cell_type": "code",
   "execution_count": 15,
   "metadata": {},
   "outputs": [],
   "source": [
    "from tslearn.preprocessing import TimeSeriesScalerMinMax\n",
    "from sklearn.model_selection import train_test_split, cross_val_score \n",
    "\n",
    "from sklearn.metrics import accuracy_score, f1_score, classification_report\n",
    "from sklearn.metrics import roc_curve, auc, roc_auc_score"
   ]
  },
  {
   "cell_type": "markdown",
   "metadata": {},
   "source": [
    "##### Prepare set of multivariate time series"
   ]
  },
  {
   "cell_type": "code",
   "execution_count": 16,
   "metadata": {},
   "outputs": [
    {
     "name": "stdout",
     "output_type": "stream",
     "text": [
      "257 <class 'numpy.ndarray'>\n"
     ]
    },
    {
     "data": {
      "text/plain": [
       "(257, 80, 6)"
      ]
     },
     "execution_count": 16,
     "metadata": {},
     "output_type": "execute_result"
    }
   ],
   "source": [
    "#costruisco il set of multivariate time series\n",
    "\n",
    "samples = np.zeros((257,80,6))\n",
    "length = 80\n",
    "# step over the 5,000 in jumps of 200\n",
    "j = 0\n",
    "for i in range(0,20560,length):\n",
    "    samples[j] = df[i:i+length]\n",
    "    j += 1\n",
    "print(len(samples),type(samples))\n",
    "\n",
    "X = np.array(samples)\n",
    "X.shape"
   ]
  },
  {
   "cell_type": "code",
   "execution_count": 17,
   "metadata": {},
   "outputs": [],
   "source": [
    "# faccio il clustering sulla X costruita nella cella precedente\n",
    "from tslearn.piecewise import OneD_SymbolicAggregateApproximation\n",
    "from tslearn.clustering import TimeSeriesKMeans\n",
    "\n",
    "n_sax_symbols_avg = 10\n",
    "n_sax_symbols_slope = 5\n",
    "d1_sax = OneD_SymbolicAggregateApproximation(\n",
    "    n_segments=10,\n",
    "    alphabet_size_avg=n_sax_symbols_avg,\n",
    "    alphabet_size_slope=n_sax_symbols_slope)\n",
    "X_d1 = d1_sax.fit_transform(X)"
   ]
  },
  {
   "cell_type": "code",
   "execution_count": 18,
   "metadata": {},
   "outputs": [
    {
     "data": {
      "text/plain": [
       "TimeSeriesKMeans(dtw_inertia=False, init='k-means++', max_iter=5,\n",
       "                 max_iter_barycenter=100, metric='euclidean',\n",
       "                 metric_params=None, n_clusters=3, n_init=1, n_jobs=None,\n",
       "                 random_state=0, tol=1e-06, verbose=0)"
      ]
     },
     "execution_count": 18,
     "metadata": {},
     "output_type": "execute_result"
    }
   ],
   "source": [
    "km_d1 = TimeSeriesKMeans(n_clusters=3, metric=\"euclidean\", max_iter=5, random_state=0)\n",
    "km_d1.fit(X_d1)"
   ]
  },
  {
   "cell_type": "code",
   "execution_count": 19,
   "metadata": {},
   "outputs": [
    {
     "data": {
      "text/plain": [
       "array([0, 0, 2, 1, 1, 1, 1, 1, 1, 1, 1, 1, 1, 0, 0, 0, 0, 0, 0, 0, 0, 1,\n",
       "       1, 1, 1, 1, 1, 1, 1, 1, 1, 0, 0, 2, 1, 1, 1, 1, 1, 1, 1, 1, 1, 1,\n",
       "       0, 0, 0, 2, 2, 0, 0, 2, 1, 1, 1, 1, 1, 1, 1, 1, 1, 1, 0, 0, 0, 0,\n",
       "       0, 0, 0, 2, 1, 1, 1, 1, 1, 1, 1, 1, 1, 1, 2, 2, 2, 2, 2, 2, 2, 1,\n",
       "       1, 1, 1, 1, 1, 1, 1, 1, 1, 1, 2, 2, 2, 2, 2, 2, 2, 1, 1, 1, 1, 1,\n",
       "       1, 1, 1, 1, 1, 1, 2, 0, 0, 0, 0, 0, 0, 2, 1, 1, 1, 1, 1, 1, 1, 1,\n",
       "       1, 1, 2, 0, 0, 0, 1, 1, 1, 1, 1, 1, 1, 1, 1, 1, 0, 0, 2, 2, 2, 2,\n",
       "       0, 1, 1, 1, 1, 1, 1, 1, 1, 1, 1, 1, 2, 0, 0, 0, 0, 0, 0, 2, 1, 1,\n",
       "       1, 1, 1, 1, 1, 1, 1, 1, 2, 2, 2, 2, 2, 2, 2, 1, 1, 1, 1, 1, 1, 1,\n",
       "       1, 1, 1, 1, 2, 2, 2, 2, 2, 2, 2, 2, 1, 1, 1, 1, 1, 1, 1, 1, 1, 1,\n",
       "       2, 0, 0, 0, 0, 0, 0, 2, 1, 1, 1, 1, 1, 1, 1, 1, 1, 1, 2, 0, 0, 0,\n",
       "       0, 0, 0, 2, 1, 1, 1, 1, 1, 1, 1, 1, 1, 1, 2], dtype=int64)"
      ]
     },
     "execution_count": 19,
     "metadata": {},
     "output_type": "execute_result"
    }
   ],
   "source": [
    "y = km_d1.labels_\n",
    "y"
   ]
  },
  {
   "cell_type": "code",
   "execution_count": 20,
   "metadata": {},
   "outputs": [
    {
     "data": {
      "text/plain": [
       "67.12203823196144"
      ]
     },
     "execution_count": 20,
     "metadata": {},
     "output_type": "execute_result"
    }
   ],
   "source": [
    "km_d1.inertia_"
   ]
  },
  {
   "cell_type": "markdown",
   "metadata": {},
   "source": [
    "###### Partitioning"
   ]
  },
  {
   "cell_type": "code",
   "execution_count": 27,
   "metadata": {},
   "outputs": [],
   "source": [
    "from sklearn.model_selection import train_test_split, cross_val_score \n",
    "\n",
    "from sklearn.metrics import accuracy_score, f1_score, classification_report\n",
    "from sklearn.metrics import roc_curve, auc, roc_auc_score"
   ]
  },
  {
   "cell_type": "code",
   "execution_count": 21,
   "metadata": {},
   "outputs": [
    {
     "name": "stdout",
     "output_type": "stream",
     "text": [
      "(179, 80, 6) (78, 80, 6)\n"
     ]
    }
   ],
   "source": [
    "X_train, X_test, y_train, y_test = train_test_split(X, y, test_size=0.3, random_state=100, stratify=y)\n",
    "print(X_train.shape, X_test.shape)"
   ]
  },
  {
   "cell_type": "code",
   "execution_count": 22,
   "metadata": {},
   "outputs": [
    {
     "name": "stderr",
     "output_type": "stream",
     "text": [
      "C:\\Users\\Gianmarco\\anaconda3\\envs\\tfk\\lib\\site-packages\\tslearn\\preprocessing.py:179: RuntimeWarning: invalid value encountered in true_divide\n",
      "  X_ = nomin / range_t + self.value_range[0]\n"
     ]
    }
   ],
   "source": [
    "scaler = TimeSeriesScalerMinMax()\n",
    "X_train = scaler.fit_transform(X_train)\n",
    "X_test = scaler.transform(X_test)"
   ]
  },
  {
   "cell_type": "code",
   "execution_count": 23,
   "metadata": {},
   "outputs": [
    {
     "name": "stdout",
     "output_type": "stream",
     "text": [
      "TIMESTEPS:  80\n",
      "N. LABELS:  3\n",
      "N. FEATURES:  6\n"
     ]
    }
   ],
   "source": [
    "n_timesteps, n_outputs, n_features = X_train.shape[1], len(np.unique(y_train)), X_train.shape[2] \n",
    "print(\"TIMESTEPS: \", n_timesteps)\n",
    "print(\"N. LABELS: \", n_outputs)\n",
    "print(\"N. FEATURES: \", n_features)"
   ]
  },
  {
   "cell_type": "code",
   "execution_count": 24,
   "metadata": {},
   "outputs": [],
   "source": [
    "X_train_cnn, X_val_cnn, y_train_cnn, y_val_cnn = train_test_split(X_train, y_train, test_size=0.2, stratify=y_train)"
   ]
  },
  {
   "cell_type": "code",
   "execution_count": 25,
   "metadata": {},
   "outputs": [],
   "source": [
    "from keras.models import Sequential\n",
    "from keras.layers.core import Dense, Activation, Dropout, Flatten\n",
    "from keras.layers import TimeDistributed\n",
    "from keras.layers.recurrent import LSTM\n",
    "from keras.layers import Dense, Conv1D, Conv2D, MaxPool2D, Flatten, Dropout, LeakyReLU, GlobalAveragePooling1D\n",
    "from keras.callbacks import EarlyStopping, ModelCheckpoint\n",
    "from keras.layers.normalization import BatchNormalization\n",
    "from keras.callbacks import ReduceLROnPlateau, ModelCheckpoint"
   ]
  },
  {
   "cell_type": "code",
   "execution_count": 26,
   "metadata": {},
   "outputs": [],
   "source": [
    "def build_lstm2(n_timesteps, n_outputs, n_features):\n",
    "    model = Sequential()\n",
    "    model.add(LSTM(4, input_shape=(n_timesteps, n_features), return_sequences=True, \n",
    "                        kernel_initializer='TruncatedNormal'))\n",
    "    model.add(BatchNormalization())\n",
    "    model.add(LeakyReLU())\n",
    "    model.add(Dropout(0.3))\n",
    "    \n",
    "    #1\n",
    "    for _ in range(2):\n",
    "        model.add(LSTM(4, kernel_initializer='TruncatedNormal', return_sequences=True))\n",
    "        model.add(BatchNormalization())\n",
    "        model.add(LeakyReLU())\n",
    "        model.add(Dropout(0.04))   \n",
    "\n",
    "    #2\n",
    "    model.add(LSTM(32, kernel_initializer='TruncatedNormal', return_sequences=False))\n",
    "    model.add(BatchNormalization())\n",
    "    model.add(LeakyReLU())\n",
    "    model.add(Dropout(0.7))\n",
    "    \n",
    "    #3\n",
    "    for _ in range(2):\n",
    "        model.add(Dense(256, kernel_initializer='TruncatedNormal'))\n",
    "        model.add(BatchNormalization())\n",
    "        model.add(LeakyReLU())\n",
    "        model.add(Dropout(0.2))\n",
    "    #4\n",
    "    for _ in range(1):\n",
    "        model.add(Dense(64, kernel_initializer='TruncatedNormal'))\n",
    "        model.add(BatchNormalization())\n",
    "        model.add(LeakyReLU())\n",
    "        model.add(Dropout(0.7))\n",
    "\n",
    "    #5\n",
    "    model.add(Dense(32, kernel_initializer='TruncatedNormal'))\n",
    "    model.add(BatchNormalization())\n",
    "    model.add(LeakyReLU())\n",
    "    model.add(Dropout(0.4))\n",
    "        \n",
    "    model.add(Dense(n_outputs, activation='sigmoid'))\n",
    "    \n",
    "    model.compile(loss='sparse_categorical_crossentropy', optimizer='adam', metrics=['accuracy'])\n",
    "    \n",
    "    return model"
   ]
  },
  {
   "cell_type": "code",
   "execution_count": 27,
   "metadata": {},
   "outputs": [
    {
     "name": "stdout",
     "output_type": "stream",
     "text": [
      "WARNING:tensorflow:From C:\\Users\\Gianmarco\\anaconda3\\envs\\tfk\\lib\\site-packages\\tensorflow_core\\python\\ops\\resource_variable_ops.py:1630: calling BaseResourceVariable.__init__ (from tensorflow.python.ops.resource_variable_ops) with constraint is deprecated and will be removed in a future version.\n",
      "Instructions for updating:\n",
      "If using Keras pass *_constraint arguments to layers.\n",
      "WARNING:tensorflow:Large dropout rate: 0.7 (>0.5). In TensorFlow 2.x, dropout() uses dropout rate instead of keep_prob. Please ensure that this is intended.\n",
      "WARNING:tensorflow:Large dropout rate: 0.7 (>0.5). In TensorFlow 2.x, dropout() uses dropout rate instead of keep_prob. Please ensure that this is intended.\n"
     ]
    }
   ],
   "source": [
    "lstm2 = build_lstm2(n_timesteps, n_outputs, n_features)"
   ]
  },
  {
   "cell_type": "code",
   "execution_count": 28,
   "metadata": {},
   "outputs": [
    {
     "name": "stdout",
     "output_type": "stream",
     "text": [
      "Model: \"sequential_1\"\n",
      "_________________________________________________________________\n",
      "Layer (type)                 Output Shape              Param #   \n",
      "=================================================================\n",
      "lstm_1 (LSTM)                (None, 80, 4)             176       \n",
      "_________________________________________________________________\n",
      "batch_normalization_1 (Batch (None, 80, 4)             16        \n",
      "_________________________________________________________________\n",
      "leaky_re_lu_1 (LeakyReLU)    (None, 80, 4)             0         \n",
      "_________________________________________________________________\n",
      "dropout_1 (Dropout)          (None, 80, 4)             0         \n",
      "_________________________________________________________________\n",
      "lstm_2 (LSTM)                (None, 80, 4)             144       \n",
      "_________________________________________________________________\n",
      "batch_normalization_2 (Batch (None, 80, 4)             16        \n",
      "_________________________________________________________________\n",
      "leaky_re_lu_2 (LeakyReLU)    (None, 80, 4)             0         \n",
      "_________________________________________________________________\n",
      "dropout_2 (Dropout)          (None, 80, 4)             0         \n",
      "_________________________________________________________________\n",
      "lstm_3 (LSTM)                (None, 80, 4)             144       \n",
      "_________________________________________________________________\n",
      "batch_normalization_3 (Batch (None, 80, 4)             16        \n",
      "_________________________________________________________________\n",
      "leaky_re_lu_3 (LeakyReLU)    (None, 80, 4)             0         \n",
      "_________________________________________________________________\n",
      "dropout_3 (Dropout)          (None, 80, 4)             0         \n",
      "_________________________________________________________________\n",
      "lstm_4 (LSTM)                (None, 32)                4736      \n",
      "_________________________________________________________________\n",
      "batch_normalization_4 (Batch (None, 32)                128       \n",
      "_________________________________________________________________\n",
      "leaky_re_lu_4 (LeakyReLU)    (None, 32)                0         \n",
      "_________________________________________________________________\n",
      "dropout_4 (Dropout)          (None, 32)                0         \n",
      "_________________________________________________________________\n",
      "dense_1 (Dense)              (None, 256)               8448      \n",
      "_________________________________________________________________\n",
      "batch_normalization_5 (Batch (None, 256)               1024      \n",
      "_________________________________________________________________\n",
      "leaky_re_lu_5 (LeakyReLU)    (None, 256)               0         \n",
      "_________________________________________________________________\n",
      "dropout_5 (Dropout)          (None, 256)               0         \n",
      "_________________________________________________________________\n",
      "dense_2 (Dense)              (None, 256)               65792     \n",
      "_________________________________________________________________\n",
      "batch_normalization_6 (Batch (None, 256)               1024      \n",
      "_________________________________________________________________\n",
      "leaky_re_lu_6 (LeakyReLU)    (None, 256)               0         \n",
      "_________________________________________________________________\n",
      "dropout_6 (Dropout)          (None, 256)               0         \n",
      "_________________________________________________________________\n",
      "dense_3 (Dense)              (None, 64)                16448     \n",
      "_________________________________________________________________\n",
      "batch_normalization_7 (Batch (None, 64)                256       \n",
      "_________________________________________________________________\n",
      "leaky_re_lu_7 (LeakyReLU)    (None, 64)                0         \n",
      "_________________________________________________________________\n",
      "dropout_7 (Dropout)          (None, 64)                0         \n",
      "_________________________________________________________________\n",
      "dense_4 (Dense)              (None, 32)                2080      \n",
      "_________________________________________________________________\n",
      "batch_normalization_8 (Batch (None, 32)                128       \n",
      "_________________________________________________________________\n",
      "leaky_re_lu_8 (LeakyReLU)    (None, 32)                0         \n",
      "_________________________________________________________________\n",
      "dropout_8 (Dropout)          (None, 32)                0         \n",
      "_________________________________________________________________\n",
      "dense_5 (Dense)              (None, 3)                 99        \n",
      "=================================================================\n",
      "Total params: 100,675\n",
      "Trainable params: 99,371\n",
      "Non-trainable params: 1,304\n",
      "_________________________________________________________________\n"
     ]
    }
   ],
   "source": [
    "lstm2.summary()"
   ]
  },
  {
   "cell_type": "code",
   "execution_count": 29,
   "metadata": {},
   "outputs": [],
   "source": [
    "rlr = ReduceLROnPlateau(monitor='loss', factor=0.5, patience=50, min_lr=0.0001)\n",
    "mc = ModelCheckpoint('best_model_lstm2.h5', monitor='val_loss', save_best_only=True)\n",
    "\n",
    "callbacks = [rlr, mc]\n",
    "\n",
    "batch_size = 16\n",
    "mini_batch_size = int(min(X_train.shape[0]/10, batch_size))"
   ]
  },
  {
   "cell_type": "code",
   "execution_count": 30,
   "metadata": {},
   "outputs": [
    {
     "name": "stdout",
     "output_type": "stream",
     "text": [
      "WARNING:tensorflow:From C:\\Users\\Gianmarco\\anaconda3\\envs\\tfk\\lib\\site-packages\\tensorflow_core\\python\\ops\\math_grad.py:1424: where (from tensorflow.python.ops.array_ops) is deprecated and will be removed in a future version.\n",
      "Instructions for updating:\n",
      "Use tf.where in 2.0, which has the same broadcast rule as np.where\n",
      "WARNING:tensorflow:From C:\\Users\\Gianmarco\\anaconda3\\envs\\tfk\\lib\\site-packages\\keras\\backend\\tensorflow_backend.py:422: The name tf.global_variables is deprecated. Please use tf.compat.v1.global_variables instead.\n",
      "\n",
      "Train on 143 samples, validate on 36 samples\n",
      "Epoch 1/50\n",
      "143/143 [==============================] - 15s 102ms/step - loss: nan - accuracy: 0.2098 - val_loss: nan - val_accuracy: 0.2222\n"
     ]
    },
    {
     "name": "stderr",
     "output_type": "stream",
     "text": [
      "C:\\Users\\Gianmarco\\anaconda3\\envs\\tfk\\lib\\site-packages\\keras\\callbacks\\callbacks.py:1023: RuntimeWarning: invalid value encountered in less\n",
      "  self.monitor_op = lambda a, b: np.less(a, b - self.min_delta)\n",
      "C:\\Users\\Gianmarco\\anaconda3\\envs\\tfk\\lib\\site-packages\\keras\\callbacks\\callbacks.py:709: RuntimeWarning: invalid value encountered in less\n",
      "  if self.monitor_op(current, self.best):\n"
     ]
    },
    {
     "name": "stdout",
     "output_type": "stream",
     "text": [
      "Epoch 2/50\n",
      "143/143 [==============================] - 3s 19ms/step - loss: nan - accuracy: 0.2098 - val_loss: nan - val_accuracy: 0.2222\n",
      "Epoch 3/50\n",
      "143/143 [==============================] - 3s 19ms/step - loss: nan - accuracy: 0.2098 - val_loss: nan - val_accuracy: 0.2222\n",
      "Epoch 4/50\n",
      "143/143 [==============================] - 3s 19ms/step - loss: nan - accuracy: 0.2098 - val_loss: nan - val_accuracy: 0.2222\n",
      "Epoch 5/50\n",
      "143/143 [==============================] - 2s 17ms/step - loss: nan - accuracy: 0.2098 - val_loss: nan - val_accuracy: 0.2222\n",
      "Epoch 6/50\n",
      "143/143 [==============================] - 3s 19ms/step - loss: nan - accuracy: 0.2098 - val_loss: nan - val_accuracy: 0.2222\n",
      "Epoch 7/50\n",
      "143/143 [==============================] - 3s 24ms/step - loss: nan - accuracy: 0.2098 - val_loss: nan - val_accuracy: 0.2222\n",
      "Epoch 8/50\n",
      "143/143 [==============================] - 3s 22ms/step - loss: nan - accuracy: 0.2098 - val_loss: nan - val_accuracy: 0.2222\n",
      "Epoch 9/50\n",
      "143/143 [==============================] - 3s 24ms/step - loss: nan - accuracy: 0.2098 - val_loss: nan - val_accuracy: 0.2222\n",
      "Epoch 10/50\n",
      "143/143 [==============================] - 4s 26ms/step - loss: nan - accuracy: 0.2098 - val_loss: nan - val_accuracy: 0.2222\n",
      "Epoch 11/50\n",
      "143/143 [==============================] - 2s 16ms/step - loss: nan - accuracy: 0.2098 - val_loss: nan - val_accuracy: 0.2222\n",
      "Epoch 12/50\n",
      "143/143 [==============================] - 2s 16ms/step - loss: nan - accuracy: 0.2098 - val_loss: nan - val_accuracy: 0.2222\n",
      "Epoch 13/50\n",
      "143/143 [==============================] - 2s 16ms/step - loss: nan - accuracy: 0.2098 - val_loss: nan - val_accuracy: 0.2222\n",
      "Epoch 14/50\n",
      "143/143 [==============================] - 2s 16ms/step - loss: nan - accuracy: 0.2098 - val_loss: nan - val_accuracy: 0.2222\n",
      "Epoch 15/50\n",
      "143/143 [==============================] - 2s 16ms/step - loss: nan - accuracy: 0.2098 - val_loss: nan - val_accuracy: 0.2222\n",
      "Epoch 16/50\n",
      "143/143 [==============================] - 2s 16ms/step - loss: nan - accuracy: 0.2098 - val_loss: nan - val_accuracy: 0.2222\n",
      "Epoch 17/50\n",
      "143/143 [==============================] - 2s 16ms/step - loss: nan - accuracy: 0.2098 - val_loss: nan - val_accuracy: 0.2222\n",
      "Epoch 18/50\n",
      "143/143 [==============================] - 2s 16ms/step - loss: nan - accuracy: 0.2098 - val_loss: nan - val_accuracy: 0.2222\n",
      "Epoch 19/50\n",
      "143/143 [==============================] - 2s 16ms/step - loss: nan - accuracy: 0.2098 - val_loss: nan - val_accuracy: 0.2222\n",
      "Epoch 20/50\n",
      "143/143 [==============================] - 2s 16ms/step - loss: nan - accuracy: 0.2098 - val_loss: nan - val_accuracy: 0.2222\n",
      "Epoch 21/50\n",
      "143/143 [==============================] - 3s 19ms/step - loss: nan - accuracy: 0.2098 - val_loss: nan - val_accuracy: 0.2222\n",
      "Epoch 22/50\n",
      "143/143 [==============================] - 3s 19ms/step - loss: nan - accuracy: 0.2098 - val_loss: nan - val_accuracy: 0.2222\n",
      "Epoch 23/50\n",
      "143/143 [==============================] - 3s 18ms/step - loss: nan - accuracy: 0.2098 - val_loss: nan - val_accuracy: 0.2222\n",
      "Epoch 24/50\n",
      "143/143 [==============================] - 2s 17ms/step - loss: nan - accuracy: 0.2098 - val_loss: nan - val_accuracy: 0.2222\n",
      "Epoch 25/50\n",
      "143/143 [==============================] - 2s 16ms/step - loss: nan - accuracy: 0.2098 - val_loss: nan - val_accuracy: 0.2222\n",
      "Epoch 26/50\n",
      "143/143 [==============================] - 2s 17ms/step - loss: nan - accuracy: 0.2098 - val_loss: nan - val_accuracy: 0.2222\n",
      "Epoch 27/50\n",
      "143/143 [==============================] - 2s 16ms/step - loss: nan - accuracy: 0.2098 - val_loss: nan - val_accuracy: 0.2222\n",
      "Epoch 28/50\n",
      "143/143 [==============================] - 2s 16ms/step - loss: nan - accuracy: 0.2098 - val_loss: nan - val_accuracy: 0.2222\n",
      "Epoch 29/50\n",
      "143/143 [==============================] - 2s 16ms/step - loss: nan - accuracy: 0.2098 - val_loss: nan - val_accuracy: 0.2222\n",
      "Epoch 30/50\n",
      "143/143 [==============================] - 2s 16ms/step - loss: nan - accuracy: 0.2098 - val_loss: nan - val_accuracy: 0.2222\n",
      "Epoch 31/50\n",
      "143/143 [==============================] - 2s 16ms/step - loss: nan - accuracy: 0.2098 - val_loss: nan - val_accuracy: 0.2222\n",
      "Epoch 32/50\n",
      "143/143 [==============================] - 2s 16ms/step - loss: nan - accuracy: 0.2098 - val_loss: nan - val_accuracy: 0.2222\n",
      "Epoch 33/50\n",
      "143/143 [==============================] - 2s 16ms/step - loss: nan - accuracy: 0.2098 - val_loss: nan - val_accuracy: 0.2222\n",
      "Epoch 34/50\n",
      "143/143 [==============================] - 2s 16ms/step - loss: nan - accuracy: 0.2098 - val_loss: nan - val_accuracy: 0.2222\n",
      "Epoch 35/50\n",
      "143/143 [==============================] - 3s 18ms/step - loss: nan - accuracy: 0.2098 - val_loss: nan - val_accuracy: 0.2222\n",
      "Epoch 36/50\n",
      "143/143 [==============================] - 3s 21ms/step - loss: nan - accuracy: 0.2098 - val_loss: nan - val_accuracy: 0.2222\n",
      "Epoch 37/50\n",
      "143/143 [==============================] - 2s 17ms/step - loss: nan - accuracy: 0.2098 - val_loss: nan - val_accuracy: 0.2222\n",
      "Epoch 38/50\n",
      "143/143 [==============================] - 3s 18ms/step - loss: nan - accuracy: 0.2098 - val_loss: nan - val_accuracy: 0.2222\n",
      "Epoch 39/50\n",
      "143/143 [==============================] - 2s 17ms/step - loss: nan - accuracy: 0.2098 - val_loss: nan - val_accuracy: 0.2222\n",
      "Epoch 40/50\n",
      "143/143 [==============================] - 2s 17ms/step - loss: nan - accuracy: 0.2098 - val_loss: nan - val_accuracy: 0.2222\n",
      "Epoch 41/50\n",
      "143/143 [==============================] - 2s 16ms/step - loss: nan - accuracy: 0.2098 - val_loss: nan - val_accuracy: 0.2222\n",
      "Epoch 42/50\n",
      "143/143 [==============================] - 2s 17ms/step - loss: nan - accuracy: 0.2098 - val_loss: nan - val_accuracy: 0.2222\n",
      "Epoch 43/50\n",
      "143/143 [==============================] - 2s 17ms/step - loss: nan - accuracy: 0.2098 - val_loss: nan - val_accuracy: 0.2222\n",
      "Epoch 44/50\n",
      "143/143 [==============================] - 2s 17ms/step - loss: nan - accuracy: 0.2098 - val_loss: nan - val_accuracy: 0.2222\n",
      "Epoch 45/50\n",
      "143/143 [==============================] - 2s 17ms/step - loss: nan - accuracy: 0.2098 - val_loss: nan - val_accuracy: 0.2222\n",
      "Epoch 46/50\n",
      "143/143 [==============================] - 2s 17ms/step - loss: nan - accuracy: 0.2098 - val_loss: nan - val_accuracy: 0.2222\n",
      "Epoch 47/50\n",
      "143/143 [==============================] - 2s 17ms/step - loss: nan - accuracy: 0.2098 - val_loss: nan - val_accuracy: 0.2222\n",
      "Epoch 48/50\n",
      "143/143 [==============================] - 2s 17ms/step - loss: nan - accuracy: 0.2098 - val_loss: nan - val_accuracy: 0.2222\n",
      "Epoch 49/50\n",
      "143/143 [==============================] - 2s 17ms/step - loss: nan - accuracy: 0.2098 - val_loss: nan - val_accuracy: 0.2222\n",
      "Epoch 50/50\n",
      "143/143 [==============================] - 2s 17ms/step - loss: nan - accuracy: 0.2098 - val_loss: nan - val_accuracy: 0.2222\n"
     ]
    }
   ],
   "source": [
    "history_lstm2 = lstm2.fit(X_train_cnn, y_train_cnn, epochs=50, batch_size=mini_batch_size, callbacks=callbacks,\n",
    "                          validation_data=(X_val_cnn, y_val_cnn)).history"
   ]
  },
  {
   "cell_type": "code",
   "execution_count": 31,
   "metadata": {},
   "outputs": [
    {
     "name": "stdout",
     "output_type": "stream",
     "text": [
      "Accuracy 0.20512820512820512\n",
      "F1-score [0.34042553 0.         0.        ]\n",
      "              precision    recall  f1-score   support\n",
      "\n",
      "           0       0.21      1.00      0.34        16\n",
      "           1       0.00      0.00      0.00        47\n",
      "           2       0.00      0.00      0.00        15\n",
      "\n",
      "    accuracy                           0.21        78\n",
      "   macro avg       0.07      0.33      0.11        78\n",
      "weighted avg       0.04      0.21      0.07        78\n",
      "\n"
     ]
    },
    {
     "name": "stderr",
     "output_type": "stream",
     "text": [
      "C:\\Users\\Gianmarco\\anaconda3\\envs\\tfk\\lib\\site-packages\\sklearn\\metrics\\_classification.py:1272: UndefinedMetricWarning: Precision and F-score are ill-defined and being set to 0.0 in labels with no predicted samples. Use `zero_division` parameter to control this behavior.\n",
      "  _warn_prf(average, modifier, msg_start, len(result))\n"
     ]
    }
   ],
   "source": [
    "y_pred = np.argmax(lstm2.predict(X_test), axis=1)\n",
    "\n",
    "print('Accuracy %s' % accuracy_score(y_test, y_pred))\n",
    "print('F1-score %s' % f1_score(y_test, y_pred, average=None))\n",
    "print(classification_report(y_test, y_pred))"
   ]
  },
  {
   "cell_type": "code",
   "execution_count": null,
   "metadata": {},
   "outputs": [],
   "source": []
  }
 ],
 "metadata": {
  "kernelspec": {
   "display_name": "Python 3",
   "language": "python",
   "name": "python3"
  },
  "language_info": {
   "codemirror_mode": {
    "name": "ipython",
    "version": 3
   },
   "file_extension": ".py",
   "mimetype": "text/x-python",
   "name": "python",
   "nbconvert_exporter": "python",
   "pygments_lexer": "ipython3",
   "version": "3.7.6"
  }
 },
 "nbformat": 4,
 "nbformat_minor": 4
}
